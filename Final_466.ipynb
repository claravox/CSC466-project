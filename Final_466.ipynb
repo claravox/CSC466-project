{
 "cells": [
  {
   "cell_type": "markdown",
   "id": "8e23a6a4-58bf-4466-8462-0a805a94611c",
   "metadata": {
    "id": "8e23a6a4-58bf-4466-8462-0a805a94611c",
    "tags": []
   },
   "source": [
    "# Where, O, Where Do The College Grads Go?\n",
    "As early career professionals, graduating students have curiousity about where they may want to move. Where they want is only part of the conversation. In this project, we explore the relationship between city based livable wages and salary data from a set of majors. "
   ]
  },
  {
   "cell_type": "markdown",
   "id": "0fb719dc",
   "metadata": {},
   "source": [
    "## Data preprocessing\n",
    "These dataframes will be used throughout the rest of this notebook."
   ]
  },
  {
   "cell_type": "code",
   "execution_count": null,
   "id": "392a2bce",
   "metadata": {},
   "outputs": [],
   "source": [
    "from pathlib import Path \n",
    "home = str(Path.home()) # all other paths are relative to this path. change to something else if this is not the case on your system"
   ]
  },
  {
   "cell_type": "code",
   "execution_count": null,
   "id": "1ff27a42",
   "metadata": {},
   "outputs": [],
   "source": [
    "%load_ext autoreload\n",
    "%autoreload 2\n",
    "\n",
    "# make sure your run the cell above before running this\n",
    "import Project_helper"
   ]
  },
  {
   "cell_type": "code",
   "execution_count": 68,
   "id": "e61b16a6-e695-4067-ad12-494e42606cde",
   "metadata": {
    "id": "e61b16a6-e695-4067-ad12-494e42606cde"
   },
   "outputs": [],
   "source": [
    "# Package imports\n",
    "import pandas as pd\n",
    "import numpy as np\n",
    "import altair as alt\n",
    "from sklearn.decomposition import PCA\n",
    "from sklearn.preprocessing import StandardScaler\n",
    "from sklearn.cluster import KMeans\n",
    "from sklearn.metrics import silhouette_score\n",
    "from sklearn.metrics import silhouette_samples"
   ]
  },
  {
   "cell_type": "code",
   "execution_count": null,
   "id": "2df28bff",
   "metadata": {},
   "outputs": [],
   "source": [
    "cities = pd.read_csv(f'./livingwage.csv') # you might need to change this path\n",
    "cities = cities.dropna()\n",
    "cities.head()"
   ]
  },
  {
   "cell_type": "code",
   "execution_count": null,
   "id": "c452a76d",
   "metadata": {},
   "outputs": [
    {
     "data": {
      "text/html": [
       "<div>\n",
       "<style scoped>\n",
       "    .dataframe tbody tr th:only-of-type {\n",
       "        vertical-align: middle;\n",
       "    }\n",
       "\n",
       "    .dataframe tbody tr th {\n",
       "        vertical-align: top;\n",
       "    }\n",
       "\n",
       "    .dataframe thead th {\n",
       "        text-align: right;\n",
       "    }\n",
       "</style>\n",
       "<table border=\"1\" class=\"dataframe\">\n",
       "  <thead>\n",
       "    <tr style=\"text-align: right;\">\n",
       "      <th></th>\n",
       "      <th>Field of Study</th>\n",
       "      <th>Employment Rate</th>\n",
       "      <th>Median Debt</th>\n",
       "      <th>Median Salary</th>\n",
       "      <th>Salary Score</th>\n",
       "      <th>Degree Type</th>\n",
       "    </tr>\n",
       "  </thead>\n",
       "  <tbody>\n",
       "    <tr>\n",
       "      <th>0</th>\n",
       "      <td>Aerospace, Aeronautical and Astronautical Engi...</td>\n",
       "      <td>95%</td>\n",
       "      <td>$22,410</td>\n",
       "      <td>$76,020</td>\n",
       "      <td>98</td>\n",
       "      <td>B</td>\n",
       "    </tr>\n",
       "    <tr>\n",
       "      <th>1</th>\n",
       "      <td>Agricultural Business and Management</td>\n",
       "      <td>97%</td>\n",
       "      <td>$18,390</td>\n",
       "      <td>$56,190</td>\n",
       "      <td>96</td>\n",
       "      <td>B</td>\n",
       "    </tr>\n",
       "    <tr>\n",
       "      <th>2</th>\n",
       "      <td>Agricultural Engineering</td>\n",
       "      <td>100%</td>\n",
       "      <td>$20,000</td>\n",
       "      <td>$63,010</td>\n",
       "      <td>85</td>\n",
       "      <td>B</td>\n",
       "    </tr>\n",
       "    <tr>\n",
       "      <th>3</th>\n",
       "      <td>Agricultural Public Services</td>\n",
       "      <td>100%</td>\n",
       "      <td>Not Reported</td>\n",
       "      <td>$41,300</td>\n",
       "      <td>72</td>\n",
       "      <td>B</td>\n",
       "    </tr>\n",
       "    <tr>\n",
       "      <th>4</th>\n",
       "      <td>Agriculture, General</td>\n",
       "      <td>96%</td>\n",
       "      <td>$13,000</td>\n",
       "      <td>$49,640</td>\n",
       "      <td>97</td>\n",
       "      <td>B</td>\n",
       "    </tr>\n",
       "  </tbody>\n",
       "</table>\n",
       "</div>"
      ],
      "text/plain": [
       "                                     Field of Study  Employment Rate   \\\n",
       "0  Aerospace, Aeronautical and Astronautical Engi...              95%   \n",
       "1               Agricultural Business and Management              97%   \n",
       "2                           Agricultural Engineering             100%   \n",
       "3                       Agricultural Public Services             100%   \n",
       "4                               Agriculture, General              96%   \n",
       "\n",
       "    Median Debt Median Salary Salary Score  Degree Type  \n",
       "0      $22,410       $76,020             98           B  \n",
       "1      $18,390       $56,190             96           B  \n",
       "2      $20,000       $63,010             85           B  \n",
       "3  Not Reported      $41,300             72           B  \n",
       "4      $13,000       $49,640             97           B  "
      ]
     },
     "metadata": {},
     "output_type": "display_data"
    }
   ],
   "source": [
    "salaries = pd.read_csv(f'./cp_major_sal (1).csv') # you might need to change this path\n",
    "salaries = salaries.dropna()\n",
    "# salaries.head()\n",
    "\n",
    "# Assuming work 40 hours a week, 52 weeks a year for the conversion (which is a massive over-simplification but I think the best we can do to approximate)\n",
    "import locale\n",
    "locale.setlocale(locale.LC_ALL,'')\n",
    "salaries['med-hourly'] = salaries['Median Salary'].replace('[\\$,]', '', regex=True).astype(float)\n",
    "salaries['med-hourly'] = salaries['med-hourly'] / (40 * 52)\n",
    "# Remove the higher than bachelors\n",
    "salaries = salaries[salaries['Degree Type'] == 'B']\n",
    "salaries.columns = ['field-study', 'employment-rate', 'med-debt', 'med-salary', 'salary-score', 'degree-type', 'med-hourly']\n",
    "salaries.head()"
   ]
  },
  {
   "cell_type": "code",
   "execution_count": null,
   "id": "b358d1ac",
   "metadata": {},
   "outputs": [
    {
     "data": {
      "text/html": [
       "<div>\n",
       "<style scoped>\n",
       "    .dataframe tbody tr th:only-of-type {\n",
       "        vertical-align: middle;\n",
       "    }\n",
       "\n",
       "    .dataframe tbody tr th {\n",
       "        vertical-align: top;\n",
       "    }\n",
       "\n",
       "    .dataframe thead th {\n",
       "        text-align: right;\n",
       "    }\n",
       "</style>\n",
       "<table border=\"1\" class=\"dataframe\">\n",
       "  <thead>\n",
       "    <tr style=\"text-align: right;\">\n",
       "      <th></th>\n",
       "      <th>rank_2020</th>\n",
       "      <th>city</th>\n",
       "      <th>state</th>\n",
       "      <th>population_2020</th>\n",
       "      <th>population_2010</th>\n",
       "      <th>land_area_sqmi</th>\n",
       "      <th>density</th>\n",
       "      <th>one_adult_no_kids_living_wage</th>\n",
       "      <th>one_adult_one_kid_living_wage</th>\n",
       "      <th>one_adult_two_kids_living_wage</th>\n",
       "      <th>...</th>\n",
       "      <th>two_adults_one_working_no_kids_living_wage</th>\n",
       "      <th>two_adults_one_working_one_kid_living_wage</th>\n",
       "      <th>two_adults_one_working_two_kids_living_wage</th>\n",
       "      <th>two_adults_one_working_three_kids_living_wage</th>\n",
       "      <th>two_adults_both_working_no_kids_living_wage</th>\n",
       "      <th>two_adults_both_working_one_kid_living_wage</th>\n",
       "      <th>two_adults_both_working_two_kids_living_wage</th>\n",
       "      <th>two_adults_both_working_three_kids_living_wage</th>\n",
       "      <th>field-study</th>\n",
       "      <th>med-hourly</th>\n",
       "    </tr>\n",
       "  </thead>\n",
       "  <tbody>\n",
       "    <tr>\n",
       "      <th>0</th>\n",
       "      <td>1</td>\n",
       "      <td>New York</td>\n",
       "      <td>New York</td>\n",
       "      <td>8804190</td>\n",
       "      <td>8175133</td>\n",
       "      <td>300.5</td>\n",
       "      <td>29298</td>\n",
       "      <td>20.0</td>\n",
       "      <td>38.99</td>\n",
       "      <td>49.18</td>\n",
       "      <td>...</td>\n",
       "      <td>29.16</td>\n",
       "      <td>34.35</td>\n",
       "      <td>38.13</td>\n",
       "      <td>42.42</td>\n",
       "      <td>14.03</td>\n",
       "      <td>20.95</td>\n",
       "      <td>26.53</td>\n",
       "      <td>32.4</td>\n",
       "      <td>Aerospace, Aeronautical and Astronautical Engi...</td>\n",
       "      <td>36.548077</td>\n",
       "    </tr>\n",
       "    <tr>\n",
       "      <th>1</th>\n",
       "      <td>1</td>\n",
       "      <td>New York</td>\n",
       "      <td>New York</td>\n",
       "      <td>8804190</td>\n",
       "      <td>8175133</td>\n",
       "      <td>300.5</td>\n",
       "      <td>29298</td>\n",
       "      <td>20.0</td>\n",
       "      <td>38.99</td>\n",
       "      <td>49.18</td>\n",
       "      <td>...</td>\n",
       "      <td>29.16</td>\n",
       "      <td>34.35</td>\n",
       "      <td>38.13</td>\n",
       "      <td>42.42</td>\n",
       "      <td>14.03</td>\n",
       "      <td>20.95</td>\n",
       "      <td>26.53</td>\n",
       "      <td>32.4</td>\n",
       "      <td>Agricultural Business and Management</td>\n",
       "      <td>27.014423</td>\n",
       "    </tr>\n",
       "    <tr>\n",
       "      <th>2</th>\n",
       "      <td>1</td>\n",
       "      <td>New York</td>\n",
       "      <td>New York</td>\n",
       "      <td>8804190</td>\n",
       "      <td>8175133</td>\n",
       "      <td>300.5</td>\n",
       "      <td>29298</td>\n",
       "      <td>20.0</td>\n",
       "      <td>38.99</td>\n",
       "      <td>49.18</td>\n",
       "      <td>...</td>\n",
       "      <td>29.16</td>\n",
       "      <td>34.35</td>\n",
       "      <td>38.13</td>\n",
       "      <td>42.42</td>\n",
       "      <td>14.03</td>\n",
       "      <td>20.95</td>\n",
       "      <td>26.53</td>\n",
       "      <td>32.4</td>\n",
       "      <td>Agricultural Engineering</td>\n",
       "      <td>30.293269</td>\n",
       "    </tr>\n",
       "    <tr>\n",
       "      <th>4</th>\n",
       "      <td>1</td>\n",
       "      <td>New York</td>\n",
       "      <td>New York</td>\n",
       "      <td>8804190</td>\n",
       "      <td>8175133</td>\n",
       "      <td>300.5</td>\n",
       "      <td>29298</td>\n",
       "      <td>20.0</td>\n",
       "      <td>38.99</td>\n",
       "      <td>49.18</td>\n",
       "      <td>...</td>\n",
       "      <td>29.16</td>\n",
       "      <td>34.35</td>\n",
       "      <td>38.13</td>\n",
       "      <td>42.42</td>\n",
       "      <td>14.03</td>\n",
       "      <td>20.95</td>\n",
       "      <td>26.53</td>\n",
       "      <td>32.4</td>\n",
       "      <td>Agriculture, General</td>\n",
       "      <td>23.865385</td>\n",
       "    </tr>\n",
       "    <tr>\n",
       "      <th>6</th>\n",
       "      <td>1</td>\n",
       "      <td>New York</td>\n",
       "      <td>New York</td>\n",
       "      <td>8804190</td>\n",
       "      <td>8175133</td>\n",
       "      <td>300.5</td>\n",
       "      <td>29298</td>\n",
       "      <td>20.0</td>\n",
       "      <td>38.99</td>\n",
       "      <td>49.18</td>\n",
       "      <td>...</td>\n",
       "      <td>29.16</td>\n",
       "      <td>34.35</td>\n",
       "      <td>38.13</td>\n",
       "      <td>42.42</td>\n",
       "      <td>14.03</td>\n",
       "      <td>20.95</td>\n",
       "      <td>26.53</td>\n",
       "      <td>32.4</td>\n",
       "      <td>Architectural Engineering</td>\n",
       "      <td>32.365385</td>\n",
       "    </tr>\n",
       "  </tbody>\n",
       "</table>\n",
       "<p>5 rows × 21 columns</p>\n",
       "</div>"
      ],
      "text/plain": [
       "   rank_2020      city     state  population_2020  population_2010  \\\n",
       "0          1  New York  New York          8804190          8175133   \n",
       "1          1  New York  New York          8804190          8175133   \n",
       "2          1  New York  New York          8804190          8175133   \n",
       "4          1  New York  New York          8804190          8175133   \n",
       "6          1  New York  New York          8804190          8175133   \n",
       "\n",
       "   land_area_sqmi  density  one_adult_no_kids_living_wage  \\\n",
       "0           300.5    29298                           20.0   \n",
       "1           300.5    29298                           20.0   \n",
       "2           300.5    29298                           20.0   \n",
       "4           300.5    29298                           20.0   \n",
       "6           300.5    29298                           20.0   \n",
       "\n",
       "   one_adult_one_kid_living_wage  one_adult_two_kids_living_wage  ...  \\\n",
       "0                          38.99                           49.18  ...   \n",
       "1                          38.99                           49.18  ...   \n",
       "2                          38.99                           49.18  ...   \n",
       "4                          38.99                           49.18  ...   \n",
       "6                          38.99                           49.18  ...   \n",
       "\n",
       "   two_adults_one_working_no_kids_living_wage  \\\n",
       "0                                       29.16   \n",
       "1                                       29.16   \n",
       "2                                       29.16   \n",
       "4                                       29.16   \n",
       "6                                       29.16   \n",
       "\n",
       "   two_adults_one_working_one_kid_living_wage  \\\n",
       "0                                       34.35   \n",
       "1                                       34.35   \n",
       "2                                       34.35   \n",
       "4                                       34.35   \n",
       "6                                       34.35   \n",
       "\n",
       "   two_adults_one_working_two_kids_living_wage  \\\n",
       "0                                        38.13   \n",
       "1                                        38.13   \n",
       "2                                        38.13   \n",
       "4                                        38.13   \n",
       "6                                        38.13   \n",
       "\n",
       "   two_adults_one_working_three_kids_living_wage  \\\n",
       "0                                          42.42   \n",
       "1                                          42.42   \n",
       "2                                          42.42   \n",
       "4                                          42.42   \n",
       "6                                          42.42   \n",
       "\n",
       "   two_adults_both_working_no_kids_living_wage  \\\n",
       "0                                        14.03   \n",
       "1                                        14.03   \n",
       "2                                        14.03   \n",
       "4                                        14.03   \n",
       "6                                        14.03   \n",
       "\n",
       "   two_adults_both_working_one_kid_living_wage  \\\n",
       "0                                        20.95   \n",
       "1                                        20.95   \n",
       "2                                        20.95   \n",
       "4                                        20.95   \n",
       "6                                        20.95   \n",
       "\n",
       "   two_adults_both_working_two_kids_living_wage  \\\n",
       "0                                         26.53   \n",
       "1                                         26.53   \n",
       "2                                         26.53   \n",
       "4                                         26.53   \n",
       "6                                         26.53   \n",
       "\n",
       "   two_adults_both_working_three_kids_living_wage  \\\n",
       "0                                            32.4   \n",
       "1                                            32.4   \n",
       "2                                            32.4   \n",
       "4                                            32.4   \n",
       "6                                            32.4   \n",
       "\n",
       "                                         field-study med-hourly  \n",
       "0  Aerospace, Aeronautical and Astronautical Engi...  36.548077  \n",
       "1               Agricultural Business and Management  27.014423  \n",
       "2                           Agricultural Engineering  30.293269  \n",
       "4                               Agriculture, General  23.865385  \n",
       "6                          Architectural Engineering  32.365385  \n",
       "\n",
       "[5 rows x 21 columns]"
      ]
     },
     "metadata": {},
     "output_type": "display_data"
    }
   ],
   "source": [
    "living_wage_by_major = cities.merge(salaries[['field-study', 'med-hourly']], how='cross')\n",
    "living_wage_by_major = living_wage_by_major[living_wage_by_major['one_adult_no_kids_living_wage'] < living_wage_by_major['med-hourly']]\n",
    "living_wage_by_major = living_wage_by_major.set_index(['city', 'state', 'field-study'])\n",
    "living_wage_by_major = living_wage_by_major.drop(['rank_2020'], axis=1)\n",
    "living_wage_by_major.head()"
   ]
  },
  {
   "cell_type": "code",
   "execution_count": null,
   "id": "0095c598",
   "metadata": {},
   "outputs": [],
   "source": [
    "df_degrees_over_career = pd.read_csv('degrees-that-pay-back.csv')\n",
    "df_degrees_over_career = df_degrees_over_career.set_index('Undergraduate Major')\n",
    "for col in list(df_degrees_over_career):\n",
    "    if col != 'Percent change from Starting to Mid-Career Salary':\n",
    "        df_degrees_over_career[col] = df_degrees_over_career[col].str.strip('$')\n",
    "        df_degrees_over_career[col] = df_degrees_over_career[col].str.replace(',', '')\n",
    "    df_degrees_over_career[col] = df_degrees_over_career[col].astype(float)\n",
    "\n",
    "df_degrees_over_career_hourly = df_degrees_over_career[['Starting Median Salary', 'Mid-Career Median Salary']]\n",
    "df_degrees_over_career_hourly['starting-med-hourly'] = df_degrees_over_career_hourly['Starting Median Salary'] / (40 * 52)\n",
    "df_degrees_over_career_hourly['mid-med-hourly'] = df_degrees_over_career_hourly['Mid-Career Median Salary'] / (40 * 52)\n",
    "\n",
    "df_degrees_over_career = df_degrees_over_career[['Starting Median Salary', 'Mid-Career Median Salary']]\n",
    "df_degrees_over_career.head()"
   ]
  },
  {
   "cell_type": "code",
   "execution_count": null,
   "id": "322b78f7",
   "metadata": {},
   "outputs": [
    {
     "data": {
      "text/html": [
       "<div>\n",
       "<style scoped>\n",
       "    .dataframe tbody tr th:only-of-type {\n",
       "        vertical-align: middle;\n",
       "    }\n",
       "\n",
       "    .dataframe tbody tr th {\n",
       "        vertical-align: top;\n",
       "    }\n",
       "\n",
       "    .dataframe thead th {\n",
       "        text-align: right;\n",
       "    }\n",
       "</style>\n",
       "<table border=\"1\" class=\"dataframe\">\n",
       "  <thead>\n",
       "    <tr style=\"text-align: right;\">\n",
       "      <th></th>\n",
       "      <th>rank_2020</th>\n",
       "      <th>city</th>\n",
       "      <th>state</th>\n",
       "      <th>population_2020</th>\n",
       "      <th>population_2010</th>\n",
       "      <th>land_area_sqmi</th>\n",
       "      <th>density</th>\n",
       "      <th>one_adult_no_kids_living_wage</th>\n",
       "      <th>one_adult_one_kid_living_wage</th>\n",
       "      <th>one_adult_two_kids_living_wage</th>\n",
       "      <th>...</th>\n",
       "      <th>two_adults_one_working_three_kids_living_wage</th>\n",
       "      <th>two_adults_both_working_no_kids_living_wage</th>\n",
       "      <th>two_adults_both_working_one_kid_living_wage</th>\n",
       "      <th>two_adults_both_working_two_kids_living_wage</th>\n",
       "      <th>two_adults_both_working_three_kids_living_wage</th>\n",
       "      <th>Undergraduate Major</th>\n",
       "      <th>Starting Median Salary</th>\n",
       "      <th>Mid-Career Median Salary</th>\n",
       "      <th>starting-med-hourly</th>\n",
       "      <th>mid-med-hourly</th>\n",
       "    </tr>\n",
       "  </thead>\n",
       "  <tbody>\n",
       "    <tr>\n",
       "      <th>0</th>\n",
       "      <td>1</td>\n",
       "      <td>New York</td>\n",
       "      <td>New York</td>\n",
       "      <td>8804190</td>\n",
       "      <td>8175133</td>\n",
       "      <td>300.5</td>\n",
       "      <td>29298</td>\n",
       "      <td>20.0</td>\n",
       "      <td>38.99</td>\n",
       "      <td>49.18</td>\n",
       "      <td>...</td>\n",
       "      <td>42.42</td>\n",
       "      <td>14.03</td>\n",
       "      <td>20.95</td>\n",
       "      <td>26.53</td>\n",
       "      <td>32.4</td>\n",
       "      <td>Accounting</td>\n",
       "      <td>46000.0</td>\n",
       "      <td>77100.0</td>\n",
       "      <td>22.115385</td>\n",
       "      <td>37.067308</td>\n",
       "    </tr>\n",
       "    <tr>\n",
       "      <th>1</th>\n",
       "      <td>1</td>\n",
       "      <td>New York</td>\n",
       "      <td>New York</td>\n",
       "      <td>8804190</td>\n",
       "      <td>8175133</td>\n",
       "      <td>300.5</td>\n",
       "      <td>29298</td>\n",
       "      <td>20.0</td>\n",
       "      <td>38.99</td>\n",
       "      <td>49.18</td>\n",
       "      <td>...</td>\n",
       "      <td>42.42</td>\n",
       "      <td>14.03</td>\n",
       "      <td>20.95</td>\n",
       "      <td>26.53</td>\n",
       "      <td>32.4</td>\n",
       "      <td>Aerospace Engineering</td>\n",
       "      <td>57700.0</td>\n",
       "      <td>101000.0</td>\n",
       "      <td>27.740385</td>\n",
       "      <td>48.557692</td>\n",
       "    </tr>\n",
       "    <tr>\n",
       "      <th>2</th>\n",
       "      <td>1</td>\n",
       "      <td>New York</td>\n",
       "      <td>New York</td>\n",
       "      <td>8804190</td>\n",
       "      <td>8175133</td>\n",
       "      <td>300.5</td>\n",
       "      <td>29298</td>\n",
       "      <td>20.0</td>\n",
       "      <td>38.99</td>\n",
       "      <td>49.18</td>\n",
       "      <td>...</td>\n",
       "      <td>42.42</td>\n",
       "      <td>14.03</td>\n",
       "      <td>20.95</td>\n",
       "      <td>26.53</td>\n",
       "      <td>32.4</td>\n",
       "      <td>Agriculture</td>\n",
       "      <td>42600.0</td>\n",
       "      <td>71900.0</td>\n",
       "      <td>20.480769</td>\n",
       "      <td>34.567308</td>\n",
       "    </tr>\n",
       "    <tr>\n",
       "      <th>7</th>\n",
       "      <td>1</td>\n",
       "      <td>New York</td>\n",
       "      <td>New York</td>\n",
       "      <td>8804190</td>\n",
       "      <td>8175133</td>\n",
       "      <td>300.5</td>\n",
       "      <td>29298</td>\n",
       "      <td>20.0</td>\n",
       "      <td>38.99</td>\n",
       "      <td>49.18</td>\n",
       "      <td>...</td>\n",
       "      <td>42.42</td>\n",
       "      <td>14.03</td>\n",
       "      <td>20.95</td>\n",
       "      <td>26.53</td>\n",
       "      <td>32.4</td>\n",
       "      <td>Business Management</td>\n",
       "      <td>43000.0</td>\n",
       "      <td>72100.0</td>\n",
       "      <td>20.673077</td>\n",
       "      <td>34.663462</td>\n",
       "    </tr>\n",
       "    <tr>\n",
       "      <th>8</th>\n",
       "      <td>1</td>\n",
       "      <td>New York</td>\n",
       "      <td>New York</td>\n",
       "      <td>8804190</td>\n",
       "      <td>8175133</td>\n",
       "      <td>300.5</td>\n",
       "      <td>29298</td>\n",
       "      <td>20.0</td>\n",
       "      <td>38.99</td>\n",
       "      <td>49.18</td>\n",
       "      <td>...</td>\n",
       "      <td>42.42</td>\n",
       "      <td>14.03</td>\n",
       "      <td>20.95</td>\n",
       "      <td>26.53</td>\n",
       "      <td>32.4</td>\n",
       "      <td>Chemical Engineering</td>\n",
       "      <td>63200.0</td>\n",
       "      <td>107000.0</td>\n",
       "      <td>30.384615</td>\n",
       "      <td>51.442308</td>\n",
       "    </tr>\n",
       "  </tbody>\n",
       "</table>\n",
       "<p>5 rows × 24 columns</p>\n",
       "</div>"
      ],
      "text/plain": [
       "   rank_2020      city     state  population_2020  population_2010  \\\n",
       "0          1  New York  New York          8804190          8175133   \n",
       "1          1  New York  New York          8804190          8175133   \n",
       "2          1  New York  New York          8804190          8175133   \n",
       "7          1  New York  New York          8804190          8175133   \n",
       "8          1  New York  New York          8804190          8175133   \n",
       "\n",
       "   land_area_sqmi  density  one_adult_no_kids_living_wage  \\\n",
       "0           300.5    29298                           20.0   \n",
       "1           300.5    29298                           20.0   \n",
       "2           300.5    29298                           20.0   \n",
       "7           300.5    29298                           20.0   \n",
       "8           300.5    29298                           20.0   \n",
       "\n",
       "   one_adult_one_kid_living_wage  one_adult_two_kids_living_wage  ...  \\\n",
       "0                          38.99                           49.18  ...   \n",
       "1                          38.99                           49.18  ...   \n",
       "2                          38.99                           49.18  ...   \n",
       "7                          38.99                           49.18  ...   \n",
       "8                          38.99                           49.18  ...   \n",
       "\n",
       "   two_adults_one_working_three_kids_living_wage  \\\n",
       "0                                          42.42   \n",
       "1                                          42.42   \n",
       "2                                          42.42   \n",
       "7                                          42.42   \n",
       "8                                          42.42   \n",
       "\n",
       "   two_adults_both_working_no_kids_living_wage  \\\n",
       "0                                        14.03   \n",
       "1                                        14.03   \n",
       "2                                        14.03   \n",
       "7                                        14.03   \n",
       "8                                        14.03   \n",
       "\n",
       "   two_adults_both_working_one_kid_living_wage  \\\n",
       "0                                        20.95   \n",
       "1                                        20.95   \n",
       "2                                        20.95   \n",
       "7                                        20.95   \n",
       "8                                        20.95   \n",
       "\n",
       "   two_adults_both_working_two_kids_living_wage  \\\n",
       "0                                         26.53   \n",
       "1                                         26.53   \n",
       "2                                         26.53   \n",
       "7                                         26.53   \n",
       "8                                         26.53   \n",
       "\n",
       "   two_adults_both_working_three_kids_living_wage    Undergraduate Major  \\\n",
       "0                                            32.4             Accounting   \n",
       "1                                            32.4  Aerospace Engineering   \n",
       "2                                            32.4            Agriculture   \n",
       "7                                            32.4    Business Management   \n",
       "8                                            32.4   Chemical Engineering   \n",
       "\n",
       "   Starting Median Salary  Mid-Career Median Salary  starting-med-hourly  \\\n",
       "0                 46000.0                   77100.0            22.115385   \n",
       "1                 57700.0                  101000.0            27.740385   \n",
       "2                 42600.0                   71900.0            20.480769   \n",
       "7                 43000.0                   72100.0            20.673077   \n",
       "8                 63200.0                  107000.0            30.384615   \n",
       "\n",
       "  mid-med-hourly  \n",
       "0      37.067308  \n",
       "1      48.557692  \n",
       "2      34.567308  \n",
       "7      34.663462  \n",
       "8      51.442308  \n",
       "\n",
       "[5 rows x 24 columns]"
      ]
     },
     "metadata": {},
     "output_type": "display_data"
    }
   ],
   "source": [
    "living_wage_over_time = cities.merge(df_degrees_over_career_hourly.reset_index(), how='cross')\n",
    "living_wage_over_time = living_wage_over_time[living_wage_over_time['one_adult_no_kids_living_wage'] < combo['starting-med-hourly']]\n",
    "living_wage_over_time = living_wage_over_time[living_wage_over_time['two_adults_one_working_one_kid_living_wage'] < combo['mid-med-hourly']]\n",
    "living_wage_over_time = living_wage_over_time[['city', 'state', 'population_2020', 'population_2010', 'land_area_sqmi', 'density', 'Undergraduate Major', 'one_adult_no_kids_living_wage', 'two_adults_one_working_one_kid_living_wage']]\n",
    "living_wage_over_time = living_wage_over_time.set_index(['city', 'state', 'Undergraduate Major'])"
   ]
  },
  {
   "cell_type": "code",
   "execution_count": 69,
   "id": "5c76c799-84b4-40cc-a974-d348cfc5eec9",
   "metadata": {
    "id": "5c76c799-84b4-40cc-a974-d348cfc5eec9"
   },
   "outputs": [],
   "source": [
    "df_major_salary = pd.read_csv('cp_major_sal.csv')\n",
    "\n",
    "lis = 'Connecticut, Maine, Massachusetts, New Hampshire, Rhode Island, Vermont, New Jersey, New York, Pennsylvania, Illinois, Indiana, Michigan, Ohio, Wisconsin, Iowa, Kansas, Minnesota, Missouri,  Nebraska, North Dakota, South Dakota, Delaware, District of Columbia, Florida, Georgia, Maryland, North Carolina, South Carolina, Virginia, West Virginia, Alabama, Kentucky, Mississippi, Tennessee, Arkansas, Louisiana, Oklahoma, Texas, Arizona, Colorado, Idaho, Montana, Nevada, New Mexico, Utah, Wyoming, Alaska, California, Hawaii, Oregon, Washington'\n",
    "my_states = lis.split(', ')\n",
    "my_states =  [*set(my_states)]\n",
    "my_states\n",
    "\n",
    "\n",
    "df_living_wage = pd.read_csv('livingwage.csv')\n",
    "df_living_wage = df_living_wage[['city','state','one_adult_no_kids_living_wage', 'land_area_sqmi']]\n",
    "# On average, a full-time employee in the United Stats works 1,801 hours per year, or 37.5 hours per week, \n",
    "# which is more than other OECD countries. Source: https://clockify.me/working-hours#:~:text=On%20\n",
    "# average%2C%20a%20full%2Dtime%20employee%20in%20the%20United%20Stats,more%20than%20other%20OECD%20countries.\n",
    "df_living_wage['one_adult_no_kids_living_salary'] = df_living_wage['one_adult_no_kids_living_wage']*1801\n"
   ]
  },
  {
   "cell_type": "code",
   "execution_count": 70,
   "id": "a6071583-0cc2-407c-af44-7b61e5b29cd8",
   "metadata": {
    "colab": {
     "base_uri": "https://localhost:8080/"
    },
    "id": "a6071583-0cc2-407c-af44-7b61e5b29cd8",
    "outputId": "19d5f071-785c-4b02-fdac-74c44d490c28"
   },
   "outputs": [
    {
     "name": "stderr",
     "output_type": "stream",
     "text": [
      "/tmp/ipykernel_580637/151017707.py:1: DtypeWarning: Columns (0,1,10,15,16,17,18,19,21,23,25,26,27,30,31,32,33,34,37,38,40,41,48,51,52,53,54,56,57,58,60,61,62) have mixed types. Specify dtype option on import or set low_memory=False.\n",
      "  df_homes = pd.read_csv('united_states_2022.csv')\n"
     ]
    }
   ],
   "source": [
    "df_homes = pd.read_csv('united_states_2022.csv')\n",
    "df_homes = df_homes[['price','addressState','beds','baths','area', 'zestimate', 'homeType']]\n",
    "df_homes = df_homes.dropna()\n",
    "df_homes['addressState'].value_counts()\n",
    "\n",
    "states = {\n",
    "    'AK': 'Alaska',\n",
    "    'AL': 'Alabama',\n",
    "    'AR': 'Arkansas',\n",
    "    'AZ': 'Arizona',\n",
    "    'CA': 'California',\n",
    "    'CO': 'Colorado',\n",
    "    'CT': 'Connecticut',\n",
    "    'DC': 'District of Columbia',\n",
    "    'DE': 'Delaware',\n",
    "    'FL': 'Florida',\n",
    "    'GA': 'Georgia',\n",
    "    'HI': 'Hawaii',\n",
    "    'IA': 'Iowa',\n",
    "    'ID': 'Idaho',\n",
    "    'IL': 'Illinois',\n",
    "    'IN': 'Indiana',\n",
    "    'KS': 'Kansas',\n",
    "    'KY': 'Kentucky',\n",
    "    'LA': 'Louisiana',\n",
    "    'MA': 'Massachusetts',\n",
    "    'MD': 'Maryland',\n",
    "    'ME': 'Maine',\n",
    "    'MI': 'Michigan',\n",
    "    'MN': 'Minnesota',\n",
    "    'MO': 'Missouri',\n",
    "    'MS': 'Mississippi',\n",
    "    'MT': 'Montana',\n",
    "    'NC': 'North Carolina',\n",
    "    'ND': 'North Dakota',\n",
    "    'NE': 'Nebraska',\n",
    "    'NH': 'New Hampshire',\n",
    "    'NJ': 'New Jersey',\n",
    "    'NM': 'New Mexico',\n",
    "    'NV': 'Nevada',\n",
    "    'NY': 'New York',\n",
    "    'OH': 'Ohio',\n",
    "    'OK': 'Oklahoma',\n",
    "    'OR': 'Oregon',\n",
    "    'PA': 'Pennsylvania',\n",
    "    'RI': 'Rhode Island',\n",
    "    'SC': 'South Carolina',\n",
    "    'SD': 'South Dakota',\n",
    "    'TN': 'Tennessee',\n",
    "    'TX': 'Texas',\n",
    "    'UT': 'Utah',\n",
    "    'VA': 'Virginia',\n",
    "    'VT': 'Vermont',\n",
    "    'WA': 'Washington',\n",
    "    'WI': 'Wisconsin',\n",
    "    'WV': 'West Virginia',\n",
    "    'WY': 'Wyoming'\n",
    "}\n",
    "\n",
    "\n",
    "morts = {\n",
    "    'AK': 2060,\n",
    "    'AL': 1171,\n",
    "    'AR': 1335,\n",
    "    'AZ': 1516,\n",
    "    'CA': 2060,\n",
    "    'CO': 1516,\n",
    "    'CT': 1735,\n",
    "    'DC': 1396,\n",
    "    'DE': 1396,\n",
    "    'FL': 1396,\n",
    "    'GA': 1396,\n",
    "    'HI': 2060,\n",
    "    'IA': 1209,\n",
    "    'ID': 1516,\n",
    "    'IL': 1207,\n",
    "    'IN': 1207,\n",
    "    'KS': 1209,\n",
    "    'KY': 1171,\n",
    "    'LA': 1335,\n",
    "    'MA': 1735,\n",
    "    'MD': 1396,\n",
    "    'ME': 1735,\n",
    "    'MI': 1207,\n",
    "    'MN': 1209,\n",
    "    'MO': 1209,\n",
    "    'MS': 1171,\n",
    "    'MT': 1516,\n",
    "    'NC': 1396,\n",
    "    'ND': 1209,\n",
    "    'NE': 1209,\n",
    "    'NH': 1735,\n",
    "    'NJ': 1657,\n",
    "    'NM': 1516,\n",
    "    'NV': 1516,\n",
    "    'NY': 1657,\n",
    "    'OH': 1207,\n",
    "    'OK': 1335,\n",
    "    'OR': 2060,\n",
    "    'PA': 1657,\n",
    "    'RI': 1735,\n",
    "    'SC': 1396,\n",
    "    'SD': 1209,\n",
    "    'TN': 1171,\n",
    "    'TX': 1335,\n",
    "    'UT': 1516,\n",
    "    'VA': 1396,\n",
    "    'VT': 1735,\n",
    "    'WA': 2060,\n",
    "    'WI': 1207,\n",
    "    'WV': 1396,\n",
    "    'WY': 1516\n",
    "}\n",
    "df_homes['State'] = df_homes['addressState'].map(states)\n",
    "df_homes['Average Mortgage'] = df_homes['addressState'].map(morts)"
   ]
  },
  {
   "cell_type": "code",
   "execution_count": 71,
   "id": "e2217abf-e503-49ed-91a6-ea8ccb6393df",
   "metadata": {
    "id": "e2217abf-e503-49ed-91a6-ea8ccb6393df"
   },
   "outputs": [],
   "source": [
    "df = df_living_wage.merge(df_homes,  left_on='state', right_on='State')"
   ]
  },
  {
   "cell_type": "code",
   "execution_count": 72,
   "id": "kPY_PzrCLE3y",
   "metadata": {
    "colab": {
     "base_uri": "https://localhost:8080/",
     "height": 592
    },
    "id": "kPY_PzrCLE3y",
    "outputId": "d42a72da-0a23-410e-c1c8-a65c623bf7e4"
   },
   "outputs": [
    {
     "data": {
      "text/html": [
       "<div>\n",
       "<style scoped>\n",
       "    .dataframe tbody tr th:only-of-type {\n",
       "        vertical-align: middle;\n",
       "    }\n",
       "\n",
       "    .dataframe tbody tr th {\n",
       "        vertical-align: top;\n",
       "    }\n",
       "\n",
       "    .dataframe thead th {\n",
       "        text-align: right;\n",
       "    }\n",
       "</style>\n",
       "<table border=\"1\" class=\"dataframe\">\n",
       "  <thead>\n",
       "    <tr style=\"text-align: right;\">\n",
       "      <th></th>\n",
       "      <th>city</th>\n",
       "      <th>state</th>\n",
       "      <th>one_adult_no_kids_living_wage</th>\n",
       "      <th>land_area_sqmi</th>\n",
       "      <th>one_adult_no_kids_living_salary</th>\n",
       "      <th>price</th>\n",
       "      <th>addressState</th>\n",
       "      <th>beds</th>\n",
       "      <th>baths</th>\n",
       "      <th>area</th>\n",
       "      <th>zestimate</th>\n",
       "      <th>homeType</th>\n",
       "      <th>State</th>\n",
       "      <th>Average Mortgage</th>\n",
       "    </tr>\n",
       "  </thead>\n",
       "  <tbody>\n",
       "    <tr>\n",
       "      <th>0</th>\n",
       "      <td>New York</td>\n",
       "      <td>New York</td>\n",
       "      <td>20.00</td>\n",
       "      <td>300.50</td>\n",
       "      <td>36020.00</td>\n",
       "      <td>$675,000</td>\n",
       "      <td>NY</td>\n",
       "      <td>4.00</td>\n",
       "      <td>3.00</td>\n",
       "      <td>2444.00</td>\n",
       "      <td>675000.00</td>\n",
       "      <td>SINGLE_FAMILY</td>\n",
       "      <td>New York</td>\n",
       "      <td>1657.00</td>\n",
       "    </tr>\n",
       "    <tr>\n",
       "      <th>1</th>\n",
       "      <td>New York</td>\n",
       "      <td>New York</td>\n",
       "      <td>20.00</td>\n",
       "      <td>300.50</td>\n",
       "      <td>36020.00</td>\n",
       "      <td>$739,000</td>\n",
       "      <td>NY</td>\n",
       "      <td>3.00</td>\n",
       "      <td>3.00</td>\n",
       "      <td>1583.00</td>\n",
       "      <td>671000.00</td>\n",
       "      <td>SINGLE_FAMILY</td>\n",
       "      <td>New York</td>\n",
       "      <td>1657.00</td>\n",
       "    </tr>\n",
       "    <tr>\n",
       "      <th>2</th>\n",
       "      <td>New York</td>\n",
       "      <td>New York</td>\n",
       "      <td>20.00</td>\n",
       "      <td>300.50</td>\n",
       "      <td>36020.00</td>\n",
       "      <td>$160,000</td>\n",
       "      <td>NY</td>\n",
       "      <td>1.00</td>\n",
       "      <td>1.00</td>\n",
       "      <td>750.00</td>\n",
       "      <td>459800.00</td>\n",
       "      <td>SINGLE_FAMILY</td>\n",
       "      <td>New York</td>\n",
       "      <td>1657.00</td>\n",
       "    </tr>\n",
       "    <tr>\n",
       "      <th>3</th>\n",
       "      <td>New York</td>\n",
       "      <td>New York</td>\n",
       "      <td>20.00</td>\n",
       "      <td>300.50</td>\n",
       "      <td>36020.00</td>\n",
       "      <td>$749,999</td>\n",
       "      <td>NY</td>\n",
       "      <td>4.00</td>\n",
       "      <td>3.00</td>\n",
       "      <td>2200.00</td>\n",
       "      <td>789700.00</td>\n",
       "      <td>MULTI_FAMILY</td>\n",
       "      <td>New York</td>\n",
       "      <td>1657.00</td>\n",
       "    </tr>\n",
       "    <tr>\n",
       "      <th>4</th>\n",
       "      <td>New York</td>\n",
       "      <td>New York</td>\n",
       "      <td>20.00</td>\n",
       "      <td>300.50</td>\n",
       "      <td>36020.00</td>\n",
       "      <td>$439,000</td>\n",
       "      <td>NY</td>\n",
       "      <td>3.00</td>\n",
       "      <td>2.00</td>\n",
       "      <td>1910.00</td>\n",
       "      <td>439000.00</td>\n",
       "      <td>MULTI_FAMILY</td>\n",
       "      <td>New York</td>\n",
       "      <td>1657.00</td>\n",
       "    </tr>\n",
       "    <tr>\n",
       "      <th>...</th>\n",
       "      <td>...</td>\n",
       "      <td>...</td>\n",
       "      <td>...</td>\n",
       "      <td>...</td>\n",
       "      <td>...</td>\n",
       "      <td>...</td>\n",
       "      <td>...</td>\n",
       "      <td>...</td>\n",
       "      <td>...</td>\n",
       "      <td>...</td>\n",
       "      <td>...</td>\n",
       "      <td>...</td>\n",
       "      <td>...</td>\n",
       "      <td>...</td>\n",
       "    </tr>\n",
       "    <tr>\n",
       "      <th>459477</th>\n",
       "      <td>Boise</td>\n",
       "      <td>Idaho</td>\n",
       "      <td>14.12</td>\n",
       "      <td>84.00</td>\n",
       "      <td>25430.12</td>\n",
       "      <td>$515,900</td>\n",
       "      <td>ID</td>\n",
       "      <td>3.00</td>\n",
       "      <td>2.00</td>\n",
       "      <td>1450.00</td>\n",
       "      <td>478800.00</td>\n",
       "      <td>SINGLE_FAMILY</td>\n",
       "      <td>Idaho</td>\n",
       "      <td>1516.00</td>\n",
       "    </tr>\n",
       "    <tr>\n",
       "      <th>459478</th>\n",
       "      <td>Boise</td>\n",
       "      <td>Idaho</td>\n",
       "      <td>14.12</td>\n",
       "      <td>84.00</td>\n",
       "      <td>25430.12</td>\n",
       "      <td>$450,000</td>\n",
       "      <td>ID</td>\n",
       "      <td>2.00</td>\n",
       "      <td>3.00</td>\n",
       "      <td>1552.00</td>\n",
       "      <td>446800.00</td>\n",
       "      <td>TOWNHOUSE</td>\n",
       "      <td>Idaho</td>\n",
       "      <td>1516.00</td>\n",
       "    </tr>\n",
       "    <tr>\n",
       "      <th>459479</th>\n",
       "      <td>Boise</td>\n",
       "      <td>Idaho</td>\n",
       "      <td>14.12</td>\n",
       "      <td>84.00</td>\n",
       "      <td>25430.12</td>\n",
       "      <td>$2,050,000</td>\n",
       "      <td>ID</td>\n",
       "      <td>4.00</td>\n",
       "      <td>5.00</td>\n",
       "      <td>4760.00</td>\n",
       "      <td>1922500.00</td>\n",
       "      <td>SINGLE_FAMILY</td>\n",
       "      <td>Idaho</td>\n",
       "      <td>1516.00</td>\n",
       "    </tr>\n",
       "    <tr>\n",
       "      <th>459480</th>\n",
       "      <td>Boise</td>\n",
       "      <td>Idaho</td>\n",
       "      <td>14.12</td>\n",
       "      <td>84.00</td>\n",
       "      <td>25430.12</td>\n",
       "      <td>$1,269,000</td>\n",
       "      <td>ID</td>\n",
       "      <td>2.00</td>\n",
       "      <td>2.00</td>\n",
       "      <td>2120.00</td>\n",
       "      <td>1244500.00</td>\n",
       "      <td>SINGLE_FAMILY</td>\n",
       "      <td>Idaho</td>\n",
       "      <td>1516.00</td>\n",
       "    </tr>\n",
       "    <tr>\n",
       "      <th>459481</th>\n",
       "      <td>Boise</td>\n",
       "      <td>Idaho</td>\n",
       "      <td>14.12</td>\n",
       "      <td>84.00</td>\n",
       "      <td>25430.12</td>\n",
       "      <td>$899,900</td>\n",
       "      <td>ID</td>\n",
       "      <td>3.00</td>\n",
       "      <td>3.00</td>\n",
       "      <td>2680.00</td>\n",
       "      <td>829300.00</td>\n",
       "      <td>SINGLE_FAMILY</td>\n",
       "      <td>Idaho</td>\n",
       "      <td>1516.00</td>\n",
       "    </tr>\n",
       "  </tbody>\n",
       "</table>\n",
       "<p>459482 rows × 14 columns</p>\n",
       "</div>"
      ],
      "text/plain": [
       "            city     state  one_adult_no_kids_living_wage  land_area_sqmi  \\\n",
       "0       New York  New York                          20.00          300.50   \n",
       "1       New York  New York                          20.00          300.50   \n",
       "2       New York  New York                          20.00          300.50   \n",
       "3       New York  New York                          20.00          300.50   \n",
       "4       New York  New York                          20.00          300.50   \n",
       "...          ...       ...                            ...             ...   \n",
       "459477     Boise     Idaho                          14.12           84.00   \n",
       "459478     Boise     Idaho                          14.12           84.00   \n",
       "459479     Boise     Idaho                          14.12           84.00   \n",
       "459480     Boise     Idaho                          14.12           84.00   \n",
       "459481     Boise     Idaho                          14.12           84.00   \n",
       "\n",
       "        one_adult_no_kids_living_salary       price addressState beds baths  \\\n",
       "0                              36020.00    $675,000           NY 4.00  3.00   \n",
       "1                              36020.00    $739,000           NY 3.00  3.00   \n",
       "2                              36020.00    $160,000           NY 1.00  1.00   \n",
       "3                              36020.00    $749,999           NY 4.00  3.00   \n",
       "4                              36020.00    $439,000           NY 3.00  2.00   \n",
       "...                                 ...         ...          ...  ...   ...   \n",
       "459477                         25430.12    $515,900           ID 3.00  2.00   \n",
       "459478                         25430.12    $450,000           ID 2.00  3.00   \n",
       "459479                         25430.12  $2,050,000           ID 4.00  5.00   \n",
       "459480                         25430.12  $1,269,000           ID 2.00  2.00   \n",
       "459481                         25430.12    $899,900           ID 3.00  3.00   \n",
       "\n",
       "          area  zestimate       homeType     State  Average Mortgage  \n",
       "0      2444.00  675000.00  SINGLE_FAMILY  New York           1657.00  \n",
       "1      1583.00  671000.00  SINGLE_FAMILY  New York           1657.00  \n",
       "2       750.00  459800.00  SINGLE_FAMILY  New York           1657.00  \n",
       "3      2200.00  789700.00   MULTI_FAMILY  New York           1657.00  \n",
       "4      1910.00  439000.00   MULTI_FAMILY  New York           1657.00  \n",
       "...        ...        ...            ...       ...               ...  \n",
       "459477 1450.00  478800.00  SINGLE_FAMILY     Idaho           1516.00  \n",
       "459478 1552.00  446800.00      TOWNHOUSE     Idaho           1516.00  \n",
       "459479 4760.00 1922500.00  SINGLE_FAMILY     Idaho           1516.00  \n",
       "459480 2120.00 1244500.00  SINGLE_FAMILY     Idaho           1516.00  \n",
       "459481 2680.00  829300.00  SINGLE_FAMILY     Idaho           1516.00  \n",
       "\n",
       "[459482 rows x 14 columns]"
      ]
     },
     "execution_count": 72,
     "metadata": {},
     "output_type": "execute_result"
    }
   ],
   "source": [
    "df"
   ]
  },
  {
   "cell_type": "markdown",
   "id": "148f664c",
   "metadata": {},
   "source": [
    "## Recommendation System\n",
    "\n"
   ]
  },
  {
   "cell_type": "markdown",
   "id": "ba91af70",
   "metadata": {},
   "source": [
    "### Cosine Similarity From Scratch"
   ]
  },
  {
   "cell_type": "markdown",
   "id": "2fdc8074",
   "metadata": {},
   "source": [
    "#### Based on starting and mid-career salaries\n"
   ]
  },
  {
   "cell_type": "markdown",
   "id": "819a2c17",
   "metadata": {},
   "source": [
    "A recommendation system is built based on cosine similarity of data about overall career salaries. The recommendation offers the 5 most similar wage patterns to Computer Science.\n"
   ]
  },
  {
   "cell_type": "markdown",
   "id": "22882260-3af4-42a8-ad43-86d8697e1171",
   "metadata": {
    "id": "22882260-3af4-42a8-ad43-86d8697e1171"
   },
   "source": [
    "With respect to careers, the dataset below uses salary data from the last 10 years in order to get a perspective on mid career salaries."
   ]
  },
  {
   "cell_type": "code",
   "execution_count": 75,
   "id": "0f2cefd0-6a81-4ec3-8899-ea747aff1b59",
   "metadata": {
    "colab": {
     "base_uri": "https://localhost:8080/",
     "height": 527
    },
    "id": "0f2cefd0-6a81-4ec3-8899-ea747aff1b59",
    "outputId": "c9618c75-f925-4edb-d956-891abdc9b003"
   },
   "outputs": [
    {
     "data": {
      "text/html": [
       "<div>\n",
       "<style scoped>\n",
       "    .dataframe tbody tr th:only-of-type {\n",
       "        vertical-align: middle;\n",
       "    }\n",
       "\n",
       "    .dataframe tbody tr th {\n",
       "        vertical-align: top;\n",
       "    }\n",
       "\n",
       "    .dataframe thead th {\n",
       "        text-align: right;\n",
       "    }\n",
       "</style>\n",
       "<table border=\"1\" class=\"dataframe\">\n",
       "  <thead>\n",
       "    <tr style=\"text-align: right;\">\n",
       "      <th></th>\n",
       "      <th>Starting Median Salary</th>\n",
       "      <th>Mid-Career Median Salary</th>\n",
       "      <th>Percent change from Starting to Mid-Career Salary</th>\n",
       "      <th>Mid-Career 10th Percentile Salary</th>\n",
       "      <th>Mid-Career 25th Percentile Salary</th>\n",
       "      <th>Mid-Career 75th Percentile Salary</th>\n",
       "      <th>Mid-Career 90th Percentile Salary</th>\n",
       "    </tr>\n",
       "    <tr>\n",
       "      <th>Undergraduate Major</th>\n",
       "      <th></th>\n",
       "      <th></th>\n",
       "      <th></th>\n",
       "      <th></th>\n",
       "      <th></th>\n",
       "      <th></th>\n",
       "      <th></th>\n",
       "    </tr>\n",
       "  </thead>\n",
       "  <tbody>\n",
       "    <tr>\n",
       "      <th>Aerospace Engineering</th>\n",
       "      <td>57700.00</td>\n",
       "      <td>101000.00</td>\n",
       "      <td>75.00</td>\n",
       "      <td>64300.00</td>\n",
       "      <td>82100.00</td>\n",
       "      <td>127000.00</td>\n",
       "      <td>161000.00</td>\n",
       "    </tr>\n",
       "    <tr>\n",
       "      <th>Health Care Administration</th>\n",
       "      <td>38800.00</td>\n",
       "      <td>60600.00</td>\n",
       "      <td>56.20</td>\n",
       "      <td>34600.00</td>\n",
       "      <td>45600.00</td>\n",
       "      <td>78800.00</td>\n",
       "      <td>101000.00</td>\n",
       "    </tr>\n",
       "    <tr>\n",
       "      <th>Computer Engineering</th>\n",
       "      <td>61400.00</td>\n",
       "      <td>105000.00</td>\n",
       "      <td>71.00</td>\n",
       "      <td>66100.00</td>\n",
       "      <td>84100.00</td>\n",
       "      <td>135000.00</td>\n",
       "      <td>162000.00</td>\n",
       "    </tr>\n",
       "    <tr>\n",
       "      <th>Electrical Engineering</th>\n",
       "      <td>60900.00</td>\n",
       "      <td>103000.00</td>\n",
       "      <td>69.10</td>\n",
       "      <td>69300.00</td>\n",
       "      <td>83800.00</td>\n",
       "      <td>130000.00</td>\n",
       "      <td>168000.00</td>\n",
       "    </tr>\n",
       "    <tr>\n",
       "      <th>Information Technology (IT)</th>\n",
       "      <td>49100.00</td>\n",
       "      <td>74800.00</td>\n",
       "      <td>52.30</td>\n",
       "      <td>44500.00</td>\n",
       "      <td>56700.00</td>\n",
       "      <td>96700.00</td>\n",
       "      <td>129000.00</td>\n",
       "    </tr>\n",
       "  </tbody>\n",
       "</table>\n",
       "</div>"
      ],
      "text/plain": [
       "                             Starting Median Salary  Mid-Career Median Salary  \\\n",
       "Undergraduate Major                                                             \n",
       "Aerospace Engineering                      57700.00                 101000.00   \n",
       "Health Care Administration                 38800.00                  60600.00   \n",
       "Computer Engineering                       61400.00                 105000.00   \n",
       "Electrical Engineering                     60900.00                 103000.00   \n",
       "Information Technology (IT)                49100.00                  74800.00   \n",
       "\n",
       "                             Percent change from Starting to Mid-Career Salary  \\\n",
       "Undergraduate Major                                                              \n",
       "Aerospace Engineering                                                    75.00   \n",
       "Health Care Administration                                               56.20   \n",
       "Computer Engineering                                                     71.00   \n",
       "Electrical Engineering                                                   69.10   \n",
       "Information Technology (IT)                                              52.30   \n",
       "\n",
       "                             Mid-Career 10th Percentile Salary  \\\n",
       "Undergraduate Major                                              \n",
       "Aerospace Engineering                                 64300.00   \n",
       "Health Care Administration                            34600.00   \n",
       "Computer Engineering                                  66100.00   \n",
       "Electrical Engineering                                69300.00   \n",
       "Information Technology (IT)                           44500.00   \n",
       "\n",
       "                             Mid-Career 25th Percentile Salary  \\\n",
       "Undergraduate Major                                              \n",
       "Aerospace Engineering                                 82100.00   \n",
       "Health Care Administration                            45600.00   \n",
       "Computer Engineering                                  84100.00   \n",
       "Electrical Engineering                                83800.00   \n",
       "Information Technology (IT)                           56700.00   \n",
       "\n",
       "                             Mid-Career 75th Percentile Salary  \\\n",
       "Undergraduate Major                                              \n",
       "Aerospace Engineering                                127000.00   \n",
       "Health Care Administration                            78800.00   \n",
       "Computer Engineering                                 135000.00   \n",
       "Electrical Engineering                               130000.00   \n",
       "Information Technology (IT)                           96700.00   \n",
       "\n",
       "                             Mid-Career 90th Percentile Salary  \n",
       "Undergraduate Major                                             \n",
       "Aerospace Engineering                                161000.00  \n",
       "Health Care Administration                           101000.00  \n",
       "Computer Engineering                                 162000.00  \n",
       "Electrical Engineering                               168000.00  \n",
       "Information Technology (IT)                          129000.00  "
      ]
     },
     "execution_count": 75,
     "metadata": {},
     "output_type": "execute_result"
    }
   ],
   "source": [
    "# 5 Majors Closest to Accounting Wage Wise For Career Estimates -- Computer Science\n",
    "x = df_degrees_over_career.iloc[13]\n",
    "db = df_degrees_over_career.drop(df_degrees_over_career.index[13]) # Make database of all users except user 1\n",
    "sims = db.apply(lambda y: (y.values*x.values).sum()/(np.sqrt((y**2).sum())*np.sqrt((x**2).sum())),axis=1)\n",
    "sorted_sims = sims.sort_values()[::-1]\n",
    "N=5\n",
    "userIds = sorted_sims.dropna().iloc[:N].index\n",
    "df_closest2010 = df_degrees_over_career.loc[userIds]\n",
    "df_closest2010"
   ]
  },
  {
   "cell_type": "code",
   "execution_count": 76,
   "id": "06935907-8831-4f2d-89e1-4d9c9498dd23",
   "metadata": {
    "colab": {
     "base_uri": "https://localhost:8080/",
     "height": 507
    },
    "id": "06935907-8831-4f2d-89e1-4d9c9498dd23",
    "outputId": "a4364241-e9e8-41df-f088-2c6eabb3e413"
   },
   "outputs": [
    {
     "data": {
      "text/html": [
       "<div>\n",
       "<style scoped>\n",
       "    .dataframe tbody tr th:only-of-type {\n",
       "        vertical-align: middle;\n",
       "    }\n",
       "\n",
       "    .dataframe tbody tr th {\n",
       "        vertical-align: top;\n",
       "    }\n",
       "\n",
       "    .dataframe thead th {\n",
       "        text-align: right;\n",
       "    }\n",
       "</style>\n",
       "<table border=\"1\" class=\"dataframe\">\n",
       "  <thead>\n",
       "    <tr style=\"text-align: right;\">\n",
       "      <th></th>\n",
       "      <th>Starting Median Salary</th>\n",
       "      <th>Percent change from Starting to Mid-Career Salary</th>\n",
       "      <th>Mid-Career 10th Percentile Salary</th>\n",
       "      <th>Mid-Career 25th Percentile Salary</th>\n",
       "      <th>Mid-Career 75th Percentile Salary</th>\n",
       "      <th>Mid-Career 90th Percentile Salary</th>\n",
       "    </tr>\n",
       "    <tr>\n",
       "      <th>Undergraduate Major</th>\n",
       "      <th></th>\n",
       "      <th></th>\n",
       "      <th></th>\n",
       "      <th></th>\n",
       "      <th></th>\n",
       "      <th></th>\n",
       "    </tr>\n",
       "  </thead>\n",
       "  <tbody>\n",
       "    <tr>\n",
       "      <th>Aerospace Engineering</th>\n",
       "      <td>57700.00</td>\n",
       "      <td>75.00</td>\n",
       "      <td>64300.00</td>\n",
       "      <td>82100.00</td>\n",
       "      <td>127000.00</td>\n",
       "      <td>161000.00</td>\n",
       "    </tr>\n",
       "    <tr>\n",
       "      <th>Health Care Administration</th>\n",
       "      <td>38800.00</td>\n",
       "      <td>56.20</td>\n",
       "      <td>34600.00</td>\n",
       "      <td>45600.00</td>\n",
       "      <td>78800.00</td>\n",
       "      <td>101000.00</td>\n",
       "    </tr>\n",
       "    <tr>\n",
       "      <th>Computer Engineering</th>\n",
       "      <td>61400.00</td>\n",
       "      <td>71.00</td>\n",
       "      <td>66100.00</td>\n",
       "      <td>84100.00</td>\n",
       "      <td>135000.00</td>\n",
       "      <td>162000.00</td>\n",
       "    </tr>\n",
       "    <tr>\n",
       "      <th>Electrical Engineering</th>\n",
       "      <td>60900.00</td>\n",
       "      <td>69.10</td>\n",
       "      <td>69300.00</td>\n",
       "      <td>83800.00</td>\n",
       "      <td>130000.00</td>\n",
       "      <td>168000.00</td>\n",
       "    </tr>\n",
       "    <tr>\n",
       "      <th>Information Technology (IT)</th>\n",
       "      <td>49100.00</td>\n",
       "      <td>52.30</td>\n",
       "      <td>44500.00</td>\n",
       "      <td>56700.00</td>\n",
       "      <td>96700.00</td>\n",
       "      <td>129000.00</td>\n",
       "    </tr>\n",
       "  </tbody>\n",
       "</table>\n",
       "</div>"
      ],
      "text/plain": [
       "                             Starting Median Salary  \\\n",
       "Undergraduate Major                                   \n",
       "Aerospace Engineering                      57700.00   \n",
       "Health Care Administration                 38800.00   \n",
       "Computer Engineering                       61400.00   \n",
       "Electrical Engineering                     60900.00   \n",
       "Information Technology (IT)                49100.00   \n",
       "\n",
       "                             Percent change from Starting to Mid-Career Salary  \\\n",
       "Undergraduate Major                                                              \n",
       "Aerospace Engineering                                                    75.00   \n",
       "Health Care Administration                                               56.20   \n",
       "Computer Engineering                                                     71.00   \n",
       "Electrical Engineering                                                   69.10   \n",
       "Information Technology (IT)                                              52.30   \n",
       "\n",
       "                             Mid-Career 10th Percentile Salary  \\\n",
       "Undergraduate Major                                              \n",
       "Aerospace Engineering                                 64300.00   \n",
       "Health Care Administration                            34600.00   \n",
       "Computer Engineering                                  66100.00   \n",
       "Electrical Engineering                                69300.00   \n",
       "Information Technology (IT)                           44500.00   \n",
       "\n",
       "                             Mid-Career 25th Percentile Salary  \\\n",
       "Undergraduate Major                                              \n",
       "Aerospace Engineering                                 82100.00   \n",
       "Health Care Administration                            45600.00   \n",
       "Computer Engineering                                  84100.00   \n",
       "Electrical Engineering                                83800.00   \n",
       "Information Technology (IT)                           56700.00   \n",
       "\n",
       "                             Mid-Career 75th Percentile Salary  \\\n",
       "Undergraduate Major                                              \n",
       "Aerospace Engineering                                127000.00   \n",
       "Health Care Administration                            78800.00   \n",
       "Computer Engineering                                 135000.00   \n",
       "Electrical Engineering                               130000.00   \n",
       "Information Technology (IT)                           96700.00   \n",
       "\n",
       "                             Mid-Career 90th Percentile Salary  \n",
       "Undergraduate Major                                             \n",
       "Aerospace Engineering                                161000.00  \n",
       "Health Care Administration                           101000.00  \n",
       "Computer Engineering                                 162000.00  \n",
       "Electrical Engineering                               168000.00  \n",
       "Information Technology (IT)                          129000.00  "
      ]
     },
     "execution_count": 76,
     "metadata": {},
     "output_type": "execute_result"
    }
   ],
   "source": [
    "# 5 Majors Closest to Accounting Wage Wise For Early Career Estimates -- Computer Science\n",
    "ec_df = df_degrees_over_career.drop(['Mid-Career Median Salary'], axis=1)\n",
    "\n",
    "x = ec_df.iloc[13]\n",
    "db = ec_df.drop(df_degrees_over_career.index[13]) # Make database of all users except user 1\n",
    "sims = db.apply(lambda y: (y.values*x.values).sum()/(np.sqrt((y**2).sum())*np.sqrt((x**2).sum())),axis=1)\n",
    "sorted_sims = sims.sort_values()[::-1]\n",
    "N=5\n",
    "userIds = sorted_sims.dropna().iloc[:N].index\n",
    "df_closest = ec_df.loc[userIds]\n",
    "df_closest"
   ]
  },
  {
   "cell_type": "code",
   "execution_count": 77,
   "id": "96cd5c8b-539d-485c-8690-f0fce378c6d5",
   "metadata": {
    "colab": {
     "base_uri": "https://localhost:8080/",
     "height": 507
    },
    "id": "96cd5c8b-539d-485c-8690-f0fce378c6d5",
    "outputId": "c5cf45c4-3577-4907-84c1-f5667898e5d6"
   },
   "outputs": [
    {
     "data": {
      "text/html": [
       "<div>\n",
       "<style scoped>\n",
       "    .dataframe tbody tr th:only-of-type {\n",
       "        vertical-align: middle;\n",
       "    }\n",
       "\n",
       "    .dataframe tbody tr th {\n",
       "        vertical-align: top;\n",
       "    }\n",
       "\n",
       "    .dataframe thead th {\n",
       "        text-align: right;\n",
       "    }\n",
       "</style>\n",
       "<table border=\"1\" class=\"dataframe\">\n",
       "  <thead>\n",
       "    <tr style=\"text-align: right;\">\n",
       "      <th></th>\n",
       "      <th>Mid-Career Median Salary</th>\n",
       "      <th>Percent change from Starting to Mid-Career Salary</th>\n",
       "      <th>Mid-Career 10th Percentile Salary</th>\n",
       "      <th>Mid-Career 25th Percentile Salary</th>\n",
       "      <th>Mid-Career 75th Percentile Salary</th>\n",
       "      <th>Mid-Career 90th Percentile Salary</th>\n",
       "    </tr>\n",
       "    <tr>\n",
       "      <th>Undergraduate Major</th>\n",
       "      <th></th>\n",
       "      <th></th>\n",
       "      <th></th>\n",
       "      <th></th>\n",
       "      <th></th>\n",
       "      <th></th>\n",
       "    </tr>\n",
       "  </thead>\n",
       "  <tbody>\n",
       "    <tr>\n",
       "      <th>Health Care Administration</th>\n",
       "      <td>60600.00</td>\n",
       "      <td>56.20</td>\n",
       "      <td>34600.00</td>\n",
       "      <td>45600.00</td>\n",
       "      <td>78800.00</td>\n",
       "      <td>101000.00</td>\n",
       "    </tr>\n",
       "    <tr>\n",
       "      <th>Aerospace Engineering</th>\n",
       "      <td>101000.00</td>\n",
       "      <td>75.00</td>\n",
       "      <td>64300.00</td>\n",
       "      <td>82100.00</td>\n",
       "      <td>127000.00</td>\n",
       "      <td>161000.00</td>\n",
       "    </tr>\n",
       "    <tr>\n",
       "      <th>Computer Engineering</th>\n",
       "      <td>105000.00</td>\n",
       "      <td>71.00</td>\n",
       "      <td>66100.00</td>\n",
       "      <td>84100.00</td>\n",
       "      <td>135000.00</td>\n",
       "      <td>162000.00</td>\n",
       "    </tr>\n",
       "    <tr>\n",
       "      <th>Electrical Engineering</th>\n",
       "      <td>103000.00</td>\n",
       "      <td>69.10</td>\n",
       "      <td>69300.00</td>\n",
       "      <td>83800.00</td>\n",
       "      <td>130000.00</td>\n",
       "      <td>168000.00</td>\n",
       "    </tr>\n",
       "    <tr>\n",
       "      <th>Information Technology (IT)</th>\n",
       "      <td>74800.00</td>\n",
       "      <td>52.30</td>\n",
       "      <td>44500.00</td>\n",
       "      <td>56700.00</td>\n",
       "      <td>96700.00</td>\n",
       "      <td>129000.00</td>\n",
       "    </tr>\n",
       "  </tbody>\n",
       "</table>\n",
       "</div>"
      ],
      "text/plain": [
       "                             Mid-Career Median Salary  \\\n",
       "Undergraduate Major                                     \n",
       "Health Care Administration                   60600.00   \n",
       "Aerospace Engineering                       101000.00   \n",
       "Computer Engineering                        105000.00   \n",
       "Electrical Engineering                      103000.00   \n",
       "Information Technology (IT)                  74800.00   \n",
       "\n",
       "                             Percent change from Starting to Mid-Career Salary  \\\n",
       "Undergraduate Major                                                              \n",
       "Health Care Administration                                               56.20   \n",
       "Aerospace Engineering                                                    75.00   \n",
       "Computer Engineering                                                     71.00   \n",
       "Electrical Engineering                                                   69.10   \n",
       "Information Technology (IT)                                              52.30   \n",
       "\n",
       "                             Mid-Career 10th Percentile Salary  \\\n",
       "Undergraduate Major                                              \n",
       "Health Care Administration                            34600.00   \n",
       "Aerospace Engineering                                 64300.00   \n",
       "Computer Engineering                                  66100.00   \n",
       "Electrical Engineering                                69300.00   \n",
       "Information Technology (IT)                           44500.00   \n",
       "\n",
       "                             Mid-Career 25th Percentile Salary  \\\n",
       "Undergraduate Major                                              \n",
       "Health Care Administration                            45600.00   \n",
       "Aerospace Engineering                                 82100.00   \n",
       "Computer Engineering                                  84100.00   \n",
       "Electrical Engineering                                83800.00   \n",
       "Information Technology (IT)                           56700.00   \n",
       "\n",
       "                             Mid-Career 75th Percentile Salary  \\\n",
       "Undergraduate Major                                              \n",
       "Health Care Administration                            78800.00   \n",
       "Aerospace Engineering                                127000.00   \n",
       "Computer Engineering                                 135000.00   \n",
       "Electrical Engineering                               130000.00   \n",
       "Information Technology (IT)                           96700.00   \n",
       "\n",
       "                             Mid-Career 90th Percentile Salary  \n",
       "Undergraduate Major                                             \n",
       "Health Care Administration                           101000.00  \n",
       "Aerospace Engineering                                161000.00  \n",
       "Computer Engineering                                 162000.00  \n",
       "Electrical Engineering                               168000.00  \n",
       "Information Technology (IT)                          129000.00  "
      ]
     },
     "execution_count": 77,
     "metadata": {},
     "output_type": "execute_result"
    }
   ],
   "source": [
    "# 5 Majors Closest to Accounting Wage Wise For Late Career Estimates -- Computer Science\n",
    "ec_df = df_degrees_over_career.drop(['Starting Median Salary'], axis=1)\n",
    "x = ec_df.iloc[13]\n",
    "db = ec_df.drop(df_degrees_over_career.index[13]) # Make database of all users except user 1\n",
    "sims = db.apply(lambda y: (y.values*x.values).sum()/(np.sqrt((y**2).sum())*np.sqrt((x**2).sum())),axis=1)\n",
    "sorted_sims = sims.sort_values()[::-1]\n",
    "N=5\n",
    "userIds = sorted_sims.dropna().iloc[:N].index\n",
    "df_closest = ec_df.loc[userIds]\n",
    "df_closest"
   ]
  },
  {
   "cell_type": "markdown",
   "id": "0ef50ee2-c5a6-4bba-ae52-2fbae60723cd",
   "metadata": {
    "id": "0ef50ee2-c5a6-4bba-ae52-2fbae60723cd"
   },
   "source": [
    "When building the recommendation system, the overall recommendartions shared Aerospace Engineering, Health Care Administration, Computer Engineering, Electrical Engineering, Information Technology (IT). The conditions of only considering early or mid career salary altered the positions of each.\n",
    "\n",
    "These values may have some error with respect to computer science as a field since the career scope has boosted and likely many computer science majors make more now than 10 years ago.\n",
    "\n",
    "To see this, let's run some more cosine similarity on more recent Cal Poly graduate data."
   ]
  },
  {
   "cell_type": "markdown",
   "id": "ea75a05a",
   "metadata": {},
   "source": [
    "#### Recommendations based on Cal Poly Salaries"
   ]
  },
  {
   "cell_type": "code",
   "execution_count": 78,
   "id": "92e63105-ebb9-49de-a693-12222f01f47f",
   "metadata": {
    "id": "92e63105-ebb9-49de-a693-12222f01f47f"
   },
   "outputs": [],
   "source": [
    "df_major_salary = df_major_salary\n",
    "for col in list(df_major_salary):\n",
    "    if col == 'Employment Rate\\xa0':\n",
    "        df_major_salary[col] = df_major_salary[col].str.strip('%')\n",
    "        # df_major_salary[col]  = df_major_salary[col].astype(int)\n",
    "        # df_major_salary[col] = int(df_major_salary[col])\n",
    "    elif col in ['Median Debt',\t'Median Salary']:\n",
    "        df_major_salary[col] = df_major_salary[col].str.strip('$')\n",
    "        df_major_salary[col] = df_major_salary[col].str.replace(',', '')\n",
    "        # df_major_salary[col] = df_major_salary[col].astype(int)\n",
    "df_major_salary['Degree Type'].replace('B', 0 ,inplace=True)\n",
    "df_major_salary['Degree Type'].replace('M', 1 ,inplace=True)\n",
    "    "
   ]
  },
  {
   "cell_type": "code",
   "execution_count": 79,
   "id": "3237b7a6-91dd-417d-9d69-709b0fef04c5",
   "metadata": {
    "id": "3237b7a6-91dd-417d-9d69-709b0fef04c5"
   },
   "outputs": [],
   "source": [
    "df_major_salary2 = df_major_salary.drop(['Field of Study\\xa0','Median Debt', 'Salary Score\\xa0'], axis=1)\n",
    "for col in list(df_major_salary2):\n",
    "    df_major_salary2[col] = df_major_salary2[col].astype(int)"
   ]
  },
  {
   "cell_type": "code",
   "execution_count": 80,
   "id": "b73d753b-ec98-41df-bd42-74da4a601869",
   "metadata": {
    "colab": {
     "base_uri": "https://localhost:8080/",
     "height": 337
    },
    "id": "b73d753b-ec98-41df-bd42-74da4a601869",
    "outputId": "e6068420-db8d-4824-88ad-b479a8e1045e"
   },
   "outputs": [
    {
     "data": {
      "text/html": [
       "<div>\n",
       "<style scoped>\n",
       "    .dataframe tbody tr th:only-of-type {\n",
       "        vertical-align: middle;\n",
       "    }\n",
       "\n",
       "    .dataframe tbody tr th {\n",
       "        vertical-align: top;\n",
       "    }\n",
       "\n",
       "    .dataframe thead th {\n",
       "        text-align: right;\n",
       "    }\n",
       "</style>\n",
       "<table border=\"1\" class=\"dataframe\">\n",
       "  <thead>\n",
       "    <tr style=\"text-align: right;\">\n",
       "      <th></th>\n",
       "      <th>Field of Study</th>\n",
       "      <th>Employment Rate</th>\n",
       "      <th>Median Debt</th>\n",
       "      <th>Median Salary</th>\n",
       "      <th>Salary Score</th>\n",
       "      <th>Degree Type</th>\n",
       "    </tr>\n",
       "  </thead>\n",
       "  <tbody>\n",
       "    <tr>\n",
       "      <th>62</th>\n",
       "      <td>Electrical, Electronics and Communications Eng...</td>\n",
       "      <td>100</td>\n",
       "      <td>Not Reported</td>\n",
       "      <td>104750</td>\n",
       "      <td>78</td>\n",
       "      <td>1</td>\n",
       "    </tr>\n",
       "    <tr>\n",
       "      <th>52</th>\n",
       "      <td>Aerospace, Aeronautical and Astronautical Engi...</td>\n",
       "      <td>92</td>\n",
       "      <td>Not Reported</td>\n",
       "      <td>94410</td>\n",
       "      <td>72</td>\n",
       "      <td>1</td>\n",
       "    </tr>\n",
       "    <tr>\n",
       "      <th>17</th>\n",
       "      <td>Computer Engineering</td>\n",
       "      <td>95</td>\n",
       "      <td>21500</td>\n",
       "      <td>95030</td>\n",
       "      <td>97</td>\n",
       "      <td>0</td>\n",
       "    </tr>\n",
       "    <tr>\n",
       "      <th>64</th>\n",
       "      <td>Fire Protection</td>\n",
       "      <td>93</td>\n",
       "      <td>Not Reported</td>\n",
       "      <td>93080</td>\n",
       "      <td>76</td>\n",
       "      <td>1</td>\n",
       "    </tr>\n",
       "    <tr>\n",
       "      <th>65</th>\n",
       "      <td>Mechanical Engineering</td>\n",
       "      <td>100</td>\n",
       "      <td>Not Reported</td>\n",
       "      <td>99520</td>\n",
       "      <td>96</td>\n",
       "      <td>1</td>\n",
       "    </tr>\n",
       "  </tbody>\n",
       "</table>\n",
       "</div>"
      ],
      "text/plain": [
       "                                      Field of Study  Employment Rate   \\\n",
       "62  Electrical, Electronics and Communications Eng...              100   \n",
       "52  Aerospace, Aeronautical and Astronautical Engi...               92   \n",
       "17                               Computer Engineering               95   \n",
       "64                                    Fire Protection               93   \n",
       "65                             Mechanical Engineering              100   \n",
       "\n",
       "     Median Debt Median Salary Salary Score   Degree Type  \n",
       "62  Not Reported       104750             78            1  \n",
       "52  Not Reported        94410             72            1  \n",
       "17        21500         95030             97            0  \n",
       "64  Not Reported        93080             76            1  \n",
       "65  Not Reported        99520             96            1  "
      ]
     },
     "execution_count": 80,
     "metadata": {},
     "output_type": "execute_result"
    }
   ],
   "source": [
    "ec_df = df_major_salary2\n",
    "x = ec_df.iloc[16]\n",
    "x.values\n",
    "db = ec_df.drop(ec_df.index[16]) # Make database of all users except user 1\n",
    "sims = db.apply(lambda y: (y.values*x.values).sum()/(np.sqrt((y**2).sum())*np.sqrt((x**2).sum())),axis=1)\n",
    "sorted_sims = sims.sort_values()[::-1]\n",
    "N=5\n",
    "userIds = sorted_sims.dropna().iloc[:N].index\n",
    "df_closest2020 = df_major_salary.loc[userIds]\n",
    "df_closest2020\n"
   ]
  },
  {
   "cell_type": "markdown",
   "id": "33bec61e-f68e-407c-980a-ca672f6359e9",
   "metadata": {
    "id": "33bec61e-f68e-407c-980a-ca672f6359e9"
   },
   "source": [
    "Looking at more recent data, we see a more coherent group of similar majors career wise. This shows an interesting development of how much CS majors make over the last decade or so, as well as how the career fields have entered a more traditional expectation of income.\n",
    "\n",
    "To test the manual implementation against a package, we have also ran this same recommendation query through a few packages."
   ]
  },
  {
   "cell_type": "markdown",
   "id": "9faa0db2",
   "metadata": {},
   "source": [
    "### Recommendation System using Sklearn Implementation"
   ]
  },
  {
   "cell_type": "code",
   "execution_count": 81,
   "id": "953c7ad5-1803-4f40-a027-55c256293f2d",
   "metadata": {
    "id": "953c7ad5-1803-4f40-a027-55c256293f2d"
   },
   "outputs": [],
   "source": [
    "import sklearn.metrics.pairwise as sk\n",
    "x = pd.DataFrame(x).T\n",
    "similarities = sk.cosine_similarity(x, df_major_salary2)"
   ]
  },
  {
   "cell_type": "code",
   "execution_count": 82,
   "id": "vIMjoavfMcBa",
   "metadata": {
    "id": "vIMjoavfMcBa"
   },
   "outputs": [],
   "source": [
    "similarity_vals = list(similarities[0])"
   ]
  },
  {
   "cell_type": "code",
   "execution_count": 83,
   "id": "jXYaSoTsNHDc",
   "metadata": {
    "colab": {
     "base_uri": "https://localhost:8080/",
     "height": 337
    },
    "id": "jXYaSoTsNHDc",
    "outputId": "2167fe9e-fa34-4567-eb96-597cafbb8876"
   },
   "outputs": [
    {
     "data": {
      "text/html": [
       "<div>\n",
       "<style scoped>\n",
       "    .dataframe tbody tr th:only-of-type {\n",
       "        vertical-align: middle;\n",
       "    }\n",
       "\n",
       "    .dataframe tbody tr th {\n",
       "        vertical-align: top;\n",
       "    }\n",
       "\n",
       "    .dataframe thead th {\n",
       "        text-align: right;\n",
       "    }\n",
       "</style>\n",
       "<table border=\"1\" class=\"dataframe\">\n",
       "  <thead>\n",
       "    <tr style=\"text-align: right;\">\n",
       "      <th></th>\n",
       "      <th>Field of Study</th>\n",
       "      <th>Employment Rate</th>\n",
       "      <th>Median Debt</th>\n",
       "      <th>Median Salary</th>\n",
       "      <th>Salary Score</th>\n",
       "      <th>Degree Type</th>\n",
       "    </tr>\n",
       "  </thead>\n",
       "  <tbody>\n",
       "    <tr>\n",
       "      <th>62</th>\n",
       "      <td>Electrical, Electronics and Communications Eng...</td>\n",
       "      <td>100</td>\n",
       "      <td>Not Reported</td>\n",
       "      <td>104750</td>\n",
       "      <td>78</td>\n",
       "      <td>1</td>\n",
       "    </tr>\n",
       "    <tr>\n",
       "      <th>52</th>\n",
       "      <td>Aerospace, Aeronautical and Astronautical Engi...</td>\n",
       "      <td>92</td>\n",
       "      <td>Not Reported</td>\n",
       "      <td>94410</td>\n",
       "      <td>72</td>\n",
       "      <td>1</td>\n",
       "    </tr>\n",
       "    <tr>\n",
       "      <th>17</th>\n",
       "      <td>Computer Engineering</td>\n",
       "      <td>95</td>\n",
       "      <td>21500</td>\n",
       "      <td>95030</td>\n",
       "      <td>97</td>\n",
       "      <td>0</td>\n",
       "    </tr>\n",
       "    <tr>\n",
       "      <th>64</th>\n",
       "      <td>Fire Protection</td>\n",
       "      <td>93</td>\n",
       "      <td>Not Reported</td>\n",
       "      <td>93080</td>\n",
       "      <td>76</td>\n",
       "      <td>1</td>\n",
       "    </tr>\n",
       "    <tr>\n",
       "      <th>65</th>\n",
       "      <td>Mechanical Engineering</td>\n",
       "      <td>100</td>\n",
       "      <td>Not Reported</td>\n",
       "      <td>99520</td>\n",
       "      <td>96</td>\n",
       "      <td>1</td>\n",
       "    </tr>\n",
       "  </tbody>\n",
       "</table>\n",
       "</div>"
      ],
      "text/plain": [
       "                                      Field of Study  Employment Rate   \\\n",
       "62  Electrical, Electronics and Communications Eng...              100   \n",
       "52  Aerospace, Aeronautical and Astronautical Engi...               92   \n",
       "17                               Computer Engineering               95   \n",
       "64                                    Fire Protection               93   \n",
       "65                             Mechanical Engineering              100   \n",
       "\n",
       "     Median Debt Median Salary Salary Score  Degree Type  \n",
       "62  Not Reported       104750             78           1  \n",
       "52  Not Reported        94410             72           1  \n",
       "17        21500         95030             97           0  \n",
       "64  Not Reported        93080             76           1  \n",
       "65  Not Reported        99520             96           1  "
      ]
     },
     "execution_count": 83,
     "metadata": {},
     "output_type": "execute_result"
    }
   ],
   "source": [
    "skrecs = pd.DataFrame(df_major_salary.iloc[16])\n",
    "skrecs = skrecs.T\n",
    "\n",
    "import heapq\n",
    "input_list = similarity_vals\n",
    "number_of_elements = 6\n",
    "inds = []\n",
    "for val in heapq.nlargest(number_of_elements, input_list):\n",
    "    inds.append(similarity_vals.index(val))\n",
    "inds\n",
    "\n",
    "for i in inds:\n",
    "    newskrec = pd.DataFrame(df_major_salary.loc[i]).T\n",
    "    skrecs = pd.concat([skrecs,newskrec])\n",
    "skrecs = skrecs.drop(index = (16))\n",
    "skrecs\n",
    "\n",
    "\n",
    "\n"
   ]
  },
  {
   "cell_type": "markdown",
   "id": "hv1S-_-qXCmh",
   "metadata": {
    "id": "hv1S-_-qXCmh"
   },
   "source": [
    "Via Sklearn, we have validated that the manual recommendations are accurate since we got identical results. Regardless, the recommendations for similar careers based on majors varies drastically depending on what data an entity is using. In addition, collaborative filtering can use a variety of different distance metrics, and results may not be the same. \n"
   ]
  },
  {
   "cell_type": "code",
   "execution_count": 84,
   "id": "6uolaCrQerCS",
   "metadata": {
    "colab": {
     "base_uri": "https://localhost:8080/",
     "height": 337
    },
    "id": "6uolaCrQerCS",
    "outputId": "3e053b49-0786-4bb7-c3b9-2bca4b8af065"
   },
   "outputs": [
    {
     "data": {
      "text/html": [
       "<div>\n",
       "<style scoped>\n",
       "    .dataframe tbody tr th:only-of-type {\n",
       "        vertical-align: middle;\n",
       "    }\n",
       "\n",
       "    .dataframe tbody tr th {\n",
       "        vertical-align: top;\n",
       "    }\n",
       "\n",
       "    .dataframe thead th {\n",
       "        text-align: right;\n",
       "    }\n",
       "</style>\n",
       "<table border=\"1\" class=\"dataframe\">\n",
       "  <thead>\n",
       "    <tr style=\"text-align: right;\">\n",
       "      <th></th>\n",
       "      <th>Field of Study</th>\n",
       "      <th>Employment Rate</th>\n",
       "      <th>Median Debt</th>\n",
       "      <th>Median Salary</th>\n",
       "      <th>Salary Score</th>\n",
       "      <th>Degree Type</th>\n",
       "    </tr>\n",
       "  </thead>\n",
       "  <tbody>\n",
       "    <tr>\n",
       "      <th>61</th>\n",
       "      <td>Education, General</td>\n",
       "      <td>100</td>\n",
       "      <td>20000</td>\n",
       "      <td>51830</td>\n",
       "      <td>57</td>\n",
       "      <td>1</td>\n",
       "    </tr>\n",
       "    <tr>\n",
       "      <th>64</th>\n",
       "      <td>Fire Protection</td>\n",
       "      <td>93</td>\n",
       "      <td>Not Reported</td>\n",
       "      <td>93080</td>\n",
       "      <td>76</td>\n",
       "      <td>1</td>\n",
       "    </tr>\n",
       "    <tr>\n",
       "      <th>51</th>\n",
       "      <td>Accounting and Related Services</td>\n",
       "      <td>100</td>\n",
       "      <td>Not Reported</td>\n",
       "      <td>71730</td>\n",
       "      <td>96</td>\n",
       "      <td>1</td>\n",
       "    </tr>\n",
       "    <tr>\n",
       "      <th>63</th>\n",
       "      <td>Engineering, General</td>\n",
       "      <td>90</td>\n",
       "      <td>Not Reported</td>\n",
       "      <td>80020</td>\n",
       "      <td>30</td>\n",
       "      <td>1</td>\n",
       "    </tr>\n",
       "    <tr>\n",
       "      <th>53</th>\n",
       "      <td>Agriculture, General</td>\n",
       "      <td>100</td>\n",
       "      <td>Not Reported</td>\n",
       "      <td>71580</td>\n",
       "      <td>97</td>\n",
       "      <td>1</td>\n",
       "    </tr>\n",
       "  </tbody>\n",
       "</table>\n",
       "</div>"
      ],
      "text/plain": [
       "                    Field of Study  Employment Rate    Median Debt  \\\n",
       "61               Education, General              100        20000    \n",
       "64                  Fire Protection               93  Not Reported   \n",
       "51  Accounting and Related Services              100  Not Reported   \n",
       "63             Engineering, General               90  Not Reported   \n",
       "53             Agriculture, General              100  Not Reported   \n",
       "\n",
       "   Median Salary Salary Score  Degree Type  \n",
       "61        51830             57           1  \n",
       "64        93080             76           1  \n",
       "51        71730             96           1  \n",
       "63        80020             30           1  \n",
       "53        71580             97           1  "
      ]
     },
     "execution_count": 84,
     "metadata": {},
     "output_type": "execute_result"
    }
   ],
   "source": [
    "from sklearn.metrics.pairwise import euclidean_distances\n",
    "ec_df = df_major_salary2\n",
    "ec_df\n",
    "x = ec_df.iloc[16]\n",
    "x\n",
    "db = ec_df.drop(ec_df.index[16])\n",
    "db\n",
    "dist = []\n",
    "for row in db.index:\n",
    "  y = db.loc[row]\n",
    "  p1 = np.sum([(a * a) for a in x])\n",
    "  p2 = np.sum([(b * b) for b in y])\n",
    "  p3 = -1 * np.sum([(2 * a*b) for (a, b) in zip(x, y)])\n",
    "  dist.append(np.sqrt(np.sum(p1 + p2 + p3)))\n",
    "\n",
    "## getting min indexes\n",
    "input_list = dist\n",
    "number_of_elements = 6\n",
    "inds = []\n",
    "for val in heapq.nsmallest(number_of_elements, input_list):\n",
    "  inds.append(dist.index(val))\n",
    "inds\n",
    "\n",
    "# Create new DF\n",
    "eurecs = pd.DataFrame(df_major_salary.iloc[16])\n",
    "eurecs = eurecs.T\n",
    "\n",
    "for i in inds:\n",
    "  neweurec = pd.DataFrame(df_major_salary.loc[i]).T\n",
    "  eurecs = pd.concat([eurecs,neweurec])\n",
    "eurecs = eurecs.drop(index = (16))\n",
    "eurecs\n"
   ]
  },
  {
   "cell_type": "code",
   "execution_count": 85,
   "id": "58323882-5227-4884-a4d1-38e8a3bcc20b",
   "metadata": {},
   "outputs": [
    {
     "data": {
      "text/plain": [
       "Employment Rate         99\n",
       "Median Salary       109390\n",
       "Degree Type              0\n",
       "Name: 16, dtype: int64"
      ]
     },
     "execution_count": 85,
     "metadata": {},
     "output_type": "execute_result"
    }
   ],
   "source": [
    "x"
   ]
  },
  {
   "cell_type": "markdown",
   "id": "jJl3foEChoyA",
   "metadata": {
    "id": "jJl3foEChoyA"
   },
   "source": [
    "Definitely differs the results. (Perhaps this goes to show how you shouldn't just trust one Buzzfeed Quiz to determine where to move to, because who knows how they calculate that stuff!)\n",
    "\n",
    "Either way, according to Baeldung, a data science website, \"Some tasks, such as preliminary data analysis, benefit from both metrics; each of them allows the extraction of different insights on the structure of the data. Others, such as text classification, generally function better under Euclidean distances. Some more, such as retrieval of the most similar texts to a given document, generally function better with cosine similarity\"\n",
    "\n",
    "Both metrics provide valuable insight, but for our purposes, cosine similarity seems to offer a more logical result."
   ]
  },
  {
   "cell_type": "code",
   "execution_count": 86,
   "id": "PnWCQl0AXsZi",
   "metadata": {
    "colab": {
     "base_uri": "https://localhost:8080/"
    },
    "id": "PnWCQl0AXsZi",
    "outputId": "4c73ee85-3f92-4d83-9367-d741e1bd471c"
   },
   "outputs": [
    {
     "name": "stderr",
     "output_type": "stream",
     "text": [
      "/tmp/ipykernel_580637/1943182133.py:6: SettingWithCopyWarning: \n",
      "A value is trying to be set on a copy of a slice from a DataFrame.\n",
      "Try using .loc[row_indexer,col_indexer] = value instead\n",
      "\n",
      "See the caveats in the documentation: https://pandas.pydata.org/pandas-docs/stable/user_guide/indexing.html#returning-a-view-versus-a-copy\n",
      "  skrecs2['Median Salary'] = skrecs2['Median Salary'].astype(int)\n",
      "/tmp/ipykernel_580637/1943182133.py:7: SettingWithCopyWarning: \n",
      "A value is trying to be set on a copy of a slice from a DataFrame.\n",
      "Try using .loc[row_indexer,col_indexer] = value instead\n",
      "\n",
      "See the caveats in the documentation: https://pandas.pydata.org/pandas-docs/stable/user_guide/indexing.html#returning-a-view-versus-a-copy\n",
      "  eurecs2['Median Salary'] = eurecs2['Median Salary'].astype(int)\n"
     ]
    }
   ],
   "source": [
    "import matplotlib.pyplot as plt\n",
    "import numpy as np\n",
    "eurecs2 =  eurecs[['Field of Study\\xa0','Median Salary']]\n",
    "skrecs2 = skrecs[['Field of Study\\xa0','Median Salary']]\n",
    "\n",
    "skrecs2['Median Salary'] = skrecs2['Median Salary'].astype(int)\n",
    "eurecs2['Median Salary'] = eurecs2['Median Salary'].astype(int)"
   ]
  },
  {
   "cell_type": "code",
   "execution_count": 87,
   "id": "hlEIir61j3Bi",
   "metadata": {
    "colab": {
     "base_uri": "https://localhost:8080/",
     "height": 581
    },
    "id": "hlEIir61j3Bi",
    "outputId": "d655343c-b842-4c9e-c113-af95674c1cac"
   },
   "outputs": [
    {
     "data": {
      "text/plain": [
       "Text(0.5, 1.0, 'Cosine Similarity 5 Most Similar Salaries to Computer Science')"
      ]
     },
     "execution_count": 87,
     "metadata": {},
     "output_type": "execute_result"
    },
    {
     "data": {
      "image/png": "[encoded data removed]",
      "text/plain": [
       "<Figure size 720x720 with 1 Axes>"
      ]
     },
     "metadata": {
      "needs_background": "light"
     },
     "output_type": "display_data"
    }
   ],
   "source": [
    "# Plotting the Recommended based on the two distances\n",
    "ax = skrecs2.plot.bar(x='Field of Study\\xa0',  y='Median Salary', title = 'Cosine Similarity 5 Most Similar Salaries to Computer Science', color=['red','red','red','blue','red'], legend=False, ylabel='Median Salary',fontsize=16, figsize=(10,10))\n",
    "ax.set_xlabel('Major', fontsize=20)\n",
    "ax.set_ylabel('Median Salary', fontsize=20)   # relative to plt.rcParams['font.size']\n",
    "ax.set_title('Cosine Similarity 5 Most Similar Salaries to Computer Science', fontsize = 25)\n"
   ]
  },
  {
   "cell_type": "code",
   "execution_count": 88,
   "id": "4X4ZbjYqkh_1",
   "metadata": {
    "colab": {
     "base_uri": "https://localhost:8080/",
     "height": 467
    },
    "id": "4X4ZbjYqkh_1",
    "outputId": "68376ac9-f7db-494a-aec8-d723768ef03d"
   },
   "outputs": [
    {
     "data": {
      "text/plain": [
       "Text(0.5, 1.0, 'Euclidean Distance 5 Most Similar Salaries to Computer Science')"
      ]
     },
     "execution_count": 88,
     "metadata": {},
     "output_type": "execute_result"
    },
    {
     "data": {
      "image/png": "[encoded data removed]",
      "text/plain": [
       "<Figure size 720x1080 with 1 Axes>"
      ]
     },
     "metadata": {
      "needs_background": "light"
     },
     "output_type": "display_data"
    }
   ],
   "source": [
    "ax = eurecs2.plot.bar(x='Field of Study\\xa0', y='Median Salary', color=['red','blue','green','red','green'], legend=False, fontsize=16, figsize=(10,15))\n",
    "ax.set_xlabel('Major', fontsize=20)\n",
    "ax.set_ylabel('Median Salary', fontsize=20)   # relative to plt.rcParams['font.size']\n",
    "ax.set_title('Euclidean Distance 5 Most Similar Salaries to Computer Science', fontsize = 25)\n"
   ]
  },
  {
   "cell_type": "markdown",
   "id": "vwKi5yRfDdVy",
   "metadata": {
    "id": "vwKi5yRfDdVy"
   },
   "source": [
    "Functioning on the false assumption that houses cost similarly now to how they did in 2008 for when the mid-career salary data was collected, we now aim to use the salary data to see what kind of housing is feasible for computer science majors dependent on whether they are at mid-career having graduated in the late 90s, or if they are recent grads.\n",
    "\n",
    "As a reminder, we added a column to the housing dataset with the average mortgage in the state that which the house is being sold. This may not be 100% accurate, but using the averages may give an loose perspective on what one can expect to say.\n",
    "\n",
    "Sources:<br>\n",
    "https://www.bankrate.com/mortgages/average-monthly-mortgage-payment/#region\n",
    "\n",
    "https://www.chase.com/personal/mortgage/education/financing-a-home/what-percentage-income-towards-mortgage#:~:text=The%2028%25%20rule%20states%20that,monthly%20gross%20income%20by%2028%25."
   ]
  },
  {
   "cell_type": "code",
   "execution_count": 108,
   "id": "yLHCf8eX12k6",
   "metadata": {
    "id": "yLHCf8eX12k6"
   },
   "outputs": [],
   "source": [
    "ec_df = df_major_salary2\n",
    "ec_df\n",
    "x = ec_df.iloc[16]"
   ]
  },
  {
   "cell_type": "code",
   "execution_count": 109,
   "id": "FvQOI32yInKq",
   "metadata": {
    "id": "FvQOI32yInKq"
   },
   "outputs": [],
   "source": [
    "x2008 = df_degrees_over_career.iloc[13]"
   ]
  },
  {
   "cell_type": "code",
   "execution_count": 110,
   "id": "6DVJxCFqJ_Mz",
   "metadata": {
    "colab": {
     "base_uri": "https://localhost:8080/"
    },
    "id": "6DVJxCFqJ_Mz",
    "outputId": "8a7d0315-ed01-41b9-cb07-4bbfa4b781e2"
   },
   "outputs": [
    {
     "data": {
      "text/plain": [
       "0.9999838179846918"
      ]
     },
     "execution_count": 110,
     "metadata": {},
     "output_type": "execute_result"
    }
   ],
   "source": [
    "df_now = df_homes[df_homes['Average Mortgage'] <= (x['Median Salary']*.28)/12]\n",
    "len(df_now)/len(df_homes)"
   ]
  },
  {
   "cell_type": "code",
   "execution_count": 111,
   "id": "6MVBScQ1KHcO",
   "metadata": {
    "colab": {
     "base_uri": "https://localhost:8080/"
    },
    "id": "6MVBScQ1KHcO",
    "outputId": "fc26e3c1-0dec-4847-c9b1-4512c18afdef"
   },
   "outputs": [
    {
     "data": {
      "text/plain": [
       "0.9999838179846918"
      ]
     },
     "execution_count": 111,
     "metadata": {},
     "output_type": "execute_result"
    }
   ],
   "source": [
    "df_then = df_homes[df_homes['Average Mortgage'] <= (x2008['Mid-Career Median Salary']*.28)/12]\n",
    "len(df_then)/len(df_homes)"
   ]
  },
  {
   "cell_type": "code",
   "execution_count": 112,
   "id": "fea64f74-106e-41dd-8005-dab1452f5ead",
   "metadata": {},
   "outputs": [
    {
     "data": {
      "text/html": [
       "<div>\n",
       "<style scoped>\n",
       "    .dataframe tbody tr th:only-of-type {\n",
       "        vertical-align: middle;\n",
       "    }\n",
       "\n",
       "    .dataframe tbody tr th {\n",
       "        vertical-align: top;\n",
       "    }\n",
       "\n",
       "    .dataframe thead th {\n",
       "        text-align: right;\n",
       "    }\n",
       "</style>\n",
       "<table border=\"1\" class=\"dataframe\">\n",
       "  <thead>\n",
       "    <tr style=\"text-align: right;\">\n",
       "      <th></th>\n",
       "      <th>Then</th>\n",
       "      <th>Now</th>\n",
       "    </tr>\n",
       "  </thead>\n",
       "  <tbody>\n",
       "    <tr>\n",
       "      <th>count</th>\n",
       "      <td>61796.00</td>\n",
       "      <td>61796.00</td>\n",
       "    </tr>\n",
       "    <tr>\n",
       "      <th>mean</th>\n",
       "      <td>775338.39</td>\n",
       "      <td>775338.39</td>\n",
       "    </tr>\n",
       "    <tr>\n",
       "      <th>std</th>\n",
       "      <td>2119185.27</td>\n",
       "      <td>2119185.27</td>\n",
       "    </tr>\n",
       "    <tr>\n",
       "      <th>min</th>\n",
       "      <td>10400.00</td>\n",
       "      <td>10400.00</td>\n",
       "    </tr>\n",
       "    <tr>\n",
       "      <th>25%</th>\n",
       "      <td>247100.00</td>\n",
       "      <td>247100.00</td>\n",
       "    </tr>\n",
       "    <tr>\n",
       "      <th>50%</th>\n",
       "      <td>406100.00</td>\n",
       "      <td>406100.00</td>\n",
       "    </tr>\n",
       "    <tr>\n",
       "      <th>75%</th>\n",
       "      <td>720500.00</td>\n",
       "      <td>720500.00</td>\n",
       "    </tr>\n",
       "    <tr>\n",
       "      <th>max</th>\n",
       "      <td>143537900.00</td>\n",
       "      <td>143537900.00</td>\n",
       "    </tr>\n",
       "  </tbody>\n",
       "</table>\n",
       "</div>"
      ],
      "text/plain": [
       "              Then          Now\n",
       "count     61796.00     61796.00\n",
       "mean     775338.39    775338.39\n",
       "std     2119185.27   2119185.27\n",
       "min       10400.00     10400.00\n",
       "25%      247100.00    247100.00\n",
       "50%      406100.00    406100.00\n",
       "75%      720500.00    720500.00\n",
       "max   143537900.00 143537900.00"
      ]
     },
     "execution_count": 112,
     "metadata": {},
     "output_type": "execute_result"
    }
   ],
   "source": [
    "# df_desc = df_then.describe().rename(columns={\"Average Mortgage\": \"a\"\n",
    "# df_desc['Now'] = df_now.describe()\n",
    "# df_desc\n",
    "pd.set_option('float_format', '{:.2f}'.format)\n",
    "dfcs = pd.DataFrame(df_then['zestimate'].astype(float).describe())\n",
    "dfcs = dfcs.rename(columns={\"zestimate\": \"Then\"})\n",
    "dfcs['Now'] = df_now['zestimate'].astype(float).describe()\n",
    "dfcs"
   ]
  },
  {
   "cell_type": "code",
   "execution_count": 113,
   "id": "d44219df-6eb3-4652-8d1b-264af46fcaa9",
   "metadata": {},
   "outputs": [
    {
     "data": {
      "text/plain": [
       "Texas                   13354\n",
       "California              11357\n",
       "Florida                  4958\n",
       "Georgia                  2211\n",
       "Louisiana                2152\n",
       "New York                 1858\n",
       "Arizona                  1739\n",
       "Pennsylvania             1736\n",
       "Kentucky                 1580\n",
       "Oregon                   1524\n",
       "Illinois                 1489\n",
       "North Carolina           1378\n",
       "Washington               1349\n",
       "Nevada                   1307\n",
       "Michigan                 1291\n",
       "Missouri                 1090\n",
       "Nebraska                  968\n",
       "Wisconsin                 959\n",
       "Ohio                      944\n",
       "Minnesota                 846\n",
       "Alabama                   819\n",
       "Colorado                  707\n",
       "Oklahoma                  676\n",
       "District of Columbia      565\n",
       "Massachusetts             544\n",
       "Maryland                  532\n",
       "New Jersey                465\n",
       "Wyoming                   447\n",
       "Iowa                      443\n",
       "Arkansas                  416\n",
       "Mississippi               321\n",
       "Idaho                     296\n",
       "Kansas                    250\n",
       "Indiana                   244\n",
       "Hawaii                    234\n",
       "Tennessee                 197\n",
       "New Mexico                180\n",
       "Alaska                    105\n",
       "Virginia                   93\n",
       "Utah                       67\n",
       "Rhode Island               55\n",
       "Montana                    35\n",
       "South Dakota               14\n",
       "South Carolina              1\n",
       "Name: State, dtype: int64"
      ]
     },
     "execution_count": 113,
     "metadata": {},
     "output_type": "execute_result"
    }
   ],
   "source": [
    "df_then['State'].value_counts()"
   ]
  },
  {
   "cell_type": "code",
   "execution_count": 114,
   "id": "0a92b741-9254-4db6-b9b4-9f537ddc171a",
   "metadata": {},
   "outputs": [
    {
     "data": {
      "text/plain": [
       "Texas                   13354\n",
       "California              11357\n",
       "Florida                  4958\n",
       "Georgia                  2211\n",
       "Louisiana                2152\n",
       "New York                 1858\n",
       "Arizona                  1739\n",
       "Pennsylvania             1736\n",
       "Kentucky                 1580\n",
       "Oregon                   1524\n",
       "Illinois                 1489\n",
       "North Carolina           1378\n",
       "Washington               1349\n",
       "Nevada                   1307\n",
       "Michigan                 1291\n",
       "Missouri                 1090\n",
       "Nebraska                  968\n",
       "Wisconsin                 959\n",
       "Ohio                      944\n",
       "Minnesota                 846\n",
       "Alabama                   819\n",
       "Colorado                  707\n",
       "Oklahoma                  676\n",
       "District of Columbia      565\n",
       "Massachusetts             544\n",
       "Maryland                  532\n",
       "New Jersey                465\n",
       "Wyoming                   447\n",
       "Iowa                      443\n",
       "Arkansas                  416\n",
       "Mississippi               321\n",
       "Idaho                     296\n",
       "Kansas                    250\n",
       "Indiana                   244\n",
       "Hawaii                    234\n",
       "Tennessee                 197\n",
       "New Mexico                180\n",
       "Alaska                    105\n",
       "Virginia                   93\n",
       "Utah                       67\n",
       "Rhode Island               55\n",
       "Montana                    35\n",
       "South Dakota               14\n",
       "South Carolina              1\n",
       "Name: State, dtype: int64"
      ]
     },
     "execution_count": 114,
     "metadata": {},
     "output_type": "execute_result"
    }
   ],
   "source": [
    "df_now['State'].value_counts()"
   ]
  },
  {
   "cell_type": "markdown",
   "id": "cuS5K2NaLJBE",
   "metadata": {
    "id": "cuS5K2NaLJBE"
   },
   "source": [
    "Using Chase's recommendation that \"you should spend 28% or less of your monthly gross income on your mortgage payment\", all homes in the housing dataset had a mortage within a payable rate with either salary. <br><br>\n",
    "\n",
    "What about a different major? Psychology:"
   ]
  },
  {
   "cell_type": "code",
   "execution_count": 115,
   "id": "OhsOXK88KxbM",
   "metadata": {
    "id": "OhsOXK88KxbM"
   },
   "outputs": [],
   "source": [
    "ec_df = df_major_salary2\n",
    "ec_df\n",
    "x = ec_df.iloc[66]"
   ]
  },
  {
   "cell_type": "code",
   "execution_count": 116,
   "id": "6krP-cxFLHYe",
   "metadata": {
    "id": "6krP-cxFLHYe"
   },
   "outputs": [],
   "source": [
    "x2008 = df_degrees_over_career.loc['Psychology']"
   ]
  },
  {
   "cell_type": "code",
   "execution_count": 117,
   "id": "DNJapZpPOTcQ",
   "metadata": {
    "colab": {
     "base_uri": "https://localhost:8080/"
    },
    "id": "DNJapZpPOTcQ",
    "outputId": "33f4589d-aaf2-4c7a-9878-502845d18a73"
   },
   "outputs": [
    {
     "data": {
      "text/plain": [
       "0.04720293865397997"
      ]
     },
     "execution_count": 117,
     "metadata": {},
     "output_type": "execute_result"
    }
   ],
   "source": [
    "df_now = df_homes[df_homes['Average Mortgage'] <= (x['Median Salary']*.28)/12]\n",
    "len(df_now)/len(df_homes)"
   ]
  },
  {
   "cell_type": "code",
   "execution_count": 118,
   "id": "FgL6FYbYO7hV",
   "metadata": {
    "colab": {
     "base_uri": "https://localhost:8080/"
    },
    "id": "FgL6FYbYO7hV",
    "outputId": "df72fcf9-ba80-413d-a50f-81756ead1657"
   },
   "outputs": [
    {
     "data": {
      "text/plain": [
       "0.6115345405116753"
      ]
     },
     "execution_count": 118,
     "metadata": {},
     "output_type": "execute_result"
    }
   ],
   "source": [
    "df_then = df_homes[df_homes['Average Mortgage'] <= (x2008['Mid-Career Median Salary']*.28)/12]\n",
    "len(df_then)/len(df_homes)"
   ]
  },
  {
   "cell_type": "code",
   "execution_count": 119,
   "id": "52eb6fee-0db1-43f8-83fd-eda9b1ab42e9",
   "metadata": {},
   "outputs": [
    {
     "data": {
      "text/html": [
       "<div>\n",
       "<style scoped>\n",
       "    .dataframe tbody tr th:only-of-type {\n",
       "        vertical-align: middle;\n",
       "    }\n",
       "\n",
       "    .dataframe tbody tr th {\n",
       "        vertical-align: top;\n",
       "    }\n",
       "\n",
       "    .dataframe thead th {\n",
       "        text-align: right;\n",
       "    }\n",
       "</style>\n",
       "<table border=\"1\" class=\"dataframe\">\n",
       "  <thead>\n",
       "    <tr style=\"text-align: right;\">\n",
       "      <th></th>\n",
       "      <th>Then</th>\n",
       "      <th>Now</th>\n",
       "    </tr>\n",
       "  </thead>\n",
       "  <tbody>\n",
       "    <tr>\n",
       "      <th>count</th>\n",
       "      <td>61796.00</td>\n",
       "      <td>2917.00</td>\n",
       "    </tr>\n",
       "    <tr>\n",
       "      <th>mean</th>\n",
       "      <td>775338.39</td>\n",
       "      <td>323573.91</td>\n",
       "    </tr>\n",
       "    <tr>\n",
       "      <th>std</th>\n",
       "      <td>2119185.27</td>\n",
       "      <td>366341.89</td>\n",
       "    </tr>\n",
       "    <tr>\n",
       "      <th>min</th>\n",
       "      <td>10400.00</td>\n",
       "      <td>20600.00</td>\n",
       "    </tr>\n",
       "    <tr>\n",
       "      <th>25%</th>\n",
       "      <td>247100.00</td>\n",
       "      <td>153500.00</td>\n",
       "    </tr>\n",
       "    <tr>\n",
       "      <th>50%</th>\n",
       "      <td>406100.00</td>\n",
       "      <td>246900.00</td>\n",
       "    </tr>\n",
       "    <tr>\n",
       "      <th>75%</th>\n",
       "      <td>720500.00</td>\n",
       "      <td>370500.00</td>\n",
       "    </tr>\n",
       "    <tr>\n",
       "      <th>max</th>\n",
       "      <td>143537900.00</td>\n",
       "      <td>8367900.00</td>\n",
       "    </tr>\n",
       "  </tbody>\n",
       "</table>\n",
       "</div>"
      ],
      "text/plain": [
       "              Then        Now\n",
       "count     61796.00    2917.00\n",
       "mean     775338.39  323573.91\n",
       "std     2119185.27  366341.89\n",
       "min       10400.00   20600.00\n",
       "25%      247100.00  153500.00\n",
       "50%      406100.00  246900.00\n",
       "75%      720500.00  370500.00\n",
       "max   143537900.00 8367900.00"
      ]
     },
     "execution_count": 119,
     "metadata": {},
     "output_type": "execute_result"
    }
   ],
   "source": [
    "pd.set_option('float_format', '{:.2f}'.format)\n",
    "dfp = pd.DataFrame(df_then['zestimate'].astype(float).describe())\n",
    "dfp = dfcs.rename(columns={\"zestimate\": \"Then\"})\n",
    "dfp['Now'] = df_now['zestimate'].astype(float).describe()\n",
    "dfp"
   ]
  },
  {
   "cell_type": "code",
   "execution_count": 120,
   "id": "8dd7912a-f4fd-4e91-9680-2f6908f91d13",
   "metadata": {},
   "outputs": [
    {
     "data": {
      "text/plain": [
       "Texas                   13354\n",
       "Florida                  4958\n",
       "Georgia                  2211\n",
       "Louisiana                2152\n",
       "Kentucky                 1580\n",
       "Illinois                 1489\n",
       "North Carolina           1378\n",
       "Michigan                 1291\n",
       "Missouri                 1090\n",
       "Nebraska                  968\n",
       "Wisconsin                 959\n",
       "Ohio                      944\n",
       "Minnesota                 846\n",
       "Alabama                   819\n",
       "Oklahoma                  676\n",
       "District of Columbia      565\n",
       "Maryland                  532\n",
       "Iowa                      443\n",
       "Arkansas                  416\n",
       "Mississippi               321\n",
       "Kansas                    250\n",
       "Indiana                   244\n",
       "Tennessee                 197\n",
       "Virginia                   93\n",
       "South Dakota               14\n",
       "South Carolina              1\n",
       "Name: State, dtype: int64"
      ]
     },
     "execution_count": 120,
     "metadata": {},
     "output_type": "execute_result"
    }
   ],
   "source": [
    "df_then['State'].value_counts()"
   ]
  },
  {
   "cell_type": "code",
   "execution_count": 121,
   "id": "34969a42-3643-4d88-bc87-4c7c69d394a8",
   "metadata": {},
   "outputs": [
    {
     "data": {
      "text/plain": [
       "Kentucky       1580\n",
       "Alabama         819\n",
       "Mississippi     321\n",
       "Tennessee       197\n",
       "Name: State, dtype: int64"
      ]
     },
     "execution_count": 121,
     "metadata": {},
     "output_type": "execute_result"
    }
   ],
   "source": [
    "df_now['State'].value_counts()"
   ]
  },
  {
   "cell_type": "markdown",
   "id": "779d7259-7cc2-4fc4-80a5-29f2be379c12",
   "metadata": {},
   "source": [
    "Unexpectedly, the median career salary for a Psychology major in early 2010s is making more than recent Cal Poly Psychology majors, which means that people who graduated in that major prior were able to afford more houses than they would if graduating now. And since we know that housing was definitely more expensive, we may have reason to believe that this data can offer some insights on preferable majors if being a homeowner is valuable to someone."
   ]
  },
  {
   "cell_type": "markdown",
   "id": "0939831e-c536-4c6e-99c6-1b8d84980997",
   "metadata": {},
   "source": [
    "What if someone is majoring in teaching? Can they afford a house?"
   ]
  },
  {
   "cell_type": "code",
   "execution_count": 99,
   "id": "5018e423-a03e-48cb-9345-849ccc098e87",
   "metadata": {},
   "outputs": [],
   "source": [
    "ec_df = df_major_salary2\n",
    "ec_df\n",
    "x = ec_df.iloc[50]"
   ]
  },
  {
   "cell_type": "code",
   "execution_count": 100,
   "id": "44681e73-52eb-4078-8965-a295f4db40e1",
   "metadata": {},
   "outputs": [],
   "source": [
    "x2008 = df_degrees_over_career.loc['Education']"
   ]
  },
  {
   "cell_type": "code",
   "execution_count": 101,
   "id": "1f54090e-608b-4068-b6e5-81130cb6e678",
   "metadata": {},
   "outputs": [
    {
     "data": {
      "text/plain": [
       "0.0"
      ]
     },
     "execution_count": 101,
     "metadata": {},
     "output_type": "execute_result"
    }
   ],
   "source": [
    "df_now = df_homes[df_homes['Average Mortgage'] <= (x['Median Salary']*.28)/12]\n",
    "len(df_now)/len(df_homes)"
   ]
  },
  {
   "cell_type": "code",
   "execution_count": 102,
   "id": "32c5291a-6c63-4dc2-9071-e1f2706b56a9",
   "metadata": {},
   "outputs": [
    {
     "data": {
      "text/plain": [
       "0.18536498535527615"
      ]
     },
     "execution_count": 102,
     "metadata": {},
     "output_type": "execute_result"
    }
   ],
   "source": [
    "df_then = df_homes[df_homes['Average Mortgage'] <= (x2008['Mid-Career Median Salary']*.28)/12]\n",
    "len(df_then)/len(df_homes)"
   ]
  },
  {
   "cell_type": "code",
   "execution_count": 103,
   "id": "9da00a86-090d-4db1-9119-c32a0751b236",
   "metadata": {},
   "outputs": [
    {
     "data": {
      "text/html": [
       "<div>\n",
       "<style scoped>\n",
       "    .dataframe tbody tr th:only-of-type {\n",
       "        vertical-align: middle;\n",
       "    }\n",
       "\n",
       "    .dataframe tbody tr th {\n",
       "        vertical-align: top;\n",
       "    }\n",
       "\n",
       "    .dataframe thead th {\n",
       "        text-align: right;\n",
       "    }\n",
       "</style>\n",
       "<table border=\"1\" class=\"dataframe\">\n",
       "  <thead>\n",
       "    <tr style=\"text-align: right;\">\n",
       "      <th></th>\n",
       "      <th>Then</th>\n",
       "      <th>Now</th>\n",
       "    </tr>\n",
       "  </thead>\n",
       "  <tbody>\n",
       "    <tr>\n",
       "      <th>count</th>\n",
       "      <td>61796.00</td>\n",
       "      <td>0.00</td>\n",
       "    </tr>\n",
       "    <tr>\n",
       "      <th>mean</th>\n",
       "      <td>775338.39</td>\n",
       "      <td>NaN</td>\n",
       "    </tr>\n",
       "    <tr>\n",
       "      <th>std</th>\n",
       "      <td>2119185.27</td>\n",
       "      <td>NaN</td>\n",
       "    </tr>\n",
       "    <tr>\n",
       "      <th>min</th>\n",
       "      <td>10400.00</td>\n",
       "      <td>NaN</td>\n",
       "    </tr>\n",
       "    <tr>\n",
       "      <th>25%</th>\n",
       "      <td>247100.00</td>\n",
       "      <td>NaN</td>\n",
       "    </tr>\n",
       "    <tr>\n",
       "      <th>50%</th>\n",
       "      <td>406100.00</td>\n",
       "      <td>NaN</td>\n",
       "    </tr>\n",
       "    <tr>\n",
       "      <th>75%</th>\n",
       "      <td>720500.00</td>\n",
       "      <td>NaN</td>\n",
       "    </tr>\n",
       "    <tr>\n",
       "      <th>max</th>\n",
       "      <td>143537900.00</td>\n",
       "      <td>NaN</td>\n",
       "    </tr>\n",
       "  </tbody>\n",
       "</table>\n",
       "</div>"
      ],
      "text/plain": [
       "              Then  Now\n",
       "count     61796.00 0.00\n",
       "mean     775338.39  NaN\n",
       "std     2119185.27  NaN\n",
       "min       10400.00  NaN\n",
       "25%      247100.00  NaN\n",
       "50%      406100.00  NaN\n",
       "75%      720500.00  NaN\n",
       "max   143537900.00  NaN"
      ]
     },
     "execution_count": 103,
     "metadata": {},
     "output_type": "execute_result"
    }
   ],
   "source": [
    "pd.set_option('float_format', '{:.2f}'.format)\n",
    "dfe = pd.DataFrame(df_then['zestimate'].astype(float).describe())\n",
    "dfe = dfcs.rename(columns={\"zestimate\": \"Then\"})\n",
    "dfe['Now'] = df_now['zestimate'].astype(float).describe()\n",
    "dfe"
   ]
  },
  {
   "cell_type": "code",
   "execution_count": 107,
   "id": "5258a989-9817-45e4-b867-463362f37b74",
   "metadata": {},
   "outputs": [
    {
     "data": {
      "text/plain": [
       "Series([], Name: State, dtype: int64)"
      ]
     },
     "execution_count": 107,
     "metadata": {},
     "output_type": "execute_result"
    }
   ],
   "source": [
    "df_now['State'].value_counts()"
   ]
  },
  {
   "cell_type": "code",
   "execution_count": 106,
   "id": "d07fca54-03f7-415c-b5da-715abe1b35d9",
   "metadata": {},
   "outputs": [
    {
     "data": {
      "text/plain": [
       "Kentucky        1580\n",
       "Illinois        1489\n",
       "Michigan        1291\n",
       "Missouri        1090\n",
       "Nebraska         968\n",
       "Wisconsin        959\n",
       "Ohio             944\n",
       "Minnesota        846\n",
       "Alabama          819\n",
       "Iowa             443\n",
       "Mississippi      321\n",
       "Kansas           250\n",
       "Indiana          244\n",
       "Tennessee        197\n",
       "South Dakota      14\n",
       "Name: State, dtype: int64"
      ]
     },
     "execution_count": 106,
     "metadata": {},
     "output_type": "execute_result"
    }
   ],
   "source": [
    "df_then['State'].value_counts()"
   ]
  },
  {
   "cell_type": "markdown",
   "id": "6dAaZORTPbW3",
   "metadata": {
    "id": "6dAaZORTPbW3"
   },
   "source": [
    "Unlike Psycology, this one was not surpising at all..."
   ]
  },
  {
   "cell_type": "markdown",
   "id": "426094ee-68df-4ddc-93f1-bad57fc27e3f",
   "metadata": {},
   "source": [
    "## Clustering"
   ]
  },
  {
   "cell_type": "markdown",
   "id": "24ed3c9c",
   "metadata": {},
   "source": [
    "### Clustering living wage\n",
    "#### Using Sklearn library"
   ]
  },
  {
   "cell_type": "code",
   "execution_count": null,
   "id": "ced32b04",
   "metadata": {},
   "outputs": [],
   "source": [
    "scaler = StandardScaler()\n",
    "X = pd.DataFrame(scaler.fit_transform(living_wage_by_major),columns=living_wage_by_major.columns)\n",
    "X"
   ]
  },
  {
   "cell_type": "code",
   "execution_count": null,
   "id": "ef8e3b8f",
   "metadata": {},
   "outputs": [
    {
     "data": {
      "text/html": [
       "<div>\n",
       "<style scoped>\n",
       "    .dataframe tbody tr th:only-of-type {\n",
       "        vertical-align: middle;\n",
       "    }\n",
       "\n",
       "    .dataframe tbody tr th {\n",
       "        vertical-align: top;\n",
       "    }\n",
       "\n",
       "    .dataframe thead th {\n",
       "        text-align: right;\n",
       "    }\n",
       "</style>\n",
       "<table border=\"1\" class=\"dataframe\">\n",
       "  <thead>\n",
       "    <tr style=\"text-align: right;\">\n",
       "      <th></th>\n",
       "      <th>0</th>\n",
       "      <th>1</th>\n",
       "    </tr>\n",
       "  </thead>\n",
       "  <tbody>\n",
       "    <tr>\n",
       "      <th>0</th>\n",
       "      <td>7.385485</td>\n",
       "      <td>13.848617</td>\n",
       "    </tr>\n",
       "    <tr>\n",
       "      <th>1</th>\n",
       "      <td>7.319265</td>\n",
       "      <td>13.849088</td>\n",
       "    </tr>\n",
       "    <tr>\n",
       "      <th>2</th>\n",
       "      <td>7.342039</td>\n",
       "      <td>13.848926</td>\n",
       "    </tr>\n",
       "    <tr>\n",
       "      <th>3</th>\n",
       "      <td>7.297391</td>\n",
       "      <td>13.849243</td>\n",
       "    </tr>\n",
       "    <tr>\n",
       "      <th>4</th>\n",
       "      <td>7.356432</td>\n",
       "      <td>13.848823</td>\n",
       "    </tr>\n",
       "    <tr>\n",
       "      <th>...</th>\n",
       "      <td>...</td>\n",
       "      <td>...</td>\n",
       "    </tr>\n",
       "    <tr>\n",
       "      <th>4432</th>\n",
       "      <td>-0.669725</td>\n",
       "      <td>-0.703501</td>\n",
       "    </tr>\n",
       "    <tr>\n",
       "      <th>4433</th>\n",
       "      <td>-0.619366</td>\n",
       "      <td>-0.703860</td>\n",
       "    </tr>\n",
       "    <tr>\n",
       "      <th>4434</th>\n",
       "      <td>-0.658938</td>\n",
       "      <td>-0.703578</td>\n",
       "    </tr>\n",
       "    <tr>\n",
       "      <th>4435</th>\n",
       "      <td>-0.626379</td>\n",
       "      <td>-0.703810</td>\n",
       "    </tr>\n",
       "    <tr>\n",
       "      <th>4436</th>\n",
       "      <td>-0.675669</td>\n",
       "      <td>-0.703459</td>\n",
       "    </tr>\n",
       "  </tbody>\n",
       "</table>\n",
       "<p>4437 rows × 2 columns</p>\n",
       "</div>"
      ],
      "text/plain": [
       "             0          1\n",
       "0     7.385485  13.848617\n",
       "1     7.319265  13.849088\n",
       "2     7.342039  13.848926\n",
       "3     7.297391  13.849243\n",
       "4     7.356432  13.848823\n",
       "...        ...        ...\n",
       "4432 -0.669725  -0.703501\n",
       "4433 -0.619366  -0.703860\n",
       "4434 -0.658938  -0.703578\n",
       "4435 -0.626379  -0.703810\n",
       "4436 -0.675669  -0.703459\n",
       "\n",
       "[4437 rows x 2 columns]"
      ]
     },
     "metadata": {},
     "output_type": "display_data"
    },
    {
     "name": "stderr",
     "output_type": "stream",
     "text": [
      "*c* argument looks like a single numeric RGB or RGBA sequence, which should be avoided as value-mapping will have precedence in case its length matches with *x* & *y*.  Please use the *color* keyword-argument or provide a 2D array with a single row if you intend to specify the same RGB or RGBA value for all points.\n"
     ]
    },
    {
     "data": {
      "image/png": "[encoded data removed]",
      "text/plain": [
       "<Figure size 800x550 with 1 Axes>"
      ]
     },
     "metadata": {},
     "output_type": "display_data"
    }
   ],
   "source": [
    "pca = PCA(n_components=2)\n",
    "X_pca = pca.fit_transform(X)\n",
    "X_pca = pd.DataFrame(X_pca)\n",
    "display(X_pca)\n",
    "# X_pca.plot.scatter(x=X_pca.columns[0],y=X_pca.columns[1]);"
   ]
  },
  {
   "cell_type": "code",
   "execution_count": null,
   "id": "e0864702",
   "metadata": {},
   "outputs": [],
   "source": [
    "kmeans = KMeans(n_clusters=3).fit(X)\n",
    "cluster_labels = {}\n",
    "# Are we doing 1 indexing now?\n",
    "cluster_labels[3] = kmeans.predict(X)\n",
    "cluster_labels = pd.DataFrame(cluster_labels)"
   ]
  },
  {
   "cell_type": "code",
   "execution_count": null,
   "id": "8dbc90dc",
   "metadata": {},
   "outputs": [],
   "source": [
    "colorings = {}\n",
    "# colorings[2] = cluster_labels[2].map({0: \"Blue\", 1: \"Red\"}) # This is a new pandas command for us that maps all 0 values to Blue, etc\n",
    "colorings[3] = cluster_labels[3].map({0: \"Blue\", 1: \"Red\",2: \"Pink\"}) # This is a new pandas command for us that maps all 0 values to Blue, etc\n",
    "# X_pca.plot.scatter(x=X_pca.columns[0],y=X_pca.columns[1],c=colorings[2])\n",
    "X_pca.plot.scatter(x=X_pca.columns[0],y=X_pca.columns[1],c=colorings[3], xlabel='PCA Component 0', ylabel='PCA Component 1')"
   ]
  },
  {
   "cell_type": "code",
   "execution_count": null,
   "id": "e466a92e",
   "metadata": {},
   "outputs": [],
   "source": [
    "silhouette_score(X, cluster_labels[3])"
   ]
  },
  {
   "cell_type": "code",
   "execution_count": null,
   "id": "4c5bf804",
   "metadata": {},
   "outputs": [],
   "source": [
    "s_df = pd.DataFrame()\n",
    "\n",
    "s_df[3] = silhouette_samples(X, cluster_labels[3])\n",
    "s_df.index.name=\"i\"\n",
    "s_df = s_df.reset_index()\n",
    "# display(s_df)\n",
    "# s_df.sort_values(by=[3]).plot(kind='hist')\n",
    "\n",
    "source = s_df.melt(id_vars=[\"i\"])\n",
    "source.columns = [\"i\",\"k\",\"s\"]\n",
    "# display(source)\n",
    "\n",
    "# alt.renderers.enable('mimetype')\n",
    "alt.renderers.enable('default')\n",
    "alt.Chart(source).mark_bar().encode(\n",
    "    x = \"s:Q\",\n",
    "    y = alt.Y(\"i:N\",sort='x',axis=alt.Axis(labels=False)),\n",
    "    row = \"k:N\",\n",
    "    color = \"k:N\"\n",
    ").resolve_scale(y='independent').properties(height=200)\n",
    "\n",
    "# alt.Chart(s.reset_index()).mark_line().encode(\n",
    "#     x='index:T',\n",
    "#     y='sil:Q'\n",
    "# )\n"
   ]
  },
  {
   "cell_type": "code",
   "execution_count": null,
   "id": "a5f16119",
   "metadata": {},
   "outputs": [],
   "source": [
    "df = living_wage_by_major.reset_index()[['city','state','field-study']]\n",
    "df['label']  = cluster_labels[3]\n",
    "df['label'].value_counts()"
   ]
  },
  {
   "cell_type": "markdown",
   "id": "661bf4f0",
   "metadata": {},
   "source": [
    "Let's see what cities have which majors:"
   ]
  },
  {
   "cell_type": "code",
   "execution_count": null,
   "id": "18c9f869",
   "metadata": {},
   "outputs": [],
   "source": [
    "for cluster in sorted(df['label'].unique()):\n",
    "    print(cluster)\n",
    "    # display(df[df['label'] == cluster].head())\n",
    "    # df[df['label'] == cluster].to_csv(f'out_cluster_{cluster}.csv')\n",
    "    display(df[df['label'] == cluster].groupby(['state', 'city'])['label'].value_counts())\n"
   ]
  },
  {
   "cell_type": "markdown",
   "id": "fc8dbb14",
   "metadata": {},
   "source": [
    "#### From scratch kmeans"
   ]
  },
  {
   "cell_type": "code",
   "execution_count": null,
   "id": "a37a510c",
   "metadata": {},
   "outputs": [
    {
     "name": "stdout",
     "output_type": "stream",
     "text": [
      "27554.234952948053\n",
      "22951.632761282333\n",
      "22672.283691102886\n",
      "22646.41401267733\n",
      "22568.089292510864\n"
     ]
    }
   ],
   "source": [
    "distortions = []\n",
    "k = 3\n",
    "means = X.sample(n=k)\n",
    "last_distortion = np.Inf\n",
    "while True:\n",
    "    # Assignment to a cluster\n",
    "    clusters = []\n",
    "    distortion = 0\n",
    "    for i in range(len(X)):\n",
    "        x = X.iloc[i]\n",
    "        min_d = np.Inf\n",
    "        min_c = None\n",
    "        for j in range(len(means)):\n",
    "            c = means.iloc[j]\n",
    "            d = distance(x, c)\n",
    "            if d < min_d:\n",
    "                min_c = j\n",
    "                min_d = d\n",
    "        distortion += np.dot((x - means.iloc[j]), (x - means.iloc[j]))\n",
    "        clusters.append(min_c)\n",
    "    Xc = X.copy()\n",
    "    Xc['cluster'] = clusters\n",
    "    distortions.append(distortion)\n",
    "    # Distortion should go down over time, and eventually slow down\n",
    "    if np.abs(distortion - last_distortion) < 0.000001:\n",
    "        break\n",
    "    last_distortion = distortion\n",
    "    print(distortion)\n",
    "    means = Xc.groupby('cluster').mean()"
   ]
  },
  {
   "cell_type": "code",
   "execution_count": null,
   "id": "728696df",
   "metadata": {},
   "outputs": [
    {
     "data": {
      "text/plain": [
       "<AxesSubplot:xlabel='PCA Component 0', ylabel='PCA Component 1'>"
      ]
     },
     "metadata": {},
     "output_type": "display_data"
    },
    {
     "data": {
      "image/png": "[encoded data removed]",
      "text/plain": [
       "<Figure size 640x480 with 1 Axes>"
      ]
     },
     "metadata": {},
     "output_type": "display_data"
    }
   ],
   "source": [
    "cluster_labels = {}\n",
    "# Are we doing 1 indexing now?\n",
    "cluster_labels[3] = clusters\n",
    "cluster_labels = pd.DataFrame(cluster_labels)\n",
    "\n",
    "colorings = {}\n",
    "# colorings[2] = cluster_labels[2].map({0: \"Blue\", 1: \"Red\"}) # This is a new pandas command for us that maps all 0 values to Blue, etc\n",
    "colorings[3] = cluster_labels[3].map({0: \"Blue\", 1: \"Red\",2: \"Pink\", 3: 'Green'}) # This is a new pandas command for us that maps all 0 values to Blue, etc\n",
    "X_pca.plot.scatter(x=X_pca.columns[0],y=X_pca.columns[1],c=colorings[3], xlabel='PCA Component 0', ylabel='PCA Component 1')"
   ]
  },
  {
   "cell_type": "markdown",
   "id": "6119b75f",
   "metadata": {},
   "source": [
    "### Clustering by long-term livability of a city"
   ]
  },
  {
   "cell_type": "markdown",
   "id": "45644447",
   "metadata": {},
   "source": [
    "#### Using Sklearn"
   ]
  },
  {
   "cell_type": "code",
   "execution_count": null,
   "id": "9ef3a988",
   "metadata": {},
   "outputs": [
    {
     "name": "stderr",
     "output_type": "stream",
     "text": [
      "*c* argument looks like a single numeric RGB or RGBA sequence, which should be avoided as value-mapping will have precedence in case its length matches with *x* & *y*.  Please use the *color* keyword-argument or provide a 2D array with a single row if you intend to specify the same RGB or RGBA value for all points.\n"
     ]
    },
    {
     "data": {
      "text/plain": [
       "<AxesSubplot:xlabel='PCA Component 0', ylabel='PCA Component 1'>"
      ]
     },
     "metadata": {},
     "output_type": "display_data"
    },
    {
     "data": {
      "image/png": "[encoded data removed]",
      "text/plain": [
       "<Figure size 800x550 with 1 Axes>"
      ]
     },
     "metadata": {},
     "output_type": "display_data"
    },
    {
     "data": {
      "image/png": "[encoded data removed]",
      "text/plain": [
       "<Figure size 800x550 with 1 Axes>"
      ]
     },
     "metadata": {},
     "output_type": "display_data"
    }
   ],
   "source": [
    "scaler = StandardScaler()\n",
    "X = pd.DataFrame(scaler.fit_transform(living_wage_hourly),columns=combo.columns)\n",
    "X\n",
    "pca = PCA(n_components=2)\n",
    "X_pca = pca.fit_transform(X)\n",
    "X_pca = pd.DataFrame(X_pca)\n",
    "# display(X_pca)\n",
    "# X_pca.plot.scatter(x=X_pca.columns[0],y=X_pca.columns[1]);\n",
    "kmeans = KMeans(n_clusters=3).fit(X)\n",
    "\n",
    "cluster_labels = {}\n",
    "# Are we doing 1 indexing now?\n",
    "cluster_labels[3] = kmeans.predict(X)\n",
    "cluster_labels = pd.DataFrame(cluster_labels)\n",
    "\n",
    "colorings = {}\n",
    "# colorings[2] = cluster_labels[2].map({0: \"Blue\", 1: \"Red\"}) # This is a new pandas command for us that maps all 0 values to Blue, etc\n",
    "colorings[3] = cluster_labels[3].map({0: \"Blue\", 1: \"Red\",2: \"Pink\", 3: 'Green'}) # This is a new pandas command for us that maps all 0 values to Blue, etc\n",
    "X_pca.plot.scatter(x=X_pca.columns[0],y=X_pca.columns[1],c=colorings[3], xlabel='PCA Component 0', ylabel='PCA Component 1')"
   ]
  },
  {
   "cell_type": "code",
   "execution_count": null,
   "id": "a2d1911b",
   "metadata": {},
   "outputs": [
    {
     "name": "stderr",
     "output_type": "stream",
     "text": [
      "/home/claire/.local/lib/python3.10/site-packages/altair/utils/core.py:317: FutureWarning: iteritems is deprecated and will be removed in a future version. Use .items instead.\n",
      "  for col_name, dtype in df.dtypes.iteritems():\n"
     ]
    },
    {
     "data": {
      "text/html": [
       "\n",
       "<div id=\"altair-viz-66c77dcd74704cb2a21682a143d87636\"></div>\n",
       "<script type=\"text/javascript\">\n",
       "  var VEGA_DEBUG = (typeof VEGA_DEBUG == \"undefined\") ? {} : VEGA_DEBUG;\n",
       "  (function(spec, embedOpt){\n",
       "    let outputDiv = document.currentScript.previousElementSibling;\n",
       "    if (outputDiv.id !== \"altair-viz-66c77dcd74704cb2a21682a143d87636\") {\n",
       "      outputDiv = document.getElementById(\"altair-viz-66c77dcd74704cb2a21682a143d87636\");\n",
       "    }\n",
       "    const paths = {\n",
       "      \"vega\": \"https://cdn.jsdelivr.net/npm//vega@5?noext\",\n",
       "      \"vega-lib\": \"https://cdn.jsdelivr.net/npm//vega-lib?noext\",\n",
       "      \"vega-lite\": \"https://cdn.jsdelivr.net/npm//vega-lite@4.17.0?noext\",\n",
       "      \"vega-embed\": \"https://cdn.jsdelivr.net/npm//vega-embed@6?noext\",\n",
       "    };\n",
       "\n",
       "    function maybeLoadScript(lib, version) {\n",
       "      var key = `${lib.replace(\"-\", \"\")}_version`;\n",
       "      return (VEGA_DEBUG[key] == version) ?\n",
       "        Promise.resolve(paths[lib]) :\n",
       "        new Promise(function(resolve, reject) {\n",
       "          var s = document.createElement('script');\n",
       "          document.getElementsByTagName(\"head\")[0].appendChild(s);\n",
       "          s.async = true;\n",
       "          s.onload = () => {\n",
       "            VEGA_DEBUG[key] = version;\n",
       "            return resolve(paths[lib]);\n",
       "          };\n",
       "          s.onerror = () => reject(`Error loading script: ${paths[lib]}`);\n",
       "          s.src = paths[lib];\n",
       "        });\n",
       "    }\n",
       "\n",
       "    function showError(err) {\n",
       "      outputDiv.innerHTML = `<div class=\"error\" style=\"color:red;\">${err}</div>`;\n",
       "      throw err;\n",
       "    }\n",
       "\n",
       "    function displayChart(vegaEmbed) {\n",
       "      vegaEmbed(outputDiv, spec, embedOpt)\n",
       "        .catch(err => showError(`Javascript Error: ${err.message}<br>This usually means there's a typo in your chart specification. See the javascript console for the full traceback.`));\n",
       "    }\n",
       "\n",
       "    if(typeof define === \"function\" && define.amd) {\n",
       "      requirejs.config({paths});\n",
       "      require([\"vega-embed\"], displayChart, err => showError(`Error loading script: ${err.message}`));\n",
       "    } else {\n",
       "      maybeLoadScript(\"vega\", \"5\")\n",
       "        .then(() => maybeLoadScript(\"vega-lite\", \"4.17.0\"))\n",
       "        .then(() => maybeLoadScript(\"vega-embed\", \"6\"))\n",
       "        .catch(showError)\n",
       "        .then(() => displayChart(vegaEmbed));\n",
       "    }\n",
       "  })({\"config\": {\"view\": {\"continuousWidth\": 400, \"continuousHeight\": 300}}, \"data\": {\"name\": \"data-cda21831456e957bd677bcf027932a91\"}, \"mark\": \"bar\", \"encoding\": {\"color\": {\"field\": \"k\", \"type\": \"nominal\"}, \"row\": {\"field\": \"k\", \"type\": \"nominal\"}, \"x\": {\"field\": \"s\", \"type\": \"quantitative\"}, \"y\": {\"axis\": {\"labels\": false}, \"field\": \"i\", \"sort\": \"x\", \"type\": \"nominal\"}}, \"height\": 200, \"resolve\": {\"scale\": {\"y\": \"independent\"}}, \"$schema\": \"https://vega.github.io/schema/vega-lite/v4.17.0.json\", \"datasets\": {\"data-cda21831456e957bd677bcf027932a91\": [{\"i\": 0, \"k\": 3, \"s\": 1.0}, {\"i\": 1, \"k\": 3, \"s\": 1.0}, {\"i\": 2, \"k\": 3, \"s\": 1.0}, {\"i\": 3, \"k\": 3, \"s\": 1.0}, {\"i\": 4, \"k\": 3, \"s\": 1.0}, {\"i\": 5, \"k\": 3, \"s\": 1.0}, {\"i\": 6, \"k\": 3, \"s\": 1.0}, {\"i\": 7, \"k\": 3, \"s\": 1.0}, {\"i\": 8, \"k\": 3, \"s\": 1.0}, {\"i\": 9, \"k\": 3, \"s\": 1.0}, {\"i\": 10, \"k\": 3, \"s\": 1.0}, {\"i\": 11, \"k\": 3, \"s\": 1.0}, {\"i\": 12, \"k\": 3, \"s\": 1.0}, {\"i\": 13, \"k\": 3, \"s\": 1.0}, {\"i\": 14, \"k\": 3, \"s\": 1.0}, {\"i\": 15, \"k\": 3, \"s\": 1.0}, {\"i\": 16, \"k\": 3, \"s\": 1.0}, {\"i\": 17, \"k\": 3, \"s\": 1.0}, {\"i\": 18, \"k\": 3, \"s\": 1.0}, {\"i\": 19, \"k\": 3, \"s\": 1.0}, {\"i\": 20, \"k\": 3, \"s\": 1.0}, {\"i\": 21, \"k\": 3, \"s\": 0.18775380359198293}, {\"i\": 22, \"k\": 3, \"s\": 0.18775380359198293}, {\"i\": 23, \"k\": 3, \"s\": 0.18775380359198293}, {\"i\": 24, \"k\": 3, \"s\": 0.18775380359198293}, {\"i\": 25, \"k\": 3, \"s\": 0.18775380359198293}, {\"i\": 26, \"k\": 3, \"s\": 0.18775380359198293}, {\"i\": 27, \"k\": 3, \"s\": 0.18775380359198293}, {\"i\": 28, \"k\": 3, \"s\": 0.18775380359198293}, {\"i\": 29, \"k\": 3, \"s\": 0.18775380359198293}, {\"i\": 30, \"k\": 3, \"s\": 0.18775380359198293}, {\"i\": 31, \"k\": 3, \"s\": 0.18775380359198293}, {\"i\": 32, \"k\": 3, \"s\": 0.18775380359198293}, {\"i\": 33, \"k\": 3, \"s\": 0.18775380359198293}, {\"i\": 34, \"k\": 3, \"s\": 0.18775380359198293}, {\"i\": 35, \"k\": 3, \"s\": 0.18775380359198293}, {\"i\": 36, \"k\": 3, \"s\": 0.18775380359198293}, {\"i\": 37, \"k\": 3, \"s\": 0.18775380359198293}, {\"i\": 38, \"k\": 3, \"s\": 0.18775380359198293}, {\"i\": 39, \"k\": 3, \"s\": 0.18775380359198293}, {\"i\": 40, \"k\": 3, \"s\": 0.051858231010469595}, {\"i\": 41, \"k\": 3, \"s\": 0.051858231010469595}, {\"i\": 42, \"k\": 3, \"s\": 0.051858231010469595}, {\"i\": 43, \"k\": 3, \"s\": 0.051858231010469595}, {\"i\": 44, \"k\": 3, \"s\": 0.051858231010469595}, {\"i\": 45, \"k\": 3, \"s\": 0.051858231010469595}, {\"i\": 46, \"k\": 3, \"s\": 0.051858231010469595}, {\"i\": 47, \"k\": 3, \"s\": 0.051858231010469595}, {\"i\": 48, \"k\": 3, \"s\": 0.051858231010469595}, {\"i\": 49, \"k\": 3, \"s\": 0.051858231010469595}, {\"i\": 50, \"k\": 3, \"s\": 0.051858231010469595}, {\"i\": 51, \"k\": 3, \"s\": 0.051858231010469595}, {\"i\": 52, \"k\": 3, \"s\": 0.051858231010469595}, {\"i\": 53, \"k\": 3, \"s\": 0.051858231010469595}, {\"i\": 54, \"k\": 3, \"s\": 0.051858231010469595}, {\"i\": 55, \"k\": 3, \"s\": 0.051858231010469595}, {\"i\": 56, \"k\": 3, \"s\": 0.051858231010469595}, {\"i\": 57, \"k\": 3, \"s\": 0.051858231010469595}, {\"i\": 58, \"k\": 3, \"s\": 0.051858231010469595}, {\"i\": 59, \"k\": 3, \"s\": 0.051858231010469595}, {\"i\": 60, \"k\": 3, \"s\": 0.051858231010469595}, {\"i\": 61, \"k\": 3, \"s\": 0.051858231010469595}, {\"i\": 62, \"k\": 3, \"s\": 0.051858231010469595}, {\"i\": 63, \"k\": 3, \"s\": 0.051858231010469595}, {\"i\": 64, \"k\": 3, \"s\": 0.051858231010469595}, {\"i\": 65, \"k\": 3, \"s\": 0.051858231010469595}, {\"i\": 66, \"k\": 3, \"s\": 0.051858231010469595}, {\"i\": 67, \"k\": 3, \"s\": 0.051858231010469595}, {\"i\": 68, \"k\": 3, \"s\": 0.051858231010469595}, {\"i\": 69, \"k\": 3, \"s\": 0.051858231010469595}, {\"i\": 70, \"k\": 3, \"s\": 0.051858231010469595}, {\"i\": 71, \"k\": 3, \"s\": 0.051858231010469595}, {\"i\": 72, \"k\": 3, \"s\": 0.051858231010469595}, {\"i\": 73, \"k\": 3, \"s\": 0.051858231010469595}, {\"i\": 74, \"k\": 3, \"s\": 0.051858231010469595}, {\"i\": 75, \"k\": 3, \"s\": 0.051858231010469595}, {\"i\": 76, \"k\": 3, \"s\": 0.30873552051149306}, {\"i\": 77, \"k\": 3, \"s\": 0.30873552051149306}, {\"i\": 78, \"k\": 3, \"s\": 0.30873552051149306}, {\"i\": 79, \"k\": 3, \"s\": 0.30873552051149306}, {\"i\": 80, \"k\": 3, \"s\": 0.30873552051149306}, {\"i\": 81, \"k\": 3, \"s\": 0.30873552051149306}, {\"i\": 82, \"k\": 3, \"s\": 0.30873552051149306}, {\"i\": 83, \"k\": 3, \"s\": 0.30873552051149306}, {\"i\": 84, \"k\": 3, \"s\": 0.30873552051149306}, {\"i\": 85, \"k\": 3, \"s\": 0.30873552051149306}, {\"i\": 86, \"k\": 3, \"s\": 0.30873552051149306}, {\"i\": 87, \"k\": 3, \"s\": 0.30873552051149306}, {\"i\": 88, \"k\": 3, \"s\": 0.30873552051149306}, {\"i\": 89, \"k\": 3, \"s\": 0.30873552051149306}, {\"i\": 90, \"k\": 3, \"s\": 0.30873552051149306}, {\"i\": 91, \"k\": 3, \"s\": 0.30873552051149306}, {\"i\": 92, \"k\": 3, \"s\": 0.30873552051149306}, {\"i\": 93, \"k\": 3, \"s\": 0.30873552051149306}, {\"i\": 94, \"k\": 3, \"s\": 0.30873552051149306}, {\"i\": 95, \"k\": 3, \"s\": 0.30873552051149306}, {\"i\": 96, \"k\": 3, \"s\": 0.30873552051149306}, {\"i\": 97, \"k\": 3, \"s\": 0.30873552051149306}, {\"i\": 98, \"k\": 3, \"s\": 0.30873552051149306}, {\"i\": 99, \"k\": 3, \"s\": 0.30873552051149306}, {\"i\": 100, \"k\": 3, \"s\": 0.30873552051149306}, {\"i\": 101, \"k\": 3, \"s\": 0.30873552051149306}, {\"i\": 102, \"k\": 3, \"s\": 0.30873552051149306}, {\"i\": 103, \"k\": 3, \"s\": 0.30873552051149306}, {\"i\": 104, \"k\": 3, \"s\": 0.30873552051149306}, {\"i\": 105, \"k\": 3, \"s\": 0.30873552051149306}, {\"i\": 106, \"k\": 3, \"s\": 0.30873552051149306}, {\"i\": 107, \"k\": 3, \"s\": 0.30873552051149306}, {\"i\": 108, \"k\": 3, \"s\": 0.30873552051149306}, {\"i\": 109, \"k\": 3, \"s\": 0.30873552051149306}, {\"i\": 110, \"k\": 3, \"s\": 0.30873552051149306}, {\"i\": 111, \"k\": 3, \"s\": 0.30873552051149306}, {\"i\": 112, \"k\": 3, \"s\": 0.30873552051149306}, {\"i\": 113, \"k\": 3, \"s\": 0.30873552051149306}, {\"i\": 114, \"k\": 3, \"s\": 0.30873552051149306}, {\"i\": 115, \"k\": 3, \"s\": 0.30873552051149306}, {\"i\": 116, \"k\": 3, \"s\": 0.30873552051149306}, {\"i\": 117, \"k\": 3, \"s\": 0.30873552051149306}, {\"i\": 118, \"k\": 3, \"s\": 0.39582640965810834}, {\"i\": 119, \"k\": 3, \"s\": 0.39582640965810834}, {\"i\": 120, \"k\": 3, \"s\": 0.39582640965810834}, {\"i\": 121, \"k\": 3, \"s\": 0.39582640965810834}, {\"i\": 122, \"k\": 3, \"s\": 0.39582640965810834}, {\"i\": 123, \"k\": 3, \"s\": 0.39582640965810834}, {\"i\": 124, \"k\": 3, \"s\": 0.39582640965810834}, {\"i\": 125, \"k\": 3, \"s\": 0.39582640965810834}, {\"i\": 126, \"k\": 3, \"s\": 0.39582640965810834}, {\"i\": 127, \"k\": 3, \"s\": 0.39582640965810834}, {\"i\": 128, \"k\": 3, \"s\": 0.39582640965810834}, {\"i\": 129, \"k\": 3, \"s\": 0.39582640965810834}, {\"i\": 130, \"k\": 3, \"s\": 0.39582640965810834}, {\"i\": 131, \"k\": 3, \"s\": 0.39582640965810834}, {\"i\": 132, \"k\": 3, \"s\": 0.39582640965810834}, {\"i\": 133, \"k\": 3, \"s\": 0.39582640965810834}, {\"i\": 134, \"k\": 3, \"s\": 0.39582640965810834}, {\"i\": 135, \"k\": 3, \"s\": 0.39582640965810834}, {\"i\": 136, \"k\": 3, \"s\": 0.39582640965810834}, {\"i\": 137, \"k\": 3, \"s\": 0.39582640965810834}, {\"i\": 138, \"k\": 3, \"s\": 0.39582640965810834}, {\"i\": 139, \"k\": 3, \"s\": 0.39582640965810834}, {\"i\": 140, \"k\": 3, \"s\": 0.39582640965810834}, {\"i\": 141, \"k\": 3, \"s\": 0.39582640965810834}, {\"i\": 142, \"k\": 3, \"s\": 0.39582640965810834}, {\"i\": 143, \"k\": 3, \"s\": 0.39582640965810834}, {\"i\": 144, \"k\": 3, \"s\": 0.39582640965810834}, {\"i\": 145, \"k\": 3, \"s\": 0.39582640965810834}, {\"i\": 146, \"k\": 3, \"s\": 0.39582640965810834}, {\"i\": 147, \"k\": 3, \"s\": 0.39582640965810834}, {\"i\": 148, \"k\": 3, \"s\": 0.39582640965810834}, {\"i\": 149, \"k\": 3, \"s\": 0.39582640965810834}, {\"i\": 150, \"k\": 3, \"s\": 0.39582640965810834}, {\"i\": 151, \"k\": 3, \"s\": 0.39582640965810834}, {\"i\": 152, \"k\": 3, \"s\": 0.39582640965810834}, {\"i\": 153, \"k\": 3, \"s\": 0.39582640965810834}, {\"i\": 154, \"k\": 3, \"s\": 0.39582640965810834}, {\"i\": 155, \"k\": 3, \"s\": 0.23527816023998135}, {\"i\": 156, \"k\": 3, \"s\": 0.23527816023998135}, {\"i\": 157, \"k\": 3, \"s\": 0.23527816023998135}, {\"i\": 158, \"k\": 3, \"s\": 0.23527816023998135}, {\"i\": 159, \"k\": 3, \"s\": 0.23527816023998135}, {\"i\": 160, \"k\": 3, \"s\": 0.23527816023998135}, {\"i\": 161, \"k\": 3, \"s\": 0.23527816023998135}, {\"i\": 162, \"k\": 3, \"s\": 0.23527816023998135}, {\"i\": 163, \"k\": 3, \"s\": 0.23527816023998135}, {\"i\": 164, \"k\": 3, \"s\": 0.23527816023998135}, {\"i\": 165, \"k\": 3, \"s\": 0.23527816023998135}, {\"i\": 166, \"k\": 3, \"s\": 0.23527816023998135}, {\"i\": 167, \"k\": 3, \"s\": 0.23527816023998135}, {\"i\": 168, \"k\": 3, \"s\": 0.23527816023998135}, {\"i\": 169, \"k\": 3, \"s\": 0.23527816023998135}, {\"i\": 170, \"k\": 3, \"s\": 0.23527816023998135}, {\"i\": 171, \"k\": 3, \"s\": 0.23527816023998135}, {\"i\": 172, \"k\": 3, \"s\": 0.23527816023998135}, {\"i\": 173, \"k\": 3, \"s\": 0.23527816023998135}, {\"i\": 174, \"k\": 3, \"s\": 0.23527816023998135}, {\"i\": 175, \"k\": 3, \"s\": 0.23527816023998135}, {\"i\": 176, \"k\": 3, \"s\": 0.23527816023998135}, {\"i\": 177, \"k\": 3, \"s\": 0.23527816023998135}, {\"i\": 178, \"k\": 3, \"s\": 0.23527816023998135}, {\"i\": 179, \"k\": 3, \"s\": 0.23527816023998135}, {\"i\": 180, \"k\": 3, \"s\": 0.23527816023998135}, {\"i\": 181, \"k\": 3, \"s\": 0.23527816023998135}, {\"i\": 182, \"k\": 3, \"s\": 0.23527816023998135}, {\"i\": 183, \"k\": 3, \"s\": 0.23527816023998135}, {\"i\": 184, \"k\": 3, \"s\": 0.23527816023998135}, {\"i\": 185, \"k\": 3, \"s\": 0.23527816023998135}, {\"i\": 186, \"k\": 3, \"s\": 0.23527816023998135}, {\"i\": 187, \"k\": 3, \"s\": 0.23527816023998135}, {\"i\": 188, \"k\": 3, \"s\": 0.23527816023998135}, {\"i\": 189, \"k\": 3, \"s\": 0.23527816023998135}, {\"i\": 190, \"k\": 3, \"s\": 0.23527816023998135}, {\"i\": 191, \"k\": 3, \"s\": 0.23527816023998135}, {\"i\": 192, \"k\": 3, \"s\": 0.23527816023998135}, {\"i\": 193, \"k\": 3, \"s\": 0.23527816023998135}, {\"i\": 194, \"k\": 3, \"s\": 0.23527816023998135}, {\"i\": 195, \"k\": 3, \"s\": 0.23527816023998135}, {\"i\": 196, \"k\": 3, \"s\": 0.23527816023998135}, {\"i\": 197, \"k\": 3, \"s\": 0.23527816023998135}, {\"i\": 198, \"k\": 3, \"s\": 0.5141382284431917}, {\"i\": 199, \"k\": 3, \"s\": 0.5141382284431917}, {\"i\": 200, \"k\": 3, \"s\": 0.5141382284431917}, {\"i\": 201, \"k\": 3, \"s\": 0.5141382284431917}, {\"i\": 202, \"k\": 3, \"s\": 0.5141382284431917}, {\"i\": 203, \"k\": 3, \"s\": 0.5141382284431917}, {\"i\": 204, \"k\": 3, \"s\": 0.5141382284431917}, {\"i\": 205, \"k\": 3, \"s\": 0.5141382284431917}, {\"i\": 206, \"k\": 3, \"s\": 0.5141382284431917}, {\"i\": 207, \"k\": 3, \"s\": 0.5141382284431917}, {\"i\": 208, \"k\": 3, \"s\": 0.5141382284431917}, {\"i\": 209, \"k\": 3, \"s\": 0.5141382284431917}, {\"i\": 210, \"k\": 3, \"s\": 0.5141382284431917}, {\"i\": 211, \"k\": 3, \"s\": 0.5141382284431917}, {\"i\": 212, \"k\": 3, \"s\": 0.5141382284431917}, {\"i\": 213, \"k\": 3, \"s\": 0.5141382284431917}, {\"i\": 214, \"k\": 3, \"s\": 0.5141382284431917}, {\"i\": 215, \"k\": 3, \"s\": 0.5141382284431917}, {\"i\": 216, \"k\": 3, \"s\": 0.5141382284431917}, {\"i\": 217, \"k\": 3, \"s\": 0.5141382284431917}, {\"i\": 218, \"k\": 3, \"s\": 0.5141382284431917}, {\"i\": 219, \"k\": 3, \"s\": 0.5141382284431917}, {\"i\": 220, \"k\": 3, \"s\": 0.5141382284431917}, {\"i\": 221, \"k\": 3, \"s\": 0.5141382284431917}, {\"i\": 222, \"k\": 3, \"s\": 0.5141382284431917}, {\"i\": 223, \"k\": 3, \"s\": 0.5141382284431917}, {\"i\": 224, \"k\": 3, \"s\": 0.5141382284431917}, {\"i\": 225, \"k\": 3, \"s\": 0.5141382284431917}, {\"i\": 226, \"k\": 3, \"s\": 0.5141382284431917}, {\"i\": 227, \"k\": 3, \"s\": 0.5141382284431917}, {\"i\": 228, \"k\": 3, \"s\": 0.5141382284431917}, {\"i\": 229, \"k\": 3, \"s\": 0.5141382284431917}, {\"i\": 230, \"k\": 3, \"s\": 0.5141382284431917}, {\"i\": 231, \"k\": 3, \"s\": 0.5141382284431917}, {\"i\": 232, \"k\": 3, \"s\": 0.5141382284431917}, {\"i\": 233, \"k\": 3, \"s\": 0.5141382284431917}, {\"i\": 234, \"k\": 3, \"s\": 0.5141382284431917}, {\"i\": 235, \"k\": 3, \"s\": 0.5141382284431917}, {\"i\": 236, \"k\": 3, \"s\": 0.5141382284431917}, {\"i\": 237, \"k\": 3, \"s\": 0.5141382284431917}, {\"i\": 238, \"k\": 3, \"s\": 0.5141382284431917}, {\"i\": 239, \"k\": 3, \"s\": 0.5141382284431917}, {\"i\": 240, \"k\": 3, \"s\": 0.5141382284431917}, {\"i\": 241, \"k\": 3, \"s\": 0.2920105041060958}, {\"i\": 242, \"k\": 3, \"s\": 0.2920105041060958}, {\"i\": 243, \"k\": 3, \"s\": 0.2920105041060958}, {\"i\": 244, \"k\": 3, \"s\": 0.2920105041060958}, {\"i\": 245, \"k\": 3, \"s\": 0.2920105041060958}, {\"i\": 246, \"k\": 3, \"s\": 0.2920105041060958}, {\"i\": 247, \"k\": 3, \"s\": 0.2920105041060958}, {\"i\": 248, \"k\": 3, \"s\": 0.2920105041060958}, {\"i\": 249, \"k\": 3, \"s\": 0.2920105041060958}, {\"i\": 250, \"k\": 3, \"s\": 0.2920105041060958}, {\"i\": 251, \"k\": 3, \"s\": 0.2920105041060958}, {\"i\": 252, \"k\": 3, \"s\": 0.2920105041060958}, {\"i\": 253, \"k\": 3, \"s\": 0.2920105041060958}, {\"i\": 254, \"k\": 3, \"s\": 0.2920105041060958}, {\"i\": 255, \"k\": 3, \"s\": 0.2920105041060958}, {\"i\": 256, \"k\": 3, \"s\": 0.2920105041060958}, {\"i\": 257, \"k\": 3, \"s\": 0.2920105041060958}, {\"i\": 258, \"k\": 3, \"s\": 0.2920105041060958}, {\"i\": 259, \"k\": 3, \"s\": 0.5204564190809607}, {\"i\": 260, \"k\": 3, \"s\": 0.5204564190809607}, {\"i\": 261, \"k\": 3, \"s\": 0.5204564190809607}, {\"i\": 262, \"k\": 3, \"s\": 0.5204564190809607}, {\"i\": 263, \"k\": 3, \"s\": 0.5204564190809607}, {\"i\": 264, \"k\": 3, \"s\": 0.5204564190809607}, {\"i\": 265, \"k\": 3, \"s\": 0.5204564190809607}, {\"i\": 266, \"k\": 3, \"s\": 0.5204564190809607}, {\"i\": 267, \"k\": 3, \"s\": 0.5204564190809607}, {\"i\": 268, \"k\": 3, \"s\": 0.5204564190809607}, {\"i\": 269, \"k\": 3, \"s\": 0.5204564190809607}, {\"i\": 270, \"k\": 3, \"s\": 0.5204564190809607}, {\"i\": 271, \"k\": 3, \"s\": 0.5204564190809607}, {\"i\": 272, \"k\": 3, \"s\": 0.5204564190809607}, {\"i\": 273, \"k\": 3, \"s\": 0.5204564190809607}, {\"i\": 274, \"k\": 3, \"s\": 0.5204564190809607}, {\"i\": 275, \"k\": 3, \"s\": 0.5204564190809607}, {\"i\": 276, \"k\": 3, \"s\": 0.5204564190809607}, {\"i\": 277, \"k\": 3, \"s\": 0.5204564190809607}, {\"i\": 278, \"k\": 3, \"s\": 0.5204564190809607}, {\"i\": 279, \"k\": 3, \"s\": 0.5204564190809607}, {\"i\": 280, \"k\": 3, \"s\": 0.5204564190809607}, {\"i\": 281, \"k\": 3, \"s\": 0.5204564190809607}, {\"i\": 282, \"k\": 3, \"s\": 0.5204564190809607}, {\"i\": 283, \"k\": 3, \"s\": 0.5204564190809607}, {\"i\": 284, \"k\": 3, \"s\": 0.5204564190809607}, {\"i\": 285, \"k\": 3, \"s\": 0.5204564190809607}, {\"i\": 286, \"k\": 3, \"s\": 0.5204564190809607}, {\"i\": 287, \"k\": 3, \"s\": 0.5204564190809607}, {\"i\": 288, \"k\": 3, \"s\": 0.5204564190809607}, {\"i\": 289, \"k\": 3, \"s\": 0.5204564190809607}, {\"i\": 290, \"k\": 3, \"s\": 0.5204564190809607}, {\"i\": 291, \"k\": 3, \"s\": 0.5204564190809607}, {\"i\": 292, \"k\": 3, \"s\": 0.5204564190809607}, {\"i\": 293, \"k\": 3, \"s\": 0.5204564190809607}, {\"i\": 294, \"k\": 3, \"s\": 0.5204564190809607}, {\"i\": 295, \"k\": 3, \"s\": 0.5204564190809607}, {\"i\": 296, \"k\": 3, \"s\": 0.5204564190809607}, {\"i\": 297, \"k\": 3, \"s\": 0.5204564190809607}, {\"i\": 298, \"k\": 3, \"s\": 0.5204564190809607}, {\"i\": 299, \"k\": 3, \"s\": 0.3766381846130861}, {\"i\": 300, \"k\": 3, \"s\": 0.3766381846130861}, {\"i\": 301, \"k\": 3, \"s\": 0.3766381846130861}, {\"i\": 302, \"k\": 3, \"s\": 0.3766381846130861}, {\"i\": 303, \"k\": 3, \"s\": 0.3766381846130861}, {\"i\": 304, \"k\": 3, \"s\": 0.3766381846130861}, {\"i\": 305, \"k\": 3, \"s\": 0.3766381846130861}, {\"i\": 306, \"k\": 3, \"s\": 0.5853831685812737}, {\"i\": 307, \"k\": 3, \"s\": 0.5853831685812737}, {\"i\": 308, \"k\": 3, \"s\": 0.5853831685812737}, {\"i\": 309, \"k\": 3, \"s\": 0.5853831685812737}, {\"i\": 310, \"k\": 3, \"s\": 0.5853831685812737}, {\"i\": 311, \"k\": 3, \"s\": 0.5853831685812737}, {\"i\": 312, \"k\": 3, \"s\": 0.5853831685812737}, {\"i\": 313, \"k\": 3, \"s\": 0.5853831685812737}, {\"i\": 314, \"k\": 3, \"s\": 0.5853831685812737}, {\"i\": 315, \"k\": 3, \"s\": 0.5853831685812737}, {\"i\": 316, \"k\": 3, \"s\": 0.5853831685812737}, {\"i\": 317, \"k\": 3, \"s\": 0.5853831685812737}, {\"i\": 318, \"k\": 3, \"s\": 0.5853831685812737}, {\"i\": 319, \"k\": 3, \"s\": 0.5853831685812737}, {\"i\": 320, \"k\": 3, \"s\": 0.5853831685812737}, {\"i\": 321, \"k\": 3, \"s\": 0.5853831685812737}, {\"i\": 322, \"k\": 3, \"s\": 0.5853831685812737}, {\"i\": 323, \"k\": 3, \"s\": 0.5853831685812737}, {\"i\": 324, \"k\": 3, \"s\": 0.5853831685812737}, {\"i\": 325, \"k\": 3, \"s\": 0.5853831685812737}, {\"i\": 326, \"k\": 3, \"s\": 0.5853831685812737}, {\"i\": 327, \"k\": 3, \"s\": 0.5853831685812737}, {\"i\": 328, \"k\": 3, \"s\": 0.5853831685812737}, {\"i\": 329, \"k\": 3, \"s\": 0.5853831685812737}, {\"i\": 330, \"k\": 3, \"s\": 0.5853831685812737}, {\"i\": 331, \"k\": 3, \"s\": 0.5853831685812737}, {\"i\": 332, \"k\": 3, \"s\": 0.5853831685812737}, {\"i\": 333, \"k\": 3, \"s\": 0.5853831685812737}, {\"i\": 334, \"k\": 3, \"s\": 0.5853831685812737}, {\"i\": 335, \"k\": 3, \"s\": 0.5853831685812737}, {\"i\": 336, \"k\": 3, \"s\": 0.5853831685812737}, {\"i\": 337, \"k\": 3, \"s\": 0.5853831685812737}, {\"i\": 338, \"k\": 3, \"s\": 0.5853831685812737}, {\"i\": 339, \"k\": 3, \"s\": 0.5853831685812737}, {\"i\": 340, \"k\": 3, \"s\": 0.5853831685812737}, {\"i\": 341, \"k\": 3, \"s\": 0.5853831685812737}, {\"i\": 342, \"k\": 3, \"s\": 0.5853831685812737}, {\"i\": 343, \"k\": 3, \"s\": 0.47961957565269786}, {\"i\": 344, \"k\": 3, \"s\": 0.47961957565269786}, {\"i\": 345, \"k\": 3, \"s\": 0.47961957565269786}, {\"i\": 346, \"k\": 3, \"s\": 0.47961957565269786}, {\"i\": 347, \"k\": 3, \"s\": 0.47961957565269786}, {\"i\": 348, \"k\": 3, \"s\": 0.47961957565269786}, {\"i\": 349, \"k\": 3, \"s\": 0.47961957565269786}, {\"i\": 350, \"k\": 3, \"s\": 0.47961957565269786}, {\"i\": 351, \"k\": 3, \"s\": 0.47961957565269786}, {\"i\": 352, \"k\": 3, \"s\": 0.47961957565269786}, {\"i\": 353, \"k\": 3, \"s\": 0.47961957565269786}, {\"i\": 354, \"k\": 3, \"s\": 0.47961957565269786}, {\"i\": 355, \"k\": 3, \"s\": 0.47961957565269786}, {\"i\": 356, \"k\": 3, \"s\": 0.47961957565269786}, {\"i\": 357, \"k\": 3, \"s\": 0.47961957565269786}, {\"i\": 358, \"k\": 3, \"s\": 0.47961957565269786}, {\"i\": 359, \"k\": 3, \"s\": 0.47961957565269786}, {\"i\": 360, \"k\": 3, \"s\": 0.47961957565269786}, {\"i\": 361, \"k\": 3, \"s\": 0.47961957565269786}, {\"i\": 362, \"k\": 3, \"s\": 0.47961957565269786}, {\"i\": 363, \"k\": 3, \"s\": 0.47961957565269786}, {\"i\": 364, \"k\": 3, \"s\": 0.47961957565269786}, {\"i\": 365, \"k\": 3, \"s\": 0.47961957565269786}, {\"i\": 366, \"k\": 3, \"s\": 0.47961957565269786}, {\"i\": 367, \"k\": 3, \"s\": 0.47961957565269786}, {\"i\": 368, \"k\": 3, \"s\": 0.47961957565269786}, {\"i\": 369, \"k\": 3, \"s\": 0.47961957565269786}, {\"i\": 370, \"k\": 3, \"s\": 0.47961957565269786}, {\"i\": 371, \"k\": 3, \"s\": 0.47961957565269786}, {\"i\": 372, \"k\": 3, \"s\": 0.47961957565269786}, {\"i\": 373, \"k\": 3, \"s\": 0.47961957565269786}, {\"i\": 374, \"k\": 3, \"s\": 0.47961957565269786}, {\"i\": 375, \"k\": 3, \"s\": 0.47961957565269786}, {\"i\": 376, \"k\": 3, \"s\": 0.47961957565269786}, {\"i\": 377, \"k\": 3, \"s\": 0.47961957565269786}, {\"i\": 378, \"k\": 3, \"s\": 0.47961957565269786}, {\"i\": 379, \"k\": 3, \"s\": 0.47961957565269786}, {\"i\": 380, \"k\": 3, \"s\": 0.47961957565269786}, {\"i\": 381, \"k\": 3, \"s\": 0.47961957565269786}, {\"i\": 382, \"k\": 3, \"s\": 0.47961957565269786}, {\"i\": 383, \"k\": 3, \"s\": 0.47961957565269786}, {\"i\": 384, \"k\": 3, \"s\": 0.47961957565269786}, {\"i\": 385, \"k\": 3, \"s\": 0.6228934035513038}, {\"i\": 386, \"k\": 3, \"s\": 0.6228934035513038}, {\"i\": 387, \"k\": 3, \"s\": 0.6228934035513038}, {\"i\": 388, \"k\": 3, \"s\": 0.6228934035513038}, {\"i\": 389, \"k\": 3, \"s\": 0.6228934035513038}, {\"i\": 390, \"k\": 3, \"s\": 0.6228934035513038}, {\"i\": 391, \"k\": 3, \"s\": 0.6228934035513038}, {\"i\": 392, \"k\": 3, \"s\": 0.6228934035513038}, {\"i\": 393, \"k\": 3, \"s\": 0.6228934035513038}, {\"i\": 394, \"k\": 3, \"s\": 0.6228934035513038}, {\"i\": 395, \"k\": 3, \"s\": 0.6228934035513038}, {\"i\": 396, \"k\": 3, \"s\": 0.6228934035513038}, {\"i\": 397, \"k\": 3, \"s\": 0.6228934035513038}, {\"i\": 398, \"k\": 3, \"s\": 0.6228934035513038}, {\"i\": 399, \"k\": 3, \"s\": 0.6228934035513038}, {\"i\": 400, \"k\": 3, \"s\": 0.6228934035513038}, {\"i\": 401, \"k\": 3, \"s\": 0.6228934035513038}, {\"i\": 402, \"k\": 3, \"s\": 0.6228934035513038}, {\"i\": 403, \"k\": 3, \"s\": 0.6228934035513038}, {\"i\": 404, \"k\": 3, \"s\": 0.6228934035513038}, {\"i\": 405, \"k\": 3, \"s\": 0.6228934035513038}, {\"i\": 406, \"k\": 3, \"s\": 0.6228934035513038}, {\"i\": 407, \"k\": 3, \"s\": 0.6228934035513038}, {\"i\": 408, \"k\": 3, \"s\": 0.6228934035513038}, {\"i\": 409, \"k\": 3, \"s\": 0.6228934035513038}, {\"i\": 410, \"k\": 3, \"s\": 0.6228934035513038}, {\"i\": 411, \"k\": 3, \"s\": 0.6228934035513038}, {\"i\": 412, \"k\": 3, \"s\": 0.6228934035513038}, {\"i\": 413, \"k\": 3, \"s\": 0.6228934035513038}, {\"i\": 414, \"k\": 3, \"s\": 0.6228934035513038}, {\"i\": 415, \"k\": 3, \"s\": 0.6228934035513038}, {\"i\": 416, \"k\": 3, \"s\": 0.6228934035513038}, {\"i\": 417, \"k\": 3, \"s\": 0.6228934035513038}, {\"i\": 418, \"k\": 3, \"s\": 0.6228934035513038}, {\"i\": 419, \"k\": 3, \"s\": 0.6228934035513038}, {\"i\": 420, \"k\": 3, \"s\": 0.6228934035513038}, {\"i\": 421, \"k\": 3, \"s\": 0.6228934035513038}, {\"i\": 422, \"k\": 3, \"s\": 0.6228934035513038}, {\"i\": 423, \"k\": 3, \"s\": 0.6228934035513038}, {\"i\": 424, \"k\": 3, \"s\": 0.6228934035513038}, {\"i\": 425, \"k\": 3, \"s\": 0.674379827751812}, {\"i\": 426, \"k\": 3, \"s\": 0.674379827751812}, {\"i\": 427, \"k\": 3, \"s\": 0.674379827751812}, {\"i\": 428, \"k\": 3, \"s\": 0.674379827751812}, {\"i\": 429, \"k\": 3, \"s\": 0.674379827751812}, {\"i\": 430, \"k\": 3, \"s\": 0.674379827751812}, {\"i\": 431, \"k\": 3, \"s\": 0.674379827751812}, {\"i\": 432, \"k\": 3, \"s\": 0.674379827751812}, {\"i\": 433, \"k\": 3, \"s\": 0.674379827751812}, {\"i\": 434, \"k\": 3, \"s\": 0.674379827751812}, {\"i\": 435, \"k\": 3, \"s\": 0.674379827751812}, {\"i\": 436, \"k\": 3, \"s\": 0.674379827751812}, {\"i\": 437, \"k\": 3, \"s\": 0.674379827751812}, {\"i\": 438, \"k\": 3, \"s\": 0.674379827751812}, {\"i\": 439, \"k\": 3, \"s\": 0.674379827751812}, {\"i\": 440, \"k\": 3, \"s\": 0.674379827751812}, {\"i\": 441, \"k\": 3, \"s\": 0.674379827751812}, {\"i\": 442, \"k\": 3, \"s\": 0.674379827751812}, {\"i\": 443, \"k\": 3, \"s\": 0.674379827751812}, {\"i\": 444, \"k\": 3, \"s\": 0.674379827751812}, {\"i\": 445, \"k\": 3, \"s\": 0.674379827751812}, {\"i\": 446, \"k\": 3, \"s\": 0.674379827751812}, {\"i\": 447, \"k\": 3, \"s\": 0.674379827751812}, {\"i\": 448, \"k\": 3, \"s\": 0.674379827751812}, {\"i\": 449, \"k\": 3, \"s\": 0.674379827751812}, {\"i\": 450, \"k\": 3, \"s\": 0.674379827751812}, {\"i\": 451, \"k\": 3, \"s\": 0.674379827751812}, {\"i\": 452, \"k\": 3, \"s\": 0.674379827751812}, {\"i\": 453, \"k\": 3, \"s\": 0.674379827751812}, {\"i\": 454, \"k\": 3, \"s\": 0.674379827751812}, {\"i\": 455, \"k\": 3, \"s\": 0.674379827751812}, {\"i\": 456, \"k\": 3, \"s\": 0.674379827751812}, {\"i\": 457, \"k\": 3, \"s\": 0.674379827751812}, {\"i\": 458, \"k\": 3, \"s\": 0.674379827751812}, {\"i\": 459, \"k\": 3, \"s\": 0.674379827751812}, {\"i\": 460, \"k\": 3, \"s\": 0.674379827751812}, {\"i\": 461, \"k\": 3, \"s\": 0.674379827751812}, {\"i\": 462, \"k\": 3, \"s\": 0.674379827751812}, {\"i\": 463, \"k\": 3, \"s\": 0.674379827751812}, {\"i\": 464, \"k\": 3, \"s\": 0.674379827751812}, {\"i\": 465, \"k\": 3, \"s\": 0.674379827751812}, {\"i\": 466, \"k\": 3, \"s\": 0.674379827751812}, {\"i\": 467, \"k\": 3, \"s\": 0.674379827751812}, {\"i\": 468, \"k\": 3, \"s\": 0.6526280546150528}, {\"i\": 469, \"k\": 3, \"s\": 0.6526280546150528}, {\"i\": 470, \"k\": 3, \"s\": 0.6526280546150528}, {\"i\": 471, \"k\": 3, \"s\": 0.6526280546150528}, {\"i\": 472, \"k\": 3, \"s\": 0.6526280546150528}, {\"i\": 473, \"k\": 3, \"s\": 0.6526280546150528}, {\"i\": 474, \"k\": 3, \"s\": 0.6526280546150528}, {\"i\": 475, \"k\": 3, \"s\": 0.6526280546150528}, {\"i\": 476, \"k\": 3, \"s\": 0.6526280546150528}, {\"i\": 477, \"k\": 3, \"s\": 0.6526280546150528}, {\"i\": 478, \"k\": 3, \"s\": 0.6526280546150528}, {\"i\": 479, \"k\": 3, \"s\": 0.6526280546150528}, {\"i\": 480, \"k\": 3, \"s\": 0.6526280546150528}, {\"i\": 481, \"k\": 3, \"s\": 0.6526280546150528}, {\"i\": 482, \"k\": 3, \"s\": 0.6526280546150528}, {\"i\": 483, \"k\": 3, \"s\": 0.6526280546150528}, {\"i\": 484, \"k\": 3, \"s\": 0.6526280546150528}, {\"i\": 485, \"k\": 3, \"s\": 0.6526280546150528}, {\"i\": 486, \"k\": 3, \"s\": 0.6526280546150528}, {\"i\": 487, \"k\": 3, \"s\": 0.6526280546150528}, {\"i\": 488, \"k\": 3, \"s\": 0.6526280546150528}, {\"i\": 489, \"k\": 3, \"s\": 0.6526280546150528}, {\"i\": 490, \"k\": 3, \"s\": 0.6526280546150528}, {\"i\": 491, \"k\": 3, \"s\": 0.6526280546150528}, {\"i\": 492, \"k\": 3, \"s\": 0.6526280546150528}, {\"i\": 493, \"k\": 3, \"s\": 0.6526280546150528}, {\"i\": 494, \"k\": 3, \"s\": 0.6526280546150528}, {\"i\": 495, \"k\": 3, \"s\": 0.6526280546150528}, {\"i\": 496, \"k\": 3, \"s\": 0.6526280546150528}, {\"i\": 497, \"k\": 3, \"s\": 0.6526280546150528}, {\"i\": 498, \"k\": 3, \"s\": 0.6526280546150528}, {\"i\": 499, \"k\": 3, \"s\": 0.6526280546150528}, {\"i\": 500, \"k\": 3, \"s\": 0.6526280546150528}, {\"i\": 501, \"k\": 3, \"s\": 0.6526280546150528}, {\"i\": 502, \"k\": 3, \"s\": 0.6526280546150528}, {\"i\": 503, \"k\": 3, \"s\": 0.6526280546150528}, {\"i\": 504, \"k\": 3, \"s\": 0.6526280546150528}, {\"i\": 505, \"k\": 3, \"s\": 0.6526280546150528}, {\"i\": 506, \"k\": 3, \"s\": 0.6526280546150528}, {\"i\": 507, \"k\": 3, \"s\": 0.6526280546150528}, {\"i\": 508, \"k\": 3, \"s\": 0.6526280546150528}, {\"i\": 509, \"k\": 3, \"s\": 0.6526280546150528}, {\"i\": 510, \"k\": 3, \"s\": 0.6526280546150528}, {\"i\": 511, \"k\": 3, \"s\": 0.6231438725113277}, {\"i\": 512, \"k\": 3, \"s\": 0.6231438725113277}, {\"i\": 513, \"k\": 3, \"s\": 0.6231438725113277}, {\"i\": 514, \"k\": 3, \"s\": 0.6231438725113277}, {\"i\": 515, \"k\": 3, \"s\": 0.6231438725113277}, {\"i\": 516, \"k\": 3, \"s\": 0.6231438725113277}, {\"i\": 517, \"k\": 3, \"s\": 0.6231438725113277}, {\"i\": 518, \"k\": 3, \"s\": 0.6231438725113277}, {\"i\": 519, \"k\": 3, \"s\": 0.6231438725113277}, {\"i\": 520, \"k\": 3, \"s\": 0.6231438725113277}, {\"i\": 521, \"k\": 3, \"s\": 0.6231438725113277}, {\"i\": 522, \"k\": 3, \"s\": 0.6231438725113277}, {\"i\": 523, \"k\": 3, \"s\": 0.6231438725113277}, {\"i\": 524, \"k\": 3, \"s\": 0.6231438725113277}, {\"i\": 525, \"k\": 3, \"s\": 0.6231438725113277}, {\"i\": 526, \"k\": 3, \"s\": 0.6231438725113277}, {\"i\": 527, \"k\": 3, \"s\": 0.6231438725113277}, {\"i\": 528, \"k\": 3, \"s\": 0.6231438725113277}, {\"i\": 529, \"k\": 3, \"s\": 0.6231438725113277}, {\"i\": 530, \"k\": 3, \"s\": 0.6231438725113277}, {\"i\": 531, \"k\": 3, \"s\": 0.6231438725113277}, {\"i\": 532, \"k\": 3, \"s\": 0.6231438725113277}, {\"i\": 533, \"k\": 3, \"s\": 0.6231438725113277}, {\"i\": 534, \"k\": 3, \"s\": 0.6231438725113277}, {\"i\": 535, \"k\": 3, \"s\": 0.6231438725113277}, {\"i\": 536, \"k\": 3, \"s\": 0.6231438725113277}, {\"i\": 537, \"k\": 3, \"s\": 0.6231438725113277}, {\"i\": 538, \"k\": 3, \"s\": 0.6231438725113277}, {\"i\": 539, \"k\": 3, \"s\": 0.6231438725113277}, {\"i\": 540, \"k\": 3, \"s\": 0.6231438725113277}, {\"i\": 541, \"k\": 3, \"s\": 0.6231438725113277}, {\"i\": 542, \"k\": 3, \"s\": 0.6231438725113277}, {\"i\": 543, \"k\": 3, \"s\": 0.6231438725113277}, {\"i\": 544, \"k\": 3, \"s\": 0.6231438725113277}, {\"i\": 545, \"k\": 3, \"s\": 0.6231438725113277}, {\"i\": 546, \"k\": 3, \"s\": 0.6231438725113277}, {\"i\": 547, \"k\": 3, \"s\": 0.6231438725113277}, {\"i\": 548, \"k\": 3, \"s\": 0.6231438725113277}, {\"i\": 549, \"k\": 3, \"s\": 0.6231438725113277}, {\"i\": 550, \"k\": 3, \"s\": 0.6231438725113277}, {\"i\": 551, \"k\": 3, \"s\": 0.4088032263265449}, {\"i\": 552, \"k\": 3, \"s\": 0.4088032263265449}, {\"i\": 553, \"k\": 3, \"s\": 0.4088032263265449}, {\"i\": 554, \"k\": 3, \"s\": 0.4088032263265449}, {\"i\": 555, \"k\": 3, \"s\": 0.4088032263265449}, {\"i\": 556, \"k\": 3, \"s\": 0.4088032263265449}, {\"i\": 557, \"k\": 3, \"s\": 0.4088032263265449}, {\"i\": 558, \"k\": 3, \"s\": 0.4088032263265449}, {\"i\": 559, \"k\": 3, \"s\": 0.4088032263265449}, {\"i\": 560, \"k\": 3, \"s\": 0.4088032263265449}, {\"i\": 561, \"k\": 3, \"s\": 0.4088032263265449}, {\"i\": 562, \"k\": 3, \"s\": 0.20994730751962237}, {\"i\": 563, \"k\": 3, \"s\": 0.20994730751962237}, {\"i\": 564, \"k\": 3, \"s\": 0.20994730751962237}, {\"i\": 565, \"k\": 3, \"s\": 0.20994730751962237}, {\"i\": 566, \"k\": 3, \"s\": 0.20994730751962237}, {\"i\": 567, \"k\": 3, \"s\": 0.20994730751962237}, {\"i\": 568, \"k\": 3, \"s\": 0.20994730751962237}, {\"i\": 569, \"k\": 3, \"s\": 0.20994730751962237}, {\"i\": 570, \"k\": 3, \"s\": 0.20994730751962237}, {\"i\": 571, \"k\": 3, \"s\": 0.20994730751962237}, {\"i\": 572, \"k\": 3, \"s\": 0.20994730751962237}, {\"i\": 573, \"k\": 3, \"s\": 0.20994730751962237}, {\"i\": 574, \"k\": 3, \"s\": 0.20994730751962237}, {\"i\": 575, \"k\": 3, \"s\": 0.20994730751962237}, {\"i\": 576, \"k\": 3, \"s\": 0.20994730751962237}, {\"i\": 577, \"k\": 3, \"s\": 0.20994730751962237}, {\"i\": 578, \"k\": 3, \"s\": 0.20994730751962237}, {\"i\": 579, \"k\": 3, \"s\": 0.20994730751962237}, {\"i\": 580, \"k\": 3, \"s\": 0.20994730751962237}, {\"i\": 581, \"k\": 3, \"s\": 0.20994730751962237}, {\"i\": 582, \"k\": 3, \"s\": 0.20994730751962237}, {\"i\": 583, \"k\": 3, \"s\": 0.20994730751962237}, {\"i\": 584, \"k\": 3, \"s\": 0.20994730751962237}, {\"i\": 585, \"k\": 3, \"s\": 0.20994730751962237}, {\"i\": 586, \"k\": 3, \"s\": 0.20994730751962237}, {\"i\": 587, \"k\": 3, \"s\": 0.20994730751962237}, {\"i\": 588, \"k\": 3, \"s\": 0.20994730751962237}, {\"i\": 589, \"k\": 3, \"s\": -0.16694072310823813}, {\"i\": 590, \"k\": 3, \"s\": -0.16694072310823813}, {\"i\": 591, \"k\": 3, \"s\": -0.16694072310823813}, {\"i\": 592, \"k\": 3, \"s\": -0.16694072310823813}, {\"i\": 593, \"k\": 3, \"s\": -0.16694072310823813}, {\"i\": 594, \"k\": 3, \"s\": -0.16694072310823813}, {\"i\": 595, \"k\": 3, \"s\": -0.16694072310823813}, {\"i\": 596, \"k\": 3, \"s\": -0.16694072310823813}, {\"i\": 597, \"k\": 3, \"s\": -0.16694072310823813}, {\"i\": 598, \"k\": 3, \"s\": -0.16694072310823813}, {\"i\": 599, \"k\": 3, \"s\": -0.16694072310823813}, {\"i\": 600, \"k\": 3, \"s\": -0.16694072310823813}, {\"i\": 601, \"k\": 3, \"s\": -0.16694072310823813}, {\"i\": 602, \"k\": 3, \"s\": -0.16694072310823813}, {\"i\": 603, \"k\": 3, \"s\": -0.16694072310823813}, {\"i\": 604, \"k\": 3, \"s\": -0.16694072310823813}, {\"i\": 605, \"k\": 3, \"s\": -0.16694072310823813}, {\"i\": 606, \"k\": 3, \"s\": -0.16694072310823813}, {\"i\": 607, \"k\": 3, \"s\": -0.16694072310823813}, {\"i\": 608, \"k\": 3, \"s\": -0.16694072310823813}, {\"i\": 609, \"k\": 3, \"s\": -0.16694072310823813}, {\"i\": 610, \"k\": 3, \"s\": -0.16694072310823813}, {\"i\": 611, \"k\": 3, \"s\": -0.16694072310823813}, {\"i\": 612, \"k\": 3, \"s\": -0.16694072310823813}, {\"i\": 613, \"k\": 3, \"s\": -0.16694072310823813}, {\"i\": 614, \"k\": 3, \"s\": -0.16694072310823813}, {\"i\": 615, \"k\": 3, \"s\": -0.16694072310823813}, {\"i\": 616, \"k\": 3, \"s\": -0.16694072310823813}, {\"i\": 617, \"k\": 3, \"s\": -0.16694072310823813}, {\"i\": 618, \"k\": 3, \"s\": 0.4286577433860937}, {\"i\": 619, \"k\": 3, \"s\": 0.4286577433860937}, {\"i\": 620, \"k\": 3, \"s\": 0.4286577433860937}, {\"i\": 621, \"k\": 3, \"s\": 0.4286577433860937}, {\"i\": 622, \"k\": 3, \"s\": 0.4286577433860937}, {\"i\": 623, \"k\": 3, \"s\": 0.4286577433860937}, {\"i\": 624, \"k\": 3, \"s\": 0.4286577433860937}, {\"i\": 625, \"k\": 3, \"s\": 0.4286577433860937}, {\"i\": 626, \"k\": 3, \"s\": 0.4286577433860937}, {\"i\": 627, \"k\": 3, \"s\": 0.4286577433860937}, {\"i\": 628, \"k\": 3, \"s\": 0.4286577433860937}, {\"i\": 629, \"k\": 3, \"s\": 0.4286577433860937}, {\"i\": 630, \"k\": 3, \"s\": 0.4286577433860937}, {\"i\": 631, \"k\": 3, \"s\": 0.4286577433860937}, {\"i\": 632, \"k\": 3, \"s\": 0.4286577433860937}, {\"i\": 633, \"k\": 3, \"s\": 0.4286577433860937}, {\"i\": 634, \"k\": 3, \"s\": 0.4286577433860937}, {\"i\": 635, \"k\": 3, \"s\": 0.4286577433860937}, {\"i\": 636, \"k\": 3, \"s\": 0.4286577433860937}, {\"i\": 637, \"k\": 3, \"s\": 0.4286577433860937}, {\"i\": 638, \"k\": 3, \"s\": 0.4286577433860937}, {\"i\": 639, \"k\": 3, \"s\": 0.4286577433860937}, {\"i\": 640, \"k\": 3, \"s\": 0.6085250503127158}, {\"i\": 641, \"k\": 3, \"s\": 0.6085250503127158}, {\"i\": 642, \"k\": 3, \"s\": 0.6085250503127158}, {\"i\": 643, \"k\": 3, \"s\": 0.6085250503127158}, {\"i\": 644, \"k\": 3, \"s\": 0.6085250503127158}, {\"i\": 645, \"k\": 3, \"s\": 0.6085250503127158}, {\"i\": 646, \"k\": 3, \"s\": 0.6085250503127158}, {\"i\": 647, \"k\": 3, \"s\": 0.6085250503127158}, {\"i\": 648, \"k\": 3, \"s\": 0.6085250503127158}, {\"i\": 649, \"k\": 3, \"s\": 0.6085250503127158}, {\"i\": 650, \"k\": 3, \"s\": 0.6085250503127158}, {\"i\": 651, \"k\": 3, \"s\": 0.6085250503127158}, {\"i\": 652, \"k\": 3, \"s\": 0.6085250503127158}, {\"i\": 653, \"k\": 3, \"s\": 0.6085250503127158}, {\"i\": 654, \"k\": 3, \"s\": 0.6085250503127158}, {\"i\": 655, \"k\": 3, \"s\": 0.6085250503127158}, {\"i\": 656, \"k\": 3, \"s\": 0.6085250503127158}, {\"i\": 657, \"k\": 3, \"s\": 0.6085250503127158}, {\"i\": 658, \"k\": 3, \"s\": 0.6085250503127158}, {\"i\": 659, \"k\": 3, \"s\": 0.6085250503127158}, {\"i\": 660, \"k\": 3, \"s\": 0.6085250503127158}, {\"i\": 661, \"k\": 3, \"s\": 0.6085250503127158}, {\"i\": 662, \"k\": 3, \"s\": 0.6085250503127158}, {\"i\": 663, \"k\": 3, \"s\": 0.6085250503127158}, {\"i\": 664, \"k\": 3, \"s\": 0.6085250503127158}, {\"i\": 665, \"k\": 3, \"s\": 0.6085250503127158}, {\"i\": 666, \"k\": 3, \"s\": 0.6085250503127158}, {\"i\": 667, \"k\": 3, \"s\": 0.6085250503127158}, {\"i\": 668, \"k\": 3, \"s\": 0.6085250503127158}, {\"i\": 669, \"k\": 3, \"s\": 0.6085250503127158}, {\"i\": 670, \"k\": 3, \"s\": 0.6085250503127158}, {\"i\": 671, \"k\": 3, \"s\": 0.6085250503127158}, {\"i\": 672, \"k\": 3, \"s\": 0.6085250503127158}, {\"i\": 673, \"k\": 3, \"s\": 0.6085250503127158}, {\"i\": 674, \"k\": 3, \"s\": 0.6085250503127158}, {\"i\": 675, \"k\": 3, \"s\": 0.6085250503127158}, {\"i\": 676, \"k\": 3, \"s\": 0.6085250503127158}, {\"i\": 677, \"k\": 3, \"s\": 0.6085250503127158}, {\"i\": 678, \"k\": 3, \"s\": 0.6085250503127158}, {\"i\": 679, \"k\": 3, \"s\": 0.6085250503127158}, {\"i\": 680, \"k\": 3, \"s\": 0.6085250503127158}, {\"i\": 681, \"k\": 3, \"s\": 0.6085250503127158}, {\"i\": 682, \"k\": 3, \"s\": 0.6085250503127158}, {\"i\": 683, \"k\": 3, \"s\": 0.5545310882687541}, {\"i\": 684, \"k\": 3, \"s\": 0.5545310882687541}, {\"i\": 685, \"k\": 3, \"s\": 0.5545310882687541}, {\"i\": 686, \"k\": 3, \"s\": 0.5545310882687541}, {\"i\": 687, \"k\": 3, \"s\": 0.5545310882687541}, {\"i\": 688, \"k\": 3, \"s\": 0.5545310882687541}, {\"i\": 689, \"k\": 3, \"s\": 0.5545310882687541}, {\"i\": 690, \"k\": 3, \"s\": 0.5545310882687541}, {\"i\": 691, \"k\": 3, \"s\": 0.5545310882687541}, {\"i\": 692, \"k\": 3, \"s\": 0.5545310882687541}, {\"i\": 693, \"k\": 3, \"s\": 0.5545310882687541}, {\"i\": 694, \"k\": 3, \"s\": 0.5545310882687541}, {\"i\": 695, \"k\": 3, \"s\": 0.5545310882687541}, {\"i\": 696, \"k\": 3, \"s\": 0.5545310882687541}, {\"i\": 697, \"k\": 3, \"s\": 0.5545310882687541}, {\"i\": 698, \"k\": 3, \"s\": 0.5545310882687541}, {\"i\": 699, \"k\": 3, \"s\": 0.5545310882687541}, {\"i\": 700, \"k\": 3, \"s\": 0.5545310882687541}, {\"i\": 701, \"k\": 3, \"s\": 0.5545310882687541}, {\"i\": 702, \"k\": 3, \"s\": 0.5545310882687541}, {\"i\": 703, \"k\": 3, \"s\": 0.5545310882687541}, {\"i\": 704, \"k\": 3, \"s\": 0.5545310882687541}, {\"i\": 705, \"k\": 3, \"s\": 0.5545310882687541}, {\"i\": 706, \"k\": 3, \"s\": 0.5545310882687541}, {\"i\": 707, \"k\": 3, \"s\": 0.5545310882687541}, {\"i\": 708, \"k\": 3, \"s\": 0.5545310882687541}, {\"i\": 709, \"k\": 3, \"s\": 0.5545310882687541}, {\"i\": 710, \"k\": 3, \"s\": 0.5545310882687541}, {\"i\": 711, \"k\": 3, \"s\": 0.5545310882687541}, {\"i\": 712, \"k\": 3, \"s\": 0.5545310882687541}, {\"i\": 713, \"k\": 3, \"s\": 0.5545310882687541}, {\"i\": 714, \"k\": 3, \"s\": 0.5545310882687541}, {\"i\": 715, \"k\": 3, \"s\": 0.5545310882687541}, {\"i\": 716, \"k\": 3, \"s\": 0.5545310882687541}, {\"i\": 717, \"k\": 3, \"s\": 0.5545310882687541}, {\"i\": 718, \"k\": 3, \"s\": 0.5545310882687541}, {\"i\": 719, \"k\": 3, \"s\": 0.5545310882687541}, {\"i\": 720, \"k\": 3, \"s\": 0.5545310882687541}, {\"i\": 721, \"k\": 3, \"s\": 0.5545310882687541}, {\"i\": 722, \"k\": 3, \"s\": 0.5545310882687541}, {\"i\": 723, \"k\": 3, \"s\": 0.5545310882687541}, {\"i\": 724, \"k\": 3, \"s\": 0.5545310882687541}, {\"i\": 725, \"k\": 3, \"s\": 0.6710961236839045}, {\"i\": 726, \"k\": 3, \"s\": 0.6710961236839045}, {\"i\": 727, \"k\": 3, \"s\": 0.6710961236839045}, {\"i\": 728, \"k\": 3, \"s\": 0.6710961236839045}, {\"i\": 729, \"k\": 3, \"s\": 0.6710961236839045}, {\"i\": 730, \"k\": 3, \"s\": 0.6710961236839045}, {\"i\": 731, \"k\": 3, \"s\": 0.6710961236839045}, {\"i\": 732, \"k\": 3, \"s\": 0.6710961236839045}, {\"i\": 733, \"k\": 3, \"s\": 0.6710961236839045}, {\"i\": 734, \"k\": 3, \"s\": 0.6710961236839045}, {\"i\": 735, \"k\": 3, \"s\": 0.6710961236839045}, {\"i\": 736, \"k\": 3, \"s\": 0.6710961236839045}, {\"i\": 737, \"k\": 3, \"s\": 0.6710961236839045}, {\"i\": 738, \"k\": 3, \"s\": 0.6710961236839045}, {\"i\": 739, \"k\": 3, \"s\": 0.6710961236839045}, {\"i\": 740, \"k\": 3, \"s\": 0.6710961236839045}, {\"i\": 741, \"k\": 3, \"s\": 0.6710961236839045}, {\"i\": 742, \"k\": 3, \"s\": 0.6710961236839045}, {\"i\": 743, \"k\": 3, \"s\": 0.6710961236839045}, {\"i\": 744, \"k\": 3, \"s\": 0.6710961236839045}, {\"i\": 745, \"k\": 3, \"s\": 0.6710961236839045}, {\"i\": 746, \"k\": 3, \"s\": 0.6710961236839045}, {\"i\": 747, \"k\": 3, \"s\": 0.6710961236839045}, {\"i\": 748, \"k\": 3, \"s\": 0.6710961236839045}, {\"i\": 749, \"k\": 3, \"s\": 0.6710961236839045}, {\"i\": 750, \"k\": 3, \"s\": 0.6710961236839045}, {\"i\": 751, \"k\": 3, \"s\": 0.6710961236839045}, {\"i\": 752, \"k\": 3, \"s\": 0.6710961236839045}, {\"i\": 753, \"k\": 3, \"s\": 0.6710961236839045}, {\"i\": 754, \"k\": 3, \"s\": 0.6710961236839045}, {\"i\": 755, \"k\": 3, \"s\": 0.6710961236839045}, {\"i\": 756, \"k\": 3, \"s\": 0.6710961236839045}, {\"i\": 757, \"k\": 3, \"s\": 0.6710961236839045}, {\"i\": 758, \"k\": 3, \"s\": 0.6710961236839045}, {\"i\": 759, \"k\": 3, \"s\": 0.6710961236839045}, {\"i\": 760, \"k\": 3, \"s\": 0.6710961236839045}, {\"i\": 761, \"k\": 3, \"s\": 0.6710961236839045}, {\"i\": 762, \"k\": 3, \"s\": 0.6710961236839045}, {\"i\": 763, \"k\": 3, \"s\": 0.6710961236839045}, {\"i\": 764, \"k\": 3, \"s\": 0.6710961236839045}, {\"i\": 765, \"k\": 3, \"s\": 0.6710961236839045}, {\"i\": 766, \"k\": 3, \"s\": 0.6710961236839045}, {\"i\": 767, \"k\": 3, \"s\": 0.6710961236839045}, {\"i\": 768, \"k\": 3, \"s\": 0.6710961236839045}, {\"i\": 769, \"k\": 3, \"s\": 0.6710961236839045}, {\"i\": 770, \"k\": 3, \"s\": 0.6710961236839045}, {\"i\": 771, \"k\": 3, \"s\": 0.3658989198446148}, {\"i\": 772, \"k\": 3, \"s\": 0.3658989198446148}, {\"i\": 773, \"k\": 3, \"s\": 0.3658989198446148}, {\"i\": 774, \"k\": 3, \"s\": 0.3658989198446148}, {\"i\": 775, \"k\": 3, \"s\": 0.3658989198446148}, {\"i\": 776, \"k\": 3, \"s\": 0.3658989198446148}, {\"i\": 777, \"k\": 3, \"s\": 0.3658989198446148}, {\"i\": 778, \"k\": 3, \"s\": 0.3658989198446148}, {\"i\": 779, \"k\": 3, \"s\": 0.3658989198446148}, {\"i\": 780, \"k\": 3, \"s\": 0.3658989198446148}, {\"i\": 781, \"k\": 3, \"s\": 0.3658989198446148}, {\"i\": 782, \"k\": 3, \"s\": 0.3658989198446148}, {\"i\": 783, \"k\": 3, \"s\": 0.3658989198446148}, {\"i\": 784, \"k\": 3, \"s\": 0.3658989198446148}, {\"i\": 785, \"k\": 3, \"s\": 0.3658989198446148}, {\"i\": 786, \"k\": 3, \"s\": 0.3658989198446148}, {\"i\": 787, \"k\": 3, \"s\": 0.3658989198446148}, {\"i\": 788, \"k\": 3, \"s\": 0.3658989198446148}, {\"i\": 789, \"k\": 3, \"s\": 0.3658989198446148}, {\"i\": 790, \"k\": 3, \"s\": 0.3658989198446148}, {\"i\": 791, \"k\": 3, \"s\": 0.3658989198446148}, {\"i\": 792, \"k\": 3, \"s\": 0.3658989198446148}, {\"i\": 793, \"k\": 3, \"s\": 0.3658989198446148}, {\"i\": 794, \"k\": 3, \"s\": 0.3658989198446148}, {\"i\": 795, \"k\": 3, \"s\": 0.3658989198446148}, {\"i\": 796, \"k\": 3, \"s\": 0.3658989198446148}, {\"i\": 797, \"k\": 3, \"s\": 0.10676005715737455}, {\"i\": 798, \"k\": 3, \"s\": 0.10676005715737455}, {\"i\": 799, \"k\": 3, \"s\": 0.10676005715737455}, {\"i\": 800, \"k\": 3, \"s\": 0.10676005715737455}, {\"i\": 801, \"k\": 3, \"s\": 0.10676005715737455}, {\"i\": 802, \"k\": 3, \"s\": 0.10676005715737455}, {\"i\": 803, \"k\": 3, \"s\": 0.10676005715737455}, {\"i\": 804, \"k\": 3, \"s\": 0.10676005715737455}, {\"i\": 805, \"k\": 3, \"s\": 0.10676005715737455}, {\"i\": 806, \"k\": 3, \"s\": 0.10676005715737455}, {\"i\": 807, \"k\": 3, \"s\": 0.10676005715737455}, {\"i\": 808, \"k\": 3, \"s\": 0.10676005715737455}, {\"i\": 809, \"k\": 3, \"s\": 0.10676005715737455}, {\"i\": 810, \"k\": 3, \"s\": 0.10676005715737455}, {\"i\": 811, \"k\": 3, \"s\": 0.10676005715737455}, {\"i\": 812, \"k\": 3, \"s\": 0.10676005715737455}, {\"i\": 813, \"k\": 3, \"s\": 0.10676005715737455}, {\"i\": 814, \"k\": 3, \"s\": 0.10676005715737455}, {\"i\": 815, \"k\": 3, \"s\": 0.10676005715737455}, {\"i\": 816, \"k\": 3, \"s\": 0.10676005715737455}, {\"i\": 817, \"k\": 3, \"s\": 0.10676005715737455}, {\"i\": 818, \"k\": 3, \"s\": 0.10676005715737455}, {\"i\": 819, \"k\": 3, \"s\": 0.10676005715737455}, {\"i\": 820, \"k\": 3, \"s\": 0.10676005715737455}, {\"i\": 821, \"k\": 3, \"s\": 0.10676005715737455}, {\"i\": 822, \"k\": 3, \"s\": 0.10676005715737455}, {\"i\": 823, \"k\": 3, \"s\": 0.10676005715737455}, {\"i\": 824, \"k\": 3, \"s\": 0.7041053281183702}, {\"i\": 825, \"k\": 3, \"s\": 0.7041053281183702}, {\"i\": 826, \"k\": 3, \"s\": 0.7041053281183702}, {\"i\": 827, \"k\": 3, \"s\": 0.7041053281183702}, {\"i\": 828, \"k\": 3, \"s\": 0.7041053281183702}, {\"i\": 829, \"k\": 3, \"s\": 0.7041053281183702}, {\"i\": 830, \"k\": 3, \"s\": 0.7041053281183702}, {\"i\": 831, \"k\": 3, \"s\": 0.7041053281183702}, {\"i\": 832, \"k\": 3, \"s\": 0.7041053281183702}, {\"i\": 833, \"k\": 3, \"s\": 0.7041053281183702}, {\"i\": 834, \"k\": 3, \"s\": 0.7041053281183702}, {\"i\": 835, \"k\": 3, \"s\": 0.7041053281183702}, {\"i\": 836, \"k\": 3, \"s\": 0.7041053281183702}, {\"i\": 837, \"k\": 3, \"s\": 0.7041053281183702}, {\"i\": 838, \"k\": 3, \"s\": 0.7041053281183702}, {\"i\": 839, \"k\": 3, \"s\": 0.7041053281183702}, {\"i\": 840, \"k\": 3, \"s\": 0.7041053281183702}, {\"i\": 841, \"k\": 3, \"s\": 0.7041053281183702}, {\"i\": 842, \"k\": 3, \"s\": 0.7041053281183702}, {\"i\": 843, \"k\": 3, \"s\": 0.7041053281183702}, {\"i\": 844, \"k\": 3, \"s\": 0.7041053281183702}, {\"i\": 845, \"k\": 3, \"s\": 0.7041053281183702}, {\"i\": 846, \"k\": 3, \"s\": 0.7041053281183702}, {\"i\": 847, \"k\": 3, \"s\": 0.7041053281183702}, {\"i\": 848, \"k\": 3, \"s\": 0.7041053281183702}, {\"i\": 849, \"k\": 3, \"s\": 0.7041053281183702}, {\"i\": 850, \"k\": 3, \"s\": 0.7041053281183702}, {\"i\": 851, \"k\": 3, \"s\": 0.7041053281183702}, {\"i\": 852, \"k\": 3, \"s\": 0.7041053281183702}, {\"i\": 853, \"k\": 3, \"s\": 0.7041053281183702}, {\"i\": 854, \"k\": 3, \"s\": 0.7041053281183702}, {\"i\": 855, \"k\": 3, \"s\": 0.7041053281183702}, {\"i\": 856, \"k\": 3, \"s\": 0.7041053281183702}, {\"i\": 857, \"k\": 3, \"s\": 0.7041053281183702}, {\"i\": 858, \"k\": 3, \"s\": 0.7041053281183702}, {\"i\": 859, \"k\": 3, \"s\": 0.7041053281183702}, {\"i\": 860, \"k\": 3, \"s\": 0.7041053281183702}, {\"i\": 861, \"k\": 3, \"s\": 0.7041053281183702}, {\"i\": 862, \"k\": 3, \"s\": 0.7041053281183702}, {\"i\": 863, \"k\": 3, \"s\": 0.7041053281183702}, {\"i\": 864, \"k\": 3, \"s\": 0.7041053281183702}, {\"i\": 865, \"k\": 3, \"s\": 0.7041053281183702}, {\"i\": 866, \"k\": 3, \"s\": 0.7041053281183702}, {\"i\": 867, \"k\": 3, \"s\": 0.7041053281183702}, {\"i\": 868, \"k\": 3, \"s\": 0.6907250629320159}, {\"i\": 869, \"k\": 3, \"s\": 0.6907250629320159}, {\"i\": 870, \"k\": 3, \"s\": 0.6907250629320159}, {\"i\": 871, \"k\": 3, \"s\": 0.6907250629320159}, {\"i\": 872, \"k\": 3, \"s\": 0.6907250629320159}, {\"i\": 873, \"k\": 3, \"s\": 0.6907250629320159}, {\"i\": 874, \"k\": 3, \"s\": 0.6907250629320159}, {\"i\": 875, \"k\": 3, \"s\": 0.6907250629320159}, {\"i\": 876, \"k\": 3, \"s\": 0.6907250629320159}, {\"i\": 877, \"k\": 3, \"s\": 0.6907250629320159}, {\"i\": 878, \"k\": 3, \"s\": 0.6907250629320159}, {\"i\": 879, \"k\": 3, \"s\": 0.6907250629320159}, {\"i\": 880, \"k\": 3, \"s\": 0.6907250629320159}, {\"i\": 881, \"k\": 3, \"s\": 0.6907250629320159}, {\"i\": 882, \"k\": 3, \"s\": 0.6907250629320159}, {\"i\": 883, \"k\": 3, \"s\": 0.6907250629320159}, {\"i\": 884, \"k\": 3, \"s\": 0.6907250629320159}, {\"i\": 885, \"k\": 3, \"s\": 0.6907250629320159}, {\"i\": 886, \"k\": 3, \"s\": 0.6907250629320159}, {\"i\": 887, \"k\": 3, \"s\": 0.6907250629320159}, {\"i\": 888, \"k\": 3, \"s\": 0.6907250629320159}, {\"i\": 889, \"k\": 3, \"s\": 0.6907250629320159}, {\"i\": 890, \"k\": 3, \"s\": 0.6907250629320159}, {\"i\": 891, \"k\": 3, \"s\": 0.6907250629320159}, {\"i\": 892, \"k\": 3, \"s\": 0.6907250629320159}, {\"i\": 893, \"k\": 3, \"s\": 0.6907250629320159}, {\"i\": 894, \"k\": 3, \"s\": 0.6907250629320159}, {\"i\": 895, \"k\": 3, \"s\": 0.6907250629320159}, {\"i\": 896, \"k\": 3, \"s\": 0.6907250629320159}, {\"i\": 897, \"k\": 3, \"s\": 0.6907250629320159}, {\"i\": 898, \"k\": 3, \"s\": 0.6907250629320159}, {\"i\": 899, \"k\": 3, \"s\": 0.6907250629320159}, {\"i\": 900, \"k\": 3, \"s\": 0.6907250629320159}, {\"i\": 901, \"k\": 3, \"s\": 0.6907250629320159}, {\"i\": 902, \"k\": 3, \"s\": 0.6907250629320159}, {\"i\": 903, \"k\": 3, \"s\": 0.6907250629320159}, {\"i\": 904, \"k\": 3, \"s\": 0.6907250629320159}, {\"i\": 905, \"k\": 3, \"s\": 0.6907250629320159}, {\"i\": 906, \"k\": 3, \"s\": 0.6907250629320159}, {\"i\": 907, \"k\": 3, \"s\": 0.6907250629320159}, {\"i\": 908, \"k\": 3, \"s\": 0.6907250629320159}, {\"i\": 909, \"k\": 3, \"s\": 0.6907250629320159}, {\"i\": 910, \"k\": 3, \"s\": 0.6907250629320159}, {\"i\": 911, \"k\": 3, \"s\": 0.6907250629320159}, {\"i\": 912, \"k\": 3, \"s\": 0.681640012766259}, {\"i\": 913, \"k\": 3, \"s\": 0.681640012766259}, {\"i\": 914, \"k\": 3, \"s\": 0.681640012766259}, {\"i\": 915, \"k\": 3, \"s\": 0.681640012766259}, {\"i\": 916, \"k\": 3, \"s\": 0.681640012766259}, {\"i\": 917, \"k\": 3, \"s\": 0.681640012766259}, {\"i\": 918, \"k\": 3, \"s\": 0.681640012766259}, {\"i\": 919, \"k\": 3, \"s\": 0.681640012766259}, {\"i\": 920, \"k\": 3, \"s\": 0.681640012766259}, {\"i\": 921, \"k\": 3, \"s\": 0.681640012766259}, {\"i\": 922, \"k\": 3, \"s\": 0.681640012766259}, {\"i\": 923, \"k\": 3, \"s\": 0.681640012766259}, {\"i\": 924, \"k\": 3, \"s\": 0.681640012766259}, {\"i\": 925, \"k\": 3, \"s\": 0.681640012766259}, {\"i\": 926, \"k\": 3, \"s\": 0.681640012766259}, {\"i\": 927, \"k\": 3, \"s\": 0.681640012766259}, {\"i\": 928, \"k\": 3, \"s\": 0.681640012766259}, {\"i\": 929, \"k\": 3, \"s\": 0.681640012766259}, {\"i\": 930, \"k\": 3, \"s\": 0.681640012766259}, {\"i\": 931, \"k\": 3, \"s\": 0.681640012766259}, {\"i\": 932, \"k\": 3, \"s\": 0.681640012766259}, {\"i\": 933, \"k\": 3, \"s\": 0.681640012766259}, {\"i\": 934, \"k\": 3, \"s\": 0.681640012766259}, {\"i\": 935, \"k\": 3, \"s\": 0.681640012766259}, {\"i\": 936, \"k\": 3, \"s\": 0.681640012766259}, {\"i\": 937, \"k\": 3, \"s\": 0.681640012766259}, {\"i\": 938, \"k\": 3, \"s\": 0.681640012766259}, {\"i\": 939, \"k\": 3, \"s\": 0.681640012766259}, {\"i\": 940, \"k\": 3, \"s\": 0.681640012766259}, {\"i\": 941, \"k\": 3, \"s\": 0.681640012766259}, {\"i\": 942, \"k\": 3, \"s\": 0.681640012766259}, {\"i\": 943, \"k\": 3, \"s\": 0.681640012766259}, {\"i\": 944, \"k\": 3, \"s\": 0.681640012766259}, {\"i\": 945, \"k\": 3, \"s\": 0.681640012766259}, {\"i\": 946, \"k\": 3, \"s\": 0.681640012766259}, {\"i\": 947, \"k\": 3, \"s\": 0.681640012766259}, {\"i\": 948, \"k\": 3, \"s\": 0.681640012766259}, {\"i\": 949, \"k\": 3, \"s\": 0.681640012766259}, {\"i\": 950, \"k\": 3, \"s\": 0.681640012766259}, {\"i\": 951, \"k\": 3, \"s\": 0.681640012766259}, {\"i\": 952, \"k\": 3, \"s\": 0.681640012766259}, {\"i\": 953, \"k\": 3, \"s\": 0.681640012766259}, {\"i\": 954, \"k\": 3, \"s\": 0.681640012766259}, {\"i\": 955, \"k\": 3, \"s\": 0.681640012766259}, {\"i\": 956, \"k\": 3, \"s\": 0.681640012766259}, {\"i\": 957, \"k\": 3, \"s\": 0.681640012766259}, {\"i\": 958, \"k\": 3, \"s\": 0.681640012766259}, {\"i\": 959, \"k\": 3, \"s\": 0.7127839779482172}, {\"i\": 960, \"k\": 3, \"s\": 0.7127839779482172}, {\"i\": 961, \"k\": 3, \"s\": 0.7127839779482172}, {\"i\": 962, \"k\": 3, \"s\": 0.7127839779482172}, {\"i\": 963, \"k\": 3, \"s\": 0.7127839779482172}, {\"i\": 964, \"k\": 3, \"s\": 0.7127839779482172}, {\"i\": 965, \"k\": 3, \"s\": 0.7127839779482172}, {\"i\": 966, \"k\": 3, \"s\": 0.7127839779482172}, {\"i\": 967, \"k\": 3, \"s\": 0.7127839779482172}, {\"i\": 968, \"k\": 3, \"s\": 0.7127839779482172}, {\"i\": 969, \"k\": 3, \"s\": 0.7127839779482172}, {\"i\": 970, \"k\": 3, \"s\": 0.7127839779482172}, {\"i\": 971, \"k\": 3, \"s\": 0.7127839779482172}, {\"i\": 972, \"k\": 3, \"s\": 0.7127839779482172}, {\"i\": 973, \"k\": 3, \"s\": 0.7127839779482172}, {\"i\": 974, \"k\": 3, \"s\": 0.7127839779482172}, {\"i\": 975, \"k\": 3, \"s\": 0.7127839779482172}, {\"i\": 976, \"k\": 3, \"s\": 0.7127839779482172}, {\"i\": 977, \"k\": 3, \"s\": 0.7127839779482172}, {\"i\": 978, \"k\": 3, \"s\": 0.7127839779482172}, {\"i\": 979, \"k\": 3, \"s\": 0.7127839779482172}, {\"i\": 980, \"k\": 3, \"s\": 0.7127839779482172}, {\"i\": 981, \"k\": 3, \"s\": 0.7127839779482172}, {\"i\": 982, \"k\": 3, \"s\": 0.7127839779482172}, {\"i\": 983, \"k\": 3, \"s\": 0.7127839779482172}, {\"i\": 984, \"k\": 3, \"s\": 0.7127839779482172}, {\"i\": 985, \"k\": 3, \"s\": 0.7127839779482172}, {\"i\": 986, \"k\": 3, \"s\": 0.7127839779482172}, {\"i\": 987, \"k\": 3, \"s\": 0.7127839779482172}, {\"i\": 988, \"k\": 3, \"s\": 0.7127839779482172}, {\"i\": 989, \"k\": 3, \"s\": 0.7127839779482172}, {\"i\": 990, \"k\": 3, \"s\": 0.7127839779482172}, {\"i\": 991, \"k\": 3, \"s\": 0.7127839779482172}, {\"i\": 992, \"k\": 3, \"s\": 0.7127839779482172}, {\"i\": 993, \"k\": 3, \"s\": 0.7127839779482172}, {\"i\": 994, \"k\": 3, \"s\": 0.7127839779482172}, {\"i\": 995, \"k\": 3, \"s\": 0.7127839779482172}, {\"i\": 996, \"k\": 3, \"s\": 0.7127839779482172}, {\"i\": 997, \"k\": 3, \"s\": 0.7127839779482172}, {\"i\": 998, \"k\": 3, \"s\": 0.7127839779482172}, {\"i\": 999, \"k\": 3, \"s\": 0.7127839779482172}, {\"i\": 1000, \"k\": 3, \"s\": 0.7127839779482172}, {\"i\": 1001, \"k\": 3, \"s\": 0.35800999708416836}, {\"i\": 1002, \"k\": 3, \"s\": 0.35800999708416836}, {\"i\": 1003, \"k\": 3, \"s\": 0.35800999708416836}, {\"i\": 1004, \"k\": 3, \"s\": 0.35800999708416836}, {\"i\": 1005, \"k\": 3, \"s\": 0.35800999708416836}, {\"i\": 1006, \"k\": 3, \"s\": 0.35800999708416836}, {\"i\": 1007, \"k\": 3, \"s\": 0.35800999708416836}, {\"i\": 1008, \"k\": 3, \"s\": 0.35800999708416836}, {\"i\": 1009, \"k\": 3, \"s\": 0.35800999708416836}, {\"i\": 1010, \"k\": 3, \"s\": 0.35800999708416836}, {\"i\": 1011, \"k\": 3, \"s\": 0.35800999708416836}, {\"i\": 1012, \"k\": 3, \"s\": 0.35800999708416836}, {\"i\": 1013, \"k\": 3, \"s\": 0.35800999708416836}, {\"i\": 1014, \"k\": 3, \"s\": 0.35800999708416836}, {\"i\": 1015, \"k\": 3, \"s\": 0.35800999708416836}, {\"i\": 1016, \"k\": 3, \"s\": 0.35800999708416836}, {\"i\": 1017, \"k\": 3, \"s\": 0.35800999708416836}, {\"i\": 1018, \"k\": 3, \"s\": 0.35800999708416836}, {\"i\": 1019, \"k\": 3, \"s\": 0.35800999708416836}, {\"i\": 1020, \"k\": 3, \"s\": 0.35800999708416836}, {\"i\": 1021, \"k\": 3, \"s\": 0.35800999708416836}, {\"i\": 1022, \"k\": 3, \"s\": 0.35800999708416836}, {\"i\": 1023, \"k\": 3, \"s\": 0.35800999708416836}, {\"i\": 1024, \"k\": 3, \"s\": 0.35800999708416836}, {\"i\": 1025, \"k\": 3, \"s\": 0.35800999708416836}, {\"i\": 1026, \"k\": 3, \"s\": 0.35800999708416836}, {\"i\": 1027, \"k\": 3, \"s\": 0.35800999708416836}, {\"i\": 1028, \"k\": 3, \"s\": 0.35800999708416836}, {\"i\": 1029, \"k\": 3, \"s\": 0.35800999708416836}, {\"i\": 1030, \"k\": 3, \"s\": 0.35800999708416836}, {\"i\": 1031, \"k\": 3, \"s\": 0.35800999708416836}, {\"i\": 1032, \"k\": 3, \"s\": 0.35800999708416836}, {\"i\": 1033, \"k\": 3, \"s\": 0.35800999708416836}, {\"i\": 1034, \"k\": 3, \"s\": 0.6504203442767635}, {\"i\": 1035, \"k\": 3, \"s\": 0.6504203442767635}, {\"i\": 1036, \"k\": 3, \"s\": 0.6504203442767635}, {\"i\": 1037, \"k\": 3, \"s\": 0.6504203442767635}, {\"i\": 1038, \"k\": 3, \"s\": 0.6504203442767635}, {\"i\": 1039, \"k\": 3, \"s\": 0.6504203442767635}, {\"i\": 1040, \"k\": 3, \"s\": 0.6504203442767635}, {\"i\": 1041, \"k\": 3, \"s\": 0.6504203442767635}, {\"i\": 1042, \"k\": 3, \"s\": 0.6504203442767635}, {\"i\": 1043, \"k\": 3, \"s\": 0.6504203442767635}, {\"i\": 1044, \"k\": 3, \"s\": 0.6504203442767635}, {\"i\": 1045, \"k\": 3, \"s\": 0.6504203442767635}, {\"i\": 1046, \"k\": 3, \"s\": 0.6504203442767635}, {\"i\": 1047, \"k\": 3, \"s\": 0.6504203442767635}, {\"i\": 1048, \"k\": 3, \"s\": 0.6504203442767635}, {\"i\": 1049, \"k\": 3, \"s\": 0.6504203442767635}, {\"i\": 1050, \"k\": 3, \"s\": 0.6504203442767635}, {\"i\": 1051, \"k\": 3, \"s\": 0.6504203442767635}, {\"i\": 1052, \"k\": 3, \"s\": 0.6504203442767635}, {\"i\": 1053, \"k\": 3, \"s\": 0.6504203442767635}, {\"i\": 1054, \"k\": 3, \"s\": 0.6504203442767635}, {\"i\": 1055, \"k\": 3, \"s\": 0.6504203442767635}, {\"i\": 1056, \"k\": 3, \"s\": 0.6504203442767635}, {\"i\": 1057, \"k\": 3, \"s\": 0.6504203442767635}, {\"i\": 1058, \"k\": 3, \"s\": 0.6504203442767635}, {\"i\": 1059, \"k\": 3, \"s\": 0.6504203442767635}, {\"i\": 1060, \"k\": 3, \"s\": 0.6504203442767635}, {\"i\": 1061, \"k\": 3, \"s\": 0.6504203442767635}, {\"i\": 1062, \"k\": 3, \"s\": 0.6504203442767635}, {\"i\": 1063, \"k\": 3, \"s\": 0.6504203442767635}, {\"i\": 1064, \"k\": 3, \"s\": 0.6504203442767635}, {\"i\": 1065, \"k\": 3, \"s\": 0.6504203442767635}, {\"i\": 1066, \"k\": 3, \"s\": 0.6504203442767635}, {\"i\": 1067, \"k\": 3, \"s\": 0.6504203442767635}, {\"i\": 1068, \"k\": 3, \"s\": 0.6504203442767635}, {\"i\": 1069, \"k\": 3, \"s\": 0.6504203442767635}, {\"i\": 1070, \"k\": 3, \"s\": 0.6504203442767635}, {\"i\": 1071, \"k\": 3, \"s\": 0.6504203442767635}, {\"i\": 1072, \"k\": 3, \"s\": 0.6504203442767635}, {\"i\": 1073, \"k\": 3, \"s\": 0.6504203442767635}, {\"i\": 1074, \"k\": 3, \"s\": 0.6504203442767635}, {\"i\": 1075, \"k\": 3, \"s\": 0.6504203442767635}, {\"i\": 1076, \"k\": 3, \"s\": 0.7262107521258816}, {\"i\": 1077, \"k\": 3, \"s\": 0.7262107521258816}, {\"i\": 1078, \"k\": 3, \"s\": 0.7262107521258816}, {\"i\": 1079, \"k\": 3, \"s\": 0.7262107521258816}, {\"i\": 1080, \"k\": 3, \"s\": 0.7262107521258816}, {\"i\": 1081, \"k\": 3, \"s\": 0.7262107521258816}, {\"i\": 1082, \"k\": 3, \"s\": 0.7262107521258816}, {\"i\": 1083, \"k\": 3, \"s\": 0.7262107521258816}, {\"i\": 1084, \"k\": 3, \"s\": 0.7262107521258816}, {\"i\": 1085, \"k\": 3, \"s\": 0.7262107521258816}, {\"i\": 1086, \"k\": 3, \"s\": 0.7262107521258816}, {\"i\": 1087, \"k\": 3, \"s\": 0.7262107521258816}, {\"i\": 1088, \"k\": 3, \"s\": 0.7262107521258816}, {\"i\": 1089, \"k\": 3, \"s\": 0.7262107521258816}, {\"i\": 1090, \"k\": 3, \"s\": 0.7262107521258816}, {\"i\": 1091, \"k\": 3, \"s\": 0.7262107521258816}, {\"i\": 1092, \"k\": 3, \"s\": 0.7262107521258816}, {\"i\": 1093, \"k\": 3, \"s\": 0.7262107521258816}, {\"i\": 1094, \"k\": 3, \"s\": 0.7262107521258816}, {\"i\": 1095, \"k\": 3, \"s\": 0.7262107521258816}, {\"i\": 1096, \"k\": 3, \"s\": 0.7262107521258816}, {\"i\": 1097, \"k\": 3, \"s\": 0.7262107521258816}, {\"i\": 1098, \"k\": 3, \"s\": 0.7262107521258816}, {\"i\": 1099, \"k\": 3, \"s\": 0.7262107521258816}, {\"i\": 1100, \"k\": 3, \"s\": 0.7262107521258816}, {\"i\": 1101, \"k\": 3, \"s\": 0.7262107521258816}, {\"i\": 1102, \"k\": 3, \"s\": 0.7262107521258816}, {\"i\": 1103, \"k\": 3, \"s\": 0.7262107521258816}, {\"i\": 1104, \"k\": 3, \"s\": 0.7262107521258816}, {\"i\": 1105, \"k\": 3, \"s\": 0.7262107521258816}, {\"i\": 1106, \"k\": 3, \"s\": 0.7262107521258816}, {\"i\": 1107, \"k\": 3, \"s\": 0.7262107521258816}, {\"i\": 1108, \"k\": 3, \"s\": 0.7262107521258816}, {\"i\": 1109, \"k\": 3, \"s\": 0.7262107521258816}, {\"i\": 1110, \"k\": 3, \"s\": 0.7262107521258816}, {\"i\": 1111, \"k\": 3, \"s\": 0.7262107521258816}, {\"i\": 1112, \"k\": 3, \"s\": 0.7262107521258816}, {\"i\": 1113, \"k\": 3, \"s\": 0.7262107521258816}, {\"i\": 1114, \"k\": 3, \"s\": 0.7262107521258816}, {\"i\": 1115, \"k\": 3, \"s\": 0.7262107521258816}, {\"i\": 1116, \"k\": 3, \"s\": 0.723507970104574}, {\"i\": 1117, \"k\": 3, \"s\": 0.723507970104574}, {\"i\": 1118, \"k\": 3, \"s\": 0.723507970104574}, {\"i\": 1119, \"k\": 3, \"s\": 0.723507970104574}, {\"i\": 1120, \"k\": 3, \"s\": 0.723507970104574}, {\"i\": 1121, \"k\": 3, \"s\": 0.723507970104574}, {\"i\": 1122, \"k\": 3, \"s\": 0.723507970104574}, {\"i\": 1123, \"k\": 3, \"s\": 0.723507970104574}, {\"i\": 1124, \"k\": 3, \"s\": 0.723507970104574}, {\"i\": 1125, \"k\": 3, \"s\": 0.723507970104574}, {\"i\": 1126, \"k\": 3, \"s\": 0.723507970104574}, {\"i\": 1127, \"k\": 3, \"s\": 0.723507970104574}, {\"i\": 1128, \"k\": 3, \"s\": 0.723507970104574}, {\"i\": 1129, \"k\": 3, \"s\": 0.723507970104574}, {\"i\": 1130, \"k\": 3, \"s\": 0.723507970104574}, {\"i\": 1131, \"k\": 3, \"s\": 0.723507970104574}, {\"i\": 1132, \"k\": 3, \"s\": 0.723507970104574}, {\"i\": 1133, \"k\": 3, \"s\": 0.723507970104574}, {\"i\": 1134, \"k\": 3, \"s\": 0.723507970104574}, {\"i\": 1135, \"k\": 3, \"s\": 0.723507970104574}, {\"i\": 1136, \"k\": 3, \"s\": 0.723507970104574}, {\"i\": 1137, \"k\": 3, \"s\": 0.723507970104574}, {\"i\": 1138, \"k\": 3, \"s\": 0.723507970104574}, {\"i\": 1139, \"k\": 3, \"s\": 0.723507970104574}, {\"i\": 1140, \"k\": 3, \"s\": 0.723507970104574}, {\"i\": 1141, \"k\": 3, \"s\": 0.723507970104574}, {\"i\": 1142, \"k\": 3, \"s\": 0.723507970104574}, {\"i\": 1143, \"k\": 3, \"s\": 0.723507970104574}, {\"i\": 1144, \"k\": 3, \"s\": 0.723507970104574}, {\"i\": 1145, \"k\": 3, \"s\": 0.723507970104574}, {\"i\": 1146, \"k\": 3, \"s\": 0.723507970104574}, {\"i\": 1147, \"k\": 3, \"s\": 0.723507970104574}, {\"i\": 1148, \"k\": 3, \"s\": 0.723507970104574}, {\"i\": 1149, \"k\": 3, \"s\": 0.723507970104574}, {\"i\": 1150, \"k\": 3, \"s\": 0.723507970104574}, {\"i\": 1151, \"k\": 3, \"s\": 0.723507970104574}, {\"i\": 1152, \"k\": 3, \"s\": 0.723507970104574}, {\"i\": 1153, \"k\": 3, \"s\": 0.723507970104574}, {\"i\": 1154, \"k\": 3, \"s\": 0.723507970104574}, {\"i\": 1155, \"k\": 3, \"s\": 0.723507970104574}, {\"i\": 1156, \"k\": 3, \"s\": 0.723507970104574}, {\"i\": 1157, \"k\": 3, \"s\": 0.637018215051668}, {\"i\": 1158, \"k\": 3, \"s\": 0.637018215051668}, {\"i\": 1159, \"k\": 3, \"s\": 0.637018215051668}, {\"i\": 1160, \"k\": 3, \"s\": 0.637018215051668}, {\"i\": 1161, \"k\": 3, \"s\": 0.637018215051668}, {\"i\": 1162, \"k\": 3, \"s\": 0.637018215051668}, {\"i\": 1163, \"k\": 3, \"s\": 0.637018215051668}, {\"i\": 1164, \"k\": 3, \"s\": 0.637018215051668}, {\"i\": 1165, \"k\": 3, \"s\": 0.637018215051668}, {\"i\": 1166, \"k\": 3, \"s\": 0.637018215051668}, {\"i\": 1167, \"k\": 3, \"s\": 0.637018215051668}, {\"i\": 1168, \"k\": 3, \"s\": 0.637018215051668}, {\"i\": 1169, \"k\": 3, \"s\": 0.637018215051668}, {\"i\": 1170, \"k\": 3, \"s\": 0.637018215051668}, {\"i\": 1171, \"k\": 3, \"s\": 0.637018215051668}, {\"i\": 1172, \"k\": 3, \"s\": 0.637018215051668}, {\"i\": 1173, \"k\": 3, \"s\": 0.637018215051668}, {\"i\": 1174, \"k\": 3, \"s\": 0.637018215051668}, {\"i\": 1175, \"k\": 3, \"s\": 0.637018215051668}, {\"i\": 1176, \"k\": 3, \"s\": 0.637018215051668}, {\"i\": 1177, \"k\": 3, \"s\": 0.637018215051668}, {\"i\": 1178, \"k\": 3, \"s\": 0.637018215051668}, {\"i\": 1179, \"k\": 3, \"s\": 0.637018215051668}, {\"i\": 1180, \"k\": 3, \"s\": 0.637018215051668}, {\"i\": 1181, \"k\": 3, \"s\": 0.637018215051668}, {\"i\": 1182, \"k\": 3, \"s\": 0.637018215051668}, {\"i\": 1183, \"k\": 3, \"s\": 0.637018215051668}, {\"i\": 1184, \"k\": 3, \"s\": 0.637018215051668}, {\"i\": 1185, \"k\": 3, \"s\": 0.637018215051668}, {\"i\": 1186, \"k\": 3, \"s\": 0.637018215051668}, {\"i\": 1187, \"k\": 3, \"s\": 0.637018215051668}, {\"i\": 1188, \"k\": 3, \"s\": 0.637018215051668}, {\"i\": 1189, \"k\": 3, \"s\": 0.637018215051668}, {\"i\": 1190, \"k\": 3, \"s\": 0.637018215051668}, {\"i\": 1191, \"k\": 3, \"s\": 0.637018215051668}, {\"i\": 1192, \"k\": 3, \"s\": 0.26153836221913107}, {\"i\": 1193, \"k\": 3, \"s\": 0.26153836221913107}, {\"i\": 1194, \"k\": 3, \"s\": 0.26153836221913107}, {\"i\": 1195, \"k\": 3, \"s\": 0.26153836221913107}, {\"i\": 1196, \"k\": 3, \"s\": 0.26153836221913107}, {\"i\": 1197, \"k\": 3, \"s\": 0.26153836221913107}, {\"i\": 1198, \"k\": 3, \"s\": 0.26153836221913107}, {\"i\": 1199, \"k\": 3, \"s\": 0.26153836221913107}, {\"i\": 1200, \"k\": 3, \"s\": 0.26153836221913107}, {\"i\": 1201, \"k\": 3, \"s\": 0.26153836221913107}, {\"i\": 1202, \"k\": 3, \"s\": 0.26153836221913107}, {\"i\": 1203, \"k\": 3, \"s\": 0.26153836221913107}, {\"i\": 1204, \"k\": 3, \"s\": 0.26153836221913107}, {\"i\": 1205, \"k\": 3, \"s\": 0.26153836221913107}, {\"i\": 1206, \"k\": 3, \"s\": 0.26153836221913107}, {\"i\": 1207, \"k\": 3, \"s\": 0.26153836221913107}, {\"i\": 1208, \"k\": 3, \"s\": 0.26153836221913107}, {\"i\": 1209, \"k\": 3, \"s\": 0.26153836221913107}, {\"i\": 1210, \"k\": 3, \"s\": 0.26153836221913107}, {\"i\": 1211, \"k\": 3, \"s\": 0.26153836221913107}, {\"i\": 1212, \"k\": 3, \"s\": 0.26153836221913107}, {\"i\": 1213, \"k\": 3, \"s\": 0.26153836221913107}, {\"i\": 1214, \"k\": 3, \"s\": 0.26153836221913107}, {\"i\": 1215, \"k\": 3, \"s\": 0.26153836221913107}, {\"i\": 1216, \"k\": 3, \"s\": 0.26153836221913107}, {\"i\": 1217, \"k\": 3, \"s\": 0.26153836221913107}, {\"i\": 1218, \"k\": 3, \"s\": 0.26153836221913107}, {\"i\": 1219, \"k\": 3, \"s\": 0.26153836221913107}, {\"i\": 1220, \"k\": 3, \"s\": 0.6767896526594593}, {\"i\": 1221, \"k\": 3, \"s\": 0.6767896526594593}, {\"i\": 1222, \"k\": 3, \"s\": 0.6767896526594593}, {\"i\": 1223, \"k\": 3, \"s\": 0.6767896526594593}, {\"i\": 1224, \"k\": 3, \"s\": 0.6767896526594593}, {\"i\": 1225, \"k\": 3, \"s\": 0.6767896526594593}, {\"i\": 1226, \"k\": 3, \"s\": 0.6767896526594593}, {\"i\": 1227, \"k\": 3, \"s\": 0.6767896526594593}, {\"i\": 1228, \"k\": 3, \"s\": 0.6767896526594593}, {\"i\": 1229, \"k\": 3, \"s\": 0.6767896526594593}, {\"i\": 1230, \"k\": 3, \"s\": 0.6767896526594593}, {\"i\": 1231, \"k\": 3, \"s\": 0.6767896526594593}, {\"i\": 1232, \"k\": 3, \"s\": 0.6767896526594593}, {\"i\": 1233, \"k\": 3, \"s\": 0.6767896526594593}, {\"i\": 1234, \"k\": 3, \"s\": 0.6767896526594593}, {\"i\": 1235, \"k\": 3, \"s\": 0.6767896526594593}, {\"i\": 1236, \"k\": 3, \"s\": 0.6767896526594593}, {\"i\": 1237, \"k\": 3, \"s\": 0.6767896526594593}, {\"i\": 1238, \"k\": 3, \"s\": 0.6767896526594593}, {\"i\": 1239, \"k\": 3, \"s\": 0.6767896526594593}, {\"i\": 1240, \"k\": 3, \"s\": 0.6767896526594593}, {\"i\": 1241, \"k\": 3, \"s\": 0.6767896526594593}, {\"i\": 1242, \"k\": 3, \"s\": 0.6767896526594593}, {\"i\": 1243, \"k\": 3, \"s\": 0.6767896526594593}, {\"i\": 1244, \"k\": 3, \"s\": 0.6767896526594593}, {\"i\": 1245, \"k\": 3, \"s\": 0.6767896526594593}, {\"i\": 1246, \"k\": 3, \"s\": 0.6767896526594593}, {\"i\": 1247, \"k\": 3, \"s\": 0.6767896526594593}, {\"i\": 1248, \"k\": 3, \"s\": 0.6767896526594593}, {\"i\": 1249, \"k\": 3, \"s\": 0.6767896526594593}, {\"i\": 1250, \"k\": 3, \"s\": 0.6767896526594593}, {\"i\": 1251, \"k\": 3, \"s\": 0.6767896526594593}, {\"i\": 1252, \"k\": 3, \"s\": 0.6767896526594593}, {\"i\": 1253, \"k\": 3, \"s\": 0.6767896526594593}, {\"i\": 1254, \"k\": 3, \"s\": 0.6767896526594593}, {\"i\": 1255, \"k\": 3, \"s\": 0.6767896526594593}, {\"i\": 1256, \"k\": 3, \"s\": 0.6767896526594593}, {\"i\": 1257, \"k\": 3, \"s\": 0.6767896526594593}, {\"i\": 1258, \"k\": 3, \"s\": 0.6767896526594593}, {\"i\": 1259, \"k\": 3, \"s\": 0.6629793585581876}, {\"i\": 1260, \"k\": 3, \"s\": 0.6629793585581876}, {\"i\": 1261, \"k\": 3, \"s\": 0.6629793585581876}, {\"i\": 1262, \"k\": 3, \"s\": 0.6629793585581876}, {\"i\": 1263, \"k\": 3, \"s\": 0.6629793585581876}, {\"i\": 1264, \"k\": 3, \"s\": 0.6629793585581876}, {\"i\": 1265, \"k\": 3, \"s\": 0.6629793585581876}, {\"i\": 1266, \"k\": 3, \"s\": 0.6629793585581876}, {\"i\": 1267, \"k\": 3, \"s\": 0.6629793585581876}, {\"i\": 1268, \"k\": 3, \"s\": 0.6629793585581876}, {\"i\": 1269, \"k\": 3, \"s\": 0.6629793585581876}, {\"i\": 1270, \"k\": 3, \"s\": 0.6629793585581876}, {\"i\": 1271, \"k\": 3, \"s\": 0.6629793585581876}, {\"i\": 1272, \"k\": 3, \"s\": 0.6629793585581876}, {\"i\": 1273, \"k\": 3, \"s\": 0.6629793585581876}, {\"i\": 1274, \"k\": 3, \"s\": 0.6629793585581876}, {\"i\": 1275, \"k\": 3, \"s\": 0.6629793585581876}, {\"i\": 1276, \"k\": 3, \"s\": 0.6629793585581876}, {\"i\": 1277, \"k\": 3, \"s\": 0.6629793585581876}, {\"i\": 1278, \"k\": 3, \"s\": 0.6629793585581876}, {\"i\": 1279, \"k\": 3, \"s\": 0.6629793585581876}, {\"i\": 1280, \"k\": 3, \"s\": 0.6629793585581876}, {\"i\": 1281, \"k\": 3, \"s\": 0.6629793585581876}, {\"i\": 1282, \"k\": 3, \"s\": 0.6629793585581876}, {\"i\": 1283, \"k\": 3, \"s\": 0.6629793585581876}, {\"i\": 1284, \"k\": 3, \"s\": 0.6629793585581876}, {\"i\": 1285, \"k\": 3, \"s\": 0.6629793585581876}, {\"i\": 1286, \"k\": 3, \"s\": 0.6629793585581876}, {\"i\": 1287, \"k\": 3, \"s\": 0.6629793585581876}, {\"i\": 1288, \"k\": 3, \"s\": 0.6629793585581876}, {\"i\": 1289, \"k\": 3, \"s\": 0.6629793585581876}, {\"i\": 1290, \"k\": 3, \"s\": 0.6629793585581876}, {\"i\": 1291, \"k\": 3, \"s\": 0.6629793585581876}, {\"i\": 1292, \"k\": 3, \"s\": 0.6629793585581876}, {\"i\": 1293, \"k\": 3, \"s\": 0.6629793585581876}, {\"i\": 1294, \"k\": 3, \"s\": 0.6629793585581876}, {\"i\": 1295, \"k\": 3, \"s\": 0.6629793585581876}, {\"i\": 1296, \"k\": 3, \"s\": 0.5401731666460755}, {\"i\": 1297, \"k\": 3, \"s\": 0.5401731666460755}, {\"i\": 1298, \"k\": 3, \"s\": 0.5401731666460755}, {\"i\": 1299, \"k\": 3, \"s\": 0.5401731666460755}, {\"i\": 1300, \"k\": 3, \"s\": 0.5401731666460755}, {\"i\": 1301, \"k\": 3, \"s\": 0.5401731666460755}, {\"i\": 1302, \"k\": 3, \"s\": 0.5401731666460755}, {\"i\": 1303, \"k\": 3, \"s\": 0.5401731666460755}, {\"i\": 1304, \"k\": 3, \"s\": 0.5401731666460755}, {\"i\": 1305, \"k\": 3, \"s\": 0.5401731666460755}, {\"i\": 1306, \"k\": 3, \"s\": 0.5401731666460755}, {\"i\": 1307, \"k\": 3, \"s\": 0.5401731666460755}, {\"i\": 1308, \"k\": 3, \"s\": 0.5401731666460755}, {\"i\": 1309, \"k\": 3, \"s\": 0.5401731666460755}, {\"i\": 1310, \"k\": 3, \"s\": 0.5401731666460755}, {\"i\": 1311, \"k\": 3, \"s\": 0.5401731666460755}, {\"i\": 1312, \"k\": 3, \"s\": 0.5401731666460755}, {\"i\": 1313, \"k\": 3, \"s\": 0.5401731666460755}, {\"i\": 1314, \"k\": 3, \"s\": 0.5401731666460755}, {\"i\": 1315, \"k\": 3, \"s\": 0.5401731666460755}, {\"i\": 1316, \"k\": 3, \"s\": 0.5401731666460755}, {\"i\": 1317, \"k\": 3, \"s\": 0.5401731666460755}, {\"i\": 1318, \"k\": 3, \"s\": 0.5401731666460755}, {\"i\": 1319, \"k\": 3, \"s\": 0.5401731666460755}, {\"i\": 1320, \"k\": 3, \"s\": 0.5401731666460755}, {\"i\": 1321, \"k\": 3, \"s\": 0.5401731666460755}, {\"i\": 1322, \"k\": 3, \"s\": 0.5401731666460755}, {\"i\": 1323, \"k\": 3, \"s\": 0.5401731666460755}, {\"i\": 1324, \"k\": 3, \"s\": 0.5401731666460755}, {\"i\": 1325, \"k\": 3, \"s\": 0.5401731666460755}, {\"i\": 1326, \"k\": 3, \"s\": 0.5401731666460755}, {\"i\": 1327, \"k\": 3, \"s\": 0.5401731666460755}, {\"i\": 1328, \"k\": 3, \"s\": 0.5401731666460755}, {\"i\": 1329, \"k\": 3, \"s\": 0.5401731666460755}, {\"i\": 1330, \"k\": 3, \"s\": 0.5401731666460755}, {\"i\": 1331, \"k\": 3, \"s\": 0.5401731666460755}, {\"i\": 1332, \"k\": 3, \"s\": 0.7211202443957733}, {\"i\": 1333, \"k\": 3, \"s\": 0.7211202443957733}, {\"i\": 1334, \"k\": 3, \"s\": 0.7211202443957733}, {\"i\": 1335, \"k\": 3, \"s\": 0.7211202443957733}, {\"i\": 1336, \"k\": 3, \"s\": 0.7211202443957733}, {\"i\": 1337, \"k\": 3, \"s\": 0.7211202443957733}, {\"i\": 1338, \"k\": 3, \"s\": 0.7211202443957733}, {\"i\": 1339, \"k\": 3, \"s\": 0.7211202443957733}, {\"i\": 1340, \"k\": 3, \"s\": 0.7211202443957733}, {\"i\": 1341, \"k\": 3, \"s\": 0.7211202443957733}, {\"i\": 1342, \"k\": 3, \"s\": 0.7211202443957733}, {\"i\": 1343, \"k\": 3, \"s\": 0.7211202443957733}, {\"i\": 1344, \"k\": 3, \"s\": 0.7211202443957733}, {\"i\": 1345, \"k\": 3, \"s\": 0.7211202443957733}, {\"i\": 1346, \"k\": 3, \"s\": 0.7211202443957733}, {\"i\": 1347, \"k\": 3, \"s\": 0.7211202443957733}, {\"i\": 1348, \"k\": 3, \"s\": 0.7211202443957733}, {\"i\": 1349, \"k\": 3, \"s\": 0.7211202443957733}, {\"i\": 1350, \"k\": 3, \"s\": 0.7211202443957733}, {\"i\": 1351, \"k\": 3, \"s\": 0.7211202443957733}, {\"i\": 1352, \"k\": 3, \"s\": 0.7211202443957733}, {\"i\": 1353, \"k\": 3, \"s\": 0.7211202443957733}, {\"i\": 1354, \"k\": 3, \"s\": 0.7211202443957733}, {\"i\": 1355, \"k\": 3, \"s\": 0.7211202443957733}, {\"i\": 1356, \"k\": 3, \"s\": 0.7211202443957733}, {\"i\": 1357, \"k\": 3, \"s\": 0.7211202443957733}, {\"i\": 1358, \"k\": 3, \"s\": 0.7211202443957733}, {\"i\": 1359, \"k\": 3, \"s\": 0.7211202443957733}, {\"i\": 1360, \"k\": 3, \"s\": 0.7211202443957733}, {\"i\": 1361, \"k\": 3, \"s\": 0.7211202443957733}, {\"i\": 1362, \"k\": 3, \"s\": 0.7211202443957733}, {\"i\": 1363, \"k\": 3, \"s\": 0.7211202443957733}, {\"i\": 1364, \"k\": 3, \"s\": 0.7211202443957733}, {\"i\": 1365, \"k\": 3, \"s\": 0.7211202443957733}, {\"i\": 1366, \"k\": 3, \"s\": 0.7211202443957733}, {\"i\": 1367, \"k\": 3, \"s\": 0.7211202443957733}, {\"i\": 1368, \"k\": 3, \"s\": 0.7211202443957733}, {\"i\": 1369, \"k\": 3, \"s\": 0.7211202443957733}, {\"i\": 1370, \"k\": 3, \"s\": 0.7211202443957733}, {\"i\": 1371, \"k\": 3, \"s\": 0.7211202443957733}, {\"i\": 1372, \"k\": 3, \"s\": 0.6839904864359518}, {\"i\": 1373, \"k\": 3, \"s\": 0.6839904864359518}, {\"i\": 1374, \"k\": 3, \"s\": 0.6839904864359518}, {\"i\": 1375, \"k\": 3, \"s\": 0.6839904864359518}, {\"i\": 1376, \"k\": 3, \"s\": 0.6839904864359518}, {\"i\": 1377, \"k\": 3, \"s\": 0.6839904864359518}, {\"i\": 1378, \"k\": 3, \"s\": 0.6839904864359518}, {\"i\": 1379, \"k\": 3, \"s\": 0.6839904864359518}, {\"i\": 1380, \"k\": 3, \"s\": 0.6839904864359518}, {\"i\": 1381, \"k\": 3, \"s\": 0.6839904864359518}, {\"i\": 1382, \"k\": 3, \"s\": 0.6839904864359518}, {\"i\": 1383, \"k\": 3, \"s\": 0.6839904864359518}, {\"i\": 1384, \"k\": 3, \"s\": 0.6839904864359518}, {\"i\": 1385, \"k\": 3, \"s\": 0.6839904864359518}, {\"i\": 1386, \"k\": 3, \"s\": 0.6839904864359518}, {\"i\": 1387, \"k\": 3, \"s\": 0.6839904864359518}, {\"i\": 1388, \"k\": 3, \"s\": 0.6839904864359518}, {\"i\": 1389, \"k\": 3, \"s\": 0.6839904864359518}, {\"i\": 1390, \"k\": 3, \"s\": 0.6839904864359518}, {\"i\": 1391, \"k\": 3, \"s\": 0.6839904864359518}, {\"i\": 1392, \"k\": 3, \"s\": 0.6839904864359518}, {\"i\": 1393, \"k\": 3, \"s\": 0.6839904864359518}, {\"i\": 1394, \"k\": 3, \"s\": 0.6839904864359518}, {\"i\": 1395, \"k\": 3, \"s\": 0.6839904864359518}, {\"i\": 1396, \"k\": 3, \"s\": 0.6839904864359518}, {\"i\": 1397, \"k\": 3, \"s\": 0.6839904864359518}, {\"i\": 1398, \"k\": 3, \"s\": 0.6839904864359518}, {\"i\": 1399, \"k\": 3, \"s\": 0.6839904864359518}, {\"i\": 1400, \"k\": 3, \"s\": 0.6839904864359518}, {\"i\": 1401, \"k\": 3, \"s\": 0.6839904864359518}, {\"i\": 1402, \"k\": 3, \"s\": 0.6839904864359518}, {\"i\": 1403, \"k\": 3, \"s\": 0.6839904864359518}, {\"i\": 1404, \"k\": 3, \"s\": 0.6839904864359518}, {\"i\": 1405, \"k\": 3, \"s\": 0.6839904864359518}, {\"i\": 1406, \"k\": 3, \"s\": 0.6839904864359518}, {\"i\": 1407, \"k\": 3, \"s\": 0.6839904864359518}, {\"i\": 1408, \"k\": 3, \"s\": 0.5903213340000789}, {\"i\": 1409, \"k\": 3, \"s\": 0.5903213340000789}, {\"i\": 1410, \"k\": 3, \"s\": 0.5903213340000789}, {\"i\": 1411, \"k\": 3, \"s\": 0.5903213340000789}, {\"i\": 1412, \"k\": 3, \"s\": 0.5903213340000789}, {\"i\": 1413, \"k\": 3, \"s\": 0.5903213340000789}, {\"i\": 1414, \"k\": 3, \"s\": 0.5903213340000789}, {\"i\": 1415, \"k\": 3, \"s\": 0.5903213340000789}, {\"i\": 1416, \"k\": 3, \"s\": 0.5903213340000789}, {\"i\": 1417, \"k\": 3, \"s\": 0.5903213340000789}, {\"i\": 1418, \"k\": 3, \"s\": 0.5903213340000789}, {\"i\": 1419, \"k\": 3, \"s\": 0.5903213340000789}, {\"i\": 1420, \"k\": 3, \"s\": 0.5903213340000789}, {\"i\": 1421, \"k\": 3, \"s\": 0.5903213340000789}, {\"i\": 1422, \"k\": 3, \"s\": 0.5903213340000789}, {\"i\": 1423, \"k\": 3, \"s\": 0.5903213340000789}, {\"i\": 1424, \"k\": 3, \"s\": 0.5903213340000789}, {\"i\": 1425, \"k\": 3, \"s\": 0.5903213340000789}, {\"i\": 1426, \"k\": 3, \"s\": 0.5903213340000789}, {\"i\": 1427, \"k\": 3, \"s\": 0.5903213340000789}, {\"i\": 1428, \"k\": 3, \"s\": 0.5903213340000789}, {\"i\": 1429, \"k\": 3, \"s\": 0.5903213340000789}, {\"i\": 1430, \"k\": 3, \"s\": 0.5903213340000789}, {\"i\": 1431, \"k\": 3, \"s\": 0.5903213340000789}, {\"i\": 1432, \"k\": 3, \"s\": 0.5903213340000789}, {\"i\": 1433, \"k\": 3, \"s\": 0.5903213340000789}, {\"i\": 1434, \"k\": 3, \"s\": 0.5903213340000789}, {\"i\": 1435, \"k\": 3, \"s\": 0.5903213340000789}, {\"i\": 1436, \"k\": 3, \"s\": 0.5903213340000789}, {\"i\": 1437, \"k\": 3, \"s\": 0.5903213340000789}, {\"i\": 1438, \"k\": 3, \"s\": 0.5903213340000789}, {\"i\": 1439, \"k\": 3, \"s\": 0.5903213340000789}, {\"i\": 1440, \"k\": 3, \"s\": 0.5903213340000789}, {\"i\": 1441, \"k\": 3, \"s\": 0.5903213340000789}, {\"i\": 1442, \"k\": 3, \"s\": 0.5903213340000789}, {\"i\": 1443, \"k\": 3, \"s\": 0.5903213340000789}, {\"i\": 1444, \"k\": 3, \"s\": 0.5903213340000789}, {\"i\": 1445, \"k\": 3, \"s\": 0.4382168061884468}, {\"i\": 1446, \"k\": 3, \"s\": 0.4382168061884468}, {\"i\": 1447, \"k\": 3, \"s\": 0.4382168061884468}, {\"i\": 1448, \"k\": 3, \"s\": 0.4382168061884468}, {\"i\": 1449, \"k\": 3, \"s\": 0.4382168061884468}, {\"i\": 1450, \"k\": 3, \"s\": 0.4382168061884468}, {\"i\": 1451, \"k\": 3, \"s\": 0.4382168061884468}, {\"i\": 1452, \"k\": 3, \"s\": 0.4382168061884468}, {\"i\": 1453, \"k\": 3, \"s\": 0.4382168061884468}, {\"i\": 1454, \"k\": 3, \"s\": 0.4382168061884468}, {\"i\": 1455, \"k\": 3, \"s\": 0.4382168061884468}, {\"i\": 1456, \"k\": 3, \"s\": 0.4382168061884468}, {\"i\": 1457, \"k\": 3, \"s\": 0.4382168061884468}, {\"i\": 1458, \"k\": 3, \"s\": 0.4382168061884468}, {\"i\": 1459, \"k\": 3, \"s\": 0.4382168061884468}, {\"i\": 1460, \"k\": 3, \"s\": 0.4382168061884468}, {\"i\": 1461, \"k\": 3, \"s\": 0.4382168061884468}, {\"i\": 1462, \"k\": 3, \"s\": 0.4382168061884468}, {\"i\": 1463, \"k\": 3, \"s\": 0.4382168061884468}, {\"i\": 1464, \"k\": 3, \"s\": 0.5838806190177499}, {\"i\": 1465, \"k\": 3, \"s\": 0.5838806190177499}, {\"i\": 1466, \"k\": 3, \"s\": 0.5838806190177499}, {\"i\": 1467, \"k\": 3, \"s\": 0.5838806190177499}, {\"i\": 1468, \"k\": 3, \"s\": 0.5838806190177499}, {\"i\": 1469, \"k\": 3, \"s\": 0.5838806190177499}, {\"i\": 1470, \"k\": 3, \"s\": 0.5838806190177499}, {\"i\": 1471, \"k\": 3, \"s\": 0.5838806190177499}, {\"i\": 1472, \"k\": 3, \"s\": 0.5838806190177499}, {\"i\": 1473, \"k\": 3, \"s\": 0.5838806190177499}, {\"i\": 1474, \"k\": 3, \"s\": 0.5838806190177499}, {\"i\": 1475, \"k\": 3, \"s\": 0.5838806190177499}, {\"i\": 1476, \"k\": 3, \"s\": 0.5838806190177499}, {\"i\": 1477, \"k\": 3, \"s\": 0.5838806190177499}, {\"i\": 1478, \"k\": 3, \"s\": 0.5838806190177499}, {\"i\": 1479, \"k\": 3, \"s\": 0.5838806190177499}, {\"i\": 1480, \"k\": 3, \"s\": 0.5838806190177499}, {\"i\": 1481, \"k\": 3, \"s\": 0.5838806190177499}, {\"i\": 1482, \"k\": 3, \"s\": 0.5838806190177499}, {\"i\": 1483, \"k\": 3, \"s\": 0.5838806190177499}, {\"i\": 1484, \"k\": 3, \"s\": 0.5838806190177499}, {\"i\": 1485, \"k\": 3, \"s\": 0.5838806190177499}, {\"i\": 1486, \"k\": 3, \"s\": 0.5838806190177499}, {\"i\": 1487, \"k\": 3, \"s\": 0.5838806190177499}, {\"i\": 1488, \"k\": 3, \"s\": 0.5838806190177499}, {\"i\": 1489, \"k\": 3, \"s\": 0.5838806190177499}, {\"i\": 1490, \"k\": 3, \"s\": 0.5838806190177499}, {\"i\": 1491, \"k\": 3, \"s\": 0.5838806190177499}, {\"i\": 1492, \"k\": 3, \"s\": 0.5838806190177499}, {\"i\": 1493, \"k\": 3, \"s\": 0.5838806190177499}, {\"i\": 1494, \"k\": 3, \"s\": 0.5838806190177499}, {\"i\": 1495, \"k\": 3, \"s\": 0.5838806190177499}, {\"i\": 1496, \"k\": 3, \"s\": 0.5838806190177499}, {\"i\": 1497, \"k\": 3, \"s\": 0.5838806190177499}, {\"i\": 1498, \"k\": 3, \"s\": 0.5838806190177499}, {\"i\": 1499, \"k\": 3, \"s\": 0.5838806190177499}, {\"i\": 1500, \"k\": 3, \"s\": 0.5838806190177499}, {\"i\": 1501, \"k\": 3, \"s\": -0.05195002834429828}, {\"i\": 1502, \"k\": 3, \"s\": -0.05195002834429828}, {\"i\": 1503, \"k\": 3, \"s\": -0.05195002834429828}, {\"i\": 1504, \"k\": 3, \"s\": -0.05195002834429828}, {\"i\": 1505, \"k\": 3, \"s\": -0.05195002834429828}, {\"i\": 1506, \"k\": 3, \"s\": -0.05195002834429828}, {\"i\": 1507, \"k\": 3, \"s\": -0.05195002834429828}, {\"i\": 1508, \"k\": 3, \"s\": -0.05195002834429828}, {\"i\": 1509, \"k\": 3, \"s\": -0.05195002834429828}, {\"i\": 1510, \"k\": 3, \"s\": -0.05195002834429828}, {\"i\": 1511, \"k\": 3, \"s\": -0.05195002834429828}, {\"i\": 1512, \"k\": 3, \"s\": -0.05195002834429828}, {\"i\": 1513, \"k\": 3, \"s\": -0.05195002834429828}, {\"i\": 1514, \"k\": 3, \"s\": -0.05195002834429828}, {\"i\": 1515, \"k\": 3, \"s\": -0.05195002834429828}, {\"i\": 1516, \"k\": 3, \"s\": -0.05195002834429828}, {\"i\": 1517, \"k\": 3, \"s\": -0.05195002834429828}, {\"i\": 1518, \"k\": 3, \"s\": -0.05195002834429828}, {\"i\": 1519, \"k\": 3, \"s\": -0.05195002834429828}, {\"i\": 1520, \"k\": 3, \"s\": -0.05195002834429828}, {\"i\": 1521, \"k\": 3, \"s\": -0.05195002834429828}, {\"i\": 1522, \"k\": 3, \"s\": -0.05195002834429828}, {\"i\": 1523, \"k\": 3, \"s\": -0.05195002834429828}, {\"i\": 1524, \"k\": 3, \"s\": -0.05195002834429828}, {\"i\": 1525, \"k\": 3, \"s\": -0.05195002834429828}, {\"i\": 1526, \"k\": 3, \"s\": -0.05195002834429828}, {\"i\": 1527, \"k\": 3, \"s\": -0.05195002834429828}, {\"i\": 1528, \"k\": 3, \"s\": -0.05195002834429828}, {\"i\": 1529, \"k\": 3, \"s\": -0.05195002834429828}, {\"i\": 1530, \"k\": 3, \"s\": -0.05195002834429828}, {\"i\": 1531, \"k\": 3, \"s\": -0.05195002834429828}, {\"i\": 1532, \"k\": 3, \"s\": -0.05195002834429828}, {\"i\": 1533, \"k\": 3, \"s\": -0.05195002834429828}, {\"i\": 1534, \"k\": 3, \"s\": -0.05195002834429828}, {\"i\": 1535, \"k\": 3, \"s\": -0.05195002834429828}, {\"i\": 1536, \"k\": 3, \"s\": 0.43635071626542743}, {\"i\": 1537, \"k\": 3, \"s\": 0.43635071626542743}, {\"i\": 1538, \"k\": 3, \"s\": 0.43635071626542743}, {\"i\": 1539, \"k\": 3, \"s\": 0.43635071626542743}, {\"i\": 1540, \"k\": 3, \"s\": 0.43635071626542743}, {\"i\": 1541, \"k\": 3, \"s\": 0.43635071626542743}, {\"i\": 1542, \"k\": 3, \"s\": 0.43635071626542743}, {\"i\": 1543, \"k\": 3, \"s\": 0.43635071626542743}, {\"i\": 1544, \"k\": 3, \"s\": 0.43635071626542743}, {\"i\": 1545, \"k\": 3, \"s\": 0.43635071626542743}, {\"i\": 1546, \"k\": 3, \"s\": 0.43635071626542743}, {\"i\": 1547, \"k\": 3, \"s\": 0.39074660037629283}, {\"i\": 1548, \"k\": 3, \"s\": 0.39074660037629283}, {\"i\": 1549, \"k\": 3, \"s\": 0.39074660037629283}, {\"i\": 1550, \"k\": 3, \"s\": 0.39074660037629283}, {\"i\": 1551, \"k\": 3, \"s\": 0.39074660037629283}, {\"i\": 1552, \"k\": 3, \"s\": 0.39074660037629283}, {\"i\": 1553, \"k\": 3, \"s\": 0.39074660037629283}, {\"i\": 1554, \"k\": 3, \"s\": 0.39074660037629283}, {\"i\": 1555, \"k\": 3, \"s\": 0.39074660037629283}, {\"i\": 1556, \"k\": 3, \"s\": 0.39074660037629283}, {\"i\": 1557, \"k\": 3, \"s\": 0.39074660037629283}, {\"i\": 1558, \"k\": 3, \"s\": 0.39074660037629283}, {\"i\": 1559, \"k\": 3, \"s\": 0.39074660037629283}, {\"i\": 1560, \"k\": 3, \"s\": 0.39074660037629283}, {\"i\": 1561, \"k\": 3, \"s\": 0.39074660037629283}, {\"i\": 1562, \"k\": 3, \"s\": 0.39074660037629283}, {\"i\": 1563, \"k\": 3, \"s\": 0.39074660037629283}, {\"i\": 1564, \"k\": 3, \"s\": 0.39074660037629283}, {\"i\": 1565, \"k\": 3, \"s\": 0.39074660037629283}, {\"i\": 1566, \"k\": 3, \"s\": 0.39074660037629283}, {\"i\": 1567, \"k\": 3, \"s\": 0.39074660037629283}, {\"i\": 1568, \"k\": 3, \"s\": 0.39074660037629283}, {\"i\": 1569, \"k\": 3, \"s\": 0.39074660037629283}, {\"i\": 1570, \"k\": 3, \"s\": 0.39074660037629283}, {\"i\": 1571, \"k\": 3, \"s\": 0.39074660037629283}, {\"i\": 1572, \"k\": 3, \"s\": 0.39074660037629283}, {\"i\": 1573, \"k\": 3, \"s\": 0.39074660037629283}, {\"i\": 1574, \"k\": 3, \"s\": 0.39074660037629283}, {\"i\": 1575, \"k\": 3, \"s\": 0.39074660037629283}, {\"i\": 1576, \"k\": 3, \"s\": 0.39074660037629283}, {\"i\": 1577, \"k\": 3, \"s\": 0.39074660037629283}, {\"i\": 1578, \"k\": 3, \"s\": 0.39074660037629283}, {\"i\": 1579, \"k\": 3, \"s\": 0.39074660037629283}, {\"i\": 1580, \"k\": 3, \"s\": 0.39074660037629283}, {\"i\": 1581, \"k\": 3, \"s\": 0.39074660037629283}, {\"i\": 1582, \"k\": 3, \"s\": 0.7313664661252809}, {\"i\": 1583, \"k\": 3, \"s\": 0.7313664661252809}, {\"i\": 1584, \"k\": 3, \"s\": 0.7313664661252809}, {\"i\": 1585, \"k\": 3, \"s\": 0.7313664661252809}, {\"i\": 1586, \"k\": 3, \"s\": 0.7313664661252809}, {\"i\": 1587, \"k\": 3, \"s\": 0.7313664661252809}, {\"i\": 1588, \"k\": 3, \"s\": 0.7313664661252809}, {\"i\": 1589, \"k\": 3, \"s\": 0.7313664661252809}, {\"i\": 1590, \"k\": 3, \"s\": 0.7313664661252809}, {\"i\": 1591, \"k\": 3, \"s\": 0.7313664661252809}, {\"i\": 1592, \"k\": 3, \"s\": 0.7313664661252809}, {\"i\": 1593, \"k\": 3, \"s\": 0.7313664661252809}, {\"i\": 1594, \"k\": 3, \"s\": 0.7313664661252809}, {\"i\": 1595, \"k\": 3, \"s\": 0.7313664661252809}, {\"i\": 1596, \"k\": 3, \"s\": 0.7313664661252809}, {\"i\": 1597, \"k\": 3, \"s\": 0.7313664661252809}, {\"i\": 1598, \"k\": 3, \"s\": 0.7313664661252809}, {\"i\": 1599, \"k\": 3, \"s\": 0.7313664661252809}, {\"i\": 1600, \"k\": 3, \"s\": 0.7313664661252809}, {\"i\": 1601, \"k\": 3, \"s\": 0.7313664661252809}, {\"i\": 1602, \"k\": 3, \"s\": 0.7313664661252809}, {\"i\": 1603, \"k\": 3, \"s\": 0.7313664661252809}, {\"i\": 1604, \"k\": 3, \"s\": 0.7313664661252809}, {\"i\": 1605, \"k\": 3, \"s\": 0.7313664661252809}, {\"i\": 1606, \"k\": 3, \"s\": 0.7313664661252809}, {\"i\": 1607, \"k\": 3, \"s\": 0.7313664661252809}, {\"i\": 1608, \"k\": 3, \"s\": 0.7313664661252809}, {\"i\": 1609, \"k\": 3, \"s\": 0.7313664661252809}, {\"i\": 1610, \"k\": 3, \"s\": 0.7313664661252809}, {\"i\": 1611, \"k\": 3, \"s\": 0.7313664661252809}, {\"i\": 1612, \"k\": 3, \"s\": 0.7313664661252809}, {\"i\": 1613, \"k\": 3, \"s\": 0.7313664661252809}, {\"i\": 1614, \"k\": 3, \"s\": 0.7313664661252809}, {\"i\": 1615, \"k\": 3, \"s\": 0.7313664661252809}, {\"i\": 1616, \"k\": 3, \"s\": 0.7313664661252809}, {\"i\": 1617, \"k\": 3, \"s\": 0.7313664661252809}, {\"i\": 1618, \"k\": 3, \"s\": 0.7313664661252809}, {\"i\": 1619, \"k\": 3, \"s\": 0.7313664661252809}, {\"i\": 1620, \"k\": 3, \"s\": 0.7313664661252809}, {\"i\": 1621, \"k\": 3, \"s\": 0.7313664661252809}, {\"i\": 1622, \"k\": 3, \"s\": 0.7313664661252809}, {\"i\": 1623, \"k\": 3, \"s\": 0.7313664661252809}, {\"i\": 1624, \"k\": 3, \"s\": 0.6852291512015719}, {\"i\": 1625, \"k\": 3, \"s\": 0.6852291512015719}, {\"i\": 1626, \"k\": 3, \"s\": 0.6852291512015719}, {\"i\": 1627, \"k\": 3, \"s\": 0.6852291512015719}, {\"i\": 1628, \"k\": 3, \"s\": 0.6852291512015719}, {\"i\": 1629, \"k\": 3, \"s\": 0.6852291512015719}, {\"i\": 1630, \"k\": 3, \"s\": 0.6852291512015719}, {\"i\": 1631, \"k\": 3, \"s\": 0.6852291512015719}, {\"i\": 1632, \"k\": 3, \"s\": 0.6852291512015719}, {\"i\": 1633, \"k\": 3, \"s\": 0.6852291512015719}, {\"i\": 1634, \"k\": 3, \"s\": 0.6852291512015719}, {\"i\": 1635, \"k\": 3, \"s\": 0.6852291512015719}, {\"i\": 1636, \"k\": 3, \"s\": 0.6852291512015719}, {\"i\": 1637, \"k\": 3, \"s\": 0.6852291512015719}, {\"i\": 1638, \"k\": 3, \"s\": 0.6852291512015719}, {\"i\": 1639, \"k\": 3, \"s\": 0.6852291512015719}, {\"i\": 1640, \"k\": 3, \"s\": 0.6852291512015719}, {\"i\": 1641, \"k\": 3, \"s\": 0.6852291512015719}, {\"i\": 1642, \"k\": 3, \"s\": 0.6852291512015719}, {\"i\": 1643, \"k\": 3, \"s\": 0.6852291512015719}, {\"i\": 1644, \"k\": 3, \"s\": 0.6852291512015719}, {\"i\": 1645, \"k\": 3, \"s\": 0.6852291512015719}, {\"i\": 1646, \"k\": 3, \"s\": 0.6852291512015719}, {\"i\": 1647, \"k\": 3, \"s\": 0.6852291512015719}, {\"i\": 1648, \"k\": 3, \"s\": 0.6852291512015719}, {\"i\": 1649, \"k\": 3, \"s\": 0.6852291512015719}, {\"i\": 1650, \"k\": 3, \"s\": 0.6852291512015719}, {\"i\": 1651, \"k\": 3, \"s\": 0.6852291512015719}, {\"i\": 1652, \"k\": 3, \"s\": 0.6852291512015719}, {\"i\": 1653, \"k\": 3, \"s\": 0.6852291512015719}, {\"i\": 1654, \"k\": 3, \"s\": 0.6852291512015719}, {\"i\": 1655, \"k\": 3, \"s\": 0.6852291512015719}, {\"i\": 1656, \"k\": 3, \"s\": 0.6852291512015719}, {\"i\": 1657, \"k\": 3, \"s\": 0.6852291512015719}, {\"i\": 1658, \"k\": 3, \"s\": 0.6852291512015719}, {\"i\": 1659, \"k\": 3, \"s\": 0.6852291512015719}, {\"i\": 1660, \"k\": 3, \"s\": 0.7252674110763979}, {\"i\": 1661, \"k\": 3, \"s\": 0.7252674110763979}, {\"i\": 1662, \"k\": 3, \"s\": 0.7252674110763979}, {\"i\": 1663, \"k\": 3, \"s\": 0.7252674110763979}, {\"i\": 1664, \"k\": 3, \"s\": 0.7252674110763979}, {\"i\": 1665, \"k\": 3, \"s\": 0.7252674110763979}, {\"i\": 1666, \"k\": 3, \"s\": 0.7252674110763979}, {\"i\": 1667, \"k\": 3, \"s\": 0.7252674110763979}, {\"i\": 1668, \"k\": 3, \"s\": 0.7252674110763979}, {\"i\": 1669, \"k\": 3, \"s\": 0.7252674110763979}, {\"i\": 1670, \"k\": 3, \"s\": 0.7252674110763979}, {\"i\": 1671, \"k\": 3, \"s\": 0.7252674110763979}, {\"i\": 1672, \"k\": 3, \"s\": 0.7252674110763979}, {\"i\": 1673, \"k\": 3, \"s\": 0.7252674110763979}, {\"i\": 1674, \"k\": 3, \"s\": 0.7252674110763979}, {\"i\": 1675, \"k\": 3, \"s\": 0.7252674110763979}, {\"i\": 1676, \"k\": 3, \"s\": 0.7252674110763979}, {\"i\": 1677, \"k\": 3, \"s\": 0.7252674110763979}, {\"i\": 1678, \"k\": 3, \"s\": 0.7252674110763979}, {\"i\": 1679, \"k\": 3, \"s\": 0.7252674110763979}, {\"i\": 1680, \"k\": 3, \"s\": 0.7252674110763979}, {\"i\": 1681, \"k\": 3, \"s\": 0.7252674110763979}, {\"i\": 1682, \"k\": 3, \"s\": 0.7252674110763979}, {\"i\": 1683, \"k\": 3, \"s\": 0.7252674110763979}, {\"i\": 1684, \"k\": 3, \"s\": 0.7252674110763979}, {\"i\": 1685, \"k\": 3, \"s\": 0.7252674110763979}, {\"i\": 1686, \"k\": 3, \"s\": 0.7252674110763979}, {\"i\": 1687, \"k\": 3, \"s\": 0.7252674110763979}, {\"i\": 1688, \"k\": 3, \"s\": 0.7252674110763979}, {\"i\": 1689, \"k\": 3, \"s\": 0.7252674110763979}, {\"i\": 1690, \"k\": 3, \"s\": 0.7252674110763979}, {\"i\": 1691, \"k\": 3, \"s\": 0.7252674110763979}, {\"i\": 1692, \"k\": 3, \"s\": 0.7252674110763979}, {\"i\": 1693, \"k\": 3, \"s\": 0.7252674110763979}, {\"i\": 1694, \"k\": 3, \"s\": 0.7252674110763979}, {\"i\": 1695, \"k\": 3, \"s\": 0.7252674110763979}, {\"i\": 1696, \"k\": 3, \"s\": 0.7252674110763979}, {\"i\": 1697, \"k\": 3, \"s\": 0.7252674110763979}, {\"i\": 1698, \"k\": 3, \"s\": 0.7252674110763979}, {\"i\": 1699, \"k\": 3, \"s\": 0.7252674110763979}, {\"i\": 1700, \"k\": 3, \"s\": 0.7252674110763979}, {\"i\": 1701, \"k\": 3, \"s\": 0.7252674110763979}, {\"i\": 1702, \"k\": 3, \"s\": 0.7252674110763979}, {\"i\": 1703, \"k\": 3, \"s\": 0.7252674110763979}, {\"i\": 1704, \"k\": 3, \"s\": 0.6876368233576957}, {\"i\": 1705, \"k\": 3, \"s\": 0.6876368233576957}, {\"i\": 1706, \"k\": 3, \"s\": 0.6876368233576957}, {\"i\": 1707, \"k\": 3, \"s\": 0.6876368233576957}, {\"i\": 1708, \"k\": 3, \"s\": 0.6876368233576957}, {\"i\": 1709, \"k\": 3, \"s\": 0.6876368233576957}, {\"i\": 1710, \"k\": 3, \"s\": 0.6876368233576957}, {\"i\": 1711, \"k\": 3, \"s\": 0.6876368233576957}, {\"i\": 1712, \"k\": 3, \"s\": 0.6876368233576957}, {\"i\": 1713, \"k\": 3, \"s\": 0.6876368233576957}, {\"i\": 1714, \"k\": 3, \"s\": 0.6876368233576957}, {\"i\": 1715, \"k\": 3, \"s\": 0.6876368233576957}, {\"i\": 1716, \"k\": 3, \"s\": 0.6876368233576957}, {\"i\": 1717, \"k\": 3, \"s\": 0.6876368233576957}, {\"i\": 1718, \"k\": 3, \"s\": 0.6876368233576957}, {\"i\": 1719, \"k\": 3, \"s\": 0.6876368233576957}, {\"i\": 1720, \"k\": 3, \"s\": 0.6876368233576957}, {\"i\": 1721, \"k\": 3, \"s\": 0.6876368233576957}, {\"i\": 1722, \"k\": 3, \"s\": 0.6876368233576957}, {\"i\": 1723, \"k\": 3, \"s\": 0.6876368233576957}, {\"i\": 1724, \"k\": 3, \"s\": 0.6876368233576957}, {\"i\": 1725, \"k\": 3, \"s\": 0.6876368233576957}, {\"i\": 1726, \"k\": 3, \"s\": 0.6876368233576957}, {\"i\": 1727, \"k\": 3, \"s\": 0.6876368233576957}, {\"i\": 1728, \"k\": 3, \"s\": 0.6876368233576957}, {\"i\": 1729, \"k\": 3, \"s\": 0.6876368233576957}, {\"i\": 1730, \"k\": 3, \"s\": 0.6876368233576957}, {\"i\": 1731, \"k\": 3, \"s\": 0.6876368233576957}, {\"i\": 1732, \"k\": 3, \"s\": 0.6876368233576957}, {\"i\": 1733, \"k\": 3, \"s\": 0.6876368233576957}, {\"i\": 1734, \"k\": 3, \"s\": 0.6876368233576957}, {\"i\": 1735, \"k\": 3, \"s\": 0.6876368233576957}, {\"i\": 1736, \"k\": 3, \"s\": 0.6876368233576957}, {\"i\": 1737, \"k\": 3, \"s\": 0.6876368233576957}, {\"i\": 1738, \"k\": 3, \"s\": 0.6876368233576957}, {\"i\": 1739, \"k\": 3, \"s\": 0.6876368233576957}, {\"i\": 1740, \"k\": 3, \"s\": 0.6876368233576957}, {\"i\": 1741, \"k\": 3, \"s\": 0.6876368233576957}, {\"i\": 1742, \"k\": 3, \"s\": 0.6876368233576957}, {\"i\": 1743, \"k\": 3, \"s\": 0.6876368233576957}, {\"i\": 1744, \"k\": 3, \"s\": 0.2889866496984741}, {\"i\": 1745, \"k\": 3, \"s\": 0.2889866496984741}, {\"i\": 1746, \"k\": 3, \"s\": 0.2889866496984741}, {\"i\": 1747, \"k\": 3, \"s\": 0.2889866496984741}, {\"i\": 1748, \"k\": 3, \"s\": 0.2889866496984741}, {\"i\": 1749, \"k\": 3, \"s\": 0.2889866496984741}, {\"i\": 1750, \"k\": 3, \"s\": 0.2889866496984741}, {\"i\": 1751, \"k\": 3, \"s\": 0.2889866496984741}, {\"i\": 1752, \"k\": 3, \"s\": 0.2889866496984741}, {\"i\": 1753, \"k\": 3, \"s\": 0.2889866496984741}, {\"i\": 1754, \"k\": 3, \"s\": 0.2889866496984741}, {\"i\": 1755, \"k\": 3, \"s\": 0.2889866496984741}, {\"i\": 1756, \"k\": 3, \"s\": 0.2889866496984741}, {\"i\": 1757, \"k\": 3, \"s\": 0.2889866496984741}, {\"i\": 1758, \"k\": 3, \"s\": 0.2889866496984741}, {\"i\": 1759, \"k\": 3, \"s\": 0.2889866496984741}, {\"i\": 1760, \"k\": 3, \"s\": 0.2889866496984741}, {\"i\": 1761, \"k\": 3, \"s\": 0.2889866496984741}, {\"i\": 1762, \"k\": 3, \"s\": 0.2889866496984741}, {\"i\": 1763, \"k\": 3, \"s\": 0.2889866496984741}, {\"i\": 1764, \"k\": 3, \"s\": 0.2889866496984741}, {\"i\": 1765, \"k\": 3, \"s\": 0.2889866496984741}, {\"i\": 1766, \"k\": 3, \"s\": 0.2889866496984741}, {\"i\": 1767, \"k\": 3, \"s\": 0.2889866496984741}, {\"i\": 1768, \"k\": 3, \"s\": 0.2889866496984741}, {\"i\": 1769, \"k\": 3, \"s\": 0.2889866496984741}, {\"i\": 1770, \"k\": 3, \"s\": 0.2889866496984741}, {\"i\": 1771, \"k\": 3, \"s\": 0.2889866496984741}, {\"i\": 1772, \"k\": 3, \"s\": 0.2889866496984741}, {\"i\": 1773, \"k\": 3, \"s\": 0.701443796587919}, {\"i\": 1774, \"k\": 3, \"s\": 0.701443796587919}, {\"i\": 1775, \"k\": 3, \"s\": 0.701443796587919}, {\"i\": 1776, \"k\": 3, \"s\": 0.701443796587919}, {\"i\": 1777, \"k\": 3, \"s\": 0.701443796587919}, {\"i\": 1778, \"k\": 3, \"s\": 0.701443796587919}, {\"i\": 1779, \"k\": 3, \"s\": 0.701443796587919}, {\"i\": 1780, \"k\": 3, \"s\": 0.701443796587919}, {\"i\": 1781, \"k\": 3, \"s\": 0.701443796587919}, {\"i\": 1782, \"k\": 3, \"s\": 0.701443796587919}, {\"i\": 1783, \"k\": 3, \"s\": 0.701443796587919}, {\"i\": 1784, \"k\": 3, \"s\": 0.701443796587919}, {\"i\": 1785, \"k\": 3, \"s\": 0.701443796587919}, {\"i\": 1786, \"k\": 3, \"s\": 0.701443796587919}, {\"i\": 1787, \"k\": 3, \"s\": 0.701443796587919}, {\"i\": 1788, \"k\": 3, \"s\": 0.701443796587919}, {\"i\": 1789, \"k\": 3, \"s\": 0.701443796587919}, {\"i\": 1790, \"k\": 3, \"s\": 0.701443796587919}, {\"i\": 1791, \"k\": 3, \"s\": 0.701443796587919}, {\"i\": 1792, \"k\": 3, \"s\": 0.701443796587919}, {\"i\": 1793, \"k\": 3, \"s\": 0.701443796587919}, {\"i\": 1794, \"k\": 3, \"s\": 0.701443796587919}, {\"i\": 1795, \"k\": 3, \"s\": 0.701443796587919}, {\"i\": 1796, \"k\": 3, \"s\": 0.701443796587919}, {\"i\": 1797, \"k\": 3, \"s\": 0.701443796587919}, {\"i\": 1798, \"k\": 3, \"s\": 0.701443796587919}, {\"i\": 1799, \"k\": 3, \"s\": 0.701443796587919}, {\"i\": 1800, \"k\": 3, \"s\": 0.701443796587919}, {\"i\": 1801, \"k\": 3, \"s\": 0.701443796587919}, {\"i\": 1802, \"k\": 3, \"s\": 0.701443796587919}, {\"i\": 1803, \"k\": 3, \"s\": 0.701443796587919}, {\"i\": 1804, \"k\": 3, \"s\": 0.701443796587919}, {\"i\": 1805, \"k\": 3, \"s\": 0.701443796587919}, {\"i\": 1806, \"k\": 3, \"s\": 0.701443796587919}, {\"i\": 1807, \"k\": 3, \"s\": 0.701443796587919}, {\"i\": 1808, \"k\": 3, \"s\": 0.701443796587919}, {\"i\": 1809, \"k\": 3, \"s\": 0.701443796587919}, {\"i\": 1810, \"k\": 3, \"s\": 0.701443796587919}, {\"i\": 1811, \"k\": 3, \"s\": 0.701443796587919}, {\"i\": 1812, \"k\": 3, \"s\": 0.701443796587919}, {\"i\": 1813, \"k\": 3, \"s\": 0.6784651211949232}, {\"i\": 1814, \"k\": 3, \"s\": 0.6784651211949232}, {\"i\": 1815, \"k\": 3, \"s\": 0.6784651211949232}, {\"i\": 1816, \"k\": 3, \"s\": 0.6784651211949232}, {\"i\": 1817, \"k\": 3, \"s\": 0.6784651211949232}, {\"i\": 1818, \"k\": 3, \"s\": 0.6784651211949232}, {\"i\": 1819, \"k\": 3, \"s\": 0.6784651211949232}, {\"i\": 1820, \"k\": 3, \"s\": 0.6784651211949232}, {\"i\": 1821, \"k\": 3, \"s\": 0.6784651211949232}, {\"i\": 1822, \"k\": 3, \"s\": 0.6784651211949232}, {\"i\": 1823, \"k\": 3, \"s\": 0.6784651211949232}, {\"i\": 1824, \"k\": 3, \"s\": 0.6784651211949232}, {\"i\": 1825, \"k\": 3, \"s\": 0.6784651211949232}, {\"i\": 1826, \"k\": 3, \"s\": 0.6784651211949232}, {\"i\": 1827, \"k\": 3, \"s\": 0.6784651211949232}, {\"i\": 1828, \"k\": 3, \"s\": 0.6784651211949232}, {\"i\": 1829, \"k\": 3, \"s\": 0.6784651211949232}, {\"i\": 1830, \"k\": 3, \"s\": 0.6784651211949232}, {\"i\": 1831, \"k\": 3, \"s\": 0.6784651211949232}, {\"i\": 1832, \"k\": 3, \"s\": 0.6784651211949232}, {\"i\": 1833, \"k\": 3, \"s\": 0.6784651211949232}, {\"i\": 1834, \"k\": 3, \"s\": 0.6784651211949232}, {\"i\": 1835, \"k\": 3, \"s\": 0.6784651211949232}, {\"i\": 1836, \"k\": 3, \"s\": 0.6784651211949232}, {\"i\": 1837, \"k\": 3, \"s\": 0.6784651211949232}, {\"i\": 1838, \"k\": 3, \"s\": 0.6784651211949232}, {\"i\": 1839, \"k\": 3, \"s\": 0.6784651211949232}, {\"i\": 1840, \"k\": 3, \"s\": 0.6784651211949232}, {\"i\": 1841, \"k\": 3, \"s\": 0.6784651211949232}, {\"i\": 1842, \"k\": 3, \"s\": 0.6784651211949232}, {\"i\": 1843, \"k\": 3, \"s\": 0.6784651211949232}, {\"i\": 1844, \"k\": 3, \"s\": 0.6784651211949232}, {\"i\": 1845, \"k\": 3, \"s\": 0.6784651211949232}, {\"i\": 1846, \"k\": 3, \"s\": 0.6784651211949232}, {\"i\": 1847, \"k\": 3, \"s\": 0.6784651211949232}, {\"i\": 1848, \"k\": 3, \"s\": 0.6784651211949232}, {\"i\": 1849, \"k\": 3, \"s\": 0.6880425892903632}, {\"i\": 1850, \"k\": 3, \"s\": 0.6880425892903632}, {\"i\": 1851, \"k\": 3, \"s\": 0.6880425892903632}, {\"i\": 1852, \"k\": 3, \"s\": 0.6880425892903632}, {\"i\": 1853, \"k\": 3, \"s\": 0.6880425892903632}, {\"i\": 1854, \"k\": 3, \"s\": 0.6880425892903632}, {\"i\": 1855, \"k\": 3, \"s\": 0.6880425892903632}, {\"i\": 1856, \"k\": 3, \"s\": 0.6880425892903632}, {\"i\": 1857, \"k\": 3, \"s\": 0.6880425892903632}, {\"i\": 1858, \"k\": 3, \"s\": 0.6880425892903632}, {\"i\": 1859, \"k\": 3, \"s\": 0.6880425892903632}, {\"i\": 1860, \"k\": 3, \"s\": 0.6880425892903632}, {\"i\": 1861, \"k\": 3, \"s\": 0.6880425892903632}, {\"i\": 1862, \"k\": 3, \"s\": 0.6880425892903632}, {\"i\": 1863, \"k\": 3, \"s\": 0.6880425892903632}, {\"i\": 1864, \"k\": 3, \"s\": 0.6880425892903632}, {\"i\": 1865, \"k\": 3, \"s\": 0.6880425892903632}, {\"i\": 1866, \"k\": 3, \"s\": 0.6880425892903632}, {\"i\": 1867, \"k\": 3, \"s\": 0.6880425892903632}, {\"i\": 1868, \"k\": 3, \"s\": 0.6880425892903632}, {\"i\": 1869, \"k\": 3, \"s\": 0.6880425892903632}, {\"i\": 1870, \"k\": 3, \"s\": 0.6880425892903632}, {\"i\": 1871, \"k\": 3, \"s\": 0.6880425892903632}, {\"i\": 1872, \"k\": 3, \"s\": 0.6880425892903632}, {\"i\": 1873, \"k\": 3, \"s\": 0.6880425892903632}, {\"i\": 1874, \"k\": 3, \"s\": 0.6880425892903632}, {\"i\": 1875, \"k\": 3, \"s\": 0.6880425892903632}, {\"i\": 1876, \"k\": 3, \"s\": 0.6880425892903632}, {\"i\": 1877, \"k\": 3, \"s\": 0.6880425892903632}, {\"i\": 1878, \"k\": 3, \"s\": 0.6880425892903632}, {\"i\": 1879, \"k\": 3, \"s\": 0.6880425892903632}, {\"i\": 1880, \"k\": 3, \"s\": 0.6880425892903632}, {\"i\": 1881, \"k\": 3, \"s\": 0.6880425892903632}, {\"i\": 1882, \"k\": 3, \"s\": 0.6880425892903632}, {\"i\": 1883, \"k\": 3, \"s\": 0.6880425892903632}, {\"i\": 1884, \"k\": 3, \"s\": 0.6880425892903632}, {\"i\": 1885, \"k\": 3, \"s\": 0.6880425892903632}, {\"i\": 1886, \"k\": 3, \"s\": 0.6880425892903632}, {\"i\": 1887, \"k\": 3, \"s\": 0.6880425892903632}, {\"i\": 1888, \"k\": 3, \"s\": 0.6880425892903632}, {\"i\": 1889, \"k\": 3, \"s\": 0.6880425892903632}, {\"i\": 1890, \"k\": 3, \"s\": 0.6880425892903632}, {\"i\": 1891, \"k\": 3, \"s\": 0.6880425892903632}, {\"i\": 1892, \"k\": 3, \"s\": 0.6880425892903632}, {\"i\": 1893, \"k\": 3, \"s\": 0.6880425892903632}, {\"i\": 1894, \"k\": 3, \"s\": 0.6880425892903632}, {\"i\": 1895, \"k\": 3, \"s\": 0.4007788324344489}, {\"i\": 1896, \"k\": 3, \"s\": 0.4007788324344489}, {\"i\": 1897, \"k\": 3, \"s\": 0.4007788324344489}, {\"i\": 1898, \"k\": 3, \"s\": 0.4007788324344489}, {\"i\": 1899, \"k\": 3, \"s\": 0.4007788324344489}, {\"i\": 1900, \"k\": 3, \"s\": 0.4007788324344489}, {\"i\": 1901, \"k\": 3, \"s\": 0.4007788324344489}, {\"i\": 1902, \"k\": 3, \"s\": 0.4007788324344489}, {\"i\": 1903, \"k\": 3, \"s\": 0.4007788324344489}, {\"i\": 1904, \"k\": 3, \"s\": 0.4007788324344489}, {\"i\": 1905, \"k\": 3, \"s\": 0.4007788324344489}, {\"i\": 1906, \"k\": 3, \"s\": 0.4007788324344489}, {\"i\": 1907, \"k\": 3, \"s\": 0.4007788324344489}, {\"i\": 1908, \"k\": 3, \"s\": 0.4007788324344489}, {\"i\": 1909, \"k\": 3, \"s\": 0.4007788324344489}, {\"i\": 1910, \"k\": 3, \"s\": 0.4007788324344489}, {\"i\": 1911, \"k\": 3, \"s\": 0.4007788324344489}, {\"i\": 1912, \"k\": 3, \"s\": 0.3938989862030215}, {\"i\": 1913, \"k\": 3, \"s\": 0.3938989862030215}, {\"i\": 1914, \"k\": 3, \"s\": 0.3938989862030215}, {\"i\": 1915, \"k\": 3, \"s\": 0.3938989862030215}, {\"i\": 1916, \"k\": 3, \"s\": 0.3938989862030215}, {\"i\": 1917, \"k\": 3, \"s\": 0.3938989862030215}, {\"i\": 1918, \"k\": 3, \"s\": 0.3938989862030215}, {\"i\": 1919, \"k\": 3, \"s\": 0.3938989862030215}, {\"i\": 1920, \"k\": 3, \"s\": 0.3938989862030215}, {\"i\": 1921, \"k\": 3, \"s\": 0.3938989862030215}, {\"i\": 1922, \"k\": 3, \"s\": 0.3938989862030215}, {\"i\": 1923, \"k\": 3, \"s\": 0.3938989862030215}, {\"i\": 1924, \"k\": 3, \"s\": 0.3938989862030215}, {\"i\": 1925, \"k\": 3, \"s\": 0.3938989862030215}, {\"i\": 1926, \"k\": 3, \"s\": 0.3938989862030215}, {\"i\": 1927, \"k\": 3, \"s\": 0.3938989862030215}, {\"i\": 1928, \"k\": 3, \"s\": 0.3938989862030215}, {\"i\": 1929, \"k\": 3, \"s\": 0.3938989862030215}, {\"i\": 1930, \"k\": 3, \"s\": 0.3938989862030215}, {\"i\": 1931, \"k\": 3, \"s\": 0.7012060372260452}, {\"i\": 1932, \"k\": 3, \"s\": 0.7012060372260452}, {\"i\": 1933, \"k\": 3, \"s\": 0.7012060372260452}, {\"i\": 1934, \"k\": 3, \"s\": 0.7012060372260452}, {\"i\": 1935, \"k\": 3, \"s\": 0.7012060372260452}, {\"i\": 1936, \"k\": 3, \"s\": 0.7012060372260452}, {\"i\": 1937, \"k\": 3, \"s\": 0.7012060372260452}, {\"i\": 1938, \"k\": 3, \"s\": 0.7012060372260452}, {\"i\": 1939, \"k\": 3, \"s\": 0.7012060372260452}, {\"i\": 1940, \"k\": 3, \"s\": 0.7012060372260452}, {\"i\": 1941, \"k\": 3, \"s\": 0.7012060372260452}, {\"i\": 1942, \"k\": 3, \"s\": 0.7012060372260452}, {\"i\": 1943, \"k\": 3, \"s\": 0.7012060372260452}, {\"i\": 1944, \"k\": 3, \"s\": 0.7012060372260452}, {\"i\": 1945, \"k\": 3, \"s\": 0.7012060372260452}, {\"i\": 1946, \"k\": 3, \"s\": 0.7012060372260452}, {\"i\": 1947, \"k\": 3, \"s\": 0.7012060372260452}, {\"i\": 1948, \"k\": 3, \"s\": 0.7012060372260452}, {\"i\": 1949, \"k\": 3, \"s\": 0.7012060372260452}, {\"i\": 1950, \"k\": 3, \"s\": 0.7012060372260452}, {\"i\": 1951, \"k\": 3, \"s\": 0.7012060372260452}, {\"i\": 1952, \"k\": 3, \"s\": 0.7012060372260452}, {\"i\": 1953, \"k\": 3, \"s\": 0.7012060372260452}, {\"i\": 1954, \"k\": 3, \"s\": 0.7012060372260452}, {\"i\": 1955, \"k\": 3, \"s\": 0.7012060372260452}, {\"i\": 1956, \"k\": 3, \"s\": 0.7012060372260452}, {\"i\": 1957, \"k\": 3, \"s\": 0.7012060372260452}, {\"i\": 1958, \"k\": 3, \"s\": 0.7012060372260452}, {\"i\": 1959, \"k\": 3, \"s\": 0.7012060372260452}, {\"i\": 1960, \"k\": 3, \"s\": 0.7012060372260452}, {\"i\": 1961, \"k\": 3, \"s\": 0.7012060372260452}, {\"i\": 1962, \"k\": 3, \"s\": 0.7012060372260452}, {\"i\": 1963, \"k\": 3, \"s\": 0.7012060372260452}, {\"i\": 1964, \"k\": 3, \"s\": 0.7012060372260452}, {\"i\": 1965, \"k\": 3, \"s\": 0.7012060372260452}, {\"i\": 1966, \"k\": 3, \"s\": 0.7012060372260452}, {\"i\": 1967, \"k\": 3, \"s\": 0.7012060372260452}, {\"i\": 1968, \"k\": 3, \"s\": 0.7012060372260452}, {\"i\": 1969, \"k\": 3, \"s\": 0.7012060372260452}, {\"i\": 1970, \"k\": 3, \"s\": 0.7012060372260452}, {\"i\": 1971, \"k\": 3, \"s\": 0.7012060372260452}, {\"i\": 1972, \"k\": 3, \"s\": 0.7012060372260452}, {\"i\": 1973, \"k\": 3, \"s\": 0.7012060372260452}, {\"i\": 1974, \"k\": 3, \"s\": 0.5273602262099841}, {\"i\": 1975, \"k\": 3, \"s\": 0.5273602262099841}, {\"i\": 1976, \"k\": 3, \"s\": 0.5273602262099841}, {\"i\": 1977, \"k\": 3, \"s\": 0.5273602262099841}, {\"i\": 1978, \"k\": 3, \"s\": 0.5273602262099841}, {\"i\": 1979, \"k\": 3, \"s\": 0.5273602262099841}, {\"i\": 1980, \"k\": 3, \"s\": 0.5273602262099841}, {\"i\": 1981, \"k\": 3, \"s\": 0.5273602262099841}, {\"i\": 1982, \"k\": 3, \"s\": 0.5273602262099841}, {\"i\": 1983, \"k\": 3, \"s\": 0.5273602262099841}, {\"i\": 1984, \"k\": 3, \"s\": 0.5273602262099841}, {\"i\": 1985, \"k\": 3, \"s\": 0.5273602262099841}, {\"i\": 1986, \"k\": 3, \"s\": 0.5273602262099841}, {\"i\": 1987, \"k\": 3, \"s\": 0.5273602262099841}, {\"i\": 1988, \"k\": 3, \"s\": 0.5273602262099841}, {\"i\": 1989, \"k\": 3, \"s\": 0.5273602262099841}, {\"i\": 1990, \"k\": 3, \"s\": 0.5273602262099841}, {\"i\": 1991, \"k\": 3, \"s\": 0.5273602262099841}, {\"i\": 1992, \"k\": 3, \"s\": 0.5273602262099841}, {\"i\": 1993, \"k\": 3, \"s\": 0.5273602262099841}, {\"i\": 1994, \"k\": 3, \"s\": 0.5273602262099841}, {\"i\": 1995, \"k\": 3, \"s\": 0.5273602262099841}, {\"i\": 1996, \"k\": 3, \"s\": 0.5273602262099841}, {\"i\": 1997, \"k\": 3, \"s\": 0.5273602262099841}, {\"i\": 1998, \"k\": 3, \"s\": 0.5273602262099841}, {\"i\": 1999, \"k\": 3, \"s\": 0.5273602262099841}, {\"i\": 2000, \"k\": 3, \"s\": 0.5273602262099841}, {\"i\": 2001, \"k\": 3, \"s\": 0.5273602262099841}, {\"i\": 2002, \"k\": 3, \"s\": 0.5273602262099841}, {\"i\": 2003, \"k\": 3, \"s\": 0.5273602262099841}, {\"i\": 2004, \"k\": 3, \"s\": 0.5273602262099841}, {\"i\": 2005, \"k\": 3, \"s\": 0.5273602262099841}, {\"i\": 2006, \"k\": 3, \"s\": 0.7338280103592658}, {\"i\": 2007, \"k\": 3, \"s\": 0.7338280103592658}, {\"i\": 2008, \"k\": 3, \"s\": 0.7338280103592658}, {\"i\": 2009, \"k\": 3, \"s\": 0.7338280103592658}, {\"i\": 2010, \"k\": 3, \"s\": 0.7338280103592658}, {\"i\": 2011, \"k\": 3, \"s\": 0.7338280103592658}, {\"i\": 2012, \"k\": 3, \"s\": 0.7338280103592658}, {\"i\": 2013, \"k\": 3, \"s\": 0.7338280103592658}, {\"i\": 2014, \"k\": 3, \"s\": 0.7338280103592658}, {\"i\": 2015, \"k\": 3, \"s\": 0.7338280103592658}, {\"i\": 2016, \"k\": 3, \"s\": 0.7338280103592658}, {\"i\": 2017, \"k\": 3, \"s\": 0.7338280103592658}, {\"i\": 2018, \"k\": 3, \"s\": 0.7338280103592658}, {\"i\": 2019, \"k\": 3, \"s\": 0.7338280103592658}, {\"i\": 2020, \"k\": 3, \"s\": 0.7338280103592658}, {\"i\": 2021, \"k\": 3, \"s\": 0.7338280103592658}, {\"i\": 2022, \"k\": 3, \"s\": 0.7338280103592658}, {\"i\": 2023, \"k\": 3, \"s\": 0.7338280103592658}, {\"i\": 2024, \"k\": 3, \"s\": 0.7338280103592658}, {\"i\": 2025, \"k\": 3, \"s\": 0.7338280103592658}, {\"i\": 2026, \"k\": 3, \"s\": 0.7338280103592658}, {\"i\": 2027, \"k\": 3, \"s\": 0.7338280103592658}, {\"i\": 2028, \"k\": 3, \"s\": 0.7338280103592658}, {\"i\": 2029, \"k\": 3, \"s\": 0.7338280103592658}, {\"i\": 2030, \"k\": 3, \"s\": 0.7338280103592658}, {\"i\": 2031, \"k\": 3, \"s\": 0.7338280103592658}, {\"i\": 2032, \"k\": 3, \"s\": 0.7338280103592658}, {\"i\": 2033, \"k\": 3, \"s\": 0.7338280103592658}, {\"i\": 2034, \"k\": 3, \"s\": 0.7338280103592658}, {\"i\": 2035, \"k\": 3, \"s\": 0.7338280103592658}, {\"i\": 2036, \"k\": 3, \"s\": 0.7338280103592658}, {\"i\": 2037, \"k\": 3, \"s\": 0.7338280103592658}, {\"i\": 2038, \"k\": 3, \"s\": 0.7338280103592658}, {\"i\": 2039, \"k\": 3, \"s\": 0.7338280103592658}, {\"i\": 2040, \"k\": 3, \"s\": 0.7338280103592658}, {\"i\": 2041, \"k\": 3, \"s\": 0.7338280103592658}, {\"i\": 2042, \"k\": 3, \"s\": 0.7338280103592658}, {\"i\": 2043, \"k\": 3, \"s\": 0.7338280103592658}, {\"i\": 2044, \"k\": 3, \"s\": 0.7338280103592658}, {\"i\": 2045, \"k\": 3, \"s\": 0.7338280103592658}, {\"i\": 2046, \"k\": 3, \"s\": 0.7338280103592658}, {\"i\": 2047, \"k\": 3, \"s\": 0.7338280103592658}, {\"i\": 2048, \"k\": 3, \"s\": 0.7338280103592658}, {\"i\": 2049, \"k\": 3, \"s\": 0.7317844208167859}, {\"i\": 2050, \"k\": 3, \"s\": 0.7317844208167859}, {\"i\": 2051, \"k\": 3, \"s\": 0.7317844208167859}, {\"i\": 2052, \"k\": 3, \"s\": 0.7317844208167859}, {\"i\": 2053, \"k\": 3, \"s\": 0.7317844208167859}, {\"i\": 2054, \"k\": 3, \"s\": 0.7317844208167859}, {\"i\": 2055, \"k\": 3, \"s\": 0.7317844208167859}, {\"i\": 2056, \"k\": 3, \"s\": 0.7317844208167859}, {\"i\": 2057, \"k\": 3, \"s\": 0.7317844208167859}, {\"i\": 2058, \"k\": 3, \"s\": 0.7317844208167859}, {\"i\": 2059, \"k\": 3, \"s\": 0.7317844208167859}, {\"i\": 2060, \"k\": 3, \"s\": 0.7317844208167859}, {\"i\": 2061, \"k\": 3, \"s\": 0.7317844208167859}, {\"i\": 2062, \"k\": 3, \"s\": 0.7317844208167859}, {\"i\": 2063, \"k\": 3, \"s\": 0.7317844208167859}, {\"i\": 2064, \"k\": 3, \"s\": 0.7317844208167859}, {\"i\": 2065, \"k\": 3, \"s\": 0.7317844208167859}, {\"i\": 2066, \"k\": 3, \"s\": 0.7317844208167859}, {\"i\": 2067, \"k\": 3, \"s\": 0.7317844208167859}, {\"i\": 2068, \"k\": 3, \"s\": 0.7317844208167859}, {\"i\": 2069, \"k\": 3, \"s\": 0.7317844208167859}, {\"i\": 2070, \"k\": 3, \"s\": 0.7317844208167859}, {\"i\": 2071, \"k\": 3, \"s\": 0.7317844208167859}, {\"i\": 2072, \"k\": 3, \"s\": 0.7317844208167859}, {\"i\": 2073, \"k\": 3, \"s\": 0.7317844208167859}, {\"i\": 2074, \"k\": 3, \"s\": 0.7317844208167859}, {\"i\": 2075, \"k\": 3, \"s\": 0.7317844208167859}, {\"i\": 2076, \"k\": 3, \"s\": 0.7317844208167859}, {\"i\": 2077, \"k\": 3, \"s\": 0.7317844208167859}, {\"i\": 2078, \"k\": 3, \"s\": 0.7317844208167859}, {\"i\": 2079, \"k\": 3, \"s\": 0.7317844208167859}, {\"i\": 2080, \"k\": 3, \"s\": 0.7317844208167859}, {\"i\": 2081, \"k\": 3, \"s\": 0.7317844208167859}, {\"i\": 2082, \"k\": 3, \"s\": 0.7317844208167859}, {\"i\": 2083, \"k\": 3, \"s\": 0.7317844208167859}, {\"i\": 2084, \"k\": 3, \"s\": 0.7317844208167859}, {\"i\": 2085, \"k\": 3, \"s\": 0.7317844208167859}, {\"i\": 2086, \"k\": 3, \"s\": 0.7317844208167859}, {\"i\": 2087, \"k\": 3, \"s\": 0.7317844208167859}, {\"i\": 2088, \"k\": 3, \"s\": 0.7317844208167859}, {\"i\": 2089, \"k\": 3, \"s\": 0.7317844208167859}, {\"i\": 2090, \"k\": 3, \"s\": 0.7317844208167859}, {\"i\": 2091, \"k\": 3, \"s\": 0.7317844208167859}, {\"i\": 2092, \"k\": 3, \"s\": 0.7317844208167859}, {\"i\": 2093, \"k\": 3, \"s\": 0.42808400432654226}, {\"i\": 2094, \"k\": 3, \"s\": 0.42808400432654226}, {\"i\": 2095, \"k\": 3, \"s\": 0.42808400432654226}, {\"i\": 2096, \"k\": 3, \"s\": 0.42808400432654226}, {\"i\": 2097, \"k\": 3, \"s\": 0.42808400432654226}, {\"i\": 2098, \"k\": 3, \"s\": 0.42808400432654226}, {\"i\": 2099, \"k\": 3, \"s\": 0.42808400432654226}, {\"i\": 2100, \"k\": 3, \"s\": 0.42808400432654226}, {\"i\": 2101, \"k\": 3, \"s\": 0.42808400432654226}, {\"i\": 2102, \"k\": 3, \"s\": 0.42808400432654226}, {\"i\": 2103, \"k\": 3, \"s\": 0.42808400432654226}, {\"i\": 2104, \"k\": 3, \"s\": 0.42808400432654226}, {\"i\": 2105, \"k\": 3, \"s\": 0.42808400432654226}, {\"i\": 2106, \"k\": 3, \"s\": 0.42808400432654226}, {\"i\": 2107, \"k\": 3, \"s\": 0.42808400432654226}, {\"i\": 2108, \"k\": 3, \"s\": 0.42808400432654226}, {\"i\": 2109, \"k\": 3, \"s\": 0.42808400432654226}, {\"i\": 2110, \"k\": 3, \"s\": 0.42808400432654226}, {\"i\": 2111, \"k\": 3, \"s\": 0.42808400432654226}, {\"i\": 2112, \"k\": 3, \"s\": 0.42808400432654226}, {\"i\": 2113, \"k\": 3, \"s\": 0.42808400432654226}, {\"i\": 2114, \"k\": 3, \"s\": 0.42808400432654226}, {\"i\": 2115, \"k\": 3, \"s\": 0.42808400432654226}, {\"i\": 2116, \"k\": 3, \"s\": 0.42808400432654226}, {\"i\": 2117, \"k\": 3, \"s\": 0.42808400432654226}, {\"i\": 2118, \"k\": 3, \"s\": 0.42808400432654226}, {\"i\": 2119, \"k\": 3, \"s\": 0.42808400432654226}, {\"i\": 2120, \"k\": 3, \"s\": 0.42808400432654226}, {\"i\": 2121, \"k\": 3, \"s\": 0.42808400432654226}, {\"i\": 2122, \"k\": 3, \"s\": 0.4056249478247582}, {\"i\": 2123, \"k\": 3, \"s\": 0.4056249478247582}, {\"i\": 2124, \"k\": 3, \"s\": 0.4056249478247582}, {\"i\": 2125, \"k\": 3, \"s\": 0.4056249478247582}, {\"i\": 2126, \"k\": 3, \"s\": 0.4056249478247582}, {\"i\": 2127, \"k\": 3, \"s\": 0.4056249478247582}, {\"i\": 2128, \"k\": 3, \"s\": 0.4056249478247582}, {\"i\": 2129, \"k\": 3, \"s\": 0.4056249478247582}, {\"i\": 2130, \"k\": 3, \"s\": 0.4056249478247582}, {\"i\": 2131, \"k\": 3, \"s\": 0.4056249478247582}, {\"i\": 2132, \"k\": 3, \"s\": 0.4056249478247582}, {\"i\": 2133, \"k\": 3, \"s\": 0.4056249478247582}, {\"i\": 2134, \"k\": 3, \"s\": 0.4056249478247582}, {\"i\": 2135, \"k\": 3, \"s\": 0.4056249478247582}, {\"i\": 2136, \"k\": 3, \"s\": 0.4056249478247582}, {\"i\": 2137, \"k\": 3, \"s\": 0.4056249478247582}, {\"i\": 2138, \"k\": 3, \"s\": 0.4056249478247582}, {\"i\": 2139, \"k\": 3, \"s\": 0.4056249478247582}, {\"i\": 2140, \"k\": 3, \"s\": 0.4056249478247582}, {\"i\": 2141, \"k\": 3, \"s\": 0.4056249478247582}, {\"i\": 2142, \"k\": 3, \"s\": 0.4056249478247582}, {\"i\": 2143, \"k\": 3, \"s\": 0.5037008685389417}, {\"i\": 2144, \"k\": 3, \"s\": 0.5037008685389417}, {\"i\": 2145, \"k\": 3, \"s\": 0.5037008685389417}, {\"i\": 2146, \"k\": 3, \"s\": 0.5037008685389417}, {\"i\": 2147, \"k\": 3, \"s\": 0.5037008685389417}, {\"i\": 2148, \"k\": 3, \"s\": 0.5037008685389417}, {\"i\": 2149, \"k\": 3, \"s\": 0.5037008685389417}, {\"i\": 2150, \"k\": 3, \"s\": 0.5037008685389417}, {\"i\": 2151, \"k\": 3, \"s\": 0.5037008685389417}, {\"i\": 2152, \"k\": 3, \"s\": 0.5037008685389417}, {\"i\": 2153, \"k\": 3, \"s\": 0.5037008685389417}, {\"i\": 2154, \"k\": 3, \"s\": 0.5037008685389417}, {\"i\": 2155, \"k\": 3, \"s\": 0.5037008685389417}, {\"i\": 2156, \"k\": 3, \"s\": 0.5037008685389417}, {\"i\": 2157, \"k\": 3, \"s\": 0.5037008685389417}, {\"i\": 2158, \"k\": 3, \"s\": 0.5037008685389417}, {\"i\": 2159, \"k\": 3, \"s\": 0.5037008685389417}, {\"i\": 2160, \"k\": 3, \"s\": 0.5037008685389417}, {\"i\": 2161, \"k\": 3, \"s\": 0.5037008685389417}, {\"i\": 2162, \"k\": 3, \"s\": 0.5037008685389417}, {\"i\": 2163, \"k\": 3, \"s\": 0.5037008685389417}, {\"i\": 2164, \"k\": 3, \"s\": 0.5037008685389417}, {\"i\": 2165, \"k\": 3, \"s\": 0.5037008685389417}, {\"i\": 2166, \"k\": 3, \"s\": 0.5037008685389417}, {\"i\": 2167, \"k\": 3, \"s\": 0.5037008685389417}, {\"i\": 2168, \"k\": 3, \"s\": 0.5037008685389417}, {\"i\": 2169, \"k\": 3, \"s\": 0.5037008685389417}, {\"i\": 2170, \"k\": 3, \"s\": 0.5037008685389417}, {\"i\": 2171, \"k\": 3, \"s\": 0.5037008685389417}, {\"i\": 2172, \"k\": 3, \"s\": 0.5037008685389417}, {\"i\": 2173, \"k\": 3, \"s\": 0.5037008685389417}, {\"i\": 2174, \"k\": 3, \"s\": 0.5037008685389417}, {\"i\": 2175, \"k\": 3, \"s\": 0.5037008685389417}, {\"i\": 2176, \"k\": 3, \"s\": 0.5037008685389417}, {\"i\": 2177, \"k\": 3, \"s\": 0.5037008685389417}, {\"i\": 2178, \"k\": 3, \"s\": 0.46030008741777023}, {\"i\": 2179, \"k\": 3, \"s\": 0.46030008741777023}, {\"i\": 2180, \"k\": 3, \"s\": 0.46030008741777023}, {\"i\": 2181, \"k\": 3, \"s\": 0.46030008741777023}, {\"i\": 2182, \"k\": 3, \"s\": 0.46030008741777023}, {\"i\": 2183, \"k\": 3, \"s\": 0.46030008741777023}, {\"i\": 2184, \"k\": 3, \"s\": 0.46030008741777023}, {\"i\": 2185, \"k\": 3, \"s\": 0.46030008741777023}, {\"i\": 2186, \"k\": 3, \"s\": 0.46030008741777023}, {\"i\": 2187, \"k\": 3, \"s\": 0.46030008741777023}, {\"i\": 2188, \"k\": 3, \"s\": 0.46030008741777023}, {\"i\": 2189, \"k\": 3, \"s\": 0.46030008741777023}, {\"i\": 2190, \"k\": 3, \"s\": 0.46030008741777023}, {\"i\": 2191, \"k\": 3, \"s\": 0.6993133574657662}, {\"i\": 2192, \"k\": 3, \"s\": 0.6993133574657662}, {\"i\": 2193, \"k\": 3, \"s\": 0.6993133574657662}, {\"i\": 2194, \"k\": 3, \"s\": 0.6993133574657662}, {\"i\": 2195, \"k\": 3, \"s\": 0.6993133574657662}, {\"i\": 2196, \"k\": 3, \"s\": 0.6993133574657662}, {\"i\": 2197, \"k\": 3, \"s\": 0.6993133574657662}, {\"i\": 2198, \"k\": 3, \"s\": 0.6993133574657662}, {\"i\": 2199, \"k\": 3, \"s\": 0.6993133574657662}, {\"i\": 2200, \"k\": 3, \"s\": 0.6993133574657662}, {\"i\": 2201, \"k\": 3, \"s\": 0.6993133574657662}, {\"i\": 2202, \"k\": 3, \"s\": 0.6993133574657662}, {\"i\": 2203, \"k\": 3, \"s\": 0.6993133574657662}, {\"i\": 2204, \"k\": 3, \"s\": 0.6993133574657662}, {\"i\": 2205, \"k\": 3, \"s\": 0.6993133574657662}, {\"i\": 2206, \"k\": 3, \"s\": 0.6993133574657662}, {\"i\": 2207, \"k\": 3, \"s\": 0.6993133574657662}, {\"i\": 2208, \"k\": 3, \"s\": 0.6993133574657662}, {\"i\": 2209, \"k\": 3, \"s\": 0.6993133574657662}, {\"i\": 2210, \"k\": 3, \"s\": 0.6993133574657662}, {\"i\": 2211, \"k\": 3, \"s\": 0.6993133574657662}, {\"i\": 2212, \"k\": 3, \"s\": 0.6993133574657662}, {\"i\": 2213, \"k\": 3, \"s\": 0.6993133574657662}, {\"i\": 2214, \"k\": 3, \"s\": 0.6993133574657662}, {\"i\": 2215, \"k\": 3, \"s\": 0.6993133574657662}, {\"i\": 2216, \"k\": 3, \"s\": 0.6993133574657662}, {\"i\": 2217, \"k\": 3, \"s\": 0.6993133574657662}, {\"i\": 2218, \"k\": 3, \"s\": 0.6993133574657662}, {\"i\": 2219, \"k\": 3, \"s\": 0.6993133574657662}, {\"i\": 2220, \"k\": 3, \"s\": 0.6993133574657662}, {\"i\": 2221, \"k\": 3, \"s\": 0.6993133574657662}, {\"i\": 2222, \"k\": 3, \"s\": 0.6993133574657662}, {\"i\": 2223, \"k\": 3, \"s\": 0.6993133574657662}, {\"i\": 2224, \"k\": 3, \"s\": 0.6993133574657662}, {\"i\": 2225, \"k\": 3, \"s\": 0.6993133574657662}, {\"i\": 2226, \"k\": 3, \"s\": 0.6993133574657662}, {\"i\": 2227, \"k\": 3, \"s\": 0.6993133574657662}, {\"i\": 2228, \"k\": 3, \"s\": 0.6993133574657662}, {\"i\": 2229, \"k\": 3, \"s\": 0.6993133574657662}, {\"i\": 2230, \"k\": 3, \"s\": 0.6993133574657662}, {\"i\": 2231, \"k\": 3, \"s\": 0.6993133574657662}, {\"i\": 2232, \"k\": 3, \"s\": 0.6993133574657662}, {\"i\": 2233, \"k\": 3, \"s\": 0.6993133574657662}, {\"i\": 2234, \"k\": 3, \"s\": 0.6993133574657662}, {\"i\": 2235, \"k\": 3, \"s\": 0.6993133574657662}, {\"i\": 2236, \"k\": 3, \"s\": 0.6993133574657662}, {\"i\": 2237, \"k\": 3, \"s\": 0.4059557831258977}, {\"i\": 2238, \"k\": 3, \"s\": 0.4059557831258977}, {\"i\": 2239, \"k\": 3, \"s\": 0.4059557831258977}, {\"i\": 2240, \"k\": 3, \"s\": 0.4059557831258977}, {\"i\": 2241, \"k\": 3, \"s\": 0.4059557831258977}, {\"i\": 2242, \"k\": 3, \"s\": 0.4059557831258977}, {\"i\": 2243, \"k\": 3, \"s\": 0.4059557831258977}, {\"i\": 2244, \"k\": 3, \"s\": 0.4059557831258977}, {\"i\": 2245, \"k\": 3, \"s\": 0.4059557831258977}, {\"i\": 2246, \"k\": 3, \"s\": 0.4059557831258977}, {\"i\": 2247, \"k\": 3, \"s\": 0.4059557831258977}, {\"i\": 2248, \"k\": 3, \"s\": 0.4059557831258977}, {\"i\": 2249, \"k\": 3, \"s\": 0.4059557831258977}, {\"i\": 2250, \"k\": 3, \"s\": 0.6748504111424865}, {\"i\": 2251, \"k\": 3, \"s\": 0.6748504111424865}, {\"i\": 2252, \"k\": 3, \"s\": 0.6748504111424865}, {\"i\": 2253, \"k\": 3, \"s\": 0.6748504111424865}, {\"i\": 2254, \"k\": 3, \"s\": 0.6748504111424865}, {\"i\": 2255, \"k\": 3, \"s\": 0.6748504111424865}, {\"i\": 2256, \"k\": 3, \"s\": 0.6748504111424865}, {\"i\": 2257, \"k\": 3, \"s\": 0.6748504111424865}, {\"i\": 2258, \"k\": 3, \"s\": 0.6748504111424865}, {\"i\": 2259, \"k\": 3, \"s\": 0.6748504111424865}, {\"i\": 2260, \"k\": 3, \"s\": 0.6748504111424865}, {\"i\": 2261, \"k\": 3, \"s\": 0.6748504111424865}, {\"i\": 2262, \"k\": 3, \"s\": 0.6748504111424865}, {\"i\": 2263, \"k\": 3, \"s\": 0.6748504111424865}, {\"i\": 2264, \"k\": 3, \"s\": 0.6748504111424865}, {\"i\": 2265, \"k\": 3, \"s\": 0.6748504111424865}, {\"i\": 2266, \"k\": 3, \"s\": 0.6748504111424865}, {\"i\": 2267, \"k\": 3, \"s\": 0.6748504111424865}, {\"i\": 2268, \"k\": 3, \"s\": 0.6748504111424865}, {\"i\": 2269, \"k\": 3, \"s\": 0.6748504111424865}, {\"i\": 2270, \"k\": 3, \"s\": 0.6748504111424865}, {\"i\": 2271, \"k\": 3, \"s\": 0.6748504111424865}, {\"i\": 2272, \"k\": 3, \"s\": 0.6748504111424865}, {\"i\": 2273, \"k\": 3, \"s\": 0.6748504111424865}, {\"i\": 2274, \"k\": 3, \"s\": 0.6748504111424865}, {\"i\": 2275, \"k\": 3, \"s\": 0.6748504111424865}, {\"i\": 2276, \"k\": 3, \"s\": 0.6748504111424865}, {\"i\": 2277, \"k\": 3, \"s\": 0.6748504111424865}, {\"i\": 2278, \"k\": 3, \"s\": 0.6748504111424865}, {\"i\": 2279, \"k\": 3, \"s\": 0.6748504111424865}, {\"i\": 2280, \"k\": 3, \"s\": 0.6748504111424865}, {\"i\": 2281, \"k\": 3, \"s\": 0.6748504111424865}, {\"i\": 2282, \"k\": 3, \"s\": 0.6748504111424865}, {\"i\": 2283, \"k\": 3, \"s\": 0.6748504111424865}, {\"i\": 2284, \"k\": 3, \"s\": 0.6748504111424865}, {\"i\": 2285, \"k\": 3, \"s\": 0.6748504111424865}, {\"i\": 2286, \"k\": 3, \"s\": 0.6748504111424865}, {\"i\": 2287, \"k\": 3, \"s\": 0.6748504111424865}, {\"i\": 2288, \"k\": 3, \"s\": 0.6748504111424865}, {\"i\": 2289, \"k\": 3, \"s\": 0.6434923998977822}, {\"i\": 2290, \"k\": 3, \"s\": 0.6434923998977822}, {\"i\": 2291, \"k\": 3, \"s\": 0.6434923998977822}, {\"i\": 2292, \"k\": 3, \"s\": 0.6434923998977822}, {\"i\": 2293, \"k\": 3, \"s\": 0.6434923998977822}, {\"i\": 2294, \"k\": 3, \"s\": 0.6434923998977822}, {\"i\": 2295, \"k\": 3, \"s\": 0.6434923998977822}, {\"i\": 2296, \"k\": 3, \"s\": 0.6434923998977822}, {\"i\": 2297, \"k\": 3, \"s\": 0.6434923998977822}, {\"i\": 2298, \"k\": 3, \"s\": 0.6434923998977822}, {\"i\": 2299, \"k\": 3, \"s\": 0.6434923998977822}, {\"i\": 2300, \"k\": 3, \"s\": 0.6434923998977822}, {\"i\": 2301, \"k\": 3, \"s\": 0.6434923998977822}, {\"i\": 2302, \"k\": 3, \"s\": 0.6434923998977822}, {\"i\": 2303, \"k\": 3, \"s\": 0.6434923998977822}, {\"i\": 2304, \"k\": 3, \"s\": 0.6434923998977822}, {\"i\": 2305, \"k\": 3, \"s\": 0.6434923998977822}, {\"i\": 2306, \"k\": 3, \"s\": 0.6434923998977822}, {\"i\": 2307, \"k\": 3, \"s\": 0.6434923998977822}, {\"i\": 2308, \"k\": 3, \"s\": 0.6434923998977822}, {\"i\": 2309, \"k\": 3, \"s\": 0.6434923998977822}, {\"i\": 2310, \"k\": 3, \"s\": 0.6434923998977822}, {\"i\": 2311, \"k\": 3, \"s\": 0.6434923998977822}, {\"i\": 2312, \"k\": 3, \"s\": 0.6434923998977822}, {\"i\": 2313, \"k\": 3, \"s\": 0.6434923998977822}, {\"i\": 2314, \"k\": 3, \"s\": 0.6434923998977822}, {\"i\": 2315, \"k\": 3, \"s\": 0.6434923998977822}, {\"i\": 2316, \"k\": 3, \"s\": 0.6434923998977822}, {\"i\": 2317, \"k\": 3, \"s\": 0.6434923998977822}, {\"i\": 2318, \"k\": 3, \"s\": 0.6434923998977822}, {\"i\": 2319, \"k\": 3, \"s\": 0.6434923998977822}, {\"i\": 2320, \"k\": 3, \"s\": 0.6434923998977822}, {\"i\": 2321, \"k\": 3, \"s\": 0.6434923998977822}, {\"i\": 2322, \"k\": 3, \"s\": 0.6434923998977822}, {\"i\": 2323, \"k\": 3, \"s\": 0.6434923998977822}, {\"i\": 2324, \"k\": 3, \"s\": 0.6434923998977822}, {\"i\": 2325, \"k\": 3, \"s\": 0.6434923998977822}, {\"i\": 2326, \"k\": 3, \"s\": 0.6434923998977822}, {\"i\": 2327, \"k\": 3, \"s\": 0.6434923998977822}, {\"i\": 2328, \"k\": 3, \"s\": 0.6434923998977822}, {\"i\": 2329, \"k\": 3, \"s\": 0.6434923998977822}, {\"i\": 2330, \"k\": 3, \"s\": 0.6434923998977822}, {\"i\": 2331, \"k\": 3, \"s\": 0.6434923998977822}, {\"i\": 2332, \"k\": 3, \"s\": 0.6434923998977822}, {\"i\": 2333, \"k\": 3, \"s\": 0.6434923998977822}, {\"i\": 2334, \"k\": 3, \"s\": 0.6434923998977822}, {\"i\": 2335, \"k\": 3, \"s\": 0.6434923998977822}, {\"i\": 2336, \"k\": 3, \"s\": 0.6434923998977822}, {\"i\": 2337, \"k\": 3, \"s\": 0.6434923998977822}, {\"i\": 2338, \"k\": 3, \"s\": 0.6434923998977822}, {\"i\": 2339, \"k\": 3, \"s\": 0.681474176785203}, {\"i\": 2340, \"k\": 3, \"s\": 0.681474176785203}, {\"i\": 2341, \"k\": 3, \"s\": 0.681474176785203}, {\"i\": 2342, \"k\": 3, \"s\": 0.681474176785203}, {\"i\": 2343, \"k\": 3, \"s\": 0.681474176785203}, {\"i\": 2344, \"k\": 3, \"s\": 0.681474176785203}, {\"i\": 2345, \"k\": 3, \"s\": 0.681474176785203}, {\"i\": 2346, \"k\": 3, \"s\": 0.681474176785203}, {\"i\": 2347, \"k\": 3, \"s\": 0.681474176785203}, {\"i\": 2348, \"k\": 3, \"s\": 0.681474176785203}, {\"i\": 2349, \"k\": 3, \"s\": 0.681474176785203}, {\"i\": 2350, \"k\": 3, \"s\": 0.681474176785203}, {\"i\": 2351, \"k\": 3, \"s\": 0.681474176785203}, {\"i\": 2352, \"k\": 3, \"s\": 0.681474176785203}, {\"i\": 2353, \"k\": 3, \"s\": 0.681474176785203}, {\"i\": 2354, \"k\": 3, \"s\": 0.681474176785203}, {\"i\": 2355, \"k\": 3, \"s\": 0.681474176785203}, {\"i\": 2356, \"k\": 3, \"s\": 0.681474176785203}, {\"i\": 2357, \"k\": 3, \"s\": 0.681474176785203}, {\"i\": 2358, \"k\": 3, \"s\": 0.681474176785203}, {\"i\": 2359, \"k\": 3, \"s\": 0.681474176785203}, {\"i\": 2360, \"k\": 3, \"s\": 0.681474176785203}, {\"i\": 2361, \"k\": 3, \"s\": 0.681474176785203}, {\"i\": 2362, \"k\": 3, \"s\": 0.681474176785203}, {\"i\": 2363, \"k\": 3, \"s\": 0.681474176785203}, {\"i\": 2364, \"k\": 3, \"s\": 0.681474176785203}, {\"i\": 2365, \"k\": 3, \"s\": 0.681474176785203}, {\"i\": 2366, \"k\": 3, \"s\": 0.681474176785203}, {\"i\": 2367, \"k\": 3, \"s\": 0.681474176785203}, {\"i\": 2368, \"k\": 3, \"s\": 0.681474176785203}, {\"i\": 2369, \"k\": 3, \"s\": 0.681474176785203}, {\"i\": 2370, \"k\": 3, \"s\": 0.681474176785203}, {\"i\": 2371, \"k\": 3, \"s\": 0.681474176785203}, {\"i\": 2372, \"k\": 3, \"s\": 0.681474176785203}, {\"i\": 2373, \"k\": 3, \"s\": 0.681474176785203}, {\"i\": 2374, \"k\": 3, \"s\": 0.681474176785203}, {\"i\": 2375, \"k\": 3, \"s\": 0.681474176785203}, {\"i\": 2376, \"k\": 3, \"s\": 0.681474176785203}, {\"i\": 2377, \"k\": 3, \"s\": 0.681474176785203}, {\"i\": 2378, \"k\": 3, \"s\": 0.681474176785203}, {\"i\": 2379, \"k\": 3, \"s\": 0.7317443924607548}, {\"i\": 2380, \"k\": 3, \"s\": 0.7317443924607548}, {\"i\": 2381, \"k\": 3, \"s\": 0.7317443924607548}, {\"i\": 2382, \"k\": 3, \"s\": 0.7317443924607548}, {\"i\": 2383, \"k\": 3, \"s\": 0.7317443924607548}, {\"i\": 2384, \"k\": 3, \"s\": 0.7317443924607548}, {\"i\": 2385, \"k\": 3, \"s\": 0.7317443924607548}, {\"i\": 2386, \"k\": 3, \"s\": 0.7317443924607548}, {\"i\": 2387, \"k\": 3, \"s\": 0.7317443924607548}, {\"i\": 2388, \"k\": 3, \"s\": 0.7317443924607548}, {\"i\": 2389, \"k\": 3, \"s\": 0.7317443924607548}, {\"i\": 2390, \"k\": 3, \"s\": 0.7317443924607548}, {\"i\": 2391, \"k\": 3, \"s\": 0.7317443924607548}, {\"i\": 2392, \"k\": 3, \"s\": 0.7317443924607548}, {\"i\": 2393, \"k\": 3, \"s\": 0.7317443924607548}, {\"i\": 2394, \"k\": 3, \"s\": 0.7317443924607548}, {\"i\": 2395, \"k\": 3, \"s\": 0.7317443924607548}, {\"i\": 2396, \"k\": 3, \"s\": 0.7317443924607548}, {\"i\": 2397, \"k\": 3, \"s\": 0.7317443924607548}, {\"i\": 2398, \"k\": 3, \"s\": 0.7317443924607548}, {\"i\": 2399, \"k\": 3, \"s\": 0.7317443924607548}, {\"i\": 2400, \"k\": 3, \"s\": 0.7317443924607548}, {\"i\": 2401, \"k\": 3, \"s\": 0.7317443924607548}, {\"i\": 2402, \"k\": 3, \"s\": 0.7317443924607548}, {\"i\": 2403, \"k\": 3, \"s\": 0.7317443924607548}, {\"i\": 2404, \"k\": 3, \"s\": 0.7317443924607548}, {\"i\": 2405, \"k\": 3, \"s\": 0.7317443924607548}, {\"i\": 2406, \"k\": 3, \"s\": 0.7317443924607548}, {\"i\": 2407, \"k\": 3, \"s\": 0.7317443924607548}, {\"i\": 2408, \"k\": 3, \"s\": 0.7317443924607548}, {\"i\": 2409, \"k\": 3, \"s\": 0.7317443924607548}, {\"i\": 2410, \"k\": 3, \"s\": 0.7317443924607548}, {\"i\": 2411, \"k\": 3, \"s\": 0.7317443924607548}, {\"i\": 2412, \"k\": 3, \"s\": 0.7317443924607548}, {\"i\": 2413, \"k\": 3, \"s\": 0.7317443924607548}, {\"i\": 2414, \"k\": 3, \"s\": 0.7317443924607548}, {\"i\": 2415, \"k\": 3, \"s\": 0.7317443924607548}, {\"i\": 2416, \"k\": 3, \"s\": 0.7317443924607548}, {\"i\": 2417, \"k\": 3, \"s\": 0.7317443924607548}, {\"i\": 2418, \"k\": 3, \"s\": 0.7317443924607548}, {\"i\": 2419, \"k\": 3, \"s\": 0.7317443924607548}, {\"i\": 2420, \"k\": 3, \"s\": 0.7317443924607548}, {\"i\": 2421, \"k\": 3, \"s\": 0.7317443924607548}, {\"i\": 2422, \"k\": 3, \"s\": 0.7317443924607548}, {\"i\": 2423, \"k\": 3, \"s\": 0.3437572655688843}, {\"i\": 2424, \"k\": 3, \"s\": 0.3437572655688843}, {\"i\": 2425, \"k\": 3, \"s\": 0.3437572655688843}, {\"i\": 2426, \"k\": 3, \"s\": 0.3437572655688843}, {\"i\": 2427, \"k\": 3, \"s\": 0.3437572655688843}, {\"i\": 2428, \"k\": 3, \"s\": 0.3437572655688843}, {\"i\": 2429, \"k\": 3, \"s\": 0.3437572655688843}, {\"i\": 2430, \"k\": 3, \"s\": 0.3437572655688843}, {\"i\": 2431, \"k\": 3, \"s\": 0.3437572655688843}, {\"i\": 2432, \"k\": 3, \"s\": 0.3437572655688843}, {\"i\": 2433, \"k\": 3, \"s\": 0.3437572655688843}, {\"i\": 2434, \"k\": 3, \"s\": 0.3437572655688843}, {\"i\": 2435, \"k\": 3, \"s\": 0.3437572655688843}, {\"i\": 2436, \"k\": 3, \"s\": 0.3437572655688843}, {\"i\": 2437, \"k\": 3, \"s\": 0.3437572655688843}, {\"i\": 2438, \"k\": 3, \"s\": 0.3437572655688843}, {\"i\": 2439, \"k\": 3, \"s\": 0.3437572655688843}, {\"i\": 2440, \"k\": 3, \"s\": 0.3437572655688843}, {\"i\": 2441, \"k\": 3, \"s\": 0.3437572655688843}, {\"i\": 2442, \"k\": 3, \"s\": 0.3437572655688843}, {\"i\": 2443, \"k\": 3, \"s\": 0.3437572655688843}, {\"i\": 2444, \"k\": 3, \"s\": 0.2015992720526198}, {\"i\": 2445, \"k\": 3, \"s\": 0.2015992720526198}, {\"i\": 2446, \"k\": 3, \"s\": 0.2015992720526198}, {\"i\": 2447, \"k\": 3, \"s\": 0.2015992720526198}, {\"i\": 2448, \"k\": 3, \"s\": 0.2015992720526198}, {\"i\": 2449, \"k\": 3, \"s\": 0.2015992720526198}, {\"i\": 2450, \"k\": 3, \"s\": 0.2015992720526198}, {\"i\": 2451, \"k\": 3, \"s\": 0.2015992720526198}, {\"i\": 2452, \"k\": 3, \"s\": 0.2015992720526198}, {\"i\": 2453, \"k\": 3, \"s\": 0.2015992720526198}, {\"i\": 2454, \"k\": 3, \"s\": 0.2015992720526198}, {\"i\": 2455, \"k\": 3, \"s\": 0.2015992720526198}, {\"i\": 2456, \"k\": 3, \"s\": 0.2015992720526198}, {\"i\": 2457, \"k\": 3, \"s\": 0.2015992720526198}, {\"i\": 2458, \"k\": 3, \"s\": 0.2015992720526198}, {\"i\": 2459, \"k\": 3, \"s\": 0.2015992720526198}, {\"i\": 2460, \"k\": 3, \"s\": 0.2015992720526198}, {\"i\": 2461, \"k\": 3, \"s\": 0.2015992720526198}, {\"i\": 2462, \"k\": 3, \"s\": 0.2015992720526198}, {\"i\": 2463, \"k\": 3, \"s\": 0.2015992720526198}, {\"i\": 2464, \"k\": 3, \"s\": 0.2015992720526198}, {\"i\": 2465, \"k\": 3, \"s\": 0.2015992720526198}, {\"i\": 2466, \"k\": 3, \"s\": 0.2015992720526198}, {\"i\": 2467, \"k\": 3, \"s\": 0.2015992720526198}, {\"i\": 2468, \"k\": 3, \"s\": 0.2015992720526198}, {\"i\": 2469, \"k\": 3, \"s\": 0.2015992720526198}, {\"i\": 2470, \"k\": 3, \"s\": 0.2015992720526198}, {\"i\": 2471, \"k\": 3, \"s\": 0.2015992720526198}, {\"i\": 2472, \"k\": 3, \"s\": 0.2015992720526198}, {\"i\": 2473, \"k\": 3, \"s\": 0.2015992720526198}, {\"i\": 2474, \"k\": 3, \"s\": 0.2015992720526198}, {\"i\": 2475, \"k\": 3, \"s\": 0.2015992720526198}, {\"i\": 2476, \"k\": 3, \"s\": 0.2015992720526198}, {\"i\": 2477, \"k\": 3, \"s\": 0.2015992720526198}, {\"i\": 2478, \"k\": 3, \"s\": 0.2015992720526198}, {\"i\": 2479, \"k\": 3, \"s\": 0.2015992720526198}, {\"i\": 2480, \"k\": 3, \"s\": 0.2015992720526198}, {\"i\": 2481, \"k\": 3, \"s\": 0.2015992720526198}, {\"i\": 2482, \"k\": 3, \"s\": 0.2015992720526198}, {\"i\": 2483, \"k\": 3, \"s\": 0.2015992720526198}, {\"i\": 2484, \"k\": 3, \"s\": 0.2015992720526198}, {\"i\": 2485, \"k\": 3, \"s\": 0.7283076733564889}, {\"i\": 2486, \"k\": 3, \"s\": 0.7283076733564889}, {\"i\": 2487, \"k\": 3, \"s\": 0.7283076733564889}, {\"i\": 2488, \"k\": 3, \"s\": 0.7283076733564889}, {\"i\": 2489, \"k\": 3, \"s\": 0.7283076733564889}, {\"i\": 2490, \"k\": 3, \"s\": 0.7283076733564889}, {\"i\": 2491, \"k\": 3, \"s\": 0.7283076733564889}, {\"i\": 2492, \"k\": 3, \"s\": 0.7283076733564889}, {\"i\": 2493, \"k\": 3, \"s\": 0.7283076733564889}, {\"i\": 2494, \"k\": 3, \"s\": 0.7283076733564889}, {\"i\": 2495, \"k\": 3, \"s\": 0.7283076733564889}, {\"i\": 2496, \"k\": 3, \"s\": 0.7283076733564889}, {\"i\": 2497, \"k\": 3, \"s\": 0.7283076733564889}, {\"i\": 2498, \"k\": 3, \"s\": 0.7283076733564889}, {\"i\": 2499, \"k\": 3, \"s\": 0.7283076733564889}, {\"i\": 2500, \"k\": 3, \"s\": 0.7283076733564889}, {\"i\": 2501, \"k\": 3, \"s\": 0.7283076733564889}, {\"i\": 2502, \"k\": 3, \"s\": 0.7283076733564889}, {\"i\": 2503, \"k\": 3, \"s\": 0.7283076733564889}, {\"i\": 2504, \"k\": 3, \"s\": 0.7283076733564889}, {\"i\": 2505, \"k\": 3, \"s\": 0.7283076733564889}, {\"i\": 2506, \"k\": 3, \"s\": 0.7283076733564889}, {\"i\": 2507, \"k\": 3, \"s\": 0.7283076733564889}, {\"i\": 2508, \"k\": 3, \"s\": 0.7283076733564889}, {\"i\": 2509, \"k\": 3, \"s\": 0.7283076733564889}, {\"i\": 2510, \"k\": 3, \"s\": 0.7283076733564889}, {\"i\": 2511, \"k\": 3, \"s\": 0.7283076733564889}, {\"i\": 2512, \"k\": 3, \"s\": 0.7283076733564889}, {\"i\": 2513, \"k\": 3, \"s\": 0.7283076733564889}, {\"i\": 2514, \"k\": 3, \"s\": 0.7283076733564889}, {\"i\": 2515, \"k\": 3, \"s\": 0.7283076733564889}, {\"i\": 2516, \"k\": 3, \"s\": 0.7283076733564889}, {\"i\": 2517, \"k\": 3, \"s\": 0.7283076733564889}, {\"i\": 2518, \"k\": 3, \"s\": 0.7283076733564889}, {\"i\": 2519, \"k\": 3, \"s\": 0.7283076733564889}, {\"i\": 2520, \"k\": 3, \"s\": 0.7283076733564889}, {\"i\": 2521, \"k\": 3, \"s\": 0.7283076733564889}, {\"i\": 2522, \"k\": 3, \"s\": 0.7283076733564889}, {\"i\": 2523, \"k\": 3, \"s\": 0.7283076733564889}, {\"i\": 2524, \"k\": 3, \"s\": 0.7283076733564889}, {\"i\": 2525, \"k\": 3, \"s\": 0.7283076733564889}, {\"i\": 2526, \"k\": 3, \"s\": 0.6658547962296869}, {\"i\": 2527, \"k\": 3, \"s\": 0.6658547962296869}, {\"i\": 2528, \"k\": 3, \"s\": 0.6658547962296869}, {\"i\": 2529, \"k\": 3, \"s\": 0.6658547962296869}, {\"i\": 2530, \"k\": 3, \"s\": 0.6658547962296869}, {\"i\": 2531, \"k\": 3, \"s\": 0.6658547962296869}, {\"i\": 2532, \"k\": 3, \"s\": 0.6658547962296869}, {\"i\": 2533, \"k\": 3, \"s\": 0.6658547962296869}, {\"i\": 2534, \"k\": 3, \"s\": 0.6658547962296869}, {\"i\": 2535, \"k\": 3, \"s\": 0.6658547962296869}, {\"i\": 2536, \"k\": 3, \"s\": 0.6658547962296869}, {\"i\": 2537, \"k\": 3, \"s\": 0.6658547962296869}, {\"i\": 2538, \"k\": 3, \"s\": 0.6658547962296869}, {\"i\": 2539, \"k\": 3, \"s\": 0.6658547962296869}, {\"i\": 2540, \"k\": 3, \"s\": 0.6658547962296869}, {\"i\": 2541, \"k\": 3, \"s\": 0.6658547962296869}, {\"i\": 2542, \"k\": 3, \"s\": 0.6658547962296869}, {\"i\": 2543, \"k\": 3, \"s\": 0.6658547962296869}, {\"i\": 2544, \"k\": 3, \"s\": 0.6658547962296869}, {\"i\": 2545, \"k\": 3, \"s\": 0.6658547962296869}, {\"i\": 2546, \"k\": 3, \"s\": 0.6658547962296869}, {\"i\": 2547, \"k\": 3, \"s\": 0.6658547962296869}, {\"i\": 2548, \"k\": 3, \"s\": 0.6658547962296869}, {\"i\": 2549, \"k\": 3, \"s\": 0.6658547962296869}, {\"i\": 2550, \"k\": 3, \"s\": 0.6658547962296869}, {\"i\": 2551, \"k\": 3, \"s\": 0.6658547962296869}, {\"i\": 2552, \"k\": 3, \"s\": 0.6658547962296869}, {\"i\": 2553, \"k\": 3, \"s\": 0.6658547962296869}, {\"i\": 2554, \"k\": 3, \"s\": 0.6658547962296869}, {\"i\": 2555, \"k\": 3, \"s\": 0.6658547962296869}, {\"i\": 2556, \"k\": 3, \"s\": 0.6658547962296869}, {\"i\": 2557, \"k\": 3, \"s\": 0.6658547962296869}, {\"i\": 2558, \"k\": 3, \"s\": 0.6658547962296869}, {\"i\": 2559, \"k\": 3, \"s\": 0.6658547962296869}, {\"i\": 2560, \"k\": 3, \"s\": 0.6658547962296869}, {\"i\": 2561, \"k\": 3, \"s\": 0.6658547962296869}, {\"i\": 2562, \"k\": 3, \"s\": 0.6658547962296869}, {\"i\": 2563, \"k\": 3, \"s\": 0.6658547962296869}, {\"i\": 2564, \"k\": 3, \"s\": 0.6658547962296869}, {\"i\": 2565, \"k\": 3, \"s\": 0.69773155854945}, {\"i\": 2566, \"k\": 3, \"s\": 0.69773155854945}, {\"i\": 2567, \"k\": 3, \"s\": 0.69773155854945}, {\"i\": 2568, \"k\": 3, \"s\": 0.69773155854945}, {\"i\": 2569, \"k\": 3, \"s\": 0.69773155854945}, {\"i\": 2570, \"k\": 3, \"s\": 0.69773155854945}, {\"i\": 2571, \"k\": 3, \"s\": 0.69773155854945}, {\"i\": 2572, \"k\": 3, \"s\": 0.69773155854945}, {\"i\": 2573, \"k\": 3, \"s\": 0.69773155854945}, {\"i\": 2574, \"k\": 3, \"s\": 0.69773155854945}, {\"i\": 2575, \"k\": 3, \"s\": 0.69773155854945}, {\"i\": 2576, \"k\": 3, \"s\": 0.69773155854945}, {\"i\": 2577, \"k\": 3, \"s\": 0.69773155854945}, {\"i\": 2578, \"k\": 3, \"s\": 0.69773155854945}, {\"i\": 2579, \"k\": 3, \"s\": 0.69773155854945}, {\"i\": 2580, \"k\": 3, \"s\": 0.69773155854945}, {\"i\": 2581, \"k\": 3, \"s\": 0.69773155854945}, {\"i\": 2582, \"k\": 3, \"s\": 0.69773155854945}, {\"i\": 2583, \"k\": 3, \"s\": 0.69773155854945}, {\"i\": 2584, \"k\": 3, \"s\": 0.69773155854945}, {\"i\": 2585, \"k\": 3, \"s\": 0.69773155854945}, {\"i\": 2586, \"k\": 3, \"s\": 0.69773155854945}, {\"i\": 2587, \"k\": 3, \"s\": 0.69773155854945}, {\"i\": 2588, \"k\": 3, \"s\": 0.69773155854945}, {\"i\": 2589, \"k\": 3, \"s\": 0.69773155854945}, {\"i\": 2590, \"k\": 3, \"s\": 0.69773155854945}, {\"i\": 2591, \"k\": 3, \"s\": 0.69773155854945}, {\"i\": 2592, \"k\": 3, \"s\": 0.69773155854945}, {\"i\": 2593, \"k\": 3, \"s\": 0.69773155854945}, {\"i\": 2594, \"k\": 3, \"s\": 0.69773155854945}, {\"i\": 2595, \"k\": 3, \"s\": 0.69773155854945}, {\"i\": 2596, \"k\": 3, \"s\": 0.69773155854945}, {\"i\": 2597, \"k\": 3, \"s\": 0.69773155854945}, {\"i\": 2598, \"k\": 3, \"s\": 0.69773155854945}, {\"i\": 2599, \"k\": 3, \"s\": 0.69773155854945}, {\"i\": 2600, \"k\": 3, \"s\": 0.69773155854945}, {\"i\": 2601, \"k\": 3, \"s\": 0.69773155854945}, {\"i\": 2602, \"k\": 3, \"s\": 0.69773155854945}, {\"i\": 2603, \"k\": 3, \"s\": 0.69773155854945}, {\"i\": 2604, \"k\": 3, \"s\": 0.69773155854945}, {\"i\": 2605, \"k\": 3, \"s\": 0.69773155854945}, {\"i\": 2606, \"k\": 3, \"s\": 0.6038707323797328}, {\"i\": 2607, \"k\": 3, \"s\": 0.6038707323797328}, {\"i\": 2608, \"k\": 3, \"s\": 0.6038707323797328}, {\"i\": 2609, \"k\": 3, \"s\": 0.6038707323797328}, {\"i\": 2610, \"k\": 3, \"s\": 0.6038707323797328}, {\"i\": 2611, \"k\": 3, \"s\": 0.6038707323797328}, {\"i\": 2612, \"k\": 3, \"s\": 0.6038707323797328}, {\"i\": 2613, \"k\": 3, \"s\": 0.6038707323797328}, {\"i\": 2614, \"k\": 3, \"s\": 0.6038707323797328}, {\"i\": 2615, \"k\": 3, \"s\": 0.6038707323797328}, {\"i\": 2616, \"k\": 3, \"s\": 0.6038707323797328}, {\"i\": 2617, \"k\": 3, \"s\": 0.6038707323797328}, {\"i\": 2618, \"k\": 3, \"s\": 0.6038707323797328}, {\"i\": 2619, \"k\": 3, \"s\": 0.6038707323797328}, {\"i\": 2620, \"k\": 3, \"s\": 0.6038707323797328}, {\"i\": 2621, \"k\": 3, \"s\": 0.6038707323797328}, {\"i\": 2622, \"k\": 3, \"s\": 0.6038707323797328}, {\"i\": 2623, \"k\": 3, \"s\": 0.6038707323797328}, {\"i\": 2624, \"k\": 3, \"s\": 0.6038707323797328}, {\"i\": 2625, \"k\": 3, \"s\": 0.6038707323797328}, {\"i\": 2626, \"k\": 3, \"s\": 0.6038707323797328}, {\"i\": 2627, \"k\": 3, \"s\": 0.6038707323797328}, {\"i\": 2628, \"k\": 3, \"s\": 0.6038707323797328}, {\"i\": 2629, \"k\": 3, \"s\": 0.6038707323797328}, {\"i\": 2630, \"k\": 3, \"s\": 0.6038707323797328}, {\"i\": 2631, \"k\": 3, \"s\": 0.6038707323797328}, {\"i\": 2632, \"k\": 3, \"s\": 0.6038707323797328}, {\"i\": 2633, \"k\": 3, \"s\": 0.6038707323797328}, {\"i\": 2634, \"k\": 3, \"s\": 0.6038707323797328}, {\"i\": 2635, \"k\": 3, \"s\": 0.6038707323797328}, {\"i\": 2636, \"k\": 3, \"s\": 0.6038707323797328}, {\"i\": 2637, \"k\": 3, \"s\": 0.6038707323797328}, {\"i\": 2638, \"k\": 3, \"s\": 0.6038707323797328}, {\"i\": 2639, \"k\": 3, \"s\": 0.6038707323797328}, {\"i\": 2640, \"k\": 3, \"s\": 0.6038707323797328}, {\"i\": 2641, \"k\": 3, \"s\": 0.6038707323797328}, {\"i\": 2642, \"k\": 3, \"s\": 0.6038707323797328}, {\"i\": 2643, \"k\": 3, \"s\": 0.6038707323797328}, {\"i\": 2644, \"k\": 3, \"s\": 0.6038707323797328}, {\"i\": 2645, \"k\": 3, \"s\": 0.6038707323797328}, {\"i\": 2646, \"k\": 3, \"s\": 0.6038707323797328}, {\"i\": 2647, \"k\": 3, \"s\": 0.6038707323797328}, {\"i\": 2648, \"k\": 3, \"s\": 0.6038707323797328}, {\"i\": 2649, \"k\": 3, \"s\": 0.6038707323797328}, {\"i\": 2650, \"k\": 3, \"s\": 0.6028253735408111}, {\"i\": 2651, \"k\": 3, \"s\": 0.6028253735408111}, {\"i\": 2652, \"k\": 3, \"s\": 0.6028253735408111}, {\"i\": 2653, \"k\": 3, \"s\": 0.6028253735408111}, {\"i\": 2654, \"k\": 3, \"s\": 0.6028253735408111}, {\"i\": 2655, \"k\": 3, \"s\": 0.6028253735408111}, {\"i\": 2656, \"k\": 3, \"s\": 0.6028253735408111}, {\"i\": 2657, \"k\": 3, \"s\": 0.6028253735408111}, {\"i\": 2658, \"k\": 3, \"s\": 0.6028253735408111}, {\"i\": 2659, \"k\": 3, \"s\": 0.6028253735408111}, {\"i\": 2660, \"k\": 3, \"s\": 0.6028253735408111}, {\"i\": 2661, \"k\": 3, \"s\": 0.6028253735408111}, {\"i\": 2662, \"k\": 3, \"s\": 0.6028253735408111}, {\"i\": 2663, \"k\": 3, \"s\": 0.6028253735408111}, {\"i\": 2664, \"k\": 3, \"s\": 0.6028253735408111}, {\"i\": 2665, \"k\": 3, \"s\": 0.6028253735408111}, {\"i\": 2666, \"k\": 3, \"s\": 0.6028253735408111}, {\"i\": 2667, \"k\": 3, \"s\": 0.6028253735408111}, {\"i\": 2668, \"k\": 3, \"s\": 0.6028253735408111}, {\"i\": 2669, \"k\": 3, \"s\": 0.6028253735408111}, {\"i\": 2670, \"k\": 3, \"s\": 0.6028253735408111}, {\"i\": 2671, \"k\": 3, \"s\": 0.6028253735408111}, {\"i\": 2672, \"k\": 3, \"s\": 0.6028253735408111}, {\"i\": 2673, \"k\": 3, \"s\": 0.6028253735408111}, {\"i\": 2674, \"k\": 3, \"s\": 0.6028253735408111}, {\"i\": 2675, \"k\": 3, \"s\": 0.6028253735408111}, {\"i\": 2676, \"k\": 3, \"s\": 0.6028253735408111}, {\"i\": 2677, \"k\": 3, \"s\": 0.6028253735408111}, {\"i\": 2678, \"k\": 3, \"s\": 0.6028253735408111}, {\"i\": 2679, \"k\": 3, \"s\": 0.6028253735408111}, {\"i\": 2680, \"k\": 3, \"s\": 0.6028253735408111}, {\"i\": 2681, \"k\": 3, \"s\": 0.6028253735408111}, {\"i\": 2682, \"k\": 3, \"s\": 0.6028253735408111}, {\"i\": 2683, \"k\": 3, \"s\": 0.6028253735408111}, {\"i\": 2684, \"k\": 3, \"s\": 0.6028253735408111}, {\"i\": 2685, \"k\": 3, \"s\": 0.6028253735408111}, {\"i\": 2686, \"k\": 3, \"s\": 0.4207247434823361}, {\"i\": 2687, \"k\": 3, \"s\": 0.4207247434823361}, {\"i\": 2688, \"k\": 3, \"s\": 0.4207247434823361}, {\"i\": 2689, \"k\": 3, \"s\": 0.4207247434823361}, {\"i\": 2690, \"k\": 3, \"s\": 0.4207247434823361}, {\"i\": 2691, \"k\": 3, \"s\": 0.4207247434823361}, {\"i\": 2692, \"k\": 3, \"s\": 0.4207247434823361}, {\"i\": 2693, \"k\": 3, \"s\": 0.4207247434823361}, {\"i\": 2694, \"k\": 3, \"s\": 0.4207247434823361}, {\"i\": 2695, \"k\": 3, \"s\": 0.4207247434823361}, {\"i\": 2696, \"k\": 3, \"s\": 0.4207247434823361}, {\"i\": 2697, \"k\": 3, \"s\": 0.4207247434823361}, {\"i\": 2698, \"k\": 3, \"s\": 0.4207247434823361}, {\"i\": 2699, \"k\": 3, \"s\": 0.4207247434823361}, {\"i\": 2700, \"k\": 3, \"s\": 0.6739158233862795}, {\"i\": 2701, \"k\": 3, \"s\": 0.6739158233862795}, {\"i\": 2702, \"k\": 3, \"s\": 0.6739158233862795}, {\"i\": 2703, \"k\": 3, \"s\": 0.6739158233862795}, {\"i\": 2704, \"k\": 3, \"s\": 0.6739158233862795}, {\"i\": 2705, \"k\": 3, \"s\": 0.6739158233862795}, {\"i\": 2706, \"k\": 3, \"s\": 0.6739158233862795}, {\"i\": 2707, \"k\": 3, \"s\": 0.6739158233862795}, {\"i\": 2708, \"k\": 3, \"s\": 0.6739158233862795}, {\"i\": 2709, \"k\": 3, \"s\": 0.6739158233862795}, {\"i\": 2710, \"k\": 3, \"s\": 0.6739158233862795}, {\"i\": 2711, \"k\": 3, \"s\": 0.6739158233862795}, {\"i\": 2712, \"k\": 3, \"s\": 0.6739158233862795}, {\"i\": 2713, \"k\": 3, \"s\": 0.6739158233862795}, {\"i\": 2714, \"k\": 3, \"s\": 0.6739158233862795}, {\"i\": 2715, \"k\": 3, \"s\": 0.6739158233862795}, {\"i\": 2716, \"k\": 3, \"s\": 0.6739158233862795}, {\"i\": 2717, \"k\": 3, \"s\": 0.6739158233862795}, {\"i\": 2718, \"k\": 3, \"s\": 0.6739158233862795}, {\"i\": 2719, \"k\": 3, \"s\": 0.6739158233862795}, {\"i\": 2720, \"k\": 3, \"s\": 0.6739158233862795}, {\"i\": 2721, \"k\": 3, \"s\": 0.6739158233862795}, {\"i\": 2722, \"k\": 3, \"s\": 0.6739158233862795}, {\"i\": 2723, \"k\": 3, \"s\": 0.6739158233862795}, {\"i\": 2724, \"k\": 3, \"s\": 0.6739158233862795}, {\"i\": 2725, \"k\": 3, \"s\": 0.6739158233862795}, {\"i\": 2726, \"k\": 3, \"s\": 0.6739158233862795}, {\"i\": 2727, \"k\": 3, \"s\": 0.6739158233862795}, {\"i\": 2728, \"k\": 3, \"s\": 0.6739158233862795}, {\"i\": 2729, \"k\": 3, \"s\": 0.6739158233862795}, {\"i\": 2730, \"k\": 3, \"s\": 0.6739158233862795}, {\"i\": 2731, \"k\": 3, \"s\": 0.6739158233862795}, {\"i\": 2732, \"k\": 3, \"s\": 0.6739158233862795}, {\"i\": 2733, \"k\": 3, \"s\": 0.6739158233862795}, {\"i\": 2734, \"k\": 3, \"s\": 0.6739158233862795}, {\"i\": 2735, \"k\": 3, \"s\": 0.6739158233862795}, {\"i\": 2736, \"k\": 3, \"s\": 0.6739158233862795}, {\"i\": 2737, \"k\": 3, \"s\": 0.6739158233862795}, {\"i\": 2738, \"k\": 3, \"s\": 0.6739158233862795}, {\"i\": 2739, \"k\": 3, \"s\": 0.6739158233862795}, {\"i\": 2740, \"k\": 3, \"s\": 0.6739158233862795}, {\"i\": 2741, \"k\": 3, \"s\": 0.6739158233862795}, {\"i\": 2742, \"k\": 3, \"s\": 0.6739158233862795}, {\"i\": 2743, \"k\": 3, \"s\": 0.6739158233862795}, {\"i\": 2744, \"k\": 3, \"s\": 0.6739158233862795}, {\"i\": 2745, \"k\": 3, \"s\": 0.6739158233862795}, {\"i\": 2746, \"k\": 3, \"s\": 0.6739158233862795}, {\"i\": 2747, \"k\": 3, \"s\": 0.6739158233862795}, {\"i\": 2748, \"k\": 3, \"s\": 0.6564060817723392}, {\"i\": 2749, \"k\": 3, \"s\": 0.6564060817723392}, {\"i\": 2750, \"k\": 3, \"s\": 0.6564060817723392}, {\"i\": 2751, \"k\": 3, \"s\": 0.6564060817723392}, {\"i\": 2752, \"k\": 3, \"s\": 0.6564060817723392}, {\"i\": 2753, \"k\": 3, \"s\": 0.6564060817723392}, {\"i\": 2754, \"k\": 3, \"s\": 0.6564060817723392}, {\"i\": 2755, \"k\": 3, \"s\": 0.6564060817723392}, {\"i\": 2756, \"k\": 3, \"s\": 0.6564060817723392}, {\"i\": 2757, \"k\": 3, \"s\": 0.6564060817723392}, {\"i\": 2758, \"k\": 3, \"s\": 0.6564060817723392}, {\"i\": 2759, \"k\": 3, \"s\": 0.6564060817723392}, {\"i\": 2760, \"k\": 3, \"s\": 0.6564060817723392}, {\"i\": 2761, \"k\": 3, \"s\": 0.6564060817723392}, {\"i\": 2762, \"k\": 3, \"s\": 0.6564060817723392}, {\"i\": 2763, \"k\": 3, \"s\": 0.6564060817723392}, {\"i\": 2764, \"k\": 3, \"s\": 0.6564060817723392}, {\"i\": 2765, \"k\": 3, \"s\": 0.6564060817723392}, {\"i\": 2766, \"k\": 3, \"s\": 0.6564060817723392}, {\"i\": 2767, \"k\": 3, \"s\": 0.6564060817723392}, {\"i\": 2768, \"k\": 3, \"s\": 0.6564060817723392}, {\"i\": 2769, \"k\": 3, \"s\": 0.6564060817723392}, {\"i\": 2770, \"k\": 3, \"s\": 0.6564060817723392}, {\"i\": 2771, \"k\": 3, \"s\": 0.6564060817723392}, {\"i\": 2772, \"k\": 3, \"s\": 0.6564060817723392}, {\"i\": 2773, \"k\": 3, \"s\": 0.6564060817723392}, {\"i\": 2774, \"k\": 3, \"s\": 0.6564060817723392}, {\"i\": 2775, \"k\": 3, \"s\": 0.6564060817723392}, {\"i\": 2776, \"k\": 3, \"s\": 0.6564060817723392}, {\"i\": 2777, \"k\": 3, \"s\": 0.6564060817723392}, {\"i\": 2778, \"k\": 3, \"s\": 0.6564060817723392}, {\"i\": 2779, \"k\": 3, \"s\": 0.6564060817723392}, {\"i\": 2780, \"k\": 3, \"s\": 0.6564060817723392}, {\"i\": 2781, \"k\": 3, \"s\": 0.6564060817723392}, {\"i\": 2782, \"k\": 3, \"s\": 0.6564060817723392}, {\"i\": 2783, \"k\": 3, \"s\": 0.6564060817723392}, {\"i\": 2784, \"k\": 3, \"s\": 0.6564060817723392}, {\"i\": 2785, \"k\": 3, \"s\": 0.6564060817723392}, {\"i\": 2786, \"k\": 3, \"s\": 0.6096320997591655}, {\"i\": 2787, \"k\": 3, \"s\": 0.6096320997591655}, {\"i\": 2788, \"k\": 3, \"s\": 0.6096320997591655}, {\"i\": 2789, \"k\": 3, \"s\": 0.6096320997591655}, {\"i\": 2790, \"k\": 3, \"s\": 0.6096320997591655}, {\"i\": 2791, \"k\": 3, \"s\": 0.6096320997591655}, {\"i\": 2792, \"k\": 3, \"s\": 0.6096320997591655}, {\"i\": 2793, \"k\": 3, \"s\": 0.6096320997591655}, {\"i\": 2794, \"k\": 3, \"s\": 0.6096320997591655}, {\"i\": 2795, \"k\": 3, \"s\": 0.6096320997591655}, {\"i\": 2796, \"k\": 3, \"s\": 0.6096320997591655}, {\"i\": 2797, \"k\": 3, \"s\": 0.6096320997591655}, {\"i\": 2798, \"k\": 3, \"s\": 0.6096320997591655}, {\"i\": 2799, \"k\": 3, \"s\": 0.6096320997591655}, {\"i\": 2800, \"k\": 3, \"s\": 0.6096320997591655}, {\"i\": 2801, \"k\": 3, \"s\": 0.6096320997591655}, {\"i\": 2802, \"k\": 3, \"s\": 0.6096320997591655}, {\"i\": 2803, \"k\": 3, \"s\": 0.6096320997591655}, {\"i\": 2804, \"k\": 3, \"s\": 0.6096320997591655}, {\"i\": 2805, \"k\": 3, \"s\": 0.6096320997591655}, {\"i\": 2806, \"k\": 3, \"s\": 0.6096320997591655}, {\"i\": 2807, \"k\": 3, \"s\": 0.6096320997591655}, {\"i\": 2808, \"k\": 3, \"s\": 0.6096320997591655}, {\"i\": 2809, \"k\": 3, \"s\": 0.6096320997591655}, {\"i\": 2810, \"k\": 3, \"s\": 0.6096320997591655}, {\"i\": 2811, \"k\": 3, \"s\": 0.6096320997591655}, {\"i\": 2812, \"k\": 3, \"s\": 0.6096320997591655}, {\"i\": 2813, \"k\": 3, \"s\": 0.6096320997591655}, {\"i\": 2814, \"k\": 3, \"s\": 0.6096320997591655}, {\"i\": 2815, \"k\": 3, \"s\": 0.6096320997591655}, {\"i\": 2816, \"k\": 3, \"s\": 0.6096320997591655}, {\"i\": 2817, \"k\": 3, \"s\": 0.6096320997591655}, {\"i\": 2818, \"k\": 3, \"s\": 0.6096320997591655}, {\"i\": 2819, \"k\": 3, \"s\": 0.6096320997591655}, {\"i\": 2820, \"k\": 3, \"s\": 0.6096320997591655}, {\"i\": 2821, \"k\": 3, \"s\": 0.6096320997591655}, {\"i\": 2822, \"k\": 3, \"s\": 0.7268032005301654}, {\"i\": 2823, \"k\": 3, \"s\": 0.7268032005301654}, {\"i\": 2824, \"k\": 3, \"s\": 0.7268032005301654}, {\"i\": 2825, \"k\": 3, \"s\": 0.7268032005301654}, {\"i\": 2826, \"k\": 3, \"s\": 0.7268032005301654}, {\"i\": 2827, \"k\": 3, \"s\": 0.7268032005301654}, {\"i\": 2828, \"k\": 3, \"s\": 0.7268032005301654}, {\"i\": 2829, \"k\": 3, \"s\": 0.7268032005301654}, {\"i\": 2830, \"k\": 3, \"s\": 0.7268032005301654}, {\"i\": 2831, \"k\": 3, \"s\": 0.7268032005301654}, {\"i\": 2832, \"k\": 3, \"s\": 0.7268032005301654}, {\"i\": 2833, \"k\": 3, \"s\": 0.7268032005301654}, {\"i\": 2834, \"k\": 3, \"s\": 0.7268032005301654}, {\"i\": 2835, \"k\": 3, \"s\": 0.7268032005301654}, {\"i\": 2836, \"k\": 3, \"s\": 0.7268032005301654}, {\"i\": 2837, \"k\": 3, \"s\": 0.7268032005301654}, {\"i\": 2838, \"k\": 3, \"s\": 0.7268032005301654}, {\"i\": 2839, \"k\": 3, \"s\": 0.7268032005301654}, {\"i\": 2840, \"k\": 3, \"s\": 0.7268032005301654}, {\"i\": 2841, \"k\": 3, \"s\": 0.7268032005301654}, {\"i\": 2842, \"k\": 3, \"s\": 0.7268032005301654}, {\"i\": 2843, \"k\": 3, \"s\": 0.7268032005301654}, {\"i\": 2844, \"k\": 3, \"s\": 0.7268032005301654}, {\"i\": 2845, \"k\": 3, \"s\": 0.7268032005301654}, {\"i\": 2846, \"k\": 3, \"s\": 0.7268032005301654}, {\"i\": 2847, \"k\": 3, \"s\": 0.7268032005301654}, {\"i\": 2848, \"k\": 3, \"s\": 0.7268032005301654}, {\"i\": 2849, \"k\": 3, \"s\": 0.7268032005301654}, {\"i\": 2850, \"k\": 3, \"s\": 0.7268032005301654}, {\"i\": 2851, \"k\": 3, \"s\": 0.7268032005301654}, {\"i\": 2852, \"k\": 3, \"s\": 0.7268032005301654}, {\"i\": 2853, \"k\": 3, \"s\": 0.7268032005301654}, {\"i\": 2854, \"k\": 3, \"s\": 0.7268032005301654}, {\"i\": 2855, \"k\": 3, \"s\": 0.7268032005301654}, {\"i\": 2856, \"k\": 3, \"s\": 0.7268032005301654}, {\"i\": 2857, \"k\": 3, \"s\": 0.7268032005301654}, {\"i\": 2858, \"k\": 3, \"s\": 0.7268032005301654}, {\"i\": 2859, \"k\": 3, \"s\": 0.7268032005301654}, {\"i\": 2860, \"k\": 3, \"s\": 0.7268032005301654}, {\"i\": 2861, \"k\": 3, \"s\": 0.7268032005301654}, {\"i\": 2862, \"k\": 3, \"s\": 0.7268032005301654}, {\"i\": 2863, \"k\": 3, \"s\": 0.7268032005301654}, {\"i\": 2864, \"k\": 3, \"s\": 0.7268032005301654}, {\"i\": 2865, \"k\": 3, \"s\": 0.7268032005301654}, {\"i\": 2866, \"k\": 3, \"s\": 0.7156118801373277}, {\"i\": 2867, \"k\": 3, \"s\": 0.7156118801373277}, {\"i\": 2868, \"k\": 3, \"s\": 0.7156118801373277}, {\"i\": 2869, \"k\": 3, \"s\": 0.7156118801373277}, {\"i\": 2870, \"k\": 3, \"s\": 0.7156118801373277}, {\"i\": 2871, \"k\": 3, \"s\": 0.7156118801373277}, {\"i\": 2872, \"k\": 3, \"s\": 0.7156118801373277}, {\"i\": 2873, \"k\": 3, \"s\": 0.7156118801373277}, {\"i\": 2874, \"k\": 3, \"s\": 0.7156118801373277}, {\"i\": 2875, \"k\": 3, \"s\": 0.7156118801373277}, {\"i\": 2876, \"k\": 3, \"s\": 0.7156118801373277}, {\"i\": 2877, \"k\": 3, \"s\": 0.7156118801373277}, {\"i\": 2878, \"k\": 3, \"s\": 0.7156118801373277}, {\"i\": 2879, \"k\": 3, \"s\": 0.7156118801373277}, {\"i\": 2880, \"k\": 3, \"s\": 0.7156118801373277}, {\"i\": 2881, \"k\": 3, \"s\": 0.7156118801373277}, {\"i\": 2882, \"k\": 3, \"s\": 0.7156118801373277}, {\"i\": 2883, \"k\": 3, \"s\": 0.7156118801373277}, {\"i\": 2884, \"k\": 3, \"s\": 0.7156118801373277}, {\"i\": 2885, \"k\": 3, \"s\": 0.7156118801373277}, {\"i\": 2886, \"k\": 3, \"s\": 0.7156118801373277}, {\"i\": 2887, \"k\": 3, \"s\": 0.7156118801373277}, {\"i\": 2888, \"k\": 3, \"s\": 0.7156118801373277}, {\"i\": 2889, \"k\": 3, \"s\": 0.7156118801373277}, {\"i\": 2890, \"k\": 3, \"s\": 0.7156118801373277}, {\"i\": 2891, \"k\": 3, \"s\": 0.7156118801373277}, {\"i\": 2892, \"k\": 3, \"s\": 0.7156118801373277}, {\"i\": 2893, \"k\": 3, \"s\": 0.7156118801373277}, {\"i\": 2894, \"k\": 3, \"s\": 0.7156118801373277}, {\"i\": 2895, \"k\": 3, \"s\": 0.7156118801373277}, {\"i\": 2896, \"k\": 3, \"s\": 0.7156118801373277}, {\"i\": 2897, \"k\": 3, \"s\": 0.7156118801373277}, {\"i\": 2898, \"k\": 3, \"s\": 0.7156118801373277}, {\"i\": 2899, \"k\": 3, \"s\": 0.7156118801373277}, {\"i\": 2900, \"k\": 3, \"s\": 0.7156118801373277}, {\"i\": 2901, \"k\": 3, \"s\": 0.7156118801373277}, {\"i\": 2902, \"k\": 3, \"s\": 0.7156118801373277}, {\"i\": 2903, \"k\": 3, \"s\": 0.7156118801373277}, {\"i\": 2904, \"k\": 3, \"s\": 0.7156118801373277}, {\"i\": 2905, \"k\": 3, \"s\": 0.7156118801373277}, {\"i\": 2906, \"k\": 3, \"s\": 0.7156118801373277}, {\"i\": 2907, \"k\": 3, \"s\": 0.7156118801373277}, {\"i\": 2908, \"k\": 3, \"s\": 0.7156118801373277}, {\"i\": 2909, \"k\": 3, \"s\": 0.7156118801373277}, {\"i\": 2910, \"k\": 3, \"s\": 0.7156118801373277}, {\"i\": 2911, \"k\": 3, \"s\": 0.7156118801373277}, {\"i\": 2912, \"k\": 3, \"s\": 0.7277256405123713}, {\"i\": 2913, \"k\": 3, \"s\": 0.7277256405123713}, {\"i\": 2914, \"k\": 3, \"s\": 0.7277256405123713}, {\"i\": 2915, \"k\": 3, \"s\": 0.7277256405123713}, {\"i\": 2916, \"k\": 3, \"s\": 0.7277256405123713}, {\"i\": 2917, \"k\": 3, \"s\": 0.7277256405123713}, {\"i\": 2918, \"k\": 3, \"s\": 0.7277256405123713}, {\"i\": 2919, \"k\": 3, \"s\": 0.7277256405123713}, {\"i\": 2920, \"k\": 3, \"s\": 0.7277256405123713}, {\"i\": 2921, \"k\": 3, \"s\": 0.7277256405123713}, {\"i\": 2922, \"k\": 3, \"s\": 0.7277256405123713}, {\"i\": 2923, \"k\": 3, \"s\": 0.7277256405123713}, {\"i\": 2924, \"k\": 3, \"s\": 0.7277256405123713}, {\"i\": 2925, \"k\": 3, \"s\": 0.7277256405123713}, {\"i\": 2926, \"k\": 3, \"s\": 0.7277256405123713}, {\"i\": 2927, \"k\": 3, \"s\": 0.7277256405123713}, {\"i\": 2928, \"k\": 3, \"s\": 0.7277256405123713}, {\"i\": 2929, \"k\": 3, \"s\": 0.7277256405123713}, {\"i\": 2930, \"k\": 3, \"s\": 0.7277256405123713}, {\"i\": 2931, \"k\": 3, \"s\": 0.7277256405123713}, {\"i\": 2932, \"k\": 3, \"s\": 0.7277256405123713}, {\"i\": 2933, \"k\": 3, \"s\": 0.7277256405123713}, {\"i\": 2934, \"k\": 3, \"s\": 0.7277256405123713}, {\"i\": 2935, \"k\": 3, \"s\": 0.7277256405123713}, {\"i\": 2936, \"k\": 3, \"s\": 0.7277256405123713}, {\"i\": 2937, \"k\": 3, \"s\": 0.7277256405123713}, {\"i\": 2938, \"k\": 3, \"s\": 0.7277256405123713}, {\"i\": 2939, \"k\": 3, \"s\": 0.7277256405123713}, {\"i\": 2940, \"k\": 3, \"s\": 0.7277256405123713}, {\"i\": 2941, \"k\": 3, \"s\": 0.7277256405123713}, {\"i\": 2942, \"k\": 3, \"s\": 0.7277256405123713}, {\"i\": 2943, \"k\": 3, \"s\": 0.7277256405123713}, {\"i\": 2944, \"k\": 3, \"s\": 0.7277256405123713}, {\"i\": 2945, \"k\": 3, \"s\": 0.7277256405123713}, {\"i\": 2946, \"k\": 3, \"s\": 0.7277256405123713}, {\"i\": 2947, \"k\": 3, \"s\": 0.7277256405123713}, {\"i\": 2948, \"k\": 3, \"s\": 0.7277256405123713}, {\"i\": 2949, \"k\": 3, \"s\": 0.7277256405123713}, {\"i\": 2950, \"k\": 3, \"s\": 0.7277256405123713}, {\"i\": 2951, \"k\": 3, \"s\": 0.7277256405123713}, {\"i\": 2952, \"k\": 3, \"s\": 0.7277256405123713}, {\"i\": 2953, \"k\": 3, \"s\": 0.7277256405123713}, {\"i\": 2954, \"k\": 3, \"s\": 0.7277256405123713}, {\"i\": 2955, \"k\": 3, \"s\": 0.7277256405123713}, {\"i\": 2956, \"k\": 3, \"s\": 0.6717149166129212}, {\"i\": 2957, \"k\": 3, \"s\": 0.6717149166129212}, {\"i\": 2958, \"k\": 3, \"s\": 0.6717149166129212}, {\"i\": 2959, \"k\": 3, \"s\": 0.6717149166129212}, {\"i\": 2960, \"k\": 3, \"s\": 0.6717149166129212}, {\"i\": 2961, \"k\": 3, \"s\": 0.6717149166129212}, {\"i\": 2962, \"k\": 3, \"s\": 0.6717149166129212}, {\"i\": 2963, \"k\": 3, \"s\": 0.6717149166129212}, {\"i\": 2964, \"k\": 3, \"s\": 0.6717149166129212}, {\"i\": 2965, \"k\": 3, \"s\": 0.6717149166129212}, {\"i\": 2966, \"k\": 3, \"s\": 0.6717149166129212}, {\"i\": 2967, \"k\": 3, \"s\": 0.6717149166129212}, {\"i\": 2968, \"k\": 3, \"s\": 0.6717149166129212}, {\"i\": 2969, \"k\": 3, \"s\": 0.6717149166129212}, {\"i\": 2970, \"k\": 3, \"s\": 0.6717149166129212}, {\"i\": 2971, \"k\": 3, \"s\": 0.6717149166129212}, {\"i\": 2972, \"k\": 3, \"s\": 0.6717149166129212}, {\"i\": 2973, \"k\": 3, \"s\": 0.6717149166129212}, {\"i\": 2974, \"k\": 3, \"s\": 0.6717149166129212}, {\"i\": 2975, \"k\": 3, \"s\": 0.6717149166129212}, {\"i\": 2976, \"k\": 3, \"s\": 0.6717149166129212}, {\"i\": 2977, \"k\": 3, \"s\": 0.6717149166129212}, {\"i\": 2978, \"k\": 3, \"s\": 0.6717149166129212}, {\"i\": 2979, \"k\": 3, \"s\": 0.6717149166129212}, {\"i\": 2980, \"k\": 3, \"s\": 0.6717149166129212}, {\"i\": 2981, \"k\": 3, \"s\": 0.6717149166129212}, {\"i\": 2982, \"k\": 3, \"s\": 0.6717149166129212}, {\"i\": 2983, \"k\": 3, \"s\": 0.6717149166129212}, {\"i\": 2984, \"k\": 3, \"s\": 0.6717149166129212}, {\"i\": 2985, \"k\": 3, \"s\": 0.6717149166129212}, {\"i\": 2986, \"k\": 3, \"s\": 0.6717149166129212}, {\"i\": 2987, \"k\": 3, \"s\": 0.6717149166129212}, {\"i\": 2988, \"k\": 3, \"s\": 0.6717149166129212}, {\"i\": 2989, \"k\": 3, \"s\": 0.6717149166129212}, {\"i\": 2990, \"k\": 3, \"s\": 0.6717149166129212}, {\"i\": 2991, \"k\": 3, \"s\": 0.6717149166129212}, {\"i\": 2992, \"k\": 3, \"s\": 0.6717149166129212}, {\"i\": 2993, \"k\": 3, \"s\": 0.6717149166129212}, {\"i\": 2994, \"k\": 3, \"s\": 0.6717149166129212}, {\"i\": 2995, \"k\": 3, \"s\": 0.6717149166129212}, {\"i\": 2996, \"k\": 3, \"s\": 0.7013343317267504}, {\"i\": 2997, \"k\": 3, \"s\": 0.7013343317267504}, {\"i\": 2998, \"k\": 3, \"s\": 0.7013343317267504}, {\"i\": 2999, \"k\": 3, \"s\": 0.7013343317267504}, {\"i\": 3000, \"k\": 3, \"s\": 0.7013343317267504}, {\"i\": 3001, \"k\": 3, \"s\": 0.7013343317267504}, {\"i\": 3002, \"k\": 3, \"s\": 0.7013343317267504}, {\"i\": 3003, \"k\": 3, \"s\": 0.7013343317267504}, {\"i\": 3004, \"k\": 3, \"s\": 0.7013343317267504}, {\"i\": 3005, \"k\": 3, \"s\": 0.7013343317267504}, {\"i\": 3006, \"k\": 3, \"s\": 0.7013343317267504}, {\"i\": 3007, \"k\": 3, \"s\": 0.7013343317267504}, {\"i\": 3008, \"k\": 3, \"s\": 0.7013343317267504}, {\"i\": 3009, \"k\": 3, \"s\": 0.7013343317267504}, {\"i\": 3010, \"k\": 3, \"s\": 0.7013343317267504}, {\"i\": 3011, \"k\": 3, \"s\": 0.7013343317267504}, {\"i\": 3012, \"k\": 3, \"s\": 0.7013343317267504}, {\"i\": 3013, \"k\": 3, \"s\": 0.7013343317267504}, {\"i\": 3014, \"k\": 3, \"s\": 0.7013343317267504}, {\"i\": 3015, \"k\": 3, \"s\": 0.7013343317267504}, {\"i\": 3016, \"k\": 3, \"s\": 0.7013343317267504}, {\"i\": 3017, \"k\": 3, \"s\": 0.7013343317267504}, {\"i\": 3018, \"k\": 3, \"s\": 0.7013343317267504}, {\"i\": 3019, \"k\": 3, \"s\": 0.7013343317267504}, {\"i\": 3020, \"k\": 3, \"s\": 0.7013343317267504}, {\"i\": 3021, \"k\": 3, \"s\": 0.7013343317267504}, {\"i\": 3022, \"k\": 3, \"s\": 0.7013343317267504}, {\"i\": 3023, \"k\": 3, \"s\": 0.7013343317267504}, {\"i\": 3024, \"k\": 3, \"s\": 0.7013343317267504}, {\"i\": 3025, \"k\": 3, \"s\": 0.7013343317267504}, {\"i\": 3026, \"k\": 3, \"s\": 0.7013343317267504}, {\"i\": 3027, \"k\": 3, \"s\": 0.7013343317267504}, {\"i\": 3028, \"k\": 3, \"s\": 0.7013343317267504}, {\"i\": 3029, \"k\": 3, \"s\": 0.7013343317267504}, {\"i\": 3030, \"k\": 3, \"s\": 0.7013343317267504}, {\"i\": 3031, \"k\": 3, \"s\": 0.7013343317267504}, {\"i\": 3032, \"k\": 3, \"s\": 0.7013343317267504}, {\"i\": 3033, \"k\": 3, \"s\": 0.7013343317267504}, {\"i\": 3034, \"k\": 3, \"s\": 0.7013343317267504}, {\"i\": 3035, \"k\": 3, \"s\": 0.7013343317267504}, {\"i\": 3036, \"k\": 3, \"s\": 0.7013343317267504}, {\"i\": 3037, \"k\": 3, \"s\": 0.7013343317267504}, {\"i\": 3038, \"k\": 3, \"s\": 0.7013343317267504}, {\"i\": 3039, \"k\": 3, \"s\": 0.7013343317267504}, {\"i\": 3040, \"k\": 3, \"s\": 0.7013343317267504}, {\"i\": 3041, \"k\": 3, \"s\": 0.7013343317267504}, {\"i\": 3042, \"k\": 3, \"s\": 0.6641376674600695}, {\"i\": 3043, \"k\": 3, \"s\": 0.6641376674600695}, {\"i\": 3044, \"k\": 3, \"s\": 0.6641376674600695}, {\"i\": 3045, \"k\": 3, \"s\": 0.6641376674600695}, {\"i\": 3046, \"k\": 3, \"s\": 0.6641376674600695}, {\"i\": 3047, \"k\": 3, \"s\": 0.6641376674600695}, {\"i\": 3048, \"k\": 3, \"s\": 0.6641376674600695}, {\"i\": 3049, \"k\": 3, \"s\": 0.6641376674600695}, {\"i\": 3050, \"k\": 3, \"s\": 0.6641376674600695}, {\"i\": 3051, \"k\": 3, \"s\": 0.6641376674600695}, {\"i\": 3052, \"k\": 3, \"s\": 0.6641376674600695}, {\"i\": 3053, \"k\": 3, \"s\": 0.6641376674600695}, {\"i\": 3054, \"k\": 3, \"s\": 0.6641376674600695}, {\"i\": 3055, \"k\": 3, \"s\": 0.6641376674600695}, {\"i\": 3056, \"k\": 3, \"s\": 0.6641376674600695}, {\"i\": 3057, \"k\": 3, \"s\": 0.6641376674600695}, {\"i\": 3058, \"k\": 3, \"s\": 0.6641376674600695}, {\"i\": 3059, \"k\": 3, \"s\": 0.6641376674600695}, {\"i\": 3060, \"k\": 3, \"s\": 0.6641376674600695}, {\"i\": 3061, \"k\": 3, \"s\": 0.6641376674600695}, {\"i\": 3062, \"k\": 3, \"s\": 0.6641376674600695}, {\"i\": 3063, \"k\": 3, \"s\": 0.6641376674600695}, {\"i\": 3064, \"k\": 3, \"s\": 0.6641376674600695}, {\"i\": 3065, \"k\": 3, \"s\": 0.6641376674600695}, {\"i\": 3066, \"k\": 3, \"s\": 0.6641376674600695}, {\"i\": 3067, \"k\": 3, \"s\": 0.6641376674600695}, {\"i\": 3068, \"k\": 3, \"s\": 0.6641376674600695}, {\"i\": 3069, \"k\": 3, \"s\": 0.6641376674600695}, {\"i\": 3070, \"k\": 3, \"s\": 0.6641376674600695}, {\"i\": 3071, \"k\": 3, \"s\": 0.6641376674600695}, {\"i\": 3072, \"k\": 3, \"s\": 0.6641376674600695}, {\"i\": 3073, \"k\": 3, \"s\": 0.6641376674600695}, {\"i\": 3074, \"k\": 3, \"s\": 0.6641376674600695}, {\"i\": 3075, \"k\": 3, \"s\": 0.6641376674600695}, {\"i\": 3076, \"k\": 3, \"s\": 0.6641376674600695}, {\"i\": 3077, \"k\": 3, \"s\": 0.6641376674600695}, {\"i\": 3078, \"k\": 3, \"s\": 0.6641376674600695}, {\"i\": 3079, \"k\": 3, \"s\": 0.6641376674600695}, {\"i\": 3080, \"k\": 3, \"s\": 0.6641376674600695}, {\"i\": 3081, \"k\": 3, \"s\": 0.7129015050786865}, {\"i\": 3082, \"k\": 3, \"s\": 0.7129015050786865}, {\"i\": 3083, \"k\": 3, \"s\": 0.7129015050786865}, {\"i\": 3084, \"k\": 3, \"s\": 0.7129015050786865}, {\"i\": 3085, \"k\": 3, \"s\": 0.7129015050786865}, {\"i\": 3086, \"k\": 3, \"s\": 0.7129015050786865}, {\"i\": 3087, \"k\": 3, \"s\": 0.7129015050786865}, {\"i\": 3088, \"k\": 3, \"s\": 0.7129015050786865}, {\"i\": 3089, \"k\": 3, \"s\": 0.7129015050786865}, {\"i\": 3090, \"k\": 3, \"s\": 0.7129015050786865}, {\"i\": 3091, \"k\": 3, \"s\": 0.7129015050786865}, {\"i\": 3092, \"k\": 3, \"s\": 0.7129015050786865}, {\"i\": 3093, \"k\": 3, \"s\": 0.7129015050786865}, {\"i\": 3094, \"k\": 3, \"s\": 0.7129015050786865}, {\"i\": 3095, \"k\": 3, \"s\": 0.7129015050786865}, {\"i\": 3096, \"k\": 3, \"s\": 0.7129015050786865}, {\"i\": 3097, \"k\": 3, \"s\": 0.7129015050786865}, {\"i\": 3098, \"k\": 3, \"s\": 0.7129015050786865}, {\"i\": 3099, \"k\": 3, \"s\": 0.7129015050786865}, {\"i\": 3100, \"k\": 3, \"s\": 0.7129015050786865}, {\"i\": 3101, \"k\": 3, \"s\": 0.7129015050786865}, {\"i\": 3102, \"k\": 3, \"s\": 0.7129015050786865}, {\"i\": 3103, \"k\": 3, \"s\": 0.7129015050786865}, {\"i\": 3104, \"k\": 3, \"s\": 0.7129015050786865}, {\"i\": 3105, \"k\": 3, \"s\": 0.7129015050786865}, {\"i\": 3106, \"k\": 3, \"s\": 0.7129015050786865}, {\"i\": 3107, \"k\": 3, \"s\": 0.7129015050786865}, {\"i\": 3108, \"k\": 3, \"s\": 0.7129015050786865}, {\"i\": 3109, \"k\": 3, \"s\": 0.7129015050786865}, {\"i\": 3110, \"k\": 3, \"s\": 0.7129015050786865}, {\"i\": 3111, \"k\": 3, \"s\": 0.7129015050786865}, {\"i\": 3112, \"k\": 3, \"s\": 0.7129015050786865}, {\"i\": 3113, \"k\": 3, \"s\": 0.7129015050786865}, {\"i\": 3114, \"k\": 3, \"s\": 0.7129015050786865}, {\"i\": 3115, \"k\": 3, \"s\": 0.7129015050786865}, {\"i\": 3116, \"k\": 3, \"s\": 0.7129015050786865}, {\"i\": 3117, \"k\": 3, \"s\": 0.7129015050786865}, {\"i\": 3118, \"k\": 3, \"s\": 0.7129015050786865}, {\"i\": 3119, \"k\": 3, \"s\": 0.7129015050786865}, {\"i\": 3120, \"k\": 3, \"s\": 0.7129015050786865}, {\"i\": 3121, \"k\": 3, \"s\": 0.7129015050786865}, {\"i\": 3122, \"k\": 3, \"s\": 0.7129015050786865}, {\"i\": 3123, \"k\": 3, \"s\": 0.7129015050786865}, {\"i\": 3124, \"k\": 3, \"s\": 0.7129015050786865}, {\"i\": 3125, \"k\": 3, \"s\": 0.7129015050786865}, {\"i\": 3126, \"k\": 3, \"s\": 0.7129015050786865}, {\"i\": 3127, \"k\": 3, \"s\": 0.7203673174242117}, {\"i\": 3128, \"k\": 3, \"s\": 0.7203673174242117}, {\"i\": 3129, \"k\": 3, \"s\": 0.7203673174242117}, {\"i\": 3130, \"k\": 3, \"s\": 0.7203673174242117}, {\"i\": 3131, \"k\": 3, \"s\": 0.7203673174242117}, {\"i\": 3132, \"k\": 3, \"s\": 0.7203673174242117}, {\"i\": 3133, \"k\": 3, \"s\": 0.7203673174242117}, {\"i\": 3134, \"k\": 3, \"s\": 0.7203673174242117}, {\"i\": 3135, \"k\": 3, \"s\": 0.7203673174242117}, {\"i\": 3136, \"k\": 3, \"s\": 0.7203673174242117}, {\"i\": 3137, \"k\": 3, \"s\": 0.7203673174242117}, {\"i\": 3138, \"k\": 3, \"s\": 0.7203673174242117}, {\"i\": 3139, \"k\": 3, \"s\": 0.7203673174242117}, {\"i\": 3140, \"k\": 3, \"s\": 0.7203673174242117}, {\"i\": 3141, \"k\": 3, \"s\": 0.7203673174242117}, {\"i\": 3142, \"k\": 3, \"s\": 0.7203673174242117}, {\"i\": 3143, \"k\": 3, \"s\": 0.7203673174242117}, {\"i\": 3144, \"k\": 3, \"s\": 0.7203673174242117}, {\"i\": 3145, \"k\": 3, \"s\": 0.7203673174242117}, {\"i\": 3146, \"k\": 3, \"s\": 0.7203673174242117}, {\"i\": 3147, \"k\": 3, \"s\": 0.7203673174242117}, {\"i\": 3148, \"k\": 3, \"s\": 0.7203673174242117}, {\"i\": 3149, \"k\": 3, \"s\": 0.7203673174242117}, {\"i\": 3150, \"k\": 3, \"s\": 0.7203673174242117}, {\"i\": 3151, \"k\": 3, \"s\": 0.7203673174242117}, {\"i\": 3152, \"k\": 3, \"s\": 0.7203673174242117}, {\"i\": 3153, \"k\": 3, \"s\": 0.7203673174242117}, {\"i\": 3154, \"k\": 3, \"s\": 0.7203673174242117}, {\"i\": 3155, \"k\": 3, \"s\": 0.7203673174242117}, {\"i\": 3156, \"k\": 3, \"s\": 0.7203673174242117}, {\"i\": 3157, \"k\": 3, \"s\": 0.7203673174242117}, {\"i\": 3158, \"k\": 3, \"s\": 0.7203673174242117}, {\"i\": 3159, \"k\": 3, \"s\": 0.7203673174242117}, {\"i\": 3160, \"k\": 3, \"s\": 0.7203673174242117}, {\"i\": 3161, \"k\": 3, \"s\": 0.7203673174242117}, {\"i\": 3162, \"k\": 3, \"s\": 0.7203673174242117}, {\"i\": 3163, \"k\": 3, \"s\": 0.7203673174242117}, {\"i\": 3164, \"k\": 3, \"s\": 0.7203673174242117}, {\"i\": 3165, \"k\": 3, \"s\": 0.7203673174242117}, {\"i\": 3166, \"k\": 3, \"s\": 0.7203673174242117}, {\"i\": 3167, \"k\": 3, \"s\": 0.7203673174242117}, {\"i\": 3168, \"k\": 3, \"s\": 0.7203673174242117}, {\"i\": 3169, \"k\": 3, \"s\": 0.7203673174242117}, {\"i\": 3170, \"k\": 3, \"s\": 0.7203673174242117}, {\"i\": 3171, \"k\": 3, \"s\": 0.7203673174242117}, {\"i\": 3172, \"k\": 3, \"s\": 0.7203673174242117}, {\"i\": 3173, \"k\": 3, \"s\": 0.5511055180150116}, {\"i\": 3174, \"k\": 3, \"s\": 0.5511055180150116}, {\"i\": 3175, \"k\": 3, \"s\": 0.5511055180150116}, {\"i\": 3176, \"k\": 3, \"s\": 0.5511055180150116}, {\"i\": 3177, \"k\": 3, \"s\": 0.5511055180150116}, {\"i\": 3178, \"k\": 3, \"s\": 0.5511055180150116}, {\"i\": 3179, \"k\": 3, \"s\": 0.5511055180150116}, {\"i\": 3180, \"k\": 3, \"s\": 0.5511055180150116}, {\"i\": 3181, \"k\": 3, \"s\": 0.5511055180150116}, {\"i\": 3182, \"k\": 3, \"s\": 0.5511055180150116}, {\"i\": 3183, \"k\": 3, \"s\": 0.5511055180150116}, {\"i\": 3184, \"k\": 3, \"s\": 0.5511055180150116}, {\"i\": 3185, \"k\": 3, \"s\": 0.5511055180150116}, {\"i\": 3186, \"k\": 3, \"s\": 0.5511055180150116}, {\"i\": 3187, \"k\": 3, \"s\": 0.5511055180150116}, {\"i\": 3188, \"k\": 3, \"s\": 0.5511055180150116}, {\"i\": 3189, \"k\": 3, \"s\": 0.5511055180150116}, {\"i\": 3190, \"k\": 3, \"s\": 0.5511055180150116}, {\"i\": 3191, \"k\": 3, \"s\": 0.5511055180150116}, {\"i\": 3192, \"k\": 3, \"s\": 0.5511055180150116}, {\"i\": 3193, \"k\": 3, \"s\": 0.5511055180150116}, {\"i\": 3194, \"k\": 3, \"s\": 0.5511055180150116}, {\"i\": 3195, \"k\": 3, \"s\": 0.5511055180150116}, {\"i\": 3196, \"k\": 3, \"s\": 0.5511055180150116}, {\"i\": 3197, \"k\": 3, \"s\": 0.5511055180150116}, {\"i\": 3198, \"k\": 3, \"s\": 0.5511055180150116}, {\"i\": 3199, \"k\": 3, \"s\": 0.5511055180150116}, {\"i\": 3200, \"k\": 3, \"s\": 0.5511055180150116}, {\"i\": 3201, \"k\": 3, \"s\": 0.5511055180150116}, {\"i\": 3202, \"k\": 3, \"s\": 0.5511055180150116}, {\"i\": 3203, \"k\": 3, \"s\": 0.5511055180150116}, {\"i\": 3204, \"k\": 3, \"s\": 0.5511055180150116}, {\"i\": 3205, \"k\": 3, \"s\": 0.5511055180150116}, {\"i\": 3206, \"k\": 3, \"s\": 0.5511055180150116}, {\"i\": 3207, \"k\": 3, \"s\": 0.5511055180150116}, {\"i\": 3208, \"k\": 3, \"s\": 0.5511055180150116}, {\"i\": 3209, \"k\": 3, \"s\": 0.5511055180150116}, {\"i\": 3210, \"k\": 3, \"s\": 0.6049604290009315}, {\"i\": 3211, \"k\": 3, \"s\": 0.6049604290009315}, {\"i\": 3212, \"k\": 3, \"s\": 0.6049604290009315}, {\"i\": 3213, \"k\": 3, \"s\": 0.6049604290009315}, {\"i\": 3214, \"k\": 3, \"s\": 0.6049604290009315}, {\"i\": 3215, \"k\": 3, \"s\": 0.6049604290009315}, {\"i\": 3216, \"k\": 3, \"s\": 0.6049604290009315}, {\"i\": 3217, \"k\": 3, \"s\": 0.6049604290009315}, {\"i\": 3218, \"k\": 3, \"s\": 0.6049604290009315}, {\"i\": 3219, \"k\": 3, \"s\": 0.6049604290009315}, {\"i\": 3220, \"k\": 3, \"s\": 0.6049604290009315}, {\"i\": 3221, \"k\": 3, \"s\": 0.6049604290009315}, {\"i\": 3222, \"k\": 3, \"s\": 0.6049604290009315}, {\"i\": 3223, \"k\": 3, \"s\": 0.6049604290009315}, {\"i\": 3224, \"k\": 3, \"s\": 0.6049604290009315}, {\"i\": 3225, \"k\": 3, \"s\": 0.6049604290009315}, {\"i\": 3226, \"k\": 3, \"s\": 0.6049604290009315}, {\"i\": 3227, \"k\": 3, \"s\": 0.6049604290009315}, {\"i\": 3228, \"k\": 3, \"s\": 0.6049604290009315}, {\"i\": 3229, \"k\": 3, \"s\": 0.6049604290009315}, {\"i\": 3230, \"k\": 3, \"s\": 0.6049604290009315}, {\"i\": 3231, \"k\": 3, \"s\": 0.6049604290009315}, {\"i\": 3232, \"k\": 3, \"s\": 0.6049604290009315}, {\"i\": 3233, \"k\": 3, \"s\": 0.6049604290009315}, {\"i\": 3234, \"k\": 3, \"s\": 0.6049604290009315}, {\"i\": 3235, \"k\": 3, \"s\": 0.6049604290009315}, {\"i\": 3236, \"k\": 3, \"s\": 0.6049604290009315}, {\"i\": 3237, \"k\": 3, \"s\": 0.6049604290009315}, {\"i\": 3238, \"k\": 3, \"s\": 0.6049604290009315}, {\"i\": 3239, \"k\": 3, \"s\": 0.6049604290009315}, {\"i\": 3240, \"k\": 3, \"s\": 0.6049604290009315}, {\"i\": 3241, \"k\": 3, \"s\": 0.6049604290009315}, {\"i\": 3242, \"k\": 3, \"s\": 0.6049604290009315}, {\"i\": 3243, \"k\": 3, \"s\": 0.6049604290009315}, {\"i\": 3244, \"k\": 3, \"s\": 0.6049604290009315}, {\"i\": 3245, \"k\": 3, \"s\": 0.6049604290009315}, {\"i\": 3246, \"k\": 3, \"s\": 0.6508180464133597}, {\"i\": 3247, \"k\": 3, \"s\": 0.6508180464133597}, {\"i\": 3248, \"k\": 3, \"s\": 0.6508180464133597}, {\"i\": 3249, \"k\": 3, \"s\": 0.6508180464133597}, {\"i\": 3250, \"k\": 3, \"s\": 0.6508180464133597}, {\"i\": 3251, \"k\": 3, \"s\": 0.6508180464133597}, {\"i\": 3252, \"k\": 3, \"s\": 0.6508180464133597}, {\"i\": 3253, \"k\": 3, \"s\": 0.6508180464133597}, {\"i\": 3254, \"k\": 3, \"s\": 0.6508180464133597}, {\"i\": 3255, \"k\": 3, \"s\": 0.6508180464133597}, {\"i\": 3256, \"k\": 3, \"s\": 0.6508180464133597}, {\"i\": 3257, \"k\": 3, \"s\": 0.6508180464133597}, {\"i\": 3258, \"k\": 3, \"s\": 0.6508180464133597}, {\"i\": 3259, \"k\": 3, \"s\": 0.6508180464133597}, {\"i\": 3260, \"k\": 3, \"s\": 0.6508180464133597}, {\"i\": 3261, \"k\": 3, \"s\": 0.6508180464133597}, {\"i\": 3262, \"k\": 3, \"s\": 0.6508180464133597}, {\"i\": 3263, \"k\": 3, \"s\": 0.6508180464133597}, {\"i\": 3264, \"k\": 3, \"s\": 0.6508180464133597}, {\"i\": 3265, \"k\": 3, \"s\": 0.6508180464133597}, {\"i\": 3266, \"k\": 3, \"s\": 0.6508180464133597}, {\"i\": 3267, \"k\": 3, \"s\": 0.6508180464133597}, {\"i\": 3268, \"k\": 3, \"s\": 0.6508180464133597}, {\"i\": 3269, \"k\": 3, \"s\": 0.6508180464133597}, {\"i\": 3270, \"k\": 3, \"s\": 0.6508180464133597}, {\"i\": 3271, \"k\": 3, \"s\": 0.6508180464133597}, {\"i\": 3272, \"k\": 3, \"s\": 0.6508180464133597}, {\"i\": 3273, \"k\": 3, \"s\": 0.6508180464133597}, {\"i\": 3274, \"k\": 3, \"s\": 0.6508180464133597}, {\"i\": 3275, \"k\": 3, \"s\": 0.6508180464133597}, {\"i\": 3276, \"k\": 3, \"s\": 0.6508180464133597}, {\"i\": 3277, \"k\": 3, \"s\": 0.6508180464133597}, {\"i\": 3278, \"k\": 3, \"s\": 0.6508180464133597}, {\"i\": 3279, \"k\": 3, \"s\": 0.6508180464133597}, {\"i\": 3280, \"k\": 3, \"s\": 0.6508180464133597}, {\"i\": 3281, \"k\": 3, \"s\": 0.6508180464133597}, {\"i\": 3282, \"k\": 3, \"s\": 0.6508180464133597}, {\"i\": 3283, \"k\": 3, \"s\": 0.6508180464133597}, {\"i\": 3284, \"k\": 3, \"s\": 0.6508180464133597}, {\"i\": 3285, \"k\": 3, \"s\": 0.6528047759716747}, {\"i\": 3286, \"k\": 3, \"s\": 0.6528047759716747}, {\"i\": 3287, \"k\": 3, \"s\": 0.6528047759716747}, {\"i\": 3288, \"k\": 3, \"s\": 0.6528047759716747}, {\"i\": 3289, \"k\": 3, \"s\": 0.6528047759716747}, {\"i\": 3290, \"k\": 3, \"s\": 0.6528047759716747}, {\"i\": 3291, \"k\": 3, \"s\": 0.6528047759716747}, {\"i\": 3292, \"k\": 3, \"s\": 0.6528047759716747}, {\"i\": 3293, \"k\": 3, \"s\": 0.6528047759716747}, {\"i\": 3294, \"k\": 3, \"s\": 0.6528047759716747}, {\"i\": 3295, \"k\": 3, \"s\": 0.6528047759716747}, {\"i\": 3296, \"k\": 3, \"s\": 0.6528047759716747}, {\"i\": 3297, \"k\": 3, \"s\": 0.6528047759716747}, {\"i\": 3298, \"k\": 3, \"s\": 0.6528047759716747}, {\"i\": 3299, \"k\": 3, \"s\": 0.6528047759716747}, {\"i\": 3300, \"k\": 3, \"s\": 0.6528047759716747}, {\"i\": 3301, \"k\": 3, \"s\": 0.6528047759716747}, {\"i\": 3302, \"k\": 3, \"s\": 0.6528047759716747}, {\"i\": 3303, \"k\": 3, \"s\": 0.6528047759716747}, {\"i\": 3304, \"k\": 3, \"s\": 0.6528047759716747}, {\"i\": 3305, \"k\": 3, \"s\": 0.6528047759716747}, {\"i\": 3306, \"k\": 3, \"s\": 0.6528047759716747}, {\"i\": 3307, \"k\": 3, \"s\": 0.6528047759716747}, {\"i\": 3308, \"k\": 3, \"s\": 0.6528047759716747}, {\"i\": 3309, \"k\": 3, \"s\": 0.6528047759716747}, {\"i\": 3310, \"k\": 3, \"s\": 0.6528047759716747}, {\"i\": 3311, \"k\": 3, \"s\": 0.6528047759716747}, {\"i\": 3312, \"k\": 3, \"s\": 0.6528047759716747}, {\"i\": 3313, \"k\": 3, \"s\": 0.6528047759716747}, {\"i\": 3314, \"k\": 3, \"s\": 0.6528047759716747}, {\"i\": 3315, \"k\": 3, \"s\": 0.6528047759716747}, {\"i\": 3316, \"k\": 3, \"s\": 0.6528047759716747}, {\"i\": 3317, \"k\": 3, \"s\": 0.6528047759716747}, {\"i\": 3318, \"k\": 3, \"s\": 0.6528047759716747}, {\"i\": 3319, \"k\": 3, \"s\": 0.6528047759716747}, {\"i\": 3320, \"k\": 3, \"s\": 0.6528047759716747}, {\"i\": 3321, \"k\": 3, \"s\": 0.6528047759716747}, {\"i\": 3322, \"k\": 3, \"s\": 0.5418947491236612}, {\"i\": 3323, \"k\": 3, \"s\": 0.5418947491236612}, {\"i\": 3324, \"k\": 3, \"s\": 0.5418947491236612}, {\"i\": 3325, \"k\": 3, \"s\": 0.5418947491236612}, {\"i\": 3326, \"k\": 3, \"s\": 0.5418947491236612}, {\"i\": 3327, \"k\": 3, \"s\": 0.5418947491236612}, {\"i\": 3328, \"k\": 3, \"s\": 0.5418947491236612}, {\"i\": 3329, \"k\": 3, \"s\": 0.5418947491236612}, {\"i\": 3330, \"k\": 3, \"s\": 0.5418947491236612}, {\"i\": 3331, \"k\": 3, \"s\": 0.5418947491236612}, {\"i\": 3332, \"k\": 3, \"s\": 0.5418947491236612}, {\"i\": 3333, \"k\": 3, \"s\": 0.5418947491236612}, {\"i\": 3334, \"k\": 3, \"s\": 0.5418947491236612}, {\"i\": 3335, \"k\": 3, \"s\": 0.5418947491236612}, {\"i\": 3336, \"k\": 3, \"s\": 0.5418947491236612}, {\"i\": 3337, \"k\": 3, \"s\": 0.5418947491236612}, {\"i\": 3338, \"k\": 3, \"s\": 0.5418947491236612}, {\"i\": 3339, \"k\": 3, \"s\": 0.5418947491236612}, {\"i\": 3340, \"k\": 3, \"s\": 0.5418947491236612}, {\"i\": 3341, \"k\": 3, \"s\": 0.5418947491236612}, {\"i\": 3342, \"k\": 3, \"s\": 0.5418947491236612}, {\"i\": 3343, \"k\": 3, \"s\": 0.5418947491236612}, {\"i\": 3344, \"k\": 3, \"s\": 0.5418947491236612}, {\"i\": 3345, \"k\": 3, \"s\": 0.5418947491236612}, {\"i\": 3346, \"k\": 3, \"s\": 0.5418947491236612}, {\"i\": 3347, \"k\": 3, \"s\": 0.5418947491236612}, {\"i\": 3348, \"k\": 3, \"s\": 0.5418947491236612}, {\"i\": 3349, \"k\": 3, \"s\": 0.5418947491236612}, {\"i\": 3350, \"k\": 3, \"s\": 0.5418947491236612}, {\"i\": 3351, \"k\": 3, \"s\": 0.5418947491236612}, {\"i\": 3352, \"k\": 3, \"s\": 0.5418947491236612}, {\"i\": 3353, \"k\": 3, \"s\": 0.5418947491236612}, {\"i\": 3354, \"k\": 3, \"s\": 0.5418947491236612}, {\"i\": 3355, \"k\": 3, \"s\": 0.5418947491236612}, {\"i\": 3356, \"k\": 3, \"s\": 0.5418947491236612}, {\"i\": 3357, \"k\": 3, \"s\": 0.5418947491236612}, {\"i\": 3358, \"k\": 3, \"s\": 0.5418947491236612}, {\"i\": 3359, \"k\": 3, \"s\": 0.7193032828811945}, {\"i\": 3360, \"k\": 3, \"s\": 0.7193032828811945}, {\"i\": 3361, \"k\": 3, \"s\": 0.7193032828811945}, {\"i\": 3362, \"k\": 3, \"s\": 0.7193032828811945}, {\"i\": 3363, \"k\": 3, \"s\": 0.7193032828811945}, {\"i\": 3364, \"k\": 3, \"s\": 0.7193032828811945}, {\"i\": 3365, \"k\": 3, \"s\": 0.7193032828811945}, {\"i\": 3366, \"k\": 3, \"s\": 0.7193032828811945}, {\"i\": 3367, \"k\": 3, \"s\": 0.7193032828811945}, {\"i\": 3368, \"k\": 3, \"s\": 0.7193032828811945}, {\"i\": 3369, \"k\": 3, \"s\": 0.7193032828811945}, {\"i\": 3370, \"k\": 3, \"s\": 0.7193032828811945}, {\"i\": 3371, \"k\": 3, \"s\": 0.7193032828811945}, {\"i\": 3372, \"k\": 3, \"s\": 0.7193032828811945}, {\"i\": 3373, \"k\": 3, \"s\": 0.7193032828811945}, {\"i\": 3374, \"k\": 3, \"s\": 0.7193032828811945}, {\"i\": 3375, \"k\": 3, \"s\": 0.7193032828811945}, {\"i\": 3376, \"k\": 3, \"s\": 0.7193032828811945}, {\"i\": 3377, \"k\": 3, \"s\": 0.7193032828811945}, {\"i\": 3378, \"k\": 3, \"s\": 0.7193032828811945}, {\"i\": 3379, \"k\": 3, \"s\": 0.7193032828811945}, {\"i\": 3380, \"k\": 3, \"s\": 0.7193032828811945}, {\"i\": 3381, \"k\": 3, \"s\": 0.7193032828811945}, {\"i\": 3382, \"k\": 3, \"s\": 0.7193032828811945}, {\"i\": 3383, \"k\": 3, \"s\": 0.7193032828811945}, {\"i\": 3384, \"k\": 3, \"s\": 0.7193032828811945}, {\"i\": 3385, \"k\": 3, \"s\": 0.7193032828811945}, {\"i\": 3386, \"k\": 3, \"s\": 0.7193032828811945}, {\"i\": 3387, \"k\": 3, \"s\": 0.7193032828811945}, {\"i\": 3388, \"k\": 3, \"s\": 0.7193032828811945}, {\"i\": 3389, \"k\": 3, \"s\": 0.7193032828811945}, {\"i\": 3390, \"k\": 3, \"s\": 0.7193032828811945}, {\"i\": 3391, \"k\": 3, \"s\": 0.7193032828811945}, {\"i\": 3392, \"k\": 3, \"s\": 0.7193032828811945}, {\"i\": 3393, \"k\": 3, \"s\": 0.7193032828811945}, {\"i\": 3394, \"k\": 3, \"s\": 0.7193032828811945}, {\"i\": 3395, \"k\": 3, \"s\": 0.7193032828811945}, {\"i\": 3396, \"k\": 3, \"s\": 0.7193032828811945}, {\"i\": 3397, \"k\": 3, \"s\": 0.7193032828811945}, {\"i\": 3398, \"k\": 3, \"s\": 0.7193032828811945}, {\"i\": 3399, \"k\": 3, \"s\": 0.7193032828811945}, {\"i\": 3400, \"k\": 3, \"s\": 0.36529878639104346}, {\"i\": 3401, \"k\": 3, \"s\": 0.36529878639104346}, {\"i\": 3402, \"k\": 3, \"s\": 0.36529878639104346}, {\"i\": 3403, \"k\": 3, \"s\": 0.36529878639104346}, {\"i\": 3404, \"k\": 3, \"s\": 0.36529878639104346}, {\"i\": 3405, \"k\": 3, \"s\": 0.36529878639104346}, {\"i\": 3406, \"k\": 3, \"s\": 0.36529878639104346}, {\"i\": 3407, \"k\": 3, \"s\": 0.36529878639104346}, {\"i\": 3408, \"k\": 3, \"s\": 0.36529878639104346}, {\"i\": 3409, \"k\": 3, \"s\": 0.36529878639104346}, {\"i\": 3410, \"k\": 3, \"s\": 0.36529878639104346}, {\"i\": 3411, \"k\": 3, \"s\": 0.36529878639104346}, {\"i\": 3412, \"k\": 3, \"s\": 0.36529878639104346}, {\"i\": 3413, \"k\": 3, \"s\": 0.6797659459539629}, {\"i\": 3414, \"k\": 3, \"s\": 0.6797659459539629}, {\"i\": 3415, \"k\": 3, \"s\": 0.6797659459539629}, {\"i\": 3416, \"k\": 3, \"s\": 0.6797659459539629}, {\"i\": 3417, \"k\": 3, \"s\": 0.6797659459539629}, {\"i\": 3418, \"k\": 3, \"s\": 0.6797659459539629}, {\"i\": 3419, \"k\": 3, \"s\": 0.6797659459539629}, {\"i\": 3420, \"k\": 3, \"s\": 0.6797659459539629}, {\"i\": 3421, \"k\": 3, \"s\": 0.6797659459539629}, {\"i\": 3422, \"k\": 3, \"s\": 0.6797659459539629}, {\"i\": 3423, \"k\": 3, \"s\": 0.6797659459539629}, {\"i\": 3424, \"k\": 3, \"s\": 0.6797659459539629}, {\"i\": 3425, \"k\": 3, \"s\": 0.6797659459539629}, {\"i\": 3426, \"k\": 3, \"s\": 0.6797659459539629}, {\"i\": 3427, \"k\": 3, \"s\": 0.6797659459539629}, {\"i\": 3428, \"k\": 3, \"s\": 0.6797659459539629}, {\"i\": 3429, \"k\": 3, \"s\": 0.6797659459539629}, {\"i\": 3430, \"k\": 3, \"s\": 0.6797659459539629}, {\"i\": 3431, \"k\": 3, \"s\": 0.6797659459539629}, {\"i\": 3432, \"k\": 3, \"s\": 0.6797659459539629}, {\"i\": 3433, \"k\": 3, \"s\": 0.6797659459539629}, {\"i\": 3434, \"k\": 3, \"s\": 0.6797659459539629}, {\"i\": 3435, \"k\": 3, \"s\": 0.6797659459539629}, {\"i\": 3436, \"k\": 3, \"s\": 0.6797659459539629}, {\"i\": 3437, \"k\": 3, \"s\": 0.6797659459539629}, {\"i\": 3438, \"k\": 3, \"s\": 0.6797659459539629}, {\"i\": 3439, \"k\": 3, \"s\": 0.6797659459539629}, {\"i\": 3440, \"k\": 3, \"s\": 0.6797659459539629}, {\"i\": 3441, \"k\": 3, \"s\": 0.6797659459539629}, {\"i\": 3442, \"k\": 3, \"s\": 0.6797659459539629}, {\"i\": 3443, \"k\": 3, \"s\": 0.6797659459539629}, {\"i\": 3444, \"k\": 3, \"s\": 0.6797659459539629}, {\"i\": 3445, \"k\": 3, \"s\": 0.6797659459539629}, {\"i\": 3446, \"k\": 3, \"s\": 0.6797659459539629}, {\"i\": 3447, \"k\": 3, \"s\": 0.6797659459539629}, {\"i\": 3448, \"k\": 3, \"s\": 0.6797659459539629}, {\"i\": 3449, \"k\": 3, \"s\": 0.6797659459539629}, {\"i\": 3450, \"k\": 3, \"s\": 0.6797659459539629}, {\"i\": 3451, \"k\": 3, \"s\": 0.6797659459539629}, {\"i\": 3452, \"k\": 3, \"s\": 0.6797659459539629}, {\"i\": 3453, \"k\": 3, \"s\": 0.6797659459539629}, {\"i\": 3454, \"k\": 3, \"s\": 0.6797659459539629}, {\"i\": 3455, \"k\": 3, \"s\": 0.6797659459539629}, {\"i\": 3456, \"k\": 3, \"s\": 0.6797659459539629}, {\"i\": 3457, \"k\": 3, \"s\": 0.6797659459539629}, {\"i\": 3458, \"k\": 3, \"s\": 0.6797659459539629}, {\"i\": 3459, \"k\": 3, \"s\": 0.6797659459539629}, {\"i\": 3460, \"k\": 3, \"s\": 0.2942947791384612}, {\"i\": 3461, \"k\": 3, \"s\": 0.2942947791384612}, {\"i\": 3462, \"k\": 3, \"s\": 0.2942947791384612}, {\"i\": 3463, \"k\": 3, \"s\": 0.2942947791384612}, {\"i\": 3464, \"k\": 3, \"s\": 0.2942947791384612}, {\"i\": 3465, \"k\": 3, \"s\": 0.2942947791384612}, {\"i\": 3466, \"k\": 3, \"s\": 0.2942947791384612}, {\"i\": 3467, \"k\": 3, \"s\": 0.2942947791384612}, {\"i\": 3468, \"k\": 3, \"s\": 0.2942947791384612}, {\"i\": 3469, \"k\": 3, \"s\": 0.2942947791384612}, {\"i\": 3470, \"k\": 3, \"s\": 0.2942947791384612}, {\"i\": 3471, \"k\": 3, \"s\": 0.2942947791384612}, {\"i\": 3472, \"k\": 3, \"s\": 0.2942947791384612}, {\"i\": 3473, \"k\": 3, \"s\": 0.2942947791384612}, {\"i\": 3474, \"k\": 3, \"s\": 0.2942947791384612}, {\"i\": 3475, \"k\": 3, \"s\": 0.7168406117311223}, {\"i\": 3476, \"k\": 3, \"s\": 0.7168406117311223}, {\"i\": 3477, \"k\": 3, \"s\": 0.7168406117311223}, {\"i\": 3478, \"k\": 3, \"s\": 0.7168406117311223}, {\"i\": 3479, \"k\": 3, \"s\": 0.7168406117311223}, {\"i\": 3480, \"k\": 3, \"s\": 0.7168406117311223}, {\"i\": 3481, \"k\": 3, \"s\": 0.7168406117311223}, {\"i\": 3482, \"k\": 3, \"s\": 0.7168406117311223}, {\"i\": 3483, \"k\": 3, \"s\": 0.7168406117311223}, {\"i\": 3484, \"k\": 3, \"s\": 0.7168406117311223}, {\"i\": 3485, \"k\": 3, \"s\": 0.7168406117311223}, {\"i\": 3486, \"k\": 3, \"s\": 0.7168406117311223}, {\"i\": 3487, \"k\": 3, \"s\": 0.7168406117311223}, {\"i\": 3488, \"k\": 3, \"s\": 0.7168406117311223}, {\"i\": 3489, \"k\": 3, \"s\": 0.7168406117311223}, {\"i\": 3490, \"k\": 3, \"s\": 0.7168406117311223}, {\"i\": 3491, \"k\": 3, \"s\": 0.7168406117311223}, {\"i\": 3492, \"k\": 3, \"s\": 0.7168406117311223}, {\"i\": 3493, \"k\": 3, \"s\": 0.7168406117311223}, {\"i\": 3494, \"k\": 3, \"s\": 0.7168406117311223}, {\"i\": 3495, \"k\": 3, \"s\": 0.7168406117311223}, {\"i\": 3496, \"k\": 3, \"s\": 0.7168406117311223}, {\"i\": 3497, \"k\": 3, \"s\": 0.7168406117311223}, {\"i\": 3498, \"k\": 3, \"s\": 0.7168406117311223}, {\"i\": 3499, \"k\": 3, \"s\": 0.7168406117311223}, {\"i\": 3500, \"k\": 3, \"s\": 0.7168406117311223}, {\"i\": 3501, \"k\": 3, \"s\": 0.7168406117311223}, {\"i\": 3502, \"k\": 3, \"s\": 0.7168406117311223}, {\"i\": 3503, \"k\": 3, \"s\": 0.7168406117311223}, {\"i\": 3504, \"k\": 3, \"s\": 0.7168406117311223}, {\"i\": 3505, \"k\": 3, \"s\": 0.7168406117311223}, {\"i\": 3506, \"k\": 3, \"s\": 0.7168406117311223}, {\"i\": 3507, \"k\": 3, \"s\": 0.7168406117311223}, {\"i\": 3508, \"k\": 3, \"s\": 0.7168406117311223}, {\"i\": 3509, \"k\": 3, \"s\": 0.7168406117311223}, {\"i\": 3510, \"k\": 3, \"s\": 0.7168406117311223}, {\"i\": 3511, \"k\": 3, \"s\": 0.7168406117311223}, {\"i\": 3512, \"k\": 3, \"s\": 0.7168406117311223}, {\"i\": 3513, \"k\": 3, \"s\": 0.7168406117311223}, {\"i\": 3514, \"k\": 3, \"s\": 0.7168406117311223}, {\"i\": 3515, \"k\": 3, \"s\": 0.6152650714372797}, {\"i\": 3516, \"k\": 3, \"s\": 0.6152650714372797}, {\"i\": 3517, \"k\": 3, \"s\": 0.6152650714372797}, {\"i\": 3518, \"k\": 3, \"s\": 0.6152650714372797}, {\"i\": 3519, \"k\": 3, \"s\": 0.6152650714372797}, {\"i\": 3520, \"k\": 3, \"s\": 0.6152650714372797}, {\"i\": 3521, \"k\": 3, \"s\": 0.6152650714372797}, {\"i\": 3522, \"k\": 3, \"s\": 0.6152650714372797}, {\"i\": 3523, \"k\": 3, \"s\": 0.6152650714372797}, {\"i\": 3524, \"k\": 3, \"s\": 0.6152650714372797}, {\"i\": 3525, \"k\": 3, \"s\": 0.6152650714372797}, {\"i\": 3526, \"k\": 3, \"s\": 0.6152650714372797}, {\"i\": 3527, \"k\": 3, \"s\": 0.6152650714372797}, {\"i\": 3528, \"k\": 3, \"s\": 0.6152650714372797}, {\"i\": 3529, \"k\": 3, \"s\": 0.6152650714372797}, {\"i\": 3530, \"k\": 3, \"s\": 0.6152650714372797}, {\"i\": 3531, \"k\": 3, \"s\": 0.6152650714372797}, {\"i\": 3532, \"k\": 3, \"s\": 0.6152650714372797}, {\"i\": 3533, \"k\": 3, \"s\": 0.6152650714372797}, {\"i\": 3534, \"k\": 3, \"s\": 0.6152650714372797}, {\"i\": 3535, \"k\": 3, \"s\": 0.6152650714372797}, {\"i\": 3536, \"k\": 3, \"s\": 0.6152650714372797}, {\"i\": 3537, \"k\": 3, \"s\": 0.6152650714372797}, {\"i\": 3538, \"k\": 3, \"s\": 0.6152650714372797}, {\"i\": 3539, \"k\": 3, \"s\": 0.6152650714372797}, {\"i\": 3540, \"k\": 3, \"s\": 0.6152650714372797}, {\"i\": 3541, \"k\": 3, \"s\": 0.6152650714372797}, {\"i\": 3542, \"k\": 3, \"s\": 0.6152650714372797}, {\"i\": 3543, \"k\": 3, \"s\": 0.6152650714372797}, {\"i\": 3544, \"k\": 3, \"s\": 0.6152650714372797}, {\"i\": 3545, \"k\": 3, \"s\": 0.6152650714372797}, {\"i\": 3546, \"k\": 3, \"s\": 0.6152650714372797}, {\"i\": 3547, \"k\": 3, \"s\": 0.6152650714372797}, {\"i\": 3548, \"k\": 3, \"s\": 0.6152650714372797}, {\"i\": 3549, \"k\": 3, \"s\": 0.6152650714372797}, {\"i\": 3550, \"k\": 3, \"s\": 0.6152650714372797}, {\"i\": 3551, \"k\": 3, \"s\": 0.6152650714372797}, {\"i\": 3552, \"k\": 3, \"s\": 0.6152650714372797}, {\"i\": 3553, \"k\": 3, \"s\": 0.6152650714372797}]}}, {\"mode\": \"vega-lite\"});\n",
       "</script>"
      ],
      "text/plain": [
       "alt.Chart(...)"
      ]
     },
     "metadata": {},
     "output_type": "display_data"
    }
   ],
   "source": [
    "#from sklearn.metrics import silhouette_samples\n",
    "\n",
    "s_df = pd.DataFrame()\n",
    "\n",
    "s_df[3] = silhouette_samples(X, cluster_labels[3])\n",
    "s_df.index.name=\"i\"\n",
    "s_df = s_df.reset_index()\n",
    "# display(s_df)\n",
    "# s_df.sort_values(by=[3]).plot(kind='hist')\n",
    "\n",
    "source = s_df.melt(id_vars=[\"i\"])\n",
    "source.columns = [\"i\",\"k\",\"s\"]\n",
    "# display(source)\n",
    "\n",
    "import altair as alt\n",
    "# alt.renderers.enable('mimetype')\n",
    "alt.renderers.enable('default')\n",
    "alt.Chart(source).mark_bar().encode(\n",
    "    x = \"s:Q\",\n",
    "    y = alt.Y(\"i:N\",sort='x',axis=alt.Axis(labels=False)),\n",
    "    row = \"k:N\",\n",
    "    color = \"k:N\"\n",
    ").resolve_scale(y='independent').properties(height=200)\n",
    "\n",
    "# alt.Chart(s.reset_index()).mark_line().encode(\n",
    "#     x='index:T',\n",
    "#     y='sil:Q'\n",
    "# )\n"
   ]
  },
  {
   "cell_type": "code",
   "execution_count": null,
   "id": "91a624a1",
   "metadata": {},
   "outputs": [],
   "source": [
    "silhouette_score(X, cluster_labels[3])"
   ]
  },
  {
   "cell_type": "markdown",
   "id": "2ed21b07",
   "metadata": {},
   "source": [
    "What majors can afford each cluster:"
   ]
  },
  {
   "cell_type": "code",
   "execution_count": null,
   "id": "56ad1619",
   "metadata": {},
   "outputs": [
    {
     "name": "stdout",
     "output_type": "stream",
     "text": [
      "0\n",
      "Number of majors: 28\n"
     ]
    },
    {
     "data": {
      "text/plain": [
       "0                           Communications\n",
       "1                     Chemical Engineering\n",
       "2                      Business Management\n",
       "3                             Architecture\n",
       "4                        Political Science\n",
       "5                                Chemistry\n",
       "6                             Construction\n",
       "7                                Marketing\n",
       "8                   Mechanical Engineering\n",
       "9                   Electrical Engineering\n",
       "10                 International Relations\n",
       "11                        Computer Science\n",
       "12                               Economics\n",
       "13                                    Math\n",
       "14                              Accounting\n",
       "15    Management Information Systems (MIS)\n",
       "16                              Philosophy\n",
       "17                     Physician Assistant\n",
       "18                  Industrial Engineering\n",
       "19                   Aerospace Engineering\n",
       "20                       Civil Engineering\n",
       "21                             Agriculture\n",
       "22                                 Physics\n",
       "23                                 Geology\n",
       "24                                 History\n",
       "25                                 Finance\n",
       "26                    Computer Engineering\n",
       "27             Information Technology (IT)\n",
       "dtype: object"
      ]
     },
     "metadata": {},
     "output_type": "display_data"
    },
    {
     "name": "stdout",
     "output_type": "stream",
     "text": [
      "1\n",
      "Number of majors: 7\n"
     ]
    },
    {
     "data": {
      "text/plain": [
       "0     Aerospace Engineering\n",
       "1      Chemical Engineering\n",
       "2    Mechanical Engineering\n",
       "3    Electrical Engineering\n",
       "4          Computer Science\n",
       "5    Industrial Engineering\n",
       "6      Computer Engineering\n",
       "dtype: object"
      ]
     },
     "metadata": {},
     "output_type": "display_data"
    },
    {
     "name": "stdout",
     "output_type": "stream",
     "text": [
      "2\n",
      "Number of majors: 21\n"
     ]
    },
    {
     "data": {
      "text/plain": [
       "0                                Economics\n",
       "1                                     Math\n",
       "2                     Chemical Engineering\n",
       "3                               Accounting\n",
       "4     Management Information Systems (MIS)\n",
       "5                      Physician Assistant\n",
       "6                   Industrial Engineering\n",
       "7                      Business Management\n",
       "8                     Computer Engineering\n",
       "9                                Chemistry\n",
       "10                   Aerospace Engineering\n",
       "11                             Agriculture\n",
       "12                            Construction\n",
       "13                  Mechanical Engineering\n",
       "14                  Electrical Engineering\n",
       "15                                 Physics\n",
       "16                                 Geology\n",
       "17                        Computer Science\n",
       "18                                 Finance\n",
       "19                       Civil Engineering\n",
       "20             Information Technology (IT)\n",
       "dtype: object"
      ]
     },
     "metadata": {},
     "output_type": "display_data"
    }
   ],
   "source": [
    "df = combo.reset_index()\n",
    "df['label'] = cluster_labels[3]\n",
    "df['label'].value_counts()\n",
    "\n",
    "for cluster in sorted(df['label'].unique()):\n",
    "    print(cluster)\n",
    "    sets = df[df['label'] == cluster].groupby(['state', 'city'])['Undergraduate Major'].apply(set)\n",
    "    output = list(set.intersection(*(list(sets))))\n",
    "    print(\"Number of majors:\", len(output))\n",
    "    display(pd.Series(output))\n",
    "\n"
   ]
  },
  {
   "cell_type": "markdown",
   "id": "471bf371",
   "metadata": {},
   "source": [
    "#### Kmeans from scratch\n",
    "Can re-use scaler, X, and PCA from the sklearn version"
   ]
  },
  {
   "cell_type": "code",
   "execution_count": null,
   "id": "a37a510c",
   "metadata": {},
   "outputs": [
    {
     "name": "stdout",
     "output_type": "stream",
     "text": [
      "27554.234952948053\n",
      "22951.632761282333\n",
      "22672.283691102886\n",
      "22646.41401267733\n",
      "22568.089292510864\n"
     ]
    }
   ],
   "source": [
    "distortions = []\n",
    "k = 3\n",
    "means = X.sample(n=k)\n",
    "last_distortion = np.Inf\n",
    "while True:\n",
    "    # Assignment to a cluster\n",
    "    clusters = []\n",
    "    distortion = 0\n",
    "    for i in range(len(X)):\n",
    "        x = X.iloc[i]\n",
    "        min_d = np.Inf\n",
    "        min_c = None\n",
    "        for j in range(len(means)):\n",
    "            c = means.iloc[j]\n",
    "            d = distance(x, c)\n",
    "            if d < min_d:\n",
    "                min_c = j\n",
    "                min_d = d\n",
    "        distortion += np.dot((x - means.iloc[j]), (x - means.iloc[j]))\n",
    "        clusters.append(min_c)\n",
    "    Xc = X.copy()\n",
    "    Xc['cluster'] = clusters\n",
    "    distortions.append(distortion)\n",
    "    # Distortion should go down over time, and eventually slow down\n",
    "    if np.abs(distortion - last_distortion) < 0.000001:\n",
    "        break\n",
    "    last_distortion = distortion\n",
    "    print(distortion)\n",
    "    means = Xc.groupby('cluster').mean()"
   ]
  },
  {
   "cell_type": "code",
   "execution_count": null,
   "id": "728696df",
   "metadata": {},
   "outputs": [
    {
     "data": {
      "text/plain": [
       "<AxesSubplot:xlabel='PCA Component 0', ylabel='PCA Component 1'>"
      ]
     },
     "metadata": {},
     "output_type": "display_data"
    },
    {
     "data": {
      "image/png": "[encoded data removed]",
      "text/plain": [
       "<Figure size 640x480 with 1 Axes>"
      ]
     },
     "metadata": {},
     "output_type": "display_data"
    }
   ],
   "source": [
    "cluster_labels = {}\n",
    "# Are we doing 1 indexing now?\n",
    "cluster_labels[3] = clusters\n",
    "cluster_labels = pd.DataFrame(cluster_labels)\n",
    "\n",
    "colorings = {}\n",
    "# colorings[2] = cluster_labels[2].map({0: \"Blue\", 1: \"Red\"}) # This is a new pandas command for us that maps all 0 values to Blue, etc\n",
    "colorings[3] = cluster_labels[3].map({0: \"Blue\", 1: \"Red\",2: \"Pink\", 3: 'Green'}) # This is a new pandas command for us that maps all 0 values to Blue, etc\n",
    "X_pca.plot.scatter(x=X_pca.columns[0],y=X_pca.columns[1],c=colorings[3], xlabel='PCA Component 0', ylabel='PCA Component 1')"
   ]
  }
 ],
 "metadata": {
  "colab": {
   "provenance": []
  },
  "kernelspec": {
   "display_name": "Python 3.10.8 64-bit",
   "language": "python",
   "name": "python3"
  },
  "language_info": {
   "codemirror_mode": {
    "name": "ipython",
    "version": 3
   },
   "file_extension": ".py",
   "mimetype": "text/x-python",
   "name": "python",
   "nbconvert_exporter": "python",
   "pygments_lexer": "ipython3",
   "version": "3.10.8"
  },
  "vscode": {
   "interpreter": {
    "hash": "e7370f93d1d0cde622a1f8e1c04877d8463912d04d973331ad4851f04de6915a"
   }
  }
 },
 "nbformat": 4,
 "nbformat_minor": 5
}
