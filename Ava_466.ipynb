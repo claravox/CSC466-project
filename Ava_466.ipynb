{
 "cells": [
  {
   "cell_type": "markdown",
   "id": "8e23a6a4-58bf-4466-8462-0a805a94611c",
   "metadata": {
    "id": "8e23a6a4-58bf-4466-8462-0a805a94611c",
    "tags": []
   },
   "source": [
    "# Where, O, Where Do The College Grads Go?\n",
    "## As early career professionals, graduating students have curiousity about where they may want to move. Where they want is only part of the conversation. In this project, we explore the relationship between city based livable wages and salary data from a set of majors. A recommendation system is built based on cosine similarity of data about overall career salaries. The recommendation offers the 5 most similar wage patterns to Computer Science.\n"
   ]
  },
  {
   "cell_type": "code",
   "execution_count": 68,
   "id": "e61b16a6-e695-4067-ad12-494e42606cde",
   "metadata": {
    "id": "e61b16a6-e695-4067-ad12-494e42606cde"
   },
   "outputs": [],
   "source": [
    "# Package imports\n",
    "import pandas as pd\n",
    "import numpy as np"
   ]
  },
  {
   "cell_type": "code",
   "execution_count": 69,
   "id": "5c76c799-84b4-40cc-a974-d348cfc5eec9",
   "metadata": {
    "id": "5c76c799-84b4-40cc-a974-d348cfc5eec9"
   },
   "outputs": [],
   "source": [
    "# Data Preprocessing\n",
    "\n",
    "df_major_salary = pd.read_csv('cp_major_sal.csv')\n",
    "\n",
    "df_degrees_over_career = pd.read_csv('degrees-that-pay-back.csv')\n",
    "\n",
    "lis = 'Connecticut, Maine, Massachusetts, New Hampshire, Rhode Island, Vermont, New Jersey, New York, Pennsylvania, Illinois, Indiana, Michigan, Ohio, Wisconsin, Iowa, Kansas, Minnesota, Missouri,  Nebraska, North Dakota, South Dakota, Delaware, District of Columbia, Florida, Georgia, Maryland, North Carolina, South Carolina, Virginia, West Virginia, Alabama, Kentucky, Mississippi, Tennessee, Arkansas, Louisiana, Oklahoma, Texas, Arizona, Colorado, Idaho, Montana, Nevada, New Mexico, Utah, Wyoming, Alaska, California, Hawaii, Oregon, Washington'\n",
    "my_states = lis.split(', ')\n",
    "my_states =  [*set(my_states)]\n",
    "my_states\n",
    "\n",
    "\n",
    "df_living_wage = pd.read_csv('livingwage.csv')\n",
    "df_living_wage = df_living_wage[['city','state','one_adult_no_kids_living_wage', 'land_area_sqmi']]\n",
    "# On average, a full-time employee in the United Stats works 1,801 hours per year, or 37.5 hours per week, \n",
    "# which is more than other OECD countries. Source: https://clockify.me/working-hours#:~:text=On%20\n",
    "# average%2C%20a%20full%2Dtime%20employee%20in%20the%20United%20Stats,more%20than%20other%20OECD%20countries.\n",
    "df_living_wage['one_adult_no_kids_living_salary'] = df_living_wage['one_adult_no_kids_living_wage']*1801\n"
   ]
  },
  {
   "cell_type": "code",
   "execution_count": null,
   "id": "952423bf-e3c0-42bd-a45a-f3cbda717cde",
   "metadata": {},
   "outputs": [],
   "source": []
  },
  {
   "cell_type": "code",
   "execution_count": 70,
   "id": "a6071583-0cc2-407c-af44-7b61e5b29cd8",
   "metadata": {
    "colab": {
     "base_uri": "https://localhost:8080/"
    },
    "id": "a6071583-0cc2-407c-af44-7b61e5b29cd8",
    "outputId": "19d5f071-785c-4b02-fdac-74c44d490c28"
   },
   "outputs": [
    {
     "name": "stderr",
     "output_type": "stream",
     "text": [
      "/tmp/ipykernel_580637/151017707.py:1: DtypeWarning: Columns (0,1,10,15,16,17,18,19,21,23,25,26,27,30,31,32,33,34,37,38,40,41,48,51,52,53,54,56,57,58,60,61,62) have mixed types. Specify dtype option on import or set low_memory=False.\n",
      "  df_homes = pd.read_csv('united_states_2022.csv')\n"
     ]
    }
   ],
   "source": [
    "df_homes = pd.read_csv('united_states_2022.csv')\n",
    "df_homes = df_homes[['price','addressState','beds','baths','area', 'zestimate', 'homeType']]\n",
    "df_homes = df_homes.dropna()\n",
    "df_homes['addressState'].value_counts()\n",
    "\n",
    "states = {\n",
    "    'AK': 'Alaska',\n",
    "    'AL': 'Alabama',\n",
    "    'AR': 'Arkansas',\n",
    "    'AZ': 'Arizona',\n",
    "    'CA': 'California',\n",
    "    'CO': 'Colorado',\n",
    "    'CT': 'Connecticut',\n",
    "    'DC': 'District of Columbia',\n",
    "    'DE': 'Delaware',\n",
    "    'FL': 'Florida',\n",
    "    'GA': 'Georgia',\n",
    "    'HI': 'Hawaii',\n",
    "    'IA': 'Iowa',\n",
    "    'ID': 'Idaho',\n",
    "    'IL': 'Illinois',\n",
    "    'IN': 'Indiana',\n",
    "    'KS': 'Kansas',\n",
    "    'KY': 'Kentucky',\n",
    "    'LA': 'Louisiana',\n",
    "    'MA': 'Massachusetts',\n",
    "    'MD': 'Maryland',\n",
    "    'ME': 'Maine',\n",
    "    'MI': 'Michigan',\n",
    "    'MN': 'Minnesota',\n",
    "    'MO': 'Missouri',\n",
    "    'MS': 'Mississippi',\n",
    "    'MT': 'Montana',\n",
    "    'NC': 'North Carolina',\n",
    "    'ND': 'North Dakota',\n",
    "    'NE': 'Nebraska',\n",
    "    'NH': 'New Hampshire',\n",
    "    'NJ': 'New Jersey',\n",
    "    'NM': 'New Mexico',\n",
    "    'NV': 'Nevada',\n",
    "    'NY': 'New York',\n",
    "    'OH': 'Ohio',\n",
    "    'OK': 'Oklahoma',\n",
    "    'OR': 'Oregon',\n",
    "    'PA': 'Pennsylvania',\n",
    "    'RI': 'Rhode Island',\n",
    "    'SC': 'South Carolina',\n",
    "    'SD': 'South Dakota',\n",
    "    'TN': 'Tennessee',\n",
    "    'TX': 'Texas',\n",
    "    'UT': 'Utah',\n",
    "    'VA': 'Virginia',\n",
    "    'VT': 'Vermont',\n",
    "    'WA': 'Washington',\n",
    "    'WI': 'Wisconsin',\n",
    "    'WV': 'West Virginia',\n",
    "    'WY': 'Wyoming'\n",
    "}\n",
    "\n",
    "\n",
    "morts = {\n",
    "    'AK': 2060,\n",
    "    'AL': 1171,\n",
    "    'AR': 1335,\n",
    "    'AZ': 1516,\n",
    "    'CA': 2060,\n",
    "    'CO': 1516,\n",
    "    'CT': 1735,\n",
    "    'DC': 1396,\n",
    "    'DE': 1396,\n",
    "    'FL': 1396,\n",
    "    'GA': 1396,\n",
    "    'HI': 2060,\n",
    "    'IA': 1209,\n",
    "    'ID': 1516,\n",
    "    'IL': 1207,\n",
    "    'IN': 1207,\n",
    "    'KS': 1209,\n",
    "    'KY': 1171,\n",
    "    'LA': 1335,\n",
    "    'MA': 1735,\n",
    "    'MD': 1396,\n",
    "    'ME': 1735,\n",
    "    'MI': 1207,\n",
    "    'MN': 1209,\n",
    "    'MO': 1209,\n",
    "    'MS': 1171,\n",
    "    'MT': 1516,\n",
    "    'NC': 1396,\n",
    "    'ND': 1209,\n",
    "    'NE': 1209,\n",
    "    'NH': 1735,\n",
    "    'NJ': 1657,\n",
    "    'NM': 1516,\n",
    "    'NV': 1516,\n",
    "    'NY': 1657,\n",
    "    'OH': 1207,\n",
    "    'OK': 1335,\n",
    "    'OR': 2060,\n",
    "    'PA': 1657,\n",
    "    'RI': 1735,\n",
    "    'SC': 1396,\n",
    "    'SD': 1209,\n",
    "    'TN': 1171,\n",
    "    'TX': 1335,\n",
    "    'UT': 1516,\n",
    "    'VA': 1396,\n",
    "    'VT': 1735,\n",
    "    'WA': 2060,\n",
    "    'WI': 1207,\n",
    "    'WV': 1396,\n",
    "    'WY': 1516\n",
    "}\n",
    "df_homes['State'] = df_homes['addressState'].map(states)\n",
    "df_homes['Average Mortgage'] = df_homes['addressState'].map(morts)"
   ]
  },
  {
   "cell_type": "code",
   "execution_count": 71,
   "id": "e2217abf-e503-49ed-91a6-ea8ccb6393df",
   "metadata": {
    "id": "e2217abf-e503-49ed-91a6-ea8ccb6393df"
   },
   "outputs": [],
   "source": [
    "df = df_living_wage.merge(df_homes,  left_on='state', right_on='State')"
   ]
  },
  {
   "cell_type": "code",
   "execution_count": 72,
   "id": "kPY_PzrCLE3y",
   "metadata": {
    "colab": {
     "base_uri": "https://localhost:8080/",
     "height": 592
    },
    "id": "kPY_PzrCLE3y",
    "outputId": "d42a72da-0a23-410e-c1c8-a65c623bf7e4"
   },
   "outputs": [
    {
     "data": {
      "text/html": [
       "<div>\n",
       "<style scoped>\n",
       "    .dataframe tbody tr th:only-of-type {\n",
       "        vertical-align: middle;\n",
       "    }\n",
       "\n",
       "    .dataframe tbody tr th {\n",
       "        vertical-align: top;\n",
       "    }\n",
       "\n",
       "    .dataframe thead th {\n",
       "        text-align: right;\n",
       "    }\n",
       "</style>\n",
       "<table border=\"1\" class=\"dataframe\">\n",
       "  <thead>\n",
       "    <tr style=\"text-align: right;\">\n",
       "      <th></th>\n",
       "      <th>city</th>\n",
       "      <th>state</th>\n",
       "      <th>one_adult_no_kids_living_wage</th>\n",
       "      <th>land_area_sqmi</th>\n",
       "      <th>one_adult_no_kids_living_salary</th>\n",
       "      <th>price</th>\n",
       "      <th>addressState</th>\n",
       "      <th>beds</th>\n",
       "      <th>baths</th>\n",
       "      <th>area</th>\n",
       "      <th>zestimate</th>\n",
       "      <th>homeType</th>\n",
       "      <th>State</th>\n",
       "      <th>Average Mortgage</th>\n",
       "    </tr>\n",
       "  </thead>\n",
       "  <tbody>\n",
       "    <tr>\n",
       "      <th>0</th>\n",
       "      <td>New York</td>\n",
       "      <td>New York</td>\n",
       "      <td>20.00</td>\n",
       "      <td>300.50</td>\n",
       "      <td>36020.00</td>\n",
       "      <td>$675,000</td>\n",
       "      <td>NY</td>\n",
       "      <td>4.00</td>\n",
       "      <td>3.00</td>\n",
       "      <td>2444.00</td>\n",
       "      <td>675000.00</td>\n",
       "      <td>SINGLE_FAMILY</td>\n",
       "      <td>New York</td>\n",
       "      <td>1657.00</td>\n",
       "    </tr>\n",
       "    <tr>\n",
       "      <th>1</th>\n",
       "      <td>New York</td>\n",
       "      <td>New York</td>\n",
       "      <td>20.00</td>\n",
       "      <td>300.50</td>\n",
       "      <td>36020.00</td>\n",
       "      <td>$739,000</td>\n",
       "      <td>NY</td>\n",
       "      <td>3.00</td>\n",
       "      <td>3.00</td>\n",
       "      <td>1583.00</td>\n",
       "      <td>671000.00</td>\n",
       "      <td>SINGLE_FAMILY</td>\n",
       "      <td>New York</td>\n",
       "      <td>1657.00</td>\n",
       "    </tr>\n",
       "    <tr>\n",
       "      <th>2</th>\n",
       "      <td>New York</td>\n",
       "      <td>New York</td>\n",
       "      <td>20.00</td>\n",
       "      <td>300.50</td>\n",
       "      <td>36020.00</td>\n",
       "      <td>$160,000</td>\n",
       "      <td>NY</td>\n",
       "      <td>1.00</td>\n",
       "      <td>1.00</td>\n",
       "      <td>750.00</td>\n",
       "      <td>459800.00</td>\n",
       "      <td>SINGLE_FAMILY</td>\n",
       "      <td>New York</td>\n",
       "      <td>1657.00</td>\n",
       "    </tr>\n",
       "    <tr>\n",
       "      <th>3</th>\n",
       "      <td>New York</td>\n",
       "      <td>New York</td>\n",
       "      <td>20.00</td>\n",
       "      <td>300.50</td>\n",
       "      <td>36020.00</td>\n",
       "      <td>$749,999</td>\n",
       "      <td>NY</td>\n",
       "      <td>4.00</td>\n",
       "      <td>3.00</td>\n",
       "      <td>2200.00</td>\n",
       "      <td>789700.00</td>\n",
       "      <td>MULTI_FAMILY</td>\n",
       "      <td>New York</td>\n",
       "      <td>1657.00</td>\n",
       "    </tr>\n",
       "    <tr>\n",
       "      <th>4</th>\n",
       "      <td>New York</td>\n",
       "      <td>New York</td>\n",
       "      <td>20.00</td>\n",
       "      <td>300.50</td>\n",
       "      <td>36020.00</td>\n",
       "      <td>$439,000</td>\n",
       "      <td>NY</td>\n",
       "      <td>3.00</td>\n",
       "      <td>2.00</td>\n",
       "      <td>1910.00</td>\n",
       "      <td>439000.00</td>\n",
       "      <td>MULTI_FAMILY</td>\n",
       "      <td>New York</td>\n",
       "      <td>1657.00</td>\n",
       "    </tr>\n",
       "    <tr>\n",
       "      <th>...</th>\n",
       "      <td>...</td>\n",
       "      <td>...</td>\n",
       "      <td>...</td>\n",
       "      <td>...</td>\n",
       "      <td>...</td>\n",
       "      <td>...</td>\n",
       "      <td>...</td>\n",
       "      <td>...</td>\n",
       "      <td>...</td>\n",
       "      <td>...</td>\n",
       "      <td>...</td>\n",
       "      <td>...</td>\n",
       "      <td>...</td>\n",
       "      <td>...</td>\n",
       "    </tr>\n",
       "    <tr>\n",
       "      <th>459477</th>\n",
       "      <td>Boise</td>\n",
       "      <td>Idaho</td>\n",
       "      <td>14.12</td>\n",
       "      <td>84.00</td>\n",
       "      <td>25430.12</td>\n",
       "      <td>$515,900</td>\n",
       "      <td>ID</td>\n",
       "      <td>3.00</td>\n",
       "      <td>2.00</td>\n",
       "      <td>1450.00</td>\n",
       "      <td>478800.00</td>\n",
       "      <td>SINGLE_FAMILY</td>\n",
       "      <td>Idaho</td>\n",
       "      <td>1516.00</td>\n",
       "    </tr>\n",
       "    <tr>\n",
       "      <th>459478</th>\n",
       "      <td>Boise</td>\n",
       "      <td>Idaho</td>\n",
       "      <td>14.12</td>\n",
       "      <td>84.00</td>\n",
       "      <td>25430.12</td>\n",
       "      <td>$450,000</td>\n",
       "      <td>ID</td>\n",
       "      <td>2.00</td>\n",
       "      <td>3.00</td>\n",
       "      <td>1552.00</td>\n",
       "      <td>446800.00</td>\n",
       "      <td>TOWNHOUSE</td>\n",
       "      <td>Idaho</td>\n",
       "      <td>1516.00</td>\n",
       "    </tr>\n",
       "    <tr>\n",
       "      <th>459479</th>\n",
       "      <td>Boise</td>\n",
       "      <td>Idaho</td>\n",
       "      <td>14.12</td>\n",
       "      <td>84.00</td>\n",
       "      <td>25430.12</td>\n",
       "      <td>$2,050,000</td>\n",
       "      <td>ID</td>\n",
       "      <td>4.00</td>\n",
       "      <td>5.00</td>\n",
       "      <td>4760.00</td>\n",
       "      <td>1922500.00</td>\n",
       "      <td>SINGLE_FAMILY</td>\n",
       "      <td>Idaho</td>\n",
       "      <td>1516.00</td>\n",
       "    </tr>\n",
       "    <tr>\n",
       "      <th>459480</th>\n",
       "      <td>Boise</td>\n",
       "      <td>Idaho</td>\n",
       "      <td>14.12</td>\n",
       "      <td>84.00</td>\n",
       "      <td>25430.12</td>\n",
       "      <td>$1,269,000</td>\n",
       "      <td>ID</td>\n",
       "      <td>2.00</td>\n",
       "      <td>2.00</td>\n",
       "      <td>2120.00</td>\n",
       "      <td>1244500.00</td>\n",
       "      <td>SINGLE_FAMILY</td>\n",
       "      <td>Idaho</td>\n",
       "      <td>1516.00</td>\n",
       "    </tr>\n",
       "    <tr>\n",
       "      <th>459481</th>\n",
       "      <td>Boise</td>\n",
       "      <td>Idaho</td>\n",
       "      <td>14.12</td>\n",
       "      <td>84.00</td>\n",
       "      <td>25430.12</td>\n",
       "      <td>$899,900</td>\n",
       "      <td>ID</td>\n",
       "      <td>3.00</td>\n",
       "      <td>3.00</td>\n",
       "      <td>2680.00</td>\n",
       "      <td>829300.00</td>\n",
       "      <td>SINGLE_FAMILY</td>\n",
       "      <td>Idaho</td>\n",
       "      <td>1516.00</td>\n",
       "    </tr>\n",
       "  </tbody>\n",
       "</table>\n",
       "<p>459482 rows × 14 columns</p>\n",
       "</div>"
      ],
      "text/plain": [
       "            city     state  one_adult_no_kids_living_wage  land_area_sqmi  \\\n",
       "0       New York  New York                          20.00          300.50   \n",
       "1       New York  New York                          20.00          300.50   \n",
       "2       New York  New York                          20.00          300.50   \n",
       "3       New York  New York                          20.00          300.50   \n",
       "4       New York  New York                          20.00          300.50   \n",
       "...          ...       ...                            ...             ...   \n",
       "459477     Boise     Idaho                          14.12           84.00   \n",
       "459478     Boise     Idaho                          14.12           84.00   \n",
       "459479     Boise     Idaho                          14.12           84.00   \n",
       "459480     Boise     Idaho                          14.12           84.00   \n",
       "459481     Boise     Idaho                          14.12           84.00   \n",
       "\n",
       "        one_adult_no_kids_living_salary       price addressState beds baths  \\\n",
       "0                              36020.00    $675,000           NY 4.00  3.00   \n",
       "1                              36020.00    $739,000           NY 3.00  3.00   \n",
       "2                              36020.00    $160,000           NY 1.00  1.00   \n",
       "3                              36020.00    $749,999           NY 4.00  3.00   \n",
       "4                              36020.00    $439,000           NY 3.00  2.00   \n",
       "...                                 ...         ...          ...  ...   ...   \n",
       "459477                         25430.12    $515,900           ID 3.00  2.00   \n",
       "459478                         25430.12    $450,000           ID 2.00  3.00   \n",
       "459479                         25430.12  $2,050,000           ID 4.00  5.00   \n",
       "459480                         25430.12  $1,269,000           ID 2.00  2.00   \n",
       "459481                         25430.12    $899,900           ID 3.00  3.00   \n",
       "\n",
       "          area  zestimate       homeType     State  Average Mortgage  \n",
       "0      2444.00  675000.00  SINGLE_FAMILY  New York           1657.00  \n",
       "1      1583.00  671000.00  SINGLE_FAMILY  New York           1657.00  \n",
       "2       750.00  459800.00  SINGLE_FAMILY  New York           1657.00  \n",
       "3      2200.00  789700.00   MULTI_FAMILY  New York           1657.00  \n",
       "4      1910.00  439000.00   MULTI_FAMILY  New York           1657.00  \n",
       "...        ...        ...            ...       ...               ...  \n",
       "459477 1450.00  478800.00  SINGLE_FAMILY     Idaho           1516.00  \n",
       "459478 1552.00  446800.00      TOWNHOUSE     Idaho           1516.00  \n",
       "459479 4760.00 1922500.00  SINGLE_FAMILY     Idaho           1516.00  \n",
       "459480 2120.00 1244500.00  SINGLE_FAMILY     Idaho           1516.00  \n",
       "459481 2680.00  829300.00  SINGLE_FAMILY     Idaho           1516.00  \n",
       "\n",
       "[459482 rows x 14 columns]"
      ]
     },
     "execution_count": 72,
     "metadata": {},
     "output_type": "execute_result"
    }
   ],
   "source": [
    "df"
   ]
  },
  {
   "cell_type": "code",
   "execution_count": 73,
   "id": "212f3979-6fa9-442e-8025-725a3751e1be",
   "metadata": {
    "id": "212f3979-6fa9-442e-8025-725a3751e1be"
   },
   "outputs": [],
   "source": [
    "df_degrees_over_career = df_degrees_over_career.set_index('Undergraduate Major')\n"
   ]
  },
  {
   "cell_type": "code",
   "execution_count": 74,
   "id": "e6bec99c-dd2c-495f-b6a5-379a94bd5d27",
   "metadata": {
    "id": "e6bec99c-dd2c-495f-b6a5-379a94bd5d27"
   },
   "outputs": [],
   "source": [
    "for col in list(df_degrees_over_career):\n",
    "    if col != 'Percent change from Starting to Mid-Career Salary':\n",
    "        df_degrees_over_career[col] = df_degrees_over_career[col].str.strip('$')\n",
    "        df_degrees_over_career[col] = df_degrees_over_career[col].str.replace(',', '')\n",
    "    df_degrees_over_career[col] = df_degrees_over_career[col].astype(float)"
   ]
  },
  {
   "cell_type": "markdown",
   "id": "22882260-3af4-42a8-ad43-86d8697e1171",
   "metadata": {
    "id": "22882260-3af4-42a8-ad43-86d8697e1171"
   },
   "source": [
    "## With respect to careers, the dataset below uses salary data from the last 10 years in order to get a perspective on mid career salaries."
   ]
  },
  {
   "cell_type": "code",
   "execution_count": 75,
   "id": "0f2cefd0-6a81-4ec3-8899-ea747aff1b59",
   "metadata": {
    "colab": {
     "base_uri": "https://localhost:8080/",
     "height": 527
    },
    "id": "0f2cefd0-6a81-4ec3-8899-ea747aff1b59",
    "outputId": "c9618c75-f925-4edb-d956-891abdc9b003"
   },
   "outputs": [
    {
     "data": {
      "text/html": [
       "<div>\n",
       "<style scoped>\n",
       "    .dataframe tbody tr th:only-of-type {\n",
       "        vertical-align: middle;\n",
       "    }\n",
       "\n",
       "    .dataframe tbody tr th {\n",
       "        vertical-align: top;\n",
       "    }\n",
       "\n",
       "    .dataframe thead th {\n",
       "        text-align: right;\n",
       "    }\n",
       "</style>\n",
       "<table border=\"1\" class=\"dataframe\">\n",
       "  <thead>\n",
       "    <tr style=\"text-align: right;\">\n",
       "      <th></th>\n",
       "      <th>Starting Median Salary</th>\n",
       "      <th>Mid-Career Median Salary</th>\n",
       "      <th>Percent change from Starting to Mid-Career Salary</th>\n",
       "      <th>Mid-Career 10th Percentile Salary</th>\n",
       "      <th>Mid-Career 25th Percentile Salary</th>\n",
       "      <th>Mid-Career 75th Percentile Salary</th>\n",
       "      <th>Mid-Career 90th Percentile Salary</th>\n",
       "    </tr>\n",
       "    <tr>\n",
       "      <th>Undergraduate Major</th>\n",
       "      <th></th>\n",
       "      <th></th>\n",
       "      <th></th>\n",
       "      <th></th>\n",
       "      <th></th>\n",
       "      <th></th>\n",
       "      <th></th>\n",
       "    </tr>\n",
       "  </thead>\n",
       "  <tbody>\n",
       "    <tr>\n",
       "      <th>Aerospace Engineering</th>\n",
       "      <td>57700.00</td>\n",
       "      <td>101000.00</td>\n",
       "      <td>75.00</td>\n",
       "      <td>64300.00</td>\n",
       "      <td>82100.00</td>\n",
       "      <td>127000.00</td>\n",
       "      <td>161000.00</td>\n",
       "    </tr>\n",
       "    <tr>\n",
       "      <th>Health Care Administration</th>\n",
       "      <td>38800.00</td>\n",
       "      <td>60600.00</td>\n",
       "      <td>56.20</td>\n",
       "      <td>34600.00</td>\n",
       "      <td>45600.00</td>\n",
       "      <td>78800.00</td>\n",
       "      <td>101000.00</td>\n",
       "    </tr>\n",
       "    <tr>\n",
       "      <th>Computer Engineering</th>\n",
       "      <td>61400.00</td>\n",
       "      <td>105000.00</td>\n",
       "      <td>71.00</td>\n",
       "      <td>66100.00</td>\n",
       "      <td>84100.00</td>\n",
       "      <td>135000.00</td>\n",
       "      <td>162000.00</td>\n",
       "    </tr>\n",
       "    <tr>\n",
       "      <th>Electrical Engineering</th>\n",
       "      <td>60900.00</td>\n",
       "      <td>103000.00</td>\n",
       "      <td>69.10</td>\n",
       "      <td>69300.00</td>\n",
       "      <td>83800.00</td>\n",
       "      <td>130000.00</td>\n",
       "      <td>168000.00</td>\n",
       "    </tr>\n",
       "    <tr>\n",
       "      <th>Information Technology (IT)</th>\n",
       "      <td>49100.00</td>\n",
       "      <td>74800.00</td>\n",
       "      <td>52.30</td>\n",
       "      <td>44500.00</td>\n",
       "      <td>56700.00</td>\n",
       "      <td>96700.00</td>\n",
       "      <td>129000.00</td>\n",
       "    </tr>\n",
       "  </tbody>\n",
       "</table>\n",
       "</div>"
      ],
      "text/plain": [
       "                             Starting Median Salary  Mid-Career Median Salary  \\\n",
       "Undergraduate Major                                                             \n",
       "Aerospace Engineering                      57700.00                 101000.00   \n",
       "Health Care Administration                 38800.00                  60600.00   \n",
       "Computer Engineering                       61400.00                 105000.00   \n",
       "Electrical Engineering                     60900.00                 103000.00   \n",
       "Information Technology (IT)                49100.00                  74800.00   \n",
       "\n",
       "                             Percent change from Starting to Mid-Career Salary  \\\n",
       "Undergraduate Major                                                              \n",
       "Aerospace Engineering                                                    75.00   \n",
       "Health Care Administration                                               56.20   \n",
       "Computer Engineering                                                     71.00   \n",
       "Electrical Engineering                                                   69.10   \n",
       "Information Technology (IT)                                              52.30   \n",
       "\n",
       "                             Mid-Career 10th Percentile Salary  \\\n",
       "Undergraduate Major                                              \n",
       "Aerospace Engineering                                 64300.00   \n",
       "Health Care Administration                            34600.00   \n",
       "Computer Engineering                                  66100.00   \n",
       "Electrical Engineering                                69300.00   \n",
       "Information Technology (IT)                           44500.00   \n",
       "\n",
       "                             Mid-Career 25th Percentile Salary  \\\n",
       "Undergraduate Major                                              \n",
       "Aerospace Engineering                                 82100.00   \n",
       "Health Care Administration                            45600.00   \n",
       "Computer Engineering                                  84100.00   \n",
       "Electrical Engineering                                83800.00   \n",
       "Information Technology (IT)                           56700.00   \n",
       "\n",
       "                             Mid-Career 75th Percentile Salary  \\\n",
       "Undergraduate Major                                              \n",
       "Aerospace Engineering                                127000.00   \n",
       "Health Care Administration                            78800.00   \n",
       "Computer Engineering                                 135000.00   \n",
       "Electrical Engineering                               130000.00   \n",
       "Information Technology (IT)                           96700.00   \n",
       "\n",
       "                             Mid-Career 90th Percentile Salary  \n",
       "Undergraduate Major                                             \n",
       "Aerospace Engineering                                161000.00  \n",
       "Health Care Administration                           101000.00  \n",
       "Computer Engineering                                 162000.00  \n",
       "Electrical Engineering                               168000.00  \n",
       "Information Technology (IT)                          129000.00  "
      ]
     },
     "execution_count": 75,
     "metadata": {},
     "output_type": "execute_result"
    }
   ],
   "source": [
    "# 5 Majors Closest to Accounting Wage Wise For Career Estimates -- Computer Science\n",
    "x = df_degrees_over_career.iloc[13]\n",
    "db = df_degrees_over_career.drop(df_degrees_over_career.index[13]) # Make database of all users except user 1\n",
    "sims = db.apply(lambda y: (y.values*x.values).sum()/(np.sqrt((y**2).sum())*np.sqrt((x**2).sum())),axis=1)\n",
    "sorted_sims = sims.sort_values()[::-1]\n",
    "N=5\n",
    "userIds = sorted_sims.dropna().iloc[:N].index\n",
    "df_closest2010 = df_degrees_over_career.loc[userIds]\n",
    "df_closest2010"
   ]
  },
  {
   "cell_type": "code",
   "execution_count": 76,
   "id": "06935907-8831-4f2d-89e1-4d9c9498dd23",
   "metadata": {
    "colab": {
     "base_uri": "https://localhost:8080/",
     "height": 507
    },
    "id": "06935907-8831-4f2d-89e1-4d9c9498dd23",
    "outputId": "a4364241-e9e8-41df-f088-2c6eabb3e413"
   },
   "outputs": [
    {
     "data": {
      "text/html": [
       "<div>\n",
       "<style scoped>\n",
       "    .dataframe tbody tr th:only-of-type {\n",
       "        vertical-align: middle;\n",
       "    }\n",
       "\n",
       "    .dataframe tbody tr th {\n",
       "        vertical-align: top;\n",
       "    }\n",
       "\n",
       "    .dataframe thead th {\n",
       "        text-align: right;\n",
       "    }\n",
       "</style>\n",
       "<table border=\"1\" class=\"dataframe\">\n",
       "  <thead>\n",
       "    <tr style=\"text-align: right;\">\n",
       "      <th></th>\n",
       "      <th>Starting Median Salary</th>\n",
       "      <th>Percent change from Starting to Mid-Career Salary</th>\n",
       "      <th>Mid-Career 10th Percentile Salary</th>\n",
       "      <th>Mid-Career 25th Percentile Salary</th>\n",
       "      <th>Mid-Career 75th Percentile Salary</th>\n",
       "      <th>Mid-Career 90th Percentile Salary</th>\n",
       "    </tr>\n",
       "    <tr>\n",
       "      <th>Undergraduate Major</th>\n",
       "      <th></th>\n",
       "      <th></th>\n",
       "      <th></th>\n",
       "      <th></th>\n",
       "      <th></th>\n",
       "      <th></th>\n",
       "    </tr>\n",
       "  </thead>\n",
       "  <tbody>\n",
       "    <tr>\n",
       "      <th>Aerospace Engineering</th>\n",
       "      <td>57700.00</td>\n",
       "      <td>75.00</td>\n",
       "      <td>64300.00</td>\n",
       "      <td>82100.00</td>\n",
       "      <td>127000.00</td>\n",
       "      <td>161000.00</td>\n",
       "    </tr>\n",
       "    <tr>\n",
       "      <th>Health Care Administration</th>\n",
       "      <td>38800.00</td>\n",
       "      <td>56.20</td>\n",
       "      <td>34600.00</td>\n",
       "      <td>45600.00</td>\n",
       "      <td>78800.00</td>\n",
       "      <td>101000.00</td>\n",
       "    </tr>\n",
       "    <tr>\n",
       "      <th>Computer Engineering</th>\n",
       "      <td>61400.00</td>\n",
       "      <td>71.00</td>\n",
       "      <td>66100.00</td>\n",
       "      <td>84100.00</td>\n",
       "      <td>135000.00</td>\n",
       "      <td>162000.00</td>\n",
       "    </tr>\n",
       "    <tr>\n",
       "      <th>Electrical Engineering</th>\n",
       "      <td>60900.00</td>\n",
       "      <td>69.10</td>\n",
       "      <td>69300.00</td>\n",
       "      <td>83800.00</td>\n",
       "      <td>130000.00</td>\n",
       "      <td>168000.00</td>\n",
       "    </tr>\n",
       "    <tr>\n",
       "      <th>Information Technology (IT)</th>\n",
       "      <td>49100.00</td>\n",
       "      <td>52.30</td>\n",
       "      <td>44500.00</td>\n",
       "      <td>56700.00</td>\n",
       "      <td>96700.00</td>\n",
       "      <td>129000.00</td>\n",
       "    </tr>\n",
       "  </tbody>\n",
       "</table>\n",
       "</div>"
      ],
      "text/plain": [
       "                             Starting Median Salary  \\\n",
       "Undergraduate Major                                   \n",
       "Aerospace Engineering                      57700.00   \n",
       "Health Care Administration                 38800.00   \n",
       "Computer Engineering                       61400.00   \n",
       "Electrical Engineering                     60900.00   \n",
       "Information Technology (IT)                49100.00   \n",
       "\n",
       "                             Percent change from Starting to Mid-Career Salary  \\\n",
       "Undergraduate Major                                                              \n",
       "Aerospace Engineering                                                    75.00   \n",
       "Health Care Administration                                               56.20   \n",
       "Computer Engineering                                                     71.00   \n",
       "Electrical Engineering                                                   69.10   \n",
       "Information Technology (IT)                                              52.30   \n",
       "\n",
       "                             Mid-Career 10th Percentile Salary  \\\n",
       "Undergraduate Major                                              \n",
       "Aerospace Engineering                                 64300.00   \n",
       "Health Care Administration                            34600.00   \n",
       "Computer Engineering                                  66100.00   \n",
       "Electrical Engineering                                69300.00   \n",
       "Information Technology (IT)                           44500.00   \n",
       "\n",
       "                             Mid-Career 25th Percentile Salary  \\\n",
       "Undergraduate Major                                              \n",
       "Aerospace Engineering                                 82100.00   \n",
       "Health Care Administration                            45600.00   \n",
       "Computer Engineering                                  84100.00   \n",
       "Electrical Engineering                                83800.00   \n",
       "Information Technology (IT)                           56700.00   \n",
       "\n",
       "                             Mid-Career 75th Percentile Salary  \\\n",
       "Undergraduate Major                                              \n",
       "Aerospace Engineering                                127000.00   \n",
       "Health Care Administration                            78800.00   \n",
       "Computer Engineering                                 135000.00   \n",
       "Electrical Engineering                               130000.00   \n",
       "Information Technology (IT)                           96700.00   \n",
       "\n",
       "                             Mid-Career 90th Percentile Salary  \n",
       "Undergraduate Major                                             \n",
       "Aerospace Engineering                                161000.00  \n",
       "Health Care Administration                           101000.00  \n",
       "Computer Engineering                                 162000.00  \n",
       "Electrical Engineering                               168000.00  \n",
       "Information Technology (IT)                          129000.00  "
      ]
     },
     "execution_count": 76,
     "metadata": {},
     "output_type": "execute_result"
    }
   ],
   "source": [
    "# 5 Majors Closest to Accounting Wage Wise For Early Career Estimates -- Computer Science\n",
    "ec_df = df_degrees_over_career.drop(['Mid-Career Median Salary'], axis=1)\n",
    "\n",
    "x = ec_df.iloc[13]\n",
    "db = ec_df.drop(df_degrees_over_career.index[13]) # Make database of all users except user 1\n",
    "sims = db.apply(lambda y: (y.values*x.values).sum()/(np.sqrt((y**2).sum())*np.sqrt((x**2).sum())),axis=1)\n",
    "sorted_sims = sims.sort_values()[::-1]\n",
    "N=5\n",
    "userIds = sorted_sims.dropna().iloc[:N].index\n",
    "df_closest = ec_df.loc[userIds]\n",
    "df_closest"
   ]
  },
  {
   "cell_type": "code",
   "execution_count": 77,
   "id": "96cd5c8b-539d-485c-8690-f0fce378c6d5",
   "metadata": {
    "colab": {
     "base_uri": "https://localhost:8080/",
     "height": 507
    },
    "id": "96cd5c8b-539d-485c-8690-f0fce378c6d5",
    "outputId": "c5cf45c4-3577-4907-84c1-f5667898e5d6"
   },
   "outputs": [
    {
     "data": {
      "text/html": [
       "<div>\n",
       "<style scoped>\n",
       "    .dataframe tbody tr th:only-of-type {\n",
       "        vertical-align: middle;\n",
       "    }\n",
       "\n",
       "    .dataframe tbody tr th {\n",
       "        vertical-align: top;\n",
       "    }\n",
       "\n",
       "    .dataframe thead th {\n",
       "        text-align: right;\n",
       "    }\n",
       "</style>\n",
       "<table border=\"1\" class=\"dataframe\">\n",
       "  <thead>\n",
       "    <tr style=\"text-align: right;\">\n",
       "      <th></th>\n",
       "      <th>Mid-Career Median Salary</th>\n",
       "      <th>Percent change from Starting to Mid-Career Salary</th>\n",
       "      <th>Mid-Career 10th Percentile Salary</th>\n",
       "      <th>Mid-Career 25th Percentile Salary</th>\n",
       "      <th>Mid-Career 75th Percentile Salary</th>\n",
       "      <th>Mid-Career 90th Percentile Salary</th>\n",
       "    </tr>\n",
       "    <tr>\n",
       "      <th>Undergraduate Major</th>\n",
       "      <th></th>\n",
       "      <th></th>\n",
       "      <th></th>\n",
       "      <th></th>\n",
       "      <th></th>\n",
       "      <th></th>\n",
       "    </tr>\n",
       "  </thead>\n",
       "  <tbody>\n",
       "    <tr>\n",
       "      <th>Health Care Administration</th>\n",
       "      <td>60600.00</td>\n",
       "      <td>56.20</td>\n",
       "      <td>34600.00</td>\n",
       "      <td>45600.00</td>\n",
       "      <td>78800.00</td>\n",
       "      <td>101000.00</td>\n",
       "    </tr>\n",
       "    <tr>\n",
       "      <th>Aerospace Engineering</th>\n",
       "      <td>101000.00</td>\n",
       "      <td>75.00</td>\n",
       "      <td>64300.00</td>\n",
       "      <td>82100.00</td>\n",
       "      <td>127000.00</td>\n",
       "      <td>161000.00</td>\n",
       "    </tr>\n",
       "    <tr>\n",
       "      <th>Computer Engineering</th>\n",
       "      <td>105000.00</td>\n",
       "      <td>71.00</td>\n",
       "      <td>66100.00</td>\n",
       "      <td>84100.00</td>\n",
       "      <td>135000.00</td>\n",
       "      <td>162000.00</td>\n",
       "    </tr>\n",
       "    <tr>\n",
       "      <th>Electrical Engineering</th>\n",
       "      <td>103000.00</td>\n",
       "      <td>69.10</td>\n",
       "      <td>69300.00</td>\n",
       "      <td>83800.00</td>\n",
       "      <td>130000.00</td>\n",
       "      <td>168000.00</td>\n",
       "    </tr>\n",
       "    <tr>\n",
       "      <th>Information Technology (IT)</th>\n",
       "      <td>74800.00</td>\n",
       "      <td>52.30</td>\n",
       "      <td>44500.00</td>\n",
       "      <td>56700.00</td>\n",
       "      <td>96700.00</td>\n",
       "      <td>129000.00</td>\n",
       "    </tr>\n",
       "  </tbody>\n",
       "</table>\n",
       "</div>"
      ],
      "text/plain": [
       "                             Mid-Career Median Salary  \\\n",
       "Undergraduate Major                                     \n",
       "Health Care Administration                   60600.00   \n",
       "Aerospace Engineering                       101000.00   \n",
       "Computer Engineering                        105000.00   \n",
       "Electrical Engineering                      103000.00   \n",
       "Information Technology (IT)                  74800.00   \n",
       "\n",
       "                             Percent change from Starting to Mid-Career Salary  \\\n",
       "Undergraduate Major                                                              \n",
       "Health Care Administration                                               56.20   \n",
       "Aerospace Engineering                                                    75.00   \n",
       "Computer Engineering                                                     71.00   \n",
       "Electrical Engineering                                                   69.10   \n",
       "Information Technology (IT)                                              52.30   \n",
       "\n",
       "                             Mid-Career 10th Percentile Salary  \\\n",
       "Undergraduate Major                                              \n",
       "Health Care Administration                            34600.00   \n",
       "Aerospace Engineering                                 64300.00   \n",
       "Computer Engineering                                  66100.00   \n",
       "Electrical Engineering                                69300.00   \n",
       "Information Technology (IT)                           44500.00   \n",
       "\n",
       "                             Mid-Career 25th Percentile Salary  \\\n",
       "Undergraduate Major                                              \n",
       "Health Care Administration                            45600.00   \n",
       "Aerospace Engineering                                 82100.00   \n",
       "Computer Engineering                                  84100.00   \n",
       "Electrical Engineering                                83800.00   \n",
       "Information Technology (IT)                           56700.00   \n",
       "\n",
       "                             Mid-Career 75th Percentile Salary  \\\n",
       "Undergraduate Major                                              \n",
       "Health Care Administration                            78800.00   \n",
       "Aerospace Engineering                                127000.00   \n",
       "Computer Engineering                                 135000.00   \n",
       "Electrical Engineering                               130000.00   \n",
       "Information Technology (IT)                           96700.00   \n",
       "\n",
       "                             Mid-Career 90th Percentile Salary  \n",
       "Undergraduate Major                                             \n",
       "Health Care Administration                           101000.00  \n",
       "Aerospace Engineering                                161000.00  \n",
       "Computer Engineering                                 162000.00  \n",
       "Electrical Engineering                               168000.00  \n",
       "Information Technology (IT)                          129000.00  "
      ]
     },
     "execution_count": 77,
     "metadata": {},
     "output_type": "execute_result"
    }
   ],
   "source": [
    "# 5 Majors Closest to Accounting Wage Wise For Late Career Estimates -- Computer Science\n",
    "ec_df = df_degrees_over_career.drop(['Starting Median Salary'], axis=1)\n",
    "x = ec_df.iloc[13]\n",
    "db = ec_df.drop(df_degrees_over_career.index[13]) # Make database of all users except user 1\n",
    "sims = db.apply(lambda y: (y.values*x.values).sum()/(np.sqrt((y**2).sum())*np.sqrt((x**2).sum())),axis=1)\n",
    "sorted_sims = sims.sort_values()[::-1]\n",
    "N=5\n",
    "userIds = sorted_sims.dropna().iloc[:N].index\n",
    "df_closest = ec_df.loc[userIds]\n",
    "df_closest"
   ]
  },
  {
   "cell_type": "markdown",
   "id": "0ef50ee2-c5a6-4bba-ae52-2fbae60723cd",
   "metadata": {
    "id": "0ef50ee2-c5a6-4bba-ae52-2fbae60723cd"
   },
   "source": [
    "## When building the recommendation system, the overall recommendartions shared Aerospace Engineering, Health Care Administration, Computer Engineering, Electrical Engineering, Information Technology (IT). The conditions of only considering early or mid career salary altered the positions of each.\n",
    "\n",
    "## These values may have some error with respect to computer science as a field since the career scope has boosted and likely many computer science majors make more now than 10 years ago.\n",
    "\n",
    "## To see this, let's run some more cosine similarity on more recent Cal Poly graduate data."
   ]
  },
  {
   "cell_type": "code",
   "execution_count": 78,
   "id": "92e63105-ebb9-49de-a693-12222f01f47f",
   "metadata": {
    "id": "92e63105-ebb9-49de-a693-12222f01f47f"
   },
   "outputs": [],
   "source": [
    "df_major_salary = df_major_salary\n",
    "for col in list(df_major_salary):\n",
    "    if col == 'Employment Rate\\xa0':\n",
    "        df_major_salary[col] = df_major_salary[col].str.strip('%')\n",
    "        # df_major_salary[col]  = df_major_salary[col].astype(int)\n",
    "        # df_major_salary[col] = int(df_major_salary[col])\n",
    "    elif col in ['Median Debt',\t'Median Salary']:\n",
    "        df_major_salary[col] = df_major_salary[col].str.strip('$')\n",
    "        df_major_salary[col] = df_major_salary[col].str.replace(',', '')\n",
    "        # df_major_salary[col] = df_major_salary[col].astype(int)\n",
    "df_major_salary['Degree Type'].replace('B', 0 ,inplace=True)\n",
    "df_major_salary['Degree Type'].replace('M', 1 ,inplace=True)\n",
    "    "
   ]
  },
  {
   "cell_type": "code",
   "execution_count": 79,
   "id": "3237b7a6-91dd-417d-9d69-709b0fef04c5",
   "metadata": {
    "id": "3237b7a6-91dd-417d-9d69-709b0fef04c5"
   },
   "outputs": [],
   "source": [
    "df_major_salary2 = df_major_salary.drop(['Field of Study\\xa0','Median Debt', 'Salary Score\\xa0'], axis=1)\n",
    "for col in list(df_major_salary2):\n",
    "    df_major_salary2[col] = df_major_salary2[col].astype(int)"
   ]
  },
  {
   "cell_type": "code",
   "execution_count": 80,
   "id": "b73d753b-ec98-41df-bd42-74da4a601869",
   "metadata": {
    "colab": {
     "base_uri": "https://localhost:8080/",
     "height": 337
    },
    "id": "b73d753b-ec98-41df-bd42-74da4a601869",
    "outputId": "e6068420-db8d-4824-88ad-b479a8e1045e"
   },
   "outputs": [
    {
     "data": {
      "text/html": [
       "<div>\n",
       "<style scoped>\n",
       "    .dataframe tbody tr th:only-of-type {\n",
       "        vertical-align: middle;\n",
       "    }\n",
       "\n",
       "    .dataframe tbody tr th {\n",
       "        vertical-align: top;\n",
       "    }\n",
       "\n",
       "    .dataframe thead th {\n",
       "        text-align: right;\n",
       "    }\n",
       "</style>\n",
       "<table border=\"1\" class=\"dataframe\">\n",
       "  <thead>\n",
       "    <tr style=\"text-align: right;\">\n",
       "      <th></th>\n",
       "      <th>Field of Study</th>\n",
       "      <th>Employment Rate</th>\n",
       "      <th>Median Debt</th>\n",
       "      <th>Median Salary</th>\n",
       "      <th>Salary Score</th>\n",
       "      <th>Degree Type</th>\n",
       "    </tr>\n",
       "  </thead>\n",
       "  <tbody>\n",
       "    <tr>\n",
       "      <th>62</th>\n",
       "      <td>Electrical, Electronics and Communications Eng...</td>\n",
       "      <td>100</td>\n",
       "      <td>Not Reported</td>\n",
       "      <td>104750</td>\n",
       "      <td>78</td>\n",
       "      <td>1</td>\n",
       "    </tr>\n",
       "    <tr>\n",
       "      <th>52</th>\n",
       "      <td>Aerospace, Aeronautical and Astronautical Engi...</td>\n",
       "      <td>92</td>\n",
       "      <td>Not Reported</td>\n",
       "      <td>94410</td>\n",
       "      <td>72</td>\n",
       "      <td>1</td>\n",
       "    </tr>\n",
       "    <tr>\n",
       "      <th>17</th>\n",
       "      <td>Computer Engineering</td>\n",
       "      <td>95</td>\n",
       "      <td>21500</td>\n",
       "      <td>95030</td>\n",
       "      <td>97</td>\n",
       "      <td>0</td>\n",
       "    </tr>\n",
       "    <tr>\n",
       "      <th>64</th>\n",
       "      <td>Fire Protection</td>\n",
       "      <td>93</td>\n",
       "      <td>Not Reported</td>\n",
       "      <td>93080</td>\n",
       "      <td>76</td>\n",
       "      <td>1</td>\n",
       "    </tr>\n",
       "    <tr>\n",
       "      <th>65</th>\n",
       "      <td>Mechanical Engineering</td>\n",
       "      <td>100</td>\n",
       "      <td>Not Reported</td>\n",
       "      <td>99520</td>\n",
       "      <td>96</td>\n",
       "      <td>1</td>\n",
       "    </tr>\n",
       "  </tbody>\n",
       "</table>\n",
       "</div>"
      ],
      "text/plain": [
       "                                      Field of Study  Employment Rate   \\\n",
       "62  Electrical, Electronics and Communications Eng...              100   \n",
       "52  Aerospace, Aeronautical and Astronautical Engi...               92   \n",
       "17                               Computer Engineering               95   \n",
       "64                                    Fire Protection               93   \n",
       "65                             Mechanical Engineering              100   \n",
       "\n",
       "     Median Debt Median Salary Salary Score   Degree Type  \n",
       "62  Not Reported       104750             78            1  \n",
       "52  Not Reported        94410             72            1  \n",
       "17        21500         95030             97            0  \n",
       "64  Not Reported        93080             76            1  \n",
       "65  Not Reported        99520             96            1  "
      ]
     },
     "execution_count": 80,
     "metadata": {},
     "output_type": "execute_result"
    }
   ],
   "source": [
    "ec_df = df_major_salary2\n",
    "x = ec_df.iloc[16]\n",
    "x.values\n",
    "db = ec_df.drop(ec_df.index[16]) # Make database of all users except user 1\n",
    "sims = db.apply(lambda y: (y.values*x.values).sum()/(np.sqrt((y**2).sum())*np.sqrt((x**2).sum())),axis=1)\n",
    "sorted_sims = sims.sort_values()[::-1]\n",
    "N=5\n",
    "userIds = sorted_sims.dropna().iloc[:N].index\n",
    "df_closest2020 = df_major_salary.loc[userIds]\n",
    "df_closest2020\n"
   ]
  },
  {
   "cell_type": "markdown",
   "id": "33bec61e-f68e-407c-980a-ca672f6359e9",
   "metadata": {
    "id": "33bec61e-f68e-407c-980a-ca672f6359e9"
   },
   "source": [
    "## Looking at more recent data, we see a more coherent group of similar majors career wise. This shows an interesting development of how much CS majors make over the last decade or so, as well as how the career fields have entered a more traditional expectation of income.\n",
    "\n",
    "\n",
    "<br>\n",
    "\n",
    "## To test the manual implementation against a package, we have also ran this same recommendation query through a few packages."
   ]
  },
  {
   "cell_type": "code",
   "execution_count": 81,
   "id": "953c7ad5-1803-4f40-a027-55c256293f2d",
   "metadata": {
    "id": "953c7ad5-1803-4f40-a027-55c256293f2d"
   },
   "outputs": [],
   "source": [
    "import sklearn.metrics.pairwise as sk\n",
    "x = pd.DataFrame(x).T\n",
    "similarities = sk.cosine_similarity(x, df_major_salary2)"
   ]
  },
  {
   "cell_type": "code",
   "execution_count": 82,
   "id": "vIMjoavfMcBa",
   "metadata": {
    "id": "vIMjoavfMcBa"
   },
   "outputs": [],
   "source": [
    "similarity_vals = list(similarities[0])"
   ]
  },
  {
   "cell_type": "code",
   "execution_count": 83,
   "id": "jXYaSoTsNHDc",
   "metadata": {
    "colab": {
     "base_uri": "https://localhost:8080/",
     "height": 337
    },
    "id": "jXYaSoTsNHDc",
    "outputId": "2167fe9e-fa34-4567-eb96-597cafbb8876"
   },
   "outputs": [
    {
     "data": {
      "text/html": [
       "<div>\n",
       "<style scoped>\n",
       "    .dataframe tbody tr th:only-of-type {\n",
       "        vertical-align: middle;\n",
       "    }\n",
       "\n",
       "    .dataframe tbody tr th {\n",
       "        vertical-align: top;\n",
       "    }\n",
       "\n",
       "    .dataframe thead th {\n",
       "        text-align: right;\n",
       "    }\n",
       "</style>\n",
       "<table border=\"1\" class=\"dataframe\">\n",
       "  <thead>\n",
       "    <tr style=\"text-align: right;\">\n",
       "      <th></th>\n",
       "      <th>Field of Study</th>\n",
       "      <th>Employment Rate</th>\n",
       "      <th>Median Debt</th>\n",
       "      <th>Median Salary</th>\n",
       "      <th>Salary Score</th>\n",
       "      <th>Degree Type</th>\n",
       "    </tr>\n",
       "  </thead>\n",
       "  <tbody>\n",
       "    <tr>\n",
       "      <th>62</th>\n",
       "      <td>Electrical, Electronics and Communications Eng...</td>\n",
       "      <td>100</td>\n",
       "      <td>Not Reported</td>\n",
       "      <td>104750</td>\n",
       "      <td>78</td>\n",
       "      <td>1</td>\n",
       "    </tr>\n",
       "    <tr>\n",
       "      <th>52</th>\n",
       "      <td>Aerospace, Aeronautical and Astronautical Engi...</td>\n",
       "      <td>92</td>\n",
       "      <td>Not Reported</td>\n",
       "      <td>94410</td>\n",
       "      <td>72</td>\n",
       "      <td>1</td>\n",
       "    </tr>\n",
       "    <tr>\n",
       "      <th>17</th>\n",
       "      <td>Computer Engineering</td>\n",
       "      <td>95</td>\n",
       "      <td>21500</td>\n",
       "      <td>95030</td>\n",
       "      <td>97</td>\n",
       "      <td>0</td>\n",
       "    </tr>\n",
       "    <tr>\n",
       "      <th>64</th>\n",
       "      <td>Fire Protection</td>\n",
       "      <td>93</td>\n",
       "      <td>Not Reported</td>\n",
       "      <td>93080</td>\n",
       "      <td>76</td>\n",
       "      <td>1</td>\n",
       "    </tr>\n",
       "    <tr>\n",
       "      <th>65</th>\n",
       "      <td>Mechanical Engineering</td>\n",
       "      <td>100</td>\n",
       "      <td>Not Reported</td>\n",
       "      <td>99520</td>\n",
       "      <td>96</td>\n",
       "      <td>1</td>\n",
       "    </tr>\n",
       "  </tbody>\n",
       "</table>\n",
       "</div>"
      ],
      "text/plain": [
       "                                      Field of Study  Employment Rate   \\\n",
       "62  Electrical, Electronics and Communications Eng...              100   \n",
       "52  Aerospace, Aeronautical and Astronautical Engi...               92   \n",
       "17                               Computer Engineering               95   \n",
       "64                                    Fire Protection               93   \n",
       "65                             Mechanical Engineering              100   \n",
       "\n",
       "     Median Debt Median Salary Salary Score  Degree Type  \n",
       "62  Not Reported       104750             78           1  \n",
       "52  Not Reported        94410             72           1  \n",
       "17        21500         95030             97           0  \n",
       "64  Not Reported        93080             76           1  \n",
       "65  Not Reported        99520             96           1  "
      ]
     },
     "execution_count": 83,
     "metadata": {},
     "output_type": "execute_result"
    }
   ],
   "source": [
    "skrecs = pd.DataFrame(df_major_salary.iloc[16])\n",
    "skrecs = skrecs.T\n",
    "\n",
    "import heapq\n",
    "input_list = similarity_vals\n",
    "number_of_elements = 6\n",
    "inds = []\n",
    "for val in heapq.nlargest(number_of_elements, input_list):\n",
    "    inds.append(similarity_vals.index(val))\n",
    "inds\n",
    "\n",
    "for i in inds:\n",
    "    newskrec = pd.DataFrame(df_major_salary.loc[i]).T\n",
    "    skrecs = pd.concat([skrecs,newskrec])\n",
    "skrecs = skrecs.drop(index = (16))\n",
    "skrecs\n",
    "\n",
    "\n",
    "\n"
   ]
  },
  {
   "cell_type": "markdown",
   "id": "hv1S-_-qXCmh",
   "metadata": {
    "id": "hv1S-_-qXCmh"
   },
   "source": [
    "## Via Sklearn, we have validated that the manual recommendations are accurate since we got identical results. Regardless, the recommendations for similar careers based on majors varies drastucally depending on what data an entity is using. In addition, collaborative filtering can use a variety of different distance metrics, and results may not be the same. \n"
   ]
  },
  {
   "cell_type": "code",
   "execution_count": 84,
   "id": "6uolaCrQerCS",
   "metadata": {
    "colab": {
     "base_uri": "https://localhost:8080/",
     "height": 337
    },
    "id": "6uolaCrQerCS",
    "outputId": "3e053b49-0786-4bb7-c3b9-2bca4b8af065"
   },
   "outputs": [
    {
     "data": {
      "text/html": [
       "<div>\n",
       "<style scoped>\n",
       "    .dataframe tbody tr th:only-of-type {\n",
       "        vertical-align: middle;\n",
       "    }\n",
       "\n",
       "    .dataframe tbody tr th {\n",
       "        vertical-align: top;\n",
       "    }\n",
       "\n",
       "    .dataframe thead th {\n",
       "        text-align: right;\n",
       "    }\n",
       "</style>\n",
       "<table border=\"1\" class=\"dataframe\">\n",
       "  <thead>\n",
       "    <tr style=\"text-align: right;\">\n",
       "      <th></th>\n",
       "      <th>Field of Study</th>\n",
       "      <th>Employment Rate</th>\n",
       "      <th>Median Debt</th>\n",
       "      <th>Median Salary</th>\n",
       "      <th>Salary Score</th>\n",
       "      <th>Degree Type</th>\n",
       "    </tr>\n",
       "  </thead>\n",
       "  <tbody>\n",
       "    <tr>\n",
       "      <th>61</th>\n",
       "      <td>Education, General</td>\n",
       "      <td>100</td>\n",
       "      <td>20000</td>\n",
       "      <td>51830</td>\n",
       "      <td>57</td>\n",
       "      <td>1</td>\n",
       "    </tr>\n",
       "    <tr>\n",
       "      <th>64</th>\n",
       "      <td>Fire Protection</td>\n",
       "      <td>93</td>\n",
       "      <td>Not Reported</td>\n",
       "      <td>93080</td>\n",
       "      <td>76</td>\n",
       "      <td>1</td>\n",
       "    </tr>\n",
       "    <tr>\n",
       "      <th>51</th>\n",
       "      <td>Accounting and Related Services</td>\n",
       "      <td>100</td>\n",
       "      <td>Not Reported</td>\n",
       "      <td>71730</td>\n",
       "      <td>96</td>\n",
       "      <td>1</td>\n",
       "    </tr>\n",
       "    <tr>\n",
       "      <th>63</th>\n",
       "      <td>Engineering, General</td>\n",
       "      <td>90</td>\n",
       "      <td>Not Reported</td>\n",
       "      <td>80020</td>\n",
       "      <td>30</td>\n",
       "      <td>1</td>\n",
       "    </tr>\n",
       "    <tr>\n",
       "      <th>53</th>\n",
       "      <td>Agriculture, General</td>\n",
       "      <td>100</td>\n",
       "      <td>Not Reported</td>\n",
       "      <td>71580</td>\n",
       "      <td>97</td>\n",
       "      <td>1</td>\n",
       "    </tr>\n",
       "  </tbody>\n",
       "</table>\n",
       "</div>"
      ],
      "text/plain": [
       "                    Field of Study  Employment Rate    Median Debt  \\\n",
       "61               Education, General              100        20000    \n",
       "64                  Fire Protection               93  Not Reported   \n",
       "51  Accounting and Related Services              100  Not Reported   \n",
       "63             Engineering, General               90  Not Reported   \n",
       "53             Agriculture, General              100  Not Reported   \n",
       "\n",
       "   Median Salary Salary Score  Degree Type  \n",
       "61        51830             57           1  \n",
       "64        93080             76           1  \n",
       "51        71730             96           1  \n",
       "63        80020             30           1  \n",
       "53        71580             97           1  "
      ]
     },
     "execution_count": 84,
     "metadata": {},
     "output_type": "execute_result"
    }
   ],
   "source": [
    "from sklearn.metrics.pairwise import euclidean_distances\n",
    "ec_df = df_major_salary2\n",
    "ec_df\n",
    "x = ec_df.iloc[16]\n",
    "x\n",
    "db = ec_df.drop(ec_df.index[16])\n",
    "db\n",
    "dist = []\n",
    "for row in db.index:\n",
    "  y = db.loc[row]\n",
    "  p1 = np.sum([(a * a) for a in x])\n",
    "  p2 = np.sum([(b * b) for b in y])\n",
    "  p3 = -1 * np.sum([(2 * a*b) for (a, b) in zip(x, y)])\n",
    "  dist.append(np.sqrt(np.sum(p1 + p2 + p3)))\n",
    "\n",
    "## getting min indexes\n",
    "input_list = dist\n",
    "number_of_elements = 6\n",
    "inds = []\n",
    "for val in heapq.nsmallest(number_of_elements, input_list):\n",
    "  inds.append(dist.index(val))\n",
    "inds\n",
    "\n",
    "# Create new DF\n",
    "eurecs = pd.DataFrame(df_major_salary.iloc[16])\n",
    "eurecs = eurecs.T\n",
    "\n",
    "for i in inds:\n",
    "  neweurec = pd.DataFrame(df_major_salary.loc[i]).T\n",
    "  eurecs = pd.concat([eurecs,neweurec])\n",
    "eurecs = eurecs.drop(index = (16))\n",
    "eurecs\n"
   ]
  },
  {
   "cell_type": "code",
   "execution_count": 85,
   "id": "58323882-5227-4884-a4d1-38e8a3bcc20b",
   "metadata": {},
   "outputs": [
    {
     "data": {
      "text/plain": [
       "Employment Rate         99\n",
       "Median Salary       109390\n",
       "Degree Type              0\n",
       "Name: 16, dtype: int64"
      ]
     },
     "execution_count": 85,
     "metadata": {},
     "output_type": "execute_result"
    }
   ],
   "source": [
    "x"
   ]
  },
  {
   "cell_type": "markdown",
   "id": "jJl3foEChoyA",
   "metadata": {
    "id": "jJl3foEChoyA"
   },
   "source": [
    "##  Definitely differs the results. (Perhaps this goes to show how you shouldn't just trust one Buzzfeed Quiz to determine where to move to, because who knows how they calculate that stuff!)\n",
    "\n",
    "## Either way, according to Baeldung, a data science website, \"Some tasks, such as preliminary data analysis, benefit from both metrics; each of them allows the extraction of different insights on the structure of the data. Others, such as text classification, generally function better under Euclidean distances. Some more, such as retrieval of the most similar texts to a given document, generally function better with cosine similarity\"\n",
    "\n",
    "## Both metrics provide valuable insight, but for our purposes, cosine similarity seems to offer a more logical result."
   ]
  },
  {
   "cell_type": "code",
   "execution_count": 86,
   "id": "PnWCQl0AXsZi",
   "metadata": {
    "colab": {
     "base_uri": "https://localhost:8080/"
    },
    "id": "PnWCQl0AXsZi",
    "outputId": "4c73ee85-3f92-4d83-9367-d741e1bd471c"
   },
   "outputs": [
    {
     "name": "stderr",
     "output_type": "stream",
     "text": [
      "/tmp/ipykernel_580637/1943182133.py:6: SettingWithCopyWarning: \n",
      "A value is trying to be set on a copy of a slice from a DataFrame.\n",
      "Try using .loc[row_indexer,col_indexer] = value instead\n",
      "\n",
      "See the caveats in the documentation: https://pandas.pydata.org/pandas-docs/stable/user_guide/indexing.html#returning-a-view-versus-a-copy\n",
      "  skrecs2['Median Salary'] = skrecs2['Median Salary'].astype(int)\n",
      "/tmp/ipykernel_580637/1943182133.py:7: SettingWithCopyWarning: \n",
      "A value is trying to be set on a copy of a slice from a DataFrame.\n",
      "Try using .loc[row_indexer,col_indexer] = value instead\n",
      "\n",
      "See the caveats in the documentation: https://pandas.pydata.org/pandas-docs/stable/user_guide/indexing.html#returning-a-view-versus-a-copy\n",
      "  eurecs2['Median Salary'] = eurecs2['Median Salary'].astype(int)\n"
     ]
    }
   ],
   "source": [
    "import matplotlib.pyplot as plt\n",
    "import numpy as np\n",
    "eurecs2 =  eurecs[['Field of Study\\xa0','Median Salary']]\n",
    "skrecs2 = skrecs[['Field of Study\\xa0','Median Salary']]\n",
    "\n",
    "skrecs2['Median Salary'] = skrecs2['Median Salary'].astype(int)\n",
    "eurecs2['Median Salary'] = eurecs2['Median Salary'].astype(int)"
   ]
  },
  {
   "cell_type": "code",
   "execution_count": 87,
   "id": "hlEIir61j3Bi",
   "metadata": {
    "colab": {
     "base_uri": "https://localhost:8080/",
     "height": 581
    },
    "id": "hlEIir61j3Bi",
    "outputId": "d655343c-b842-4c9e-c113-af95674c1cac"
   },
   "outputs": [
    {
     "data": {
      "text/plain": [
       "Text(0.5, 1.0, 'Cosine Similarity 5 Most Similar Salaries to Computer Science')"
      ]
     },
     "execution_count": 87,
     "metadata": {},
     "output_type": "execute_result"
    },
    {
     "data": {
      "image/png": "[encoded data removed]",
      "text/plain": [
       "<Figure size 720x720 with 1 Axes>"
      ]
     },
     "metadata": {
      "needs_background": "light"
     },
     "output_type": "display_data"
    }
   ],
   "source": [
    "# Plotting the Recommended based on the two distances\n",
    "ax = skrecs2.plot.bar(x='Field of Study\\xa0',  y='Median Salary', title = 'Cosine Similarity 5 Most Similar Salaries to Computer Science', color=['red','red','red','blue','red'], legend=False, ylabel='Median Salary',fontsize=16, figsize=(10,10))\n",
    "ax.set_xlabel('Major', fontsize=20)\n",
    "ax.set_ylabel('Median Salary', fontsize=20)   # relative to plt.rcParams['font.size']\n",
    "ax.set_title('Cosine Similarity 5 Most Similar Salaries to Computer Science', fontsize = 25)\n"
   ]
  },
  {
   "cell_type": "code",
   "execution_count": 88,
   "id": "4X4ZbjYqkh_1",
   "metadata": {
    "colab": {
     "base_uri": "https://localhost:8080/",
     "height": 467
    },
    "id": "4X4ZbjYqkh_1",
    "outputId": "68376ac9-f7db-494a-aec8-d723768ef03d"
   },
   "outputs": [
    {
     "data": {
      "text/plain": [
       "Text(0.5, 1.0, 'Euclidean Distance 5 Most Similar Salaries to Computer Science')"
      ]
     },
     "execution_count": 88,
     "metadata": {},
     "output_type": "execute_result"
    },
    {
     "data": {
      "image/png": "[encoded data removed]",
      "text/plain": [
       "<Figure size 720x1080 with 1 Axes>"
      ]
     },
     "metadata": {
      "needs_background": "light"
     },
     "output_type": "display_data"
    }
   ],
   "source": [
    "ax = eurecs2.plot.bar(x='Field of Study\\xa0', y='Median Salary', color=['red','blue','green','red','green'], legend=False, fontsize=16, figsize=(10,15))\n",
    "ax.set_xlabel('Major', fontsize=20)\n",
    "ax.set_ylabel('Median Salary', fontsize=20)   # relative to plt.rcParams['font.size']\n",
    "ax.set_title('Euclidean Distance 5 Most Similar Salaries to Computer Science', fontsize = 25)\n"
   ]
  },
  {
   "cell_type": "markdown",
   "id": "vwKi5yRfDdVy",
   "metadata": {
    "id": "vwKi5yRfDdVy"
   },
   "source": [
    "## Functioning on the false assumption that houses cost similarly now to how they did in 2008 for when the mid-career salary data was collected, we now aim to use the salary data to see what kind of housing is feasible for computer science majors dependent on whether they are at mid-career having graduated in the late 90s, or if they are recent grads.\n",
    "\n",
    "## As a reminder, we added a column to the housing dataset with the average mortgage in the state that which the house is being sold. This may not be 100% accurate, but using the averages may give an loose perspective on what one can expect to say.\n",
    "\n",
    "Sources:<br>\n",
    "https://www.bankrate.com/mortgages/average-monthly-mortgage-payment/#region\n",
    "\n",
    "https://www.chase.com/personal/mortgage/education/financing-a-home/what-percentage-income-towards-mortgage#:~:text=The%2028%25%20rule%20states%20that,monthly%20gross%20income%20by%2028%25."
   ]
  },
  {
   "cell_type": "code",
   "execution_count": 108,
   "id": "yLHCf8eX12k6",
   "metadata": {
    "id": "yLHCf8eX12k6"
   },
   "outputs": [],
   "source": [
    "ec_df = df_major_salary2\n",
    "ec_df\n",
    "x = ec_df.iloc[16]"
   ]
  },
  {
   "cell_type": "code",
   "execution_count": 109,
   "id": "FvQOI32yInKq",
   "metadata": {
    "id": "FvQOI32yInKq"
   },
   "outputs": [],
   "source": [
    "x2008 = df_degrees_over_career.iloc[13]"
   ]
  },
  {
   "cell_type": "code",
   "execution_count": 110,
   "id": "6DVJxCFqJ_Mz",
   "metadata": {
    "colab": {
     "base_uri": "https://localhost:8080/"
    },
    "id": "6DVJxCFqJ_Mz",
    "outputId": "8a7d0315-ed01-41b9-cb07-4bbfa4b781e2"
   },
   "outputs": [
    {
     "data": {
      "text/plain": [
       "0.9999838179846918"
      ]
     },
     "execution_count": 110,
     "metadata": {},
     "output_type": "execute_result"
    }
   ],
   "source": [
    "df_now = df_homes[df_homes['Average Mortgage'] <= (x['Median Salary']*.28)/12]\n",
    "len(df_now)/len(df_homes)"
   ]
  },
  {
   "cell_type": "code",
   "execution_count": 111,
   "id": "6MVBScQ1KHcO",
   "metadata": {
    "colab": {
     "base_uri": "https://localhost:8080/"
    },
    "id": "6MVBScQ1KHcO",
    "outputId": "fc26e3c1-0dec-4847-c9b1-4512c18afdef"
   },
   "outputs": [
    {
     "data": {
      "text/plain": [
       "0.9999838179846918"
      ]
     },
     "execution_count": 111,
     "metadata": {},
     "output_type": "execute_result"
    }
   ],
   "source": [
    "df_then = df_homes[df_homes['Average Mortgage'] <= (x2008['Mid-Career Median Salary']*.28)/12]\n",
    "len(df_then)/len(df_homes)"
   ]
  },
  {
   "cell_type": "code",
   "execution_count": 112,
   "id": "fea64f74-106e-41dd-8005-dab1452f5ead",
   "metadata": {},
   "outputs": [
    {
     "data": {
      "text/html": [
       "<div>\n",
       "<style scoped>\n",
       "    .dataframe tbody tr th:only-of-type {\n",
       "        vertical-align: middle;\n",
       "    }\n",
       "\n",
       "    .dataframe tbody tr th {\n",
       "        vertical-align: top;\n",
       "    }\n",
       "\n",
       "    .dataframe thead th {\n",
       "        text-align: right;\n",
       "    }\n",
       "</style>\n",
       "<table border=\"1\" class=\"dataframe\">\n",
       "  <thead>\n",
       "    <tr style=\"text-align: right;\">\n",
       "      <th></th>\n",
       "      <th>Then</th>\n",
       "      <th>Now</th>\n",
       "    </tr>\n",
       "  </thead>\n",
       "  <tbody>\n",
       "    <tr>\n",
       "      <th>count</th>\n",
       "      <td>61796.00</td>\n",
       "      <td>61796.00</td>\n",
       "    </tr>\n",
       "    <tr>\n",
       "      <th>mean</th>\n",
       "      <td>775338.39</td>\n",
       "      <td>775338.39</td>\n",
       "    </tr>\n",
       "    <tr>\n",
       "      <th>std</th>\n",
       "      <td>2119185.27</td>\n",
       "      <td>2119185.27</td>\n",
       "    </tr>\n",
       "    <tr>\n",
       "      <th>min</th>\n",
       "      <td>10400.00</td>\n",
       "      <td>10400.00</td>\n",
       "    </tr>\n",
       "    <tr>\n",
       "      <th>25%</th>\n",
       "      <td>247100.00</td>\n",
       "      <td>247100.00</td>\n",
       "    </tr>\n",
       "    <tr>\n",
       "      <th>50%</th>\n",
       "      <td>406100.00</td>\n",
       "      <td>406100.00</td>\n",
       "    </tr>\n",
       "    <tr>\n",
       "      <th>75%</th>\n",
       "      <td>720500.00</td>\n",
       "      <td>720500.00</td>\n",
       "    </tr>\n",
       "    <tr>\n",
       "      <th>max</th>\n",
       "      <td>143537900.00</td>\n",
       "      <td>143537900.00</td>\n",
       "    </tr>\n",
       "  </tbody>\n",
       "</table>\n",
       "</div>"
      ],
      "text/plain": [
       "              Then          Now\n",
       "count     61796.00     61796.00\n",
       "mean     775338.39    775338.39\n",
       "std     2119185.27   2119185.27\n",
       "min       10400.00     10400.00\n",
       "25%      247100.00    247100.00\n",
       "50%      406100.00    406100.00\n",
       "75%      720500.00    720500.00\n",
       "max   143537900.00 143537900.00"
      ]
     },
     "execution_count": 112,
     "metadata": {},
     "output_type": "execute_result"
    }
   ],
   "source": [
    "# df_desc = df_then.describe().rename(columns={\"Average Mortgage\": \"a\"\n",
    "# df_desc['Now'] = df_now.describe()\n",
    "# df_desc\n",
    "pd.set_option('float_format', '{:.2f}'.format)\n",
    "dfcs = pd.DataFrame(df_then['zestimate'].astype(float).describe())\n",
    "dfcs = dfcs.rename(columns={\"zestimate\": \"Then\"})\n",
    "dfcs['Now'] = df_now['zestimate'].astype(float).describe()\n",
    "dfcs"
   ]
  },
  {
   "cell_type": "code",
   "execution_count": 113,
   "id": "d44219df-6eb3-4652-8d1b-264af46fcaa9",
   "metadata": {},
   "outputs": [
    {
     "data": {
      "text/plain": [
       "Texas                   13354\n",
       "California              11357\n",
       "Florida                  4958\n",
       "Georgia                  2211\n",
       "Louisiana                2152\n",
       "New York                 1858\n",
       "Arizona                  1739\n",
       "Pennsylvania             1736\n",
       "Kentucky                 1580\n",
       "Oregon                   1524\n",
       "Illinois                 1489\n",
       "North Carolina           1378\n",
       "Washington               1349\n",
       "Nevada                   1307\n",
       "Michigan                 1291\n",
       "Missouri                 1090\n",
       "Nebraska                  968\n",
       "Wisconsin                 959\n",
       "Ohio                      944\n",
       "Minnesota                 846\n",
       "Alabama                   819\n",
       "Colorado                  707\n",
       "Oklahoma                  676\n",
       "District of Columbia      565\n",
       "Massachusetts             544\n",
       "Maryland                  532\n",
       "New Jersey                465\n",
       "Wyoming                   447\n",
       "Iowa                      443\n",
       "Arkansas                  416\n",
       "Mississippi               321\n",
       "Idaho                     296\n",
       "Kansas                    250\n",
       "Indiana                   244\n",
       "Hawaii                    234\n",
       "Tennessee                 197\n",
       "New Mexico                180\n",
       "Alaska                    105\n",
       "Virginia                   93\n",
       "Utah                       67\n",
       "Rhode Island               55\n",
       "Montana                    35\n",
       "South Dakota               14\n",
       "South Carolina              1\n",
       "Name: State, dtype: int64"
      ]
     },
     "execution_count": 113,
     "metadata": {},
     "output_type": "execute_result"
    }
   ],
   "source": [
    "df_then['State'].value_counts()"
   ]
  },
  {
   "cell_type": "code",
   "execution_count": 114,
   "id": "0a92b741-9254-4db6-b9b4-9f537ddc171a",
   "metadata": {},
   "outputs": [
    {
     "data": {
      "text/plain": [
       "Texas                   13354\n",
       "California              11357\n",
       "Florida                  4958\n",
       "Georgia                  2211\n",
       "Louisiana                2152\n",
       "New York                 1858\n",
       "Arizona                  1739\n",
       "Pennsylvania             1736\n",
       "Kentucky                 1580\n",
       "Oregon                   1524\n",
       "Illinois                 1489\n",
       "North Carolina           1378\n",
       "Washington               1349\n",
       "Nevada                   1307\n",
       "Michigan                 1291\n",
       "Missouri                 1090\n",
       "Nebraska                  968\n",
       "Wisconsin                 959\n",
       "Ohio                      944\n",
       "Minnesota                 846\n",
       "Alabama                   819\n",
       "Colorado                  707\n",
       "Oklahoma                  676\n",
       "District of Columbia      565\n",
       "Massachusetts             544\n",
       "Maryland                  532\n",
       "New Jersey                465\n",
       "Wyoming                   447\n",
       "Iowa                      443\n",
       "Arkansas                  416\n",
       "Mississippi               321\n",
       "Idaho                     296\n",
       "Kansas                    250\n",
       "Indiana                   244\n",
       "Hawaii                    234\n",
       "Tennessee                 197\n",
       "New Mexico                180\n",
       "Alaska                    105\n",
       "Virginia                   93\n",
       "Utah                       67\n",
       "Rhode Island               55\n",
       "Montana                    35\n",
       "South Dakota               14\n",
       "South Carolina              1\n",
       "Name: State, dtype: int64"
      ]
     },
     "execution_count": 114,
     "metadata": {},
     "output_type": "execute_result"
    }
   ],
   "source": [
    "df_now['State'].value_counts()"
   ]
  },
  {
   "cell_type": "markdown",
   "id": "cuS5K2NaLJBE",
   "metadata": {
    "id": "cuS5K2NaLJBE"
   },
   "source": [
    "## Using Chase's recommendation that \"you should spend 28% or less of your monthly gross income on your mortgage payment\", all homes in the housing dataset had a mortage within a payable rate with either salary. <br><br>\n",
    "## What about a different major? Psychology:"
   ]
  },
  {
   "cell_type": "code",
   "execution_count": 115,
   "id": "OhsOXK88KxbM",
   "metadata": {
    "id": "OhsOXK88KxbM"
   },
   "outputs": [],
   "source": [
    "ec_df = df_major_salary2\n",
    "ec_df\n",
    "x = ec_df.iloc[66]"
   ]
  },
  {
   "cell_type": "code",
   "execution_count": 116,
   "id": "6krP-cxFLHYe",
   "metadata": {
    "id": "6krP-cxFLHYe"
   },
   "outputs": [],
   "source": [
    "x2008 = df_degrees_over_career.loc['Psychology']"
   ]
  },
  {
   "cell_type": "code",
   "execution_count": 117,
   "id": "DNJapZpPOTcQ",
   "metadata": {
    "colab": {
     "base_uri": "https://localhost:8080/"
    },
    "id": "DNJapZpPOTcQ",
    "outputId": "33f4589d-aaf2-4c7a-9878-502845d18a73"
   },
   "outputs": [
    {
     "data": {
      "text/plain": [
       "0.04720293865397997"
      ]
     },
     "execution_count": 117,
     "metadata": {},
     "output_type": "execute_result"
    }
   ],
   "source": [
    "df_now = df_homes[df_homes['Average Mortgage'] <= (x['Median Salary']*.28)/12]\n",
    "len(df_now)/len(df_homes)"
   ]
  },
  {
   "cell_type": "code",
   "execution_count": 118,
   "id": "FgL6FYbYO7hV",
   "metadata": {
    "colab": {
     "base_uri": "https://localhost:8080/"
    },
    "id": "FgL6FYbYO7hV",
    "outputId": "df72fcf9-ba80-413d-a50f-81756ead1657"
   },
   "outputs": [
    {
     "data": {
      "text/plain": [
       "0.6115345405116753"
      ]
     },
     "execution_count": 118,
     "metadata": {},
     "output_type": "execute_result"
    }
   ],
   "source": [
    "df_then = df_homes[df_homes['Average Mortgage'] <= (x2008['Mid-Career Median Salary']*.28)/12]\n",
    "len(df_then)/len(df_homes)"
   ]
  },
  {
   "cell_type": "code",
   "execution_count": 119,
   "id": "52eb6fee-0db1-43f8-83fd-eda9b1ab42e9",
   "metadata": {},
   "outputs": [
    {
     "data": {
      "text/html": [
       "<div>\n",
       "<style scoped>\n",
       "    .dataframe tbody tr th:only-of-type {\n",
       "        vertical-align: middle;\n",
       "    }\n",
       "\n",
       "    .dataframe tbody tr th {\n",
       "        vertical-align: top;\n",
       "    }\n",
       "\n",
       "    .dataframe thead th {\n",
       "        text-align: right;\n",
       "    }\n",
       "</style>\n",
       "<table border=\"1\" class=\"dataframe\">\n",
       "  <thead>\n",
       "    <tr style=\"text-align: right;\">\n",
       "      <th></th>\n",
       "      <th>Then</th>\n",
       "      <th>Now</th>\n",
       "    </tr>\n",
       "  </thead>\n",
       "  <tbody>\n",
       "    <tr>\n",
       "      <th>count</th>\n",
       "      <td>61796.00</td>\n",
       "      <td>2917.00</td>\n",
       "    </tr>\n",
       "    <tr>\n",
       "      <th>mean</th>\n",
       "      <td>775338.39</td>\n",
       "      <td>323573.91</td>\n",
       "    </tr>\n",
       "    <tr>\n",
       "      <th>std</th>\n",
       "      <td>2119185.27</td>\n",
       "      <td>366341.89</td>\n",
       "    </tr>\n",
       "    <tr>\n",
       "      <th>min</th>\n",
       "      <td>10400.00</td>\n",
       "      <td>20600.00</td>\n",
       "    </tr>\n",
       "    <tr>\n",
       "      <th>25%</th>\n",
       "      <td>247100.00</td>\n",
       "      <td>153500.00</td>\n",
       "    </tr>\n",
       "    <tr>\n",
       "      <th>50%</th>\n",
       "      <td>406100.00</td>\n",
       "      <td>246900.00</td>\n",
       "    </tr>\n",
       "    <tr>\n",
       "      <th>75%</th>\n",
       "      <td>720500.00</td>\n",
       "      <td>370500.00</td>\n",
       "    </tr>\n",
       "    <tr>\n",
       "      <th>max</th>\n",
       "      <td>143537900.00</td>\n",
       "      <td>8367900.00</td>\n",
       "    </tr>\n",
       "  </tbody>\n",
       "</table>\n",
       "</div>"
      ],
      "text/plain": [
       "              Then        Now\n",
       "count     61796.00    2917.00\n",
       "mean     775338.39  323573.91\n",
       "std     2119185.27  366341.89\n",
       "min       10400.00   20600.00\n",
       "25%      247100.00  153500.00\n",
       "50%      406100.00  246900.00\n",
       "75%      720500.00  370500.00\n",
       "max   143537900.00 8367900.00"
      ]
     },
     "execution_count": 119,
     "metadata": {},
     "output_type": "execute_result"
    }
   ],
   "source": [
    "pd.set_option('float_format', '{:.2f}'.format)\n",
    "dfp = pd.DataFrame(df_then['zestimate'].astype(float).describe())\n",
    "dfp = dfcs.rename(columns={\"zestimate\": \"Then\"})\n",
    "dfp['Now'] = df_now['zestimate'].astype(float).describe()\n",
    "dfp"
   ]
  },
  {
   "cell_type": "code",
   "execution_count": 120,
   "id": "8dd7912a-f4fd-4e91-9680-2f6908f91d13",
   "metadata": {},
   "outputs": [
    {
     "data": {
      "text/plain": [
       "Texas                   13354\n",
       "Florida                  4958\n",
       "Georgia                  2211\n",
       "Louisiana                2152\n",
       "Kentucky                 1580\n",
       "Illinois                 1489\n",
       "North Carolina           1378\n",
       "Michigan                 1291\n",
       "Missouri                 1090\n",
       "Nebraska                  968\n",
       "Wisconsin                 959\n",
       "Ohio                      944\n",
       "Minnesota                 846\n",
       "Alabama                   819\n",
       "Oklahoma                  676\n",
       "District of Columbia      565\n",
       "Maryland                  532\n",
       "Iowa                      443\n",
       "Arkansas                  416\n",
       "Mississippi               321\n",
       "Kansas                    250\n",
       "Indiana                   244\n",
       "Tennessee                 197\n",
       "Virginia                   93\n",
       "South Dakota               14\n",
       "South Carolina              1\n",
       "Name: State, dtype: int64"
      ]
     },
     "execution_count": 120,
     "metadata": {},
     "output_type": "execute_result"
    }
   ],
   "source": [
    "df_then['State'].value_counts()"
   ]
  },
  {
   "cell_type": "code",
   "execution_count": 121,
   "id": "34969a42-3643-4d88-bc87-4c7c69d394a8",
   "metadata": {},
   "outputs": [
    {
     "data": {
      "text/plain": [
       "Kentucky       1580\n",
       "Alabama         819\n",
       "Mississippi     321\n",
       "Tennessee       197\n",
       "Name: State, dtype: int64"
      ]
     },
     "execution_count": 121,
     "metadata": {},
     "output_type": "execute_result"
    }
   ],
   "source": [
    "df_now['State'].value_counts()"
   ]
  },
  {
   "cell_type": "markdown",
   "id": "779d7259-7cc2-4fc4-80a5-29f2be379c12",
   "metadata": {},
   "source": [
    "## Unexpectedly, the median career salary for a Psychology major in early 2010s is making more than recent CalPoly Psychology majors, which means that people who graduated in that major prior were able to afford more houses than they would if graduating now. And since we know that housing was definitely more expensive, we may have reason to believe that this data can offer some insights on preferable majors if being a homeowner is valuable to someone."
   ]
  },
  {
   "cell_type": "markdown",
   "id": "0939831e-c536-4c6e-99c6-1b8d84980997",
   "metadata": {},
   "source": [
    "## Teaching?"
   ]
  },
  {
   "cell_type": "code",
   "execution_count": 99,
   "id": "5018e423-a03e-48cb-9345-849ccc098e87",
   "metadata": {},
   "outputs": [],
   "source": [
    "ec_df = df_major_salary2\n",
    "ec_df\n",
    "x = ec_df.iloc[50]"
   ]
  },
  {
   "cell_type": "code",
   "execution_count": 100,
   "id": "44681e73-52eb-4078-8965-a295f4db40e1",
   "metadata": {},
   "outputs": [],
   "source": [
    "x2008 = df_degrees_over_career.loc['Education']"
   ]
  },
  {
   "cell_type": "code",
   "execution_count": 101,
   "id": "1f54090e-608b-4068-b6e5-81130cb6e678",
   "metadata": {},
   "outputs": [
    {
     "data": {
      "text/plain": [
       "0.0"
      ]
     },
     "execution_count": 101,
     "metadata": {},
     "output_type": "execute_result"
    }
   ],
   "source": [
    "df_now = df_homes[df_homes['Average Mortgage'] <= (x['Median Salary']*.28)/12]\n",
    "len(df_now)/len(df_homes)"
   ]
  },
  {
   "cell_type": "code",
   "execution_count": 102,
   "id": "32c5291a-6c63-4dc2-9071-e1f2706b56a9",
   "metadata": {},
   "outputs": [
    {
     "data": {
      "text/plain": [
       "0.18536498535527615"
      ]
     },
     "execution_count": 102,
     "metadata": {},
     "output_type": "execute_result"
    }
   ],
   "source": [
    "df_then = df_homes[df_homes['Average Mortgage'] <= (x2008['Mid-Career Median Salary']*.28)/12]\n",
    "len(df_then)/len(df_homes)"
   ]
  },
  {
   "cell_type": "code",
   "execution_count": 103,
   "id": "9da00a86-090d-4db1-9119-c32a0751b236",
   "metadata": {},
   "outputs": [
    {
     "data": {
      "text/html": [
       "<div>\n",
       "<style scoped>\n",
       "    .dataframe tbody tr th:only-of-type {\n",
       "        vertical-align: middle;\n",
       "    }\n",
       "\n",
       "    .dataframe tbody tr th {\n",
       "        vertical-align: top;\n",
       "    }\n",
       "\n",
       "    .dataframe thead th {\n",
       "        text-align: right;\n",
       "    }\n",
       "</style>\n",
       "<table border=\"1\" class=\"dataframe\">\n",
       "  <thead>\n",
       "    <tr style=\"text-align: right;\">\n",
       "      <th></th>\n",
       "      <th>Then</th>\n",
       "      <th>Now</th>\n",
       "    </tr>\n",
       "  </thead>\n",
       "  <tbody>\n",
       "    <tr>\n",
       "      <th>count</th>\n",
       "      <td>61796.00</td>\n",
       "      <td>0.00</td>\n",
       "    </tr>\n",
       "    <tr>\n",
       "      <th>mean</th>\n",
       "      <td>775338.39</td>\n",
       "      <td>NaN</td>\n",
       "    </tr>\n",
       "    <tr>\n",
       "      <th>std</th>\n",
       "      <td>2119185.27</td>\n",
       "      <td>NaN</td>\n",
       "    </tr>\n",
       "    <tr>\n",
       "      <th>min</th>\n",
       "      <td>10400.00</td>\n",
       "      <td>NaN</td>\n",
       "    </tr>\n",
       "    <tr>\n",
       "      <th>25%</th>\n",
       "      <td>247100.00</td>\n",
       "      <td>NaN</td>\n",
       "    </tr>\n",
       "    <tr>\n",
       "      <th>50%</th>\n",
       "      <td>406100.00</td>\n",
       "      <td>NaN</td>\n",
       "    </tr>\n",
       "    <tr>\n",
       "      <th>75%</th>\n",
       "      <td>720500.00</td>\n",
       "      <td>NaN</td>\n",
       "    </tr>\n",
       "    <tr>\n",
       "      <th>max</th>\n",
       "      <td>143537900.00</td>\n",
       "      <td>NaN</td>\n",
       "    </tr>\n",
       "  </tbody>\n",
       "</table>\n",
       "</div>"
      ],
      "text/plain": [
       "              Then  Now\n",
       "count     61796.00 0.00\n",
       "mean     775338.39  NaN\n",
       "std     2119185.27  NaN\n",
       "min       10400.00  NaN\n",
       "25%      247100.00  NaN\n",
       "50%      406100.00  NaN\n",
       "75%      720500.00  NaN\n",
       "max   143537900.00  NaN"
      ]
     },
     "execution_count": 103,
     "metadata": {},
     "output_type": "execute_result"
    }
   ],
   "source": [
    "pd.set_option('float_format', '{:.2f}'.format)\n",
    "dfe = pd.DataFrame(df_then['zestimate'].astype(float).describe())\n",
    "dfe = dfcs.rename(columns={\"zestimate\": \"Then\"})\n",
    "dfe['Now'] = df_now['zestimate'].astype(float).describe()\n",
    "dfe"
   ]
  },
  {
   "cell_type": "code",
   "execution_count": 107,
   "id": "5258a989-9817-45e4-b867-463362f37b74",
   "metadata": {},
   "outputs": [
    {
     "data": {
      "text/plain": [
       "Series([], Name: State, dtype: int64)"
      ]
     },
     "execution_count": 107,
     "metadata": {},
     "output_type": "execute_result"
    }
   ],
   "source": [
    "df_now['State'].value_counts()"
   ]
  },
  {
   "cell_type": "code",
   "execution_count": 106,
   "id": "d07fca54-03f7-415c-b5da-715abe1b35d9",
   "metadata": {},
   "outputs": [
    {
     "data": {
      "text/plain": [
       "Kentucky        1580\n",
       "Illinois        1489\n",
       "Michigan        1291\n",
       "Missouri        1090\n",
       "Nebraska         968\n",
       "Wisconsin        959\n",
       "Ohio             944\n",
       "Minnesota        846\n",
       "Alabama          819\n",
       "Iowa             443\n",
       "Mississippi      321\n",
       "Kansas           250\n",
       "Indiana          244\n",
       "Tennessee        197\n",
       "South Dakota      14\n",
       "Name: State, dtype: int64"
      ]
     },
     "execution_count": 106,
     "metadata": {},
     "output_type": "execute_result"
    }
   ],
   "source": [
    "df_then['State'].value_counts()"
   ]
  },
  {
   "cell_type": "markdown",
   "id": "6dAaZORTPbW3",
   "metadata": {
    "id": "6dAaZORTPbW3"
   },
   "source": [
    "## Unlike Psycology, this one was not surpising at all..."
   ]
  },
  {
   "cell_type": "markdown",
   "id": "426094ee-68df-4ddc-93f1-bad57fc27e3f",
   "metadata": {},
   "source": []
  }
 ],
 "metadata": {
  "colab": {
   "provenance": []
  },
  "kernelspec": {
   "display_name": "Python 3 (ipykernel)",
   "language": "python",
   "name": "python3"
  },
  "language_info": {
   "codemirror_mode": {
    "name": "ipython",
    "version": 3
   },
   "file_extension": ".py",
   "mimetype": "text/x-python",
   "name": "python",
   "nbconvert_exporter": "python",
   "pygments_lexer": "ipython3",
   "version": "3.9.7"
  }
 },
 "nbformat": 4,
 "nbformat_minor": 5
}
